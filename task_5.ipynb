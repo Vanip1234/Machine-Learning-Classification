{
 "cells": [
  {
   "cell_type": "markdown",
   "metadata": {},
   "source": [
    "## Feature Engineering and Remodeling  \n",
    "\n",
    "#### To Do:\n",
    "\n",
    "1. Perform the required Feature Engineering (Feature Selection using RFE, Feature Transformation, etc.)\n",
    "\n",
    "2. Rebuild the models (Logistic Regression, SVM, KNN, DT, RF, Gradient Boosting, AdaBoosting etc.\n",
    "\n",
    "3. Compare the model (With Feature Engineering) Performance with previous model (Without Feature Engineering) "
   ]
  },
  {
   "cell_type": "markdown",
   "metadata": {},
   "source": [
    "## 1. Basic Pandas Operations"
   ]
  },
  {
   "cell_type": "code",
   "execution_count": 1,
   "metadata": {},
   "outputs": [],
   "source": [
    "# Import all the required Libraries\n",
    "\n",
    "import pandas as pd\n",
    "import numpy as np\n",
    "import seaborn as sns\n",
    "import matplotlib.pyplot as plt\n",
    "\n",
    "import warnings\n",
    "warnings.filterwarnings('ignore')\n",
    "\n",
    "from collections import Counter\n",
    "from imblearn import under_sampling, over_sampling\n",
    "from imblearn.over_sampling import RandomOverSampler\n",
    "from imblearn.under_sampling import RandomUnderSampler\n",
    "\n",
    "from sklearn.model_selection import train_test_split\n",
    "\n",
    "from sklearn.linear_model import LogisticRegression\n",
    "from sklearn.tree import DecisionTreeClassifier\n",
    "from sklearn.ensemble import RandomForestClassifier\n",
    "from sklearn.neighbors import KNeighborsClassifier\n",
    "from sklearn import svm\n",
    "from sklearn.ensemble import GradientBoostingClassifier\n",
    "from sklearn.ensemble import AdaBoostClassifier\n",
    "from sklearn import metrics\n",
    "from sklearn.metrics import confusion_matrix,accuracy_score,classification_report,auc,roc_curve,roc_auc_score\n",
    "from sklearn.metrics import classification_report\n",
    "from sklearn.model_selection import GridSearchCV\n",
    "\n",
    "from sklearn.feature_selection import RFE"
   ]
  },
  {
   "cell_type": "code",
   "execution_count": 2,
   "metadata": {
    "scrolled": true
   },
   "outputs": [
    {
     "data": {
      "text/html": [
       "<div>\n",
       "<style scoped>\n",
       "    .dataframe tbody tr th:only-of-type {\n",
       "        vertical-align: middle;\n",
       "    }\n",
       "\n",
       "    .dataframe tbody tr th {\n",
       "        vertical-align: top;\n",
       "    }\n",
       "\n",
       "    .dataframe thead th {\n",
       "        text-align: right;\n",
       "    }\n",
       "</style>\n",
       "<table border=\"1\" class=\"dataframe\">\n",
       "  <thead>\n",
       "    <tr style=\"text-align: right;\">\n",
       "      <th></th>\n",
       "      <th>Unnamed: 0</th>\n",
       "      <th>ID</th>\n",
       "      <th>City_Code</th>\n",
       "      <th>Region_Code</th>\n",
       "      <th>Accomodation_Type</th>\n",
       "      <th>Reco_Insurance_Type</th>\n",
       "      <th>Upper_Age</th>\n",
       "      <th>Lower_Age</th>\n",
       "      <th>Is_Spouse</th>\n",
       "      <th>Health Indicator</th>\n",
       "      <th>Holding_Policy_Duration</th>\n",
       "      <th>Holding_Policy_Type</th>\n",
       "      <th>Reco_Policy_Cat</th>\n",
       "      <th>Reco_Policy_Premium</th>\n",
       "      <th>Response</th>\n",
       "    </tr>\n",
       "  </thead>\n",
       "  <tbody>\n",
       "    <tr>\n",
       "      <th>0</th>\n",
       "      <td>27385</td>\n",
       "      <td>27386</td>\n",
       "      <td>C3</td>\n",
       "      <td>64</td>\n",
       "      <td>Owned</td>\n",
       "      <td>Individual</td>\n",
       "      <td>36</td>\n",
       "      <td>36</td>\n",
       "      <td>No</td>\n",
       "      <td>X1</td>\n",
       "      <td>14+</td>\n",
       "      <td>2.0</td>\n",
       "      <td>16</td>\n",
       "      <td>13320.0</td>\n",
       "      <td>0</td>\n",
       "    </tr>\n",
       "    <tr>\n",
       "      <th>1</th>\n",
       "      <td>33499</td>\n",
       "      <td>33500</td>\n",
       "      <td>C3</td>\n",
       "      <td>2955</td>\n",
       "      <td>Owned</td>\n",
       "      <td>Individual</td>\n",
       "      <td>66</td>\n",
       "      <td>66</td>\n",
       "      <td>No</td>\n",
       "      <td>X6</td>\n",
       "      <td>10</td>\n",
       "      <td>1.0</td>\n",
       "      <td>19</td>\n",
       "      <td>16152.0</td>\n",
       "      <td>0</td>\n",
       "    </tr>\n",
       "    <tr>\n",
       "      <th>2</th>\n",
       "      <td>7997</td>\n",
       "      <td>7998</td>\n",
       "      <td>C1</td>\n",
       "      <td>1542</td>\n",
       "      <td>Rented</td>\n",
       "      <td>Individual</td>\n",
       "      <td>24</td>\n",
       "      <td>24</td>\n",
       "      <td>No</td>\n",
       "      <td>NaN</td>\n",
       "      <td>3</td>\n",
       "      <td>1.0</td>\n",
       "      <td>16</td>\n",
       "      <td>7310.0</td>\n",
       "      <td>0</td>\n",
       "    </tr>\n",
       "    <tr>\n",
       "      <th>3</th>\n",
       "      <td>33032</td>\n",
       "      <td>33033</td>\n",
       "      <td>C26</td>\n",
       "      <td>772</td>\n",
       "      <td>Rented</td>\n",
       "      <td>Individual</td>\n",
       "      <td>75</td>\n",
       "      <td>75</td>\n",
       "      <td>No</td>\n",
       "      <td>X1</td>\n",
       "      <td>1</td>\n",
       "      <td>3.0</td>\n",
       "      <td>16</td>\n",
       "      <td>15792.0</td>\n",
       "      <td>0</td>\n",
       "    </tr>\n",
       "    <tr>\n",
       "      <th>4</th>\n",
       "      <td>30516</td>\n",
       "      <td>30517</td>\n",
       "      <td>C2</td>\n",
       "      <td>1510</td>\n",
       "      <td>Owned</td>\n",
       "      <td>Joint</td>\n",
       "      <td>59</td>\n",
       "      <td>58</td>\n",
       "      <td>Yes</td>\n",
       "      <td>X1</td>\n",
       "      <td>14+</td>\n",
       "      <td>4.0</td>\n",
       "      <td>17</td>\n",
       "      <td>23673.0</td>\n",
       "      <td>0</td>\n",
       "    </tr>\n",
       "  </tbody>\n",
       "</table>\n",
       "</div>"
      ],
      "text/plain": [
       "   Unnamed: 0     ID City_Code  Region_Code Accomodation_Type  \\\n",
       "0       27385  27386        C3           64             Owned   \n",
       "1       33499  33500        C3         2955             Owned   \n",
       "2        7997   7998        C1         1542            Rented   \n",
       "3       33032  33033       C26          772            Rented   \n",
       "4       30516  30517        C2         1510             Owned   \n",
       "\n",
       "  Reco_Insurance_Type  Upper_Age  Lower_Age Is_Spouse Health Indicator  \\\n",
       "0          Individual         36         36        No               X1   \n",
       "1          Individual         66         66        No               X6   \n",
       "2          Individual         24         24        No              NaN   \n",
       "3          Individual         75         75        No               X1   \n",
       "4               Joint         59         58       Yes               X1   \n",
       "\n",
       "  Holding_Policy_Duration  Holding_Policy_Type  Reco_Policy_Cat  \\\n",
       "0                     14+                  2.0               16   \n",
       "1                      10                  1.0               19   \n",
       "2                       3                  1.0               16   \n",
       "3                       1                  3.0               16   \n",
       "4                     14+                  4.0               17   \n",
       "\n",
       "   Reco_Policy_Premium  Response  \n",
       "0              13320.0         0  \n",
       "1              16152.0         0  \n",
       "2               7310.0         0  \n",
       "3              15792.0         0  \n",
       "4              23673.0         0  "
      ]
     },
     "execution_count": 2,
     "metadata": {},
     "output_type": "execute_result"
    }
   ],
   "source": [
    "# Read the dataset and display the head. You will get the output as mentioned below\n",
    "\n",
    "df=pd.read_csv(r\"C:\\Users\\Lenovo\\classfiles\\Machine learning\\train.csv\")\n",
    "df.head()"
   ]
  },
  {
   "cell_type": "code",
   "execution_count": 3,
   "metadata": {},
   "outputs": [
    {
     "data": {
      "text/plain": [
       "(10000, 15)"
      ]
     },
     "execution_count": 3,
     "metadata": {},
     "output_type": "execute_result"
    }
   ],
   "source": [
    "# Check the shape of the dataframe\n",
    "\n",
    "df.shape"
   ]
  },
  {
   "cell_type": "code",
   "execution_count": 4,
   "metadata": {
    "scrolled": true
   },
   "outputs": [
    {
     "name": "stdout",
     "output_type": "stream",
     "text": [
      "<class 'pandas.core.frame.DataFrame'>\n",
      "RangeIndex: 10000 entries, 0 to 9999\n",
      "Data columns (total 15 columns):\n",
      " #   Column                   Non-Null Count  Dtype  \n",
      "---  ------                   --------------  -----  \n",
      " 0   Unnamed: 0               10000 non-null  int64  \n",
      " 1   ID                       10000 non-null  int64  \n",
      " 2   City_Code                10000 non-null  object \n",
      " 3   Region_Code              10000 non-null  int64  \n",
      " 4   Accomodation_Type        10000 non-null  object \n",
      " 5   Reco_Insurance_Type      10000 non-null  object \n",
      " 6   Upper_Age                10000 non-null  int64  \n",
      " 7   Lower_Age                10000 non-null  int64  \n",
      " 8   Is_Spouse                10000 non-null  object \n",
      " 9   Health Indicator         7671 non-null   object \n",
      " 10  Holding_Policy_Duration  5946 non-null   object \n",
      " 11  Holding_Policy_Type      5946 non-null   float64\n",
      " 12  Reco_Policy_Cat          10000 non-null  int64  \n",
      " 13  Reco_Policy_Premium      10000 non-null  float64\n",
      " 14  Response                 10000 non-null  int64  \n",
      "dtypes: float64(2), int64(7), object(6)\n",
      "memory usage: 1.1+ MB\n"
     ]
    }
   ],
   "source": [
    "# On the dataframe apply info() function and observe the Dtypes and Missing Values\n",
    "\n",
    "df.info()"
   ]
  },
  {
   "cell_type": "code",
   "execution_count": 5,
   "metadata": {},
   "outputs": [
    {
     "data": {
      "text/plain": [
       "Unnamed: 0                    0\n",
       "ID                            0\n",
       "City_Code                     0\n",
       "Region_Code                   0\n",
       "Accomodation_Type             0\n",
       "Reco_Insurance_Type           0\n",
       "Upper_Age                     0\n",
       "Lower_Age                     0\n",
       "Is_Spouse                     0\n",
       "Health Indicator           2329\n",
       "Holding_Policy_Duration    4054\n",
       "Holding_Policy_Type        4054\n",
       "Reco_Policy_Cat               0\n",
       "Reco_Policy_Premium           0\n",
       "Response                      0\n",
       "dtype: int64"
      ]
     },
     "execution_count": 5,
     "metadata": {},
     "output_type": "execute_result"
    }
   ],
   "source": [
    "df.isna().sum()"
   ]
  },
  {
   "cell_type": "markdown",
   "metadata": {},
   "source": [
    "## 2. Cleaning the Data"
   ]
  },
  {
   "cell_type": "code",
   "execution_count": 6,
   "metadata": {},
   "outputs": [
    {
     "name": "stdout",
     "output_type": "stream",
     "text": [
      "Unnamed: 0                 0\n",
      "ID                         0\n",
      "City_Code                  0\n",
      "Region_Code                0\n",
      "Accomodation_Type          0\n",
      "Reco_Insurance_Type        0\n",
      "Upper_Age                  0\n",
      "Lower_Age                  0\n",
      "Is_Spouse                  0\n",
      "Health Indicator           0\n",
      "Holding_Policy_Duration    0\n",
      "Holding_Policy_Type        0\n",
      "Reco_Policy_Cat            0\n",
      "Reco_Policy_Premium        0\n",
      "Response                   0\n",
      "dtype: int64\n"
     ]
    }
   ],
   "source": [
    "# Impute the Null values in Health Indicator, Holding_Policy_Duration and Holding_Policy_Type\n",
    "\n",
    "df['Holding_Policy_Type'].fillna(df['Holding_Policy_Type'].mean(), inplace = True)\n",
    "df['Holding_Policy_Duration'].fillna(df['Holding_Policy_Duration'].mode()[0], inplace = True) \n",
    "df['Health Indicator'].fillna(df['Health Indicator'].mode()[0], inplace = True)\n",
    "print(df.isnull().sum())"
   ]
  },
  {
   "cell_type": "code",
   "execution_count": 7,
   "metadata": {},
   "outputs": [
    {
     "data": {
      "text/plain": [
       "14+    4952\n",
       "1       867\n",
       "2       790\n",
       "3       696\n",
       "4       530\n",
       "5       461\n",
       "6       374\n",
       "7       320\n",
       "8       254\n",
       "9       205\n",
       "10      166\n",
       "12      104\n",
       "13      103\n",
       "11       89\n",
       "14       89\n",
       "Name: Holding_Policy_Duration, dtype: int64"
      ]
     },
     "execution_count": 7,
     "metadata": {},
     "output_type": "execute_result"
    }
   ],
   "source": [
    "# Check again Holding_Policy_Duration is in object column convert that into int\n",
    "\n",
    "\n",
    "df['Holding_Policy_Duration'].value_counts()"
   ]
  },
  {
   "cell_type": "code",
   "execution_count": 8,
   "metadata": {},
   "outputs": [
    {
     "data": {
      "text/plain": [
       "14-    5048\n",
       "14+    4952\n",
       "Name: Holding_Policy_Duration, dtype: int64"
      ]
     },
     "execution_count": 8,
     "metadata": {},
     "output_type": "execute_result"
    }
   ],
   "source": [
    "df['Holding_Policy_Duration'] = df['Holding_Policy_Duration'].replace(['1','2','3','4','5','6','7','8','9','10','11','12','13','14'],'14-')\n",
    "df['Holding_Policy_Duration'].value_counts()"
   ]
  },
  {
   "cell_type": "code",
   "execution_count": 9,
   "metadata": {},
   "outputs": [
    {
     "data": {
      "text/plain": [
       "array([0, 1])"
      ]
     },
     "execution_count": 9,
     "metadata": {},
     "output_type": "execute_result"
    }
   ],
   "source": [
    "# Import label encoder\n",
    "from sklearn import preprocessing\n",
    "  \n",
    "# label_encoder object knows how to understand word labels.\n",
    "label_encoder = preprocessing.LabelEncoder()\n",
    "  \n",
    "df['Holding_Policy_Duration'] = label_encoder.fit_transform(df['Holding_Policy_Duration'])\n",
    "df['Holding_Policy_Duration'].unique()"
   ]
  },
  {
   "cell_type": "code",
   "execution_count": 10,
   "metadata": {},
   "outputs": [
    {
     "name": "stdout",
     "output_type": "stream",
     "text": [
      "0     Owned\n",
      "1     Owned\n",
      "2    Rented\n",
      "3    Rented\n",
      "4     Owned\n",
      "Name: Accomodation_Type, dtype: object\n",
      "0    Individual\n",
      "1    Individual\n",
      "2    Individual\n",
      "3    Individual\n",
      "4         Joint\n",
      "Name: Reco_Insurance_Type, dtype: object\n",
      "0     No\n",
      "1     No\n",
      "2     No\n",
      "3     No\n",
      "4    Yes\n",
      "Name: Is_Spouse, dtype: object\n"
     ]
    }
   ],
   "source": [
    "# Observe that ['Accomodation_Type','Reco_Insurance_Type','Is_Spouse'] \n",
    "# above these Object columns have two values - Yes and No\n",
    "\n",
    "print(df['Accomodation_Type'].head())\n",
    "print(df['Reco_Insurance_Type'].head())\n",
    "print(df['Is_Spouse'].head())"
   ]
  },
  {
   "cell_type": "code",
   "execution_count": 11,
   "metadata": {},
   "outputs": [],
   "source": [
    "# Converting all the Yes to 1 and No to 0. \n",
    "\n",
    "\n",
    "\n",
    "# Write a for loop to iterate over the list given above\n",
    "# For each feature use pandas 'apply()' to convert all the 'Yes' to 1 and 'No' to 0\n",
    "\n",
    "%timeit\n",
    "df['Is_Spouse']=df['Is_Spouse'].apply(lambda x:0 if x=='No' else 1)\n",
    "\n",
    "\n",
    "    \n"
   ]
  },
  {
   "cell_type": "code",
   "execution_count": 12,
   "metadata": {},
   "outputs": [
    {
     "data": {
      "text/plain": [
       "0       1\n",
       "1       1\n",
       "2       0\n",
       "3       0\n",
       "4       1\n",
       "       ..\n",
       "9995    1\n",
       "9996    0\n",
       "9997    1\n",
       "9998    0\n",
       "9999    1\n",
       "Name: Accomodation_Type, Length: 10000, dtype: int64"
      ]
     },
     "execution_count": 12,
     "metadata": {},
     "output_type": "execute_result"
    }
   ],
   "source": [
    "%timeit\n",
    "df['Accomodation_Type']=df['Accomodation_Type'].apply(lambda x:0 if x=='Rented' else 1)\n",
    "df['Accomodation_Type']"
   ]
  },
  {
   "cell_type": "code",
   "execution_count": 13,
   "metadata": {},
   "outputs": [
    {
     "data": {
      "text/plain": [
       "0       1\n",
       "1       1\n",
       "2       1\n",
       "3       1\n",
       "4       0\n",
       "       ..\n",
       "9995    0\n",
       "9996    1\n",
       "9997    1\n",
       "9998    1\n",
       "9999    0\n",
       "Name: Reco_Insurance_Type, Length: 10000, dtype: int64"
      ]
     },
     "execution_count": 13,
     "metadata": {},
     "output_type": "execute_result"
    }
   ],
   "source": [
    "%timeit\n",
    "df['Reco_Insurance_Type']=df['Reco_Insurance_Type'].apply(lambda x:0 if x=='Joint' else 1)\n",
    "df['Reco_Insurance_Type']"
   ]
  },
  {
   "cell_type": "code",
   "execution_count": 14,
   "metadata": {},
   "outputs": [
    {
     "data": {
      "text/html": [
       "<div>\n",
       "<style scoped>\n",
       "    .dataframe tbody tr th:only-of-type {\n",
       "        vertical-align: middle;\n",
       "    }\n",
       "\n",
       "    .dataframe tbody tr th {\n",
       "        vertical-align: top;\n",
       "    }\n",
       "\n",
       "    .dataframe thead th {\n",
       "        text-align: right;\n",
       "    }\n",
       "</style>\n",
       "<table border=\"1\" class=\"dataframe\">\n",
       "  <thead>\n",
       "    <tr style=\"text-align: right;\">\n",
       "      <th></th>\n",
       "      <th>Unnamed: 0</th>\n",
       "      <th>ID</th>\n",
       "      <th>City_Code</th>\n",
       "      <th>Region_Code</th>\n",
       "      <th>Accomodation_Type</th>\n",
       "      <th>Reco_Insurance_Type</th>\n",
       "      <th>Upper_Age</th>\n",
       "      <th>Lower_Age</th>\n",
       "      <th>Is_Spouse</th>\n",
       "      <th>Health Indicator</th>\n",
       "      <th>Holding_Policy_Duration</th>\n",
       "      <th>Holding_Policy_Type</th>\n",
       "      <th>Reco_Policy_Cat</th>\n",
       "      <th>Reco_Policy_Premium</th>\n",
       "      <th>Response</th>\n",
       "    </tr>\n",
       "  </thead>\n",
       "  <tbody>\n",
       "    <tr>\n",
       "      <th>0</th>\n",
       "      <td>27385</td>\n",
       "      <td>27386</td>\n",
       "      <td>C3</td>\n",
       "      <td>64</td>\n",
       "      <td>1</td>\n",
       "      <td>1</td>\n",
       "      <td>36</td>\n",
       "      <td>36</td>\n",
       "      <td>0</td>\n",
       "      <td>X1</td>\n",
       "      <td>0</td>\n",
       "      <td>2.0</td>\n",
       "      <td>16</td>\n",
       "      <td>13320.0</td>\n",
       "      <td>0</td>\n",
       "    </tr>\n",
       "    <tr>\n",
       "      <th>1</th>\n",
       "      <td>33499</td>\n",
       "      <td>33500</td>\n",
       "      <td>C3</td>\n",
       "      <td>2955</td>\n",
       "      <td>1</td>\n",
       "      <td>1</td>\n",
       "      <td>66</td>\n",
       "      <td>66</td>\n",
       "      <td>0</td>\n",
       "      <td>X6</td>\n",
       "      <td>1</td>\n",
       "      <td>1.0</td>\n",
       "      <td>19</td>\n",
       "      <td>16152.0</td>\n",
       "      <td>0</td>\n",
       "    </tr>\n",
       "    <tr>\n",
       "      <th>2</th>\n",
       "      <td>7997</td>\n",
       "      <td>7998</td>\n",
       "      <td>C1</td>\n",
       "      <td>1542</td>\n",
       "      <td>0</td>\n",
       "      <td>1</td>\n",
       "      <td>24</td>\n",
       "      <td>24</td>\n",
       "      <td>0</td>\n",
       "      <td>X1</td>\n",
       "      <td>1</td>\n",
       "      <td>1.0</td>\n",
       "      <td>16</td>\n",
       "      <td>7310.0</td>\n",
       "      <td>0</td>\n",
       "    </tr>\n",
       "    <tr>\n",
       "      <th>3</th>\n",
       "      <td>33032</td>\n",
       "      <td>33033</td>\n",
       "      <td>C26</td>\n",
       "      <td>772</td>\n",
       "      <td>0</td>\n",
       "      <td>1</td>\n",
       "      <td>75</td>\n",
       "      <td>75</td>\n",
       "      <td>0</td>\n",
       "      <td>X1</td>\n",
       "      <td>1</td>\n",
       "      <td>3.0</td>\n",
       "      <td>16</td>\n",
       "      <td>15792.0</td>\n",
       "      <td>0</td>\n",
       "    </tr>\n",
       "    <tr>\n",
       "      <th>4</th>\n",
       "      <td>30516</td>\n",
       "      <td>30517</td>\n",
       "      <td>C2</td>\n",
       "      <td>1510</td>\n",
       "      <td>1</td>\n",
       "      <td>0</td>\n",
       "      <td>59</td>\n",
       "      <td>58</td>\n",
       "      <td>1</td>\n",
       "      <td>X1</td>\n",
       "      <td>0</td>\n",
       "      <td>4.0</td>\n",
       "      <td>17</td>\n",
       "      <td>23673.0</td>\n",
       "      <td>0</td>\n",
       "    </tr>\n",
       "  </tbody>\n",
       "</table>\n",
       "</div>"
      ],
      "text/plain": [
       "   Unnamed: 0     ID City_Code  Region_Code  Accomodation_Type  \\\n",
       "0       27385  27386        C3           64                  1   \n",
       "1       33499  33500        C3         2955                  1   \n",
       "2        7997   7998        C1         1542                  0   \n",
       "3       33032  33033       C26          772                  0   \n",
       "4       30516  30517        C2         1510                  1   \n",
       "\n",
       "   Reco_Insurance_Type  Upper_Age  Lower_Age  Is_Spouse Health Indicator  \\\n",
       "0                    1         36         36          0               X1   \n",
       "1                    1         66         66          0               X6   \n",
       "2                    1         24         24          0               X1   \n",
       "3                    1         75         75          0               X1   \n",
       "4                    0         59         58          1               X1   \n",
       "\n",
       "   Holding_Policy_Duration  Holding_Policy_Type  Reco_Policy_Cat  \\\n",
       "0                        0                  2.0               16   \n",
       "1                        1                  1.0               19   \n",
       "2                        1                  1.0               16   \n",
       "3                        1                  3.0               16   \n",
       "4                        0                  4.0               17   \n",
       "\n",
       "   Reco_Policy_Premium  Response  \n",
       "0              13320.0         0  \n",
       "1              16152.0         0  \n",
       "2               7310.0         0  \n",
       "3              15792.0         0  \n",
       "4              23673.0         0  "
      ]
     },
     "execution_count": 14,
     "metadata": {},
     "output_type": "execute_result"
    }
   ],
   "source": [
    "# Now again having a look at all those columns to see if everything went well\n",
    "\n",
    "df.head()"
   ]
  },
  {
   "cell_type": "code",
   "execution_count": 15,
   "metadata": {},
   "outputs": [
    {
     "name": "stdout",
     "output_type": "stream",
     "text": [
      "<class 'pandas.core.frame.DataFrame'>\n",
      "RangeIndex: 10000 entries, 0 to 9999\n",
      "Data columns (total 15 columns):\n",
      " #   Column                   Non-Null Count  Dtype  \n",
      "---  ------                   --------------  -----  \n",
      " 0   Unnamed: 0               10000 non-null  int64  \n",
      " 1   ID                       10000 non-null  int64  \n",
      " 2   City_Code                10000 non-null  object \n",
      " 3   Region_Code              10000 non-null  int64  \n",
      " 4   Accomodation_Type        10000 non-null  int64  \n",
      " 5   Reco_Insurance_Type      10000 non-null  int64  \n",
      " 6   Upper_Age                10000 non-null  int64  \n",
      " 7   Lower_Age                10000 non-null  int64  \n",
      " 8   Is_Spouse                10000 non-null  int64  \n",
      " 9   Health Indicator         10000 non-null  object \n",
      " 10  Holding_Policy_Duration  10000 non-null  int32  \n",
      " 11  Holding_Policy_Type      10000 non-null  float64\n",
      " 12  Reco_Policy_Cat          10000 non-null  int64  \n",
      " 13  Reco_Policy_Premium      10000 non-null  float64\n",
      " 14  Response                 10000 non-null  int64  \n",
      "dtypes: float64(2), int32(1), int64(10), object(2)\n",
      "memory usage: 1.1+ MB\n"
     ]
    }
   ],
   "source": [
    "# Observe that all those columns are now converted from Object to Int64\n",
    "\n",
    "df.info()"
   ]
  },
  {
   "cell_type": "code",
   "execution_count": 16,
   "metadata": {},
   "outputs": [
    {
     "data": {
      "text/plain": [
       "array(['C3', 'C1', 'C26', 'C2', 'C17', 'C4', 'C16', 'C9', 'C23', 'C21',\n",
       "       'C6', 'C7', 'C11', 'C22', 'C15', 'C13', 'C8', 'C35', 'C29', 'C33',\n",
       "       'C10', 'C12', 'C19', 'C5', 'C18', 'C14', 'C24', 'C27', 'C20',\n",
       "       'C34', 'C36', 'C25', 'C28', 'C32', 'C30', 'C31'], dtype=object)"
      ]
     },
     "execution_count": 16,
     "metadata": {},
     "output_type": "execute_result"
    }
   ],
   "source": [
    "# Checking all the Object Dtypes - Here, these columns have more than 2 categories\n",
    "\n",
    "df['City_Code'].unique()"
   ]
  },
  {
   "cell_type": "code",
   "execution_count": 17,
   "metadata": {},
   "outputs": [
    {
     "data": {
      "text/plain": [
       "array(['X1', 'X6', 'X4', 'X2', 'X3', 'X5', 'X8', 'X7', 'X9'], dtype=object)"
      ]
     },
     "execution_count": 17,
     "metadata": {},
     "output_type": "execute_result"
    }
   ],
   "source": [
    "df['Health Indicator'].unique()"
   ]
  },
  {
   "cell_type": "code",
   "execution_count": 18,
   "metadata": {},
   "outputs": [
    {
     "data": {
      "text/html": [
       "<div>\n",
       "<style scoped>\n",
       "    .dataframe tbody tr th:only-of-type {\n",
       "        vertical-align: middle;\n",
       "    }\n",
       "\n",
       "    .dataframe tbody tr th {\n",
       "        vertical-align: top;\n",
       "    }\n",
       "\n",
       "    .dataframe thead th {\n",
       "        text-align: right;\n",
       "    }\n",
       "</style>\n",
       "<table border=\"1\" class=\"dataframe\">\n",
       "  <thead>\n",
       "    <tr style=\"text-align: right;\">\n",
       "      <th></th>\n",
       "      <th>City_Code</th>\n",
       "      <th>Health Indicator</th>\n",
       "    </tr>\n",
       "  </thead>\n",
       "  <tbody>\n",
       "    <tr>\n",
       "      <th>0</th>\n",
       "      <td>C3</td>\n",
       "      <td>X1</td>\n",
       "    </tr>\n",
       "    <tr>\n",
       "      <th>1</th>\n",
       "      <td>C3</td>\n",
       "      <td>X6</td>\n",
       "    </tr>\n",
       "    <tr>\n",
       "      <th>2</th>\n",
       "      <td>C1</td>\n",
       "      <td>X1</td>\n",
       "    </tr>\n",
       "    <tr>\n",
       "      <th>3</th>\n",
       "      <td>C26</td>\n",
       "      <td>X1</td>\n",
       "    </tr>\n",
       "    <tr>\n",
       "      <th>4</th>\n",
       "      <td>C2</td>\n",
       "      <td>X1</td>\n",
       "    </tr>\n",
       "    <tr>\n",
       "      <th>...</th>\n",
       "      <td>...</td>\n",
       "      <td>...</td>\n",
       "    </tr>\n",
       "    <tr>\n",
       "      <th>9995</th>\n",
       "      <td>C3</td>\n",
       "      <td>X5</td>\n",
       "    </tr>\n",
       "    <tr>\n",
       "      <th>9996</th>\n",
       "      <td>C5</td>\n",
       "      <td>X1</td>\n",
       "    </tr>\n",
       "    <tr>\n",
       "      <th>9997</th>\n",
       "      <td>C1</td>\n",
       "      <td>X1</td>\n",
       "    </tr>\n",
       "    <tr>\n",
       "      <th>9998</th>\n",
       "      <td>C1</td>\n",
       "      <td>X5</td>\n",
       "    </tr>\n",
       "    <tr>\n",
       "      <th>9999</th>\n",
       "      <td>C7</td>\n",
       "      <td>X2</td>\n",
       "    </tr>\n",
       "  </tbody>\n",
       "</table>\n",
       "<p>10000 rows × 2 columns</p>\n",
       "</div>"
      ],
      "text/plain": [
       "     City_Code Health Indicator\n",
       "0           C3               X1\n",
       "1           C3               X6\n",
       "2           C1               X1\n",
       "3          C26               X1\n",
       "4           C2               X1\n",
       "...        ...              ...\n",
       "9995        C3               X5\n",
       "9996        C5               X1\n",
       "9997        C1               X1\n",
       "9998        C1               X5\n",
       "9999        C7               X2\n",
       "\n",
       "[10000 rows x 2 columns]"
      ]
     },
     "execution_count": 18,
     "metadata": {},
     "output_type": "execute_result"
    }
   ],
   "source": [
    "# You can also do this to separate Object columns\n",
    "\n",
    "df_categorical=df.select_dtypes(include='object')\n",
    "df_categorical"
   ]
  },
  {
   "cell_type": "code",
   "execution_count": 19,
   "metadata": {},
   "outputs": [
    {
     "data": {
      "text/plain": [
       "array([0, 1], dtype=int64)"
      ]
     },
     "execution_count": 19,
     "metadata": {},
     "output_type": "execute_result"
    }
   ],
   "source": [
    "# Lets just try to see what is happening Response. Check the output.\n",
    "\n",
    "df['Response'].unique()"
   ]
  },
  {
   "cell_type": "code",
   "execution_count": 20,
   "metadata": {},
   "outputs": [
    {
     "data": {
      "text/html": [
       "<div>\n",
       "<style scoped>\n",
       "    .dataframe tbody tr th:only-of-type {\n",
       "        vertical-align: middle;\n",
       "    }\n",
       "\n",
       "    .dataframe tbody tr th {\n",
       "        vertical-align: top;\n",
       "    }\n",
       "\n",
       "    .dataframe thead th {\n",
       "        text-align: right;\n",
       "    }\n",
       "</style>\n",
       "<table border=\"1\" class=\"dataframe\">\n",
       "  <thead>\n",
       "    <tr style=\"text-align: right;\">\n",
       "      <th></th>\n",
       "      <th>ID</th>\n",
       "      <th>City_Code</th>\n",
       "      <th>Region_Code</th>\n",
       "      <th>Accomodation_Type</th>\n",
       "      <th>Reco_Insurance_Type</th>\n",
       "      <th>Upper_Age</th>\n",
       "      <th>Lower_Age</th>\n",
       "      <th>Is_Spouse</th>\n",
       "      <th>Health Indicator</th>\n",
       "      <th>Holding_Policy_Duration</th>\n",
       "      <th>Holding_Policy_Type</th>\n",
       "      <th>Reco_Policy_Cat</th>\n",
       "      <th>Reco_Policy_Premium</th>\n",
       "      <th>Response</th>\n",
       "    </tr>\n",
       "  </thead>\n",
       "  <tbody>\n",
       "    <tr>\n",
       "      <th>0</th>\n",
       "      <td>27386</td>\n",
       "      <td>C3</td>\n",
       "      <td>64</td>\n",
       "      <td>1</td>\n",
       "      <td>1</td>\n",
       "      <td>36</td>\n",
       "      <td>36</td>\n",
       "      <td>0</td>\n",
       "      <td>X1</td>\n",
       "      <td>0</td>\n",
       "      <td>2.0</td>\n",
       "      <td>16</td>\n",
       "      <td>13320.0</td>\n",
       "      <td>0</td>\n",
       "    </tr>\n",
       "    <tr>\n",
       "      <th>1</th>\n",
       "      <td>33500</td>\n",
       "      <td>C3</td>\n",
       "      <td>2955</td>\n",
       "      <td>1</td>\n",
       "      <td>1</td>\n",
       "      <td>66</td>\n",
       "      <td>66</td>\n",
       "      <td>0</td>\n",
       "      <td>X6</td>\n",
       "      <td>1</td>\n",
       "      <td>1.0</td>\n",
       "      <td>19</td>\n",
       "      <td>16152.0</td>\n",
       "      <td>0</td>\n",
       "    </tr>\n",
       "    <tr>\n",
       "      <th>2</th>\n",
       "      <td>7998</td>\n",
       "      <td>C1</td>\n",
       "      <td>1542</td>\n",
       "      <td>0</td>\n",
       "      <td>1</td>\n",
       "      <td>24</td>\n",
       "      <td>24</td>\n",
       "      <td>0</td>\n",
       "      <td>X1</td>\n",
       "      <td>1</td>\n",
       "      <td>1.0</td>\n",
       "      <td>16</td>\n",
       "      <td>7310.0</td>\n",
       "      <td>0</td>\n",
       "    </tr>\n",
       "    <tr>\n",
       "      <th>3</th>\n",
       "      <td>33033</td>\n",
       "      <td>C26</td>\n",
       "      <td>772</td>\n",
       "      <td>0</td>\n",
       "      <td>1</td>\n",
       "      <td>75</td>\n",
       "      <td>75</td>\n",
       "      <td>0</td>\n",
       "      <td>X1</td>\n",
       "      <td>1</td>\n",
       "      <td>3.0</td>\n",
       "      <td>16</td>\n",
       "      <td>15792.0</td>\n",
       "      <td>0</td>\n",
       "    </tr>\n",
       "    <tr>\n",
       "      <th>4</th>\n",
       "      <td>30517</td>\n",
       "      <td>C2</td>\n",
       "      <td>1510</td>\n",
       "      <td>1</td>\n",
       "      <td>0</td>\n",
       "      <td>59</td>\n",
       "      <td>58</td>\n",
       "      <td>1</td>\n",
       "      <td>X1</td>\n",
       "      <td>0</td>\n",
       "      <td>4.0</td>\n",
       "      <td>17</td>\n",
       "      <td>23673.0</td>\n",
       "      <td>0</td>\n",
       "    </tr>\n",
       "  </tbody>\n",
       "</table>\n",
       "</div>"
      ],
      "text/plain": [
       "      ID City_Code  Region_Code  Accomodation_Type  Reco_Insurance_Type  \\\n",
       "0  27386        C3           64                  1                    1   \n",
       "1  33500        C3         2955                  1                    1   \n",
       "2   7998        C1         1542                  0                    1   \n",
       "3  33033       C26          772                  0                    1   \n",
       "4  30517        C2         1510                  1                    0   \n",
       "\n",
       "   Upper_Age  Lower_Age  Is_Spouse Health Indicator  Holding_Policy_Duration  \\\n",
       "0         36         36          0               X1                        0   \n",
       "1         66         66          0               X6                        1   \n",
       "2         24         24          0               X1                        1   \n",
       "3         75         75          0               X1                        1   \n",
       "4         59         58          1               X1                        0   \n",
       "\n",
       "   Holding_Policy_Type  Reco_Policy_Cat  Reco_Policy_Premium  Response  \n",
       "0                  2.0               16              13320.0         0  \n",
       "1                  1.0               19              16152.0         0  \n",
       "2                  1.0               16               7310.0         0  \n",
       "3                  3.0               16              15792.0         0  \n",
       "4                  4.0               17              23673.0         0  "
      ]
     },
     "execution_count": 20,
     "metadata": {},
     "output_type": "execute_result"
    }
   ],
   "source": [
    "# Dropping unknown column\n",
    "\n",
    "# Write the code here to drop unknown column and check dataframe shape\n",
    "df=df.drop(['Unnamed: 0'], axis=1)\n",
    "df.head()\n"
   ]
  },
  {
   "cell_type": "code",
   "execution_count": 21,
   "metadata": {},
   "outputs": [
    {
     "data": {
      "text/plain": [
       "(10000, 14)"
      ]
     },
     "execution_count": 21,
     "metadata": {},
     "output_type": "execute_result"
    }
   ],
   "source": [
    "df.shape"
   ]
  },
  {
   "cell_type": "code",
   "execution_count": 22,
   "metadata": {},
   "outputs": [
    {
     "name": "stdout",
     "output_type": "stream",
     "text": [
      "     City_Code Health Indicator\n",
      "0           C3               X1\n",
      "1           C3               X6\n",
      "2           C1               X1\n",
      "3          C26               X1\n",
      "4           C2               X1\n",
      "...        ...              ...\n",
      "9995        C3               X5\n",
      "9996        C5               X1\n",
      "9997        C1               X1\n",
      "9998        C1               X5\n",
      "9999        C7               X2\n",
      "\n",
      "[10000 rows x 2 columns]\n",
      "City_Code           object\n",
      "Health Indicator    object\n",
      "dtype: object\n",
      "(10000, 2)\n"
     ]
    }
   ],
   "source": [
    "# Getting all the Object Dtypes\n",
    "\n",
    "print(df_categorical)\n",
    "print(df_categorical.dtypes)\n",
    "print(df_categorical.shape)"
   ]
  },
  {
   "cell_type": "code",
   "execution_count": 23,
   "metadata": {},
   "outputs": [
    {
     "data": {
      "text/plain": [
       "array([[0., 0., 0., ..., 0., 0., 0.],\n",
       "       [0., 0., 0., ..., 0., 0., 0.],\n",
       "       [1., 0., 0., ..., 0., 0., 0.],\n",
       "       ...,\n",
       "       [1., 0., 0., ..., 0., 0., 0.],\n",
       "       [1., 0., 0., ..., 0., 0., 0.],\n",
       "       [0., 0., 0., ..., 0., 0., 0.]])"
      ]
     },
     "execution_count": 23,
     "metadata": {},
     "output_type": "execute_result"
    }
   ],
   "source": [
    "# Encoding the categorical features\n",
    "\n",
    "\n",
    "\n",
    "# column names are (annoyingly) lost after OneHotEncoding\n",
    "# (i.e. the dataframe is converted to a numpy ndarray)\n",
    "\n",
    "# Write the code here to use 'encoder' to convert all the categorical columns to numerical representations\n",
    "# Take extra care to convert encoded numpy array to dataframe and call that data fram 'df_encoded'\n",
    "\n",
    "from sklearn.preprocessing import OneHotEncoder\n",
    "encoder=OneHotEncoder(sparse=False)\n",
    "df_encoded=encoder.fit_transform(df_categorical)\n",
    "df_encoded"
   ]
  },
  {
   "cell_type": "code",
   "execution_count": 24,
   "metadata": {},
   "outputs": [],
   "source": [
    "df_encoded=pd.get_dummies(df_categorical,drop_first=True)"
   ]
  },
  {
   "cell_type": "code",
   "execution_count": 25,
   "metadata": {},
   "outputs": [
    {
     "name": "stdout",
     "output_type": "stream",
     "text": [
      "      ID  Region_Code  Accomodation_Type  Reco_Insurance_Type  Upper_Age  \\\n",
      "0  27386           64                  1                    1         36   \n",
      "1  33500         2955                  1                    1         66   \n",
      "2   7998         1542                  0                    1         24   \n",
      "3  33033          772                  0                    1         75   \n",
      "4  30517         1510                  1                    0         59   \n",
      "\n",
      "   Lower_Age  Is_Spouse  Holding_Policy_Duration  Holding_Policy_Type  \\\n",
      "0         36          0                        0                  2.0   \n",
      "1         66          0                        1                  1.0   \n",
      "2         24          0                        1                  1.0   \n",
      "3         75          0                        1                  3.0   \n",
      "4         58          1                        0                  4.0   \n",
      "\n",
      "   Reco_Policy_Cat  Reco_Policy_Premium  Response  \n",
      "0               16              13320.0         0  \n",
      "1               19              16152.0         0  \n",
      "2               16               7310.0         0  \n",
      "3               16              15792.0         0  \n",
      "4               17              23673.0         0  \n",
      "(10000, 12)\n"
     ]
    }
   ],
   "source": [
    "df_numerical=df.select_dtypes(include='number')\n",
    "print(df_numerical.head())\n",
    "print(df_numerical.shape)"
   ]
  },
  {
   "cell_type": "code",
   "execution_count": 26,
   "metadata": {},
   "outputs": [
    {
     "data": {
      "text/html": [
       "<div>\n",
       "<style scoped>\n",
       "    .dataframe tbody tr th:only-of-type {\n",
       "        vertical-align: middle;\n",
       "    }\n",
       "\n",
       "    .dataframe tbody tr th {\n",
       "        vertical-align: top;\n",
       "    }\n",
       "\n",
       "    .dataframe thead th {\n",
       "        text-align: right;\n",
       "    }\n",
       "</style>\n",
       "<table border=\"1\" class=\"dataframe\">\n",
       "  <thead>\n",
       "    <tr style=\"text-align: right;\">\n",
       "      <th></th>\n",
       "      <th>ID</th>\n",
       "      <th>Region_Code</th>\n",
       "      <th>Accomodation_Type</th>\n",
       "      <th>Reco_Insurance_Type</th>\n",
       "      <th>Upper_Age</th>\n",
       "      <th>Lower_Age</th>\n",
       "      <th>Is_Spouse</th>\n",
       "      <th>Holding_Policy_Duration</th>\n",
       "      <th>Holding_Policy_Type</th>\n",
       "      <th>Reco_Policy_Cat</th>\n",
       "      <th>...</th>\n",
       "      <th>City_Code_C8</th>\n",
       "      <th>City_Code_C9</th>\n",
       "      <th>Health Indicator_X2</th>\n",
       "      <th>Health Indicator_X3</th>\n",
       "      <th>Health Indicator_X4</th>\n",
       "      <th>Health Indicator_X5</th>\n",
       "      <th>Health Indicator_X6</th>\n",
       "      <th>Health Indicator_X7</th>\n",
       "      <th>Health Indicator_X8</th>\n",
       "      <th>Health Indicator_X9</th>\n",
       "    </tr>\n",
       "  </thead>\n",
       "  <tbody>\n",
       "    <tr>\n",
       "      <th>0</th>\n",
       "      <td>27386</td>\n",
       "      <td>64</td>\n",
       "      <td>1</td>\n",
       "      <td>1</td>\n",
       "      <td>36</td>\n",
       "      <td>36</td>\n",
       "      <td>0</td>\n",
       "      <td>0</td>\n",
       "      <td>2.000000</td>\n",
       "      <td>16</td>\n",
       "      <td>...</td>\n",
       "      <td>0</td>\n",
       "      <td>0</td>\n",
       "      <td>0</td>\n",
       "      <td>0</td>\n",
       "      <td>0</td>\n",
       "      <td>0</td>\n",
       "      <td>0</td>\n",
       "      <td>0</td>\n",
       "      <td>0</td>\n",
       "      <td>0</td>\n",
       "    </tr>\n",
       "    <tr>\n",
       "      <th>1</th>\n",
       "      <td>33500</td>\n",
       "      <td>2955</td>\n",
       "      <td>1</td>\n",
       "      <td>1</td>\n",
       "      <td>66</td>\n",
       "      <td>66</td>\n",
       "      <td>0</td>\n",
       "      <td>1</td>\n",
       "      <td>1.000000</td>\n",
       "      <td>19</td>\n",
       "      <td>...</td>\n",
       "      <td>0</td>\n",
       "      <td>0</td>\n",
       "      <td>0</td>\n",
       "      <td>0</td>\n",
       "      <td>0</td>\n",
       "      <td>0</td>\n",
       "      <td>1</td>\n",
       "      <td>0</td>\n",
       "      <td>0</td>\n",
       "      <td>0</td>\n",
       "    </tr>\n",
       "    <tr>\n",
       "      <th>2</th>\n",
       "      <td>7998</td>\n",
       "      <td>1542</td>\n",
       "      <td>0</td>\n",
       "      <td>1</td>\n",
       "      <td>24</td>\n",
       "      <td>24</td>\n",
       "      <td>0</td>\n",
       "      <td>1</td>\n",
       "      <td>1.000000</td>\n",
       "      <td>16</td>\n",
       "      <td>...</td>\n",
       "      <td>0</td>\n",
       "      <td>0</td>\n",
       "      <td>0</td>\n",
       "      <td>0</td>\n",
       "      <td>0</td>\n",
       "      <td>0</td>\n",
       "      <td>0</td>\n",
       "      <td>0</td>\n",
       "      <td>0</td>\n",
       "      <td>0</td>\n",
       "    </tr>\n",
       "    <tr>\n",
       "      <th>3</th>\n",
       "      <td>33033</td>\n",
       "      <td>772</td>\n",
       "      <td>0</td>\n",
       "      <td>1</td>\n",
       "      <td>75</td>\n",
       "      <td>75</td>\n",
       "      <td>0</td>\n",
       "      <td>1</td>\n",
       "      <td>3.000000</td>\n",
       "      <td>16</td>\n",
       "      <td>...</td>\n",
       "      <td>0</td>\n",
       "      <td>0</td>\n",
       "      <td>0</td>\n",
       "      <td>0</td>\n",
       "      <td>0</td>\n",
       "      <td>0</td>\n",
       "      <td>0</td>\n",
       "      <td>0</td>\n",
       "      <td>0</td>\n",
       "      <td>0</td>\n",
       "    </tr>\n",
       "    <tr>\n",
       "      <th>4</th>\n",
       "      <td>30517</td>\n",
       "      <td>1510</td>\n",
       "      <td>1</td>\n",
       "      <td>0</td>\n",
       "      <td>59</td>\n",
       "      <td>58</td>\n",
       "      <td>1</td>\n",
       "      <td>0</td>\n",
       "      <td>4.000000</td>\n",
       "      <td>17</td>\n",
       "      <td>...</td>\n",
       "      <td>0</td>\n",
       "      <td>0</td>\n",
       "      <td>0</td>\n",
       "      <td>0</td>\n",
       "      <td>0</td>\n",
       "      <td>0</td>\n",
       "      <td>0</td>\n",
       "      <td>0</td>\n",
       "      <td>0</td>\n",
       "      <td>0</td>\n",
       "    </tr>\n",
       "    <tr>\n",
       "      <th>...</th>\n",
       "      <td>...</td>\n",
       "      <td>...</td>\n",
       "      <td>...</td>\n",
       "      <td>...</td>\n",
       "      <td>...</td>\n",
       "      <td>...</td>\n",
       "      <td>...</td>\n",
       "      <td>...</td>\n",
       "      <td>...</td>\n",
       "      <td>...</td>\n",
       "      <td>...</td>\n",
       "      <td>...</td>\n",
       "      <td>...</td>\n",
       "      <td>...</td>\n",
       "      <td>...</td>\n",
       "      <td>...</td>\n",
       "      <td>...</td>\n",
       "      <td>...</td>\n",
       "      <td>...</td>\n",
       "      <td>...</td>\n",
       "      <td>...</td>\n",
       "    </tr>\n",
       "    <tr>\n",
       "      <th>9995</th>\n",
       "      <td>5204</td>\n",
       "      <td>13</td>\n",
       "      <td>1</td>\n",
       "      <td>0</td>\n",
       "      <td>47</td>\n",
       "      <td>40</td>\n",
       "      <td>1</td>\n",
       "      <td>0</td>\n",
       "      <td>2.431719</td>\n",
       "      <td>19</td>\n",
       "      <td>...</td>\n",
       "      <td>0</td>\n",
       "      <td>0</td>\n",
       "      <td>0</td>\n",
       "      <td>0</td>\n",
       "      <td>0</td>\n",
       "      <td>1</td>\n",
       "      <td>0</td>\n",
       "      <td>0</td>\n",
       "      <td>0</td>\n",
       "      <td>0</td>\n",
       "    </tr>\n",
       "    <tr>\n",
       "      <th>9996</th>\n",
       "      <td>35449</td>\n",
       "      <td>1477</td>\n",
       "      <td>0</td>\n",
       "      <td>1</td>\n",
       "      <td>34</td>\n",
       "      <td>34</td>\n",
       "      <td>0</td>\n",
       "      <td>1</td>\n",
       "      <td>1.000000</td>\n",
       "      <td>4</td>\n",
       "      <td>...</td>\n",
       "      <td>0</td>\n",
       "      <td>0</td>\n",
       "      <td>0</td>\n",
       "      <td>0</td>\n",
       "      <td>0</td>\n",
       "      <td>0</td>\n",
       "      <td>0</td>\n",
       "      <td>0</td>\n",
       "      <td>0</td>\n",
       "      <td>0</td>\n",
       "    </tr>\n",
       "    <tr>\n",
       "      <th>9997</th>\n",
       "      <td>47254</td>\n",
       "      <td>2357</td>\n",
       "      <td>1</td>\n",
       "      <td>1</td>\n",
       "      <td>64</td>\n",
       "      <td>64</td>\n",
       "      <td>0</td>\n",
       "      <td>1</td>\n",
       "      <td>2.000000</td>\n",
       "      <td>19</td>\n",
       "      <td>...</td>\n",
       "      <td>0</td>\n",
       "      <td>0</td>\n",
       "      <td>0</td>\n",
       "      <td>0</td>\n",
       "      <td>0</td>\n",
       "      <td>0</td>\n",
       "      <td>0</td>\n",
       "      <td>0</td>\n",
       "      <td>0</td>\n",
       "      <td>0</td>\n",
       "    </tr>\n",
       "    <tr>\n",
       "      <th>9998</th>\n",
       "      <td>42545</td>\n",
       "      <td>1443</td>\n",
       "      <td>0</td>\n",
       "      <td>1</td>\n",
       "      <td>53</td>\n",
       "      <td>53</td>\n",
       "      <td>0</td>\n",
       "      <td>0</td>\n",
       "      <td>3.000000</td>\n",
       "      <td>13</td>\n",
       "      <td>...</td>\n",
       "      <td>0</td>\n",
       "      <td>0</td>\n",
       "      <td>0</td>\n",
       "      <td>0</td>\n",
       "      <td>0</td>\n",
       "      <td>1</td>\n",
       "      <td>0</td>\n",
       "      <td>0</td>\n",
       "      <td>0</td>\n",
       "      <td>0</td>\n",
       "    </tr>\n",
       "    <tr>\n",
       "      <th>9999</th>\n",
       "      <td>7865</td>\n",
       "      <td>1476</td>\n",
       "      <td>1</td>\n",
       "      <td>0</td>\n",
       "      <td>56</td>\n",
       "      <td>47</td>\n",
       "      <td>1</td>\n",
       "      <td>0</td>\n",
       "      <td>3.000000</td>\n",
       "      <td>10</td>\n",
       "      <td>...</td>\n",
       "      <td>0</td>\n",
       "      <td>0</td>\n",
       "      <td>1</td>\n",
       "      <td>0</td>\n",
       "      <td>0</td>\n",
       "      <td>0</td>\n",
       "      <td>0</td>\n",
       "      <td>0</td>\n",
       "      <td>0</td>\n",
       "      <td>0</td>\n",
       "    </tr>\n",
       "  </tbody>\n",
       "</table>\n",
       "<p>10000 rows × 55 columns</p>\n",
       "</div>"
      ],
      "text/plain": [
       "         ID  Region_Code  Accomodation_Type  Reco_Insurance_Type  Upper_Age  \\\n",
       "0     27386           64                  1                    1         36   \n",
       "1     33500         2955                  1                    1         66   \n",
       "2      7998         1542                  0                    1         24   \n",
       "3     33033          772                  0                    1         75   \n",
       "4     30517         1510                  1                    0         59   \n",
       "...     ...          ...                ...                  ...        ...   \n",
       "9995   5204           13                  1                    0         47   \n",
       "9996  35449         1477                  0                    1         34   \n",
       "9997  47254         2357                  1                    1         64   \n",
       "9998  42545         1443                  0                    1         53   \n",
       "9999   7865         1476                  1                    0         56   \n",
       "\n",
       "      Lower_Age  Is_Spouse  Holding_Policy_Duration  Holding_Policy_Type  \\\n",
       "0            36          0                        0             2.000000   \n",
       "1            66          0                        1             1.000000   \n",
       "2            24          0                        1             1.000000   \n",
       "3            75          0                        1             3.000000   \n",
       "4            58          1                        0             4.000000   \n",
       "...         ...        ...                      ...                  ...   \n",
       "9995         40          1                        0             2.431719   \n",
       "9996         34          0                        1             1.000000   \n",
       "9997         64          0                        1             2.000000   \n",
       "9998         53          0                        0             3.000000   \n",
       "9999         47          1                        0             3.000000   \n",
       "\n",
       "      Reco_Policy_Cat  ...  City_Code_C8  City_Code_C9  Health Indicator_X2  \\\n",
       "0                  16  ...             0             0                    0   \n",
       "1                  19  ...             0             0                    0   \n",
       "2                  16  ...             0             0                    0   \n",
       "3                  16  ...             0             0                    0   \n",
       "4                  17  ...             0             0                    0   \n",
       "...               ...  ...           ...           ...                  ...   \n",
       "9995               19  ...             0             0                    0   \n",
       "9996                4  ...             0             0                    0   \n",
       "9997               19  ...             0             0                    0   \n",
       "9998               13  ...             0             0                    0   \n",
       "9999               10  ...             0             0                    1   \n",
       "\n",
       "      Health Indicator_X3  Health Indicator_X4  Health Indicator_X5  \\\n",
       "0                       0                    0                    0   \n",
       "1                       0                    0                    0   \n",
       "2                       0                    0                    0   \n",
       "3                       0                    0                    0   \n",
       "4                       0                    0                    0   \n",
       "...                   ...                  ...                  ...   \n",
       "9995                    0                    0                    1   \n",
       "9996                    0                    0                    0   \n",
       "9997                    0                    0                    0   \n",
       "9998                    0                    0                    1   \n",
       "9999                    0                    0                    0   \n",
       "\n",
       "      Health Indicator_X6  Health Indicator_X7  Health Indicator_X8  \\\n",
       "0                       0                    0                    0   \n",
       "1                       1                    0                    0   \n",
       "2                       0                    0                    0   \n",
       "3                       0                    0                    0   \n",
       "4                       0                    0                    0   \n",
       "...                   ...                  ...                  ...   \n",
       "9995                    0                    0                    0   \n",
       "9996                    0                    0                    0   \n",
       "9997                    0                    0                    0   \n",
       "9998                    0                    0                    0   \n",
       "9999                    0                    0                    0   \n",
       "\n",
       "      Health Indicator_X9  \n",
       "0                       0  \n",
       "1                       0  \n",
       "2                       0  \n",
       "3                       0  \n",
       "4                       0  \n",
       "...                   ...  \n",
       "9995                    0  \n",
       "9996                    0  \n",
       "9997                    0  \n",
       "9998                    0  \n",
       "9999                    0  \n",
       "\n",
       "[10000 rows x 55 columns]"
      ]
     },
     "execution_count": 26,
     "metadata": {},
     "output_type": "execute_result"
    }
   ],
   "source": [
    "# Concatinating the original data frame and onehot encoded dataframe\n",
    "\n",
    "df_main=pd.concat([df_numerical,df_encoded],axis=1)\n",
    "\n",
    "df_main\n"
   ]
  },
  {
   "cell_type": "code",
   "execution_count": 27,
   "metadata": {},
   "outputs": [
    {
     "data": {
      "text/plain": [
       "Index(['ID', 'Region_Code', 'Accomodation_Type', 'Reco_Insurance_Type',\n",
       "       'Upper_Age', 'Lower_Age', 'Is_Spouse', 'Holding_Policy_Duration',\n",
       "       'Holding_Policy_Type', 'Reco_Policy_Cat', 'Reco_Policy_Premium',\n",
       "       'Response', 'City_Code_C10', 'City_Code_C11', 'City_Code_C12',\n",
       "       'City_Code_C13', 'City_Code_C14', 'City_Code_C15', 'City_Code_C16',\n",
       "       'City_Code_C17', 'City_Code_C18', 'City_Code_C19', 'City_Code_C2',\n",
       "       'City_Code_C20', 'City_Code_C21', 'City_Code_C22', 'City_Code_C23',\n",
       "       'City_Code_C24', 'City_Code_C25', 'City_Code_C26', 'City_Code_C27',\n",
       "       'City_Code_C28', 'City_Code_C29', 'City_Code_C3', 'City_Code_C30',\n",
       "       'City_Code_C31', 'City_Code_C32', 'City_Code_C33', 'City_Code_C34',\n",
       "       'City_Code_C35', 'City_Code_C36', 'City_Code_C4', 'City_Code_C5',\n",
       "       'City_Code_C6', 'City_Code_C7', 'City_Code_C8', 'City_Code_C9',\n",
       "       'Health Indicator_X2', 'Health Indicator_X3', 'Health Indicator_X4',\n",
       "       'Health Indicator_X5', 'Health Indicator_X6', 'Health Indicator_X7',\n",
       "       'Health Indicator_X8', 'Health Indicator_X9'],\n",
       "      dtype='object')"
      ]
     },
     "execution_count": 27,
     "metadata": {},
     "output_type": "execute_result"
    }
   ],
   "source": [
    "df_main.columns"
   ]
  },
  {
   "cell_type": "code",
   "execution_count": 28,
   "metadata": {},
   "outputs": [],
   "source": [
    "# Drop all the unwanted columns.\n",
    "df_final = df_main.drop(['ID'],axis=1)\n",
    "\n",
    "\n",
    "# Because we have already encoded them and added to main dataframe\n",
    "\n"
   ]
  },
  {
   "cell_type": "markdown",
   "metadata": {},
   "source": [
    "## Observe that 26.5% datapoints belong to one class rest all belongs to other class. Clearly dataset is having high imbalance.\n",
    "\n",
    "**To Do:**\n",
    "1. Read about Oversampling and Undersampling.\n",
    "2. Perform undersampling."
   ]
  },
  {
   "cell_type": "code",
   "execution_count": 29,
   "metadata": {},
   "outputs": [
    {
     "name": "stdout",
     "output_type": "stream",
     "text": [
      "2459\n"
     ]
    }
   ],
   "source": [
    "# Find Number of samples having one as response\n",
    "\n",
    "one_response = len(df_final[df_final['Response'] == 1])\n",
    "print(one_response)\n"
   ]
  },
  {
   "cell_type": "code",
   "execution_count": 30,
   "metadata": {},
   "outputs": [
    {
     "name": "stdout",
     "output_type": "stream",
     "text": [
      "Int64Index([   0,    1,    2,    3,    4,    5,    6,    7,    8,   10,\n",
      "            ...\n",
      "            9986, 9987, 9989, 9992, 9993, 9994, 9996, 9997, 9998, 9999],\n",
      "           dtype='int64', length=7541)\n"
     ]
    }
   ],
   "source": [
    "# Get indices having zero as response\n",
    "\n",
    "zero_response_indices = df_final[df_final['Response'] == 0].index\n",
    "print(zero_response_indices)\n"
   ]
  },
  {
   "cell_type": "code",
   "execution_count": 31,
   "metadata": {},
   "outputs": [
    {
     "name": "stdout",
     "output_type": "stream",
     "text": [
      "[4217 7653 9376 ... 2685 6551 7647]\n"
     ]
    }
   ],
   "source": [
    "# Random samples of zero indices\n",
    "\n",
    "random_indices = np.random.choice(zero_response_indices, one_response, replace = False)\n",
    "print(random_indices)\n"
   ]
  },
  {
   "cell_type": "code",
   "execution_count": 32,
   "metadata": {},
   "outputs": [
    {
     "name": "stdout",
     "output_type": "stream",
     "text": [
      "Int64Index([   9,   12,   21,   22,   34,   39,   40,   41,   42,   56,\n",
      "            ...\n",
      "            9955, 9959, 9968, 9975, 9980, 9983, 9988, 9990, 9991, 9995],\n",
      "           dtype='int64', length=2459)\n"
     ]
    }
   ],
   "source": [
    "# Find the indices of response having one \n",
    "\n",
    "response_indices = df_final[df_final['Response'] == 1].index\n",
    "print(response_indices)\n"
   ]
  },
  {
   "cell_type": "code",
   "execution_count": 33,
   "metadata": {},
   "outputs": [
    {
     "name": "stdout",
     "output_type": "stream",
     "text": [
      "[   9   12   21 ... 2685 6551 7647]\n"
     ]
    }
   ],
   "source": [
    "# Concat response_indices with random_indices\n",
    "\n",
    "under_sample_indices = np.concatenate([response_indices, random_indices])\n",
    "print(under_sample_indices)\n"
   ]
  },
  {
   "cell_type": "code",
   "execution_count": 34,
   "metadata": {},
   "outputs": [
    {
     "name": "stdout",
     "output_type": "stream",
     "text": [
      "    Region_Code  Accomodation_Type  Reco_Insurance_Type  Upper_Age  Lower_Age  \\\n",
      "9          3377                  0                    1         30         30   \n",
      "12         5029                  1                    1         73         73   \n",
      "21          573                  1                    1         35         35   \n",
      "22          849                  1                    1         42         42   \n",
      "34           71                  1                    1         36         36   \n",
      "\n",
      "    Is_Spouse  Holding_Policy_Duration  Holding_Policy_Type  Reco_Policy_Cat  \\\n",
      "9           0                        0             2.431719               13   \n",
      "12          0                        1             3.000000               15   \n",
      "21          0                        1             3.000000               15   \n",
      "22          0                        1             4.000000               22   \n",
      "34          0                        1             1.000000               16   \n",
      "\n",
      "    Reco_Policy_Premium  ...  City_Code_C8  City_Code_C9  Health Indicator_X2  \\\n",
      "9                7572.0  ...             0             0                    0   \n",
      "12              16666.0  ...             0             0                    0   \n",
      "21               8800.0  ...             0             0                    0   \n",
      "22               9044.0  ...             0             0                    0   \n",
      "34              14872.0  ...             0             0                    0   \n",
      "\n",
      "    Health Indicator_X3  Health Indicator_X4  Health Indicator_X5  \\\n",
      "9                     1                    0                    0   \n",
      "12                    0                    0                    0   \n",
      "21                    0                    1                    0   \n",
      "22                    0                    0                    1   \n",
      "34                    0                    0                    0   \n",
      "\n",
      "    Health Indicator_X6  Health Indicator_X7  Health Indicator_X8  \\\n",
      "9                     0                    0                    0   \n",
      "12                    0                    0                    0   \n",
      "21                    0                    0                    0   \n",
      "22                    0                    0                    0   \n",
      "34                    0                    0                    0   \n",
      "\n",
      "    Health Indicator_X9  \n",
      "9                     0  \n",
      "12                    0  \n",
      "21                    0  \n",
      "22                    0  \n",
      "34                    0  \n",
      "\n",
      "[5 rows x 54 columns]\n"
     ]
    }
   ],
   "source": [
    "# Get Balance Dataframe\n",
    "\n",
    "under_sample = df_final.loc[under_sample_indices]\n",
    "print(under_sample.head())\n"
   ]
  },
  {
   "cell_type": "code",
   "execution_count": 35,
   "metadata": {},
   "outputs": [
    {
     "data": {
      "text/plain": [
       "<AxesSubplot:xlabel='Response', ylabel='count'>"
      ]
     },
     "execution_count": 35,
     "metadata": {},
     "output_type": "execute_result"
    },
    {
     "data": {
      "image/png": "[encoded data removed]",
      "text/plain": [
       "<Figure size 432x288 with 1 Axes>"
      ]
     },
     "metadata": {
      "needs_background": "light"
     },
     "output_type": "display_data"
    }
   ],
   "source": [
    "# Visualising Undersampled Data\n",
    "\n",
    "sns.countplot(x = under_sample['Response'], data = under_sample)"
   ]
  },
  {
   "cell_type": "code",
   "execution_count": 36,
   "metadata": {},
   "outputs": [
    {
     "name": "stdout",
     "output_type": "stream",
     "text": [
      "<class 'pandas.core.frame.DataFrame'>\n",
      "Int64Index: 4918 entries, 9 to 7647\n",
      "Data columns (total 54 columns):\n",
      " #   Column                   Non-Null Count  Dtype  \n",
      "---  ------                   --------------  -----  \n",
      " 0   Region_Code              4918 non-null   int64  \n",
      " 1   Accomodation_Type        4918 non-null   int64  \n",
      " 2   Reco_Insurance_Type      4918 non-null   int64  \n",
      " 3   Upper_Age                4918 non-null   int64  \n",
      " 4   Lower_Age                4918 non-null   int64  \n",
      " 5   Is_Spouse                4918 non-null   int64  \n",
      " 6   Holding_Policy_Duration  4918 non-null   int32  \n",
      " 7   Holding_Policy_Type      4918 non-null   float64\n",
      " 8   Reco_Policy_Cat          4918 non-null   int64  \n",
      " 9   Reco_Policy_Premium      4918 non-null   float64\n",
      " 10  Response                 4918 non-null   int64  \n",
      " 11  City_Code_C10            4918 non-null   uint8  \n",
      " 12  City_Code_C11            4918 non-null   uint8  \n",
      " 13  City_Code_C12            4918 non-null   uint8  \n",
      " 14  City_Code_C13            4918 non-null   uint8  \n",
      " 15  City_Code_C14            4918 non-null   uint8  \n",
      " 16  City_Code_C15            4918 non-null   uint8  \n",
      " 17  City_Code_C16            4918 non-null   uint8  \n",
      " 18  City_Code_C17            4918 non-null   uint8  \n",
      " 19  City_Code_C18            4918 non-null   uint8  \n",
      " 20  City_Code_C19            4918 non-null   uint8  \n",
      " 21  City_Code_C2             4918 non-null   uint8  \n",
      " 22  City_Code_C20            4918 non-null   uint8  \n",
      " 23  City_Code_C21            4918 non-null   uint8  \n",
      " 24  City_Code_C22            4918 non-null   uint8  \n",
      " 25  City_Code_C23            4918 non-null   uint8  \n",
      " 26  City_Code_C24            4918 non-null   uint8  \n",
      " 27  City_Code_C25            4918 non-null   uint8  \n",
      " 28  City_Code_C26            4918 non-null   uint8  \n",
      " 29  City_Code_C27            4918 non-null   uint8  \n",
      " 30  City_Code_C28            4918 non-null   uint8  \n",
      " 31  City_Code_C29            4918 non-null   uint8  \n",
      " 32  City_Code_C3             4918 non-null   uint8  \n",
      " 33  City_Code_C30            4918 non-null   uint8  \n",
      " 34  City_Code_C31            4918 non-null   uint8  \n",
      " 35  City_Code_C32            4918 non-null   uint8  \n",
      " 36  City_Code_C33            4918 non-null   uint8  \n",
      " 37  City_Code_C34            4918 non-null   uint8  \n",
      " 38  City_Code_C35            4918 non-null   uint8  \n",
      " 39  City_Code_C36            4918 non-null   uint8  \n",
      " 40  City_Code_C4             4918 non-null   uint8  \n",
      " 41  City_Code_C5             4918 non-null   uint8  \n",
      " 42  City_Code_C6             4918 non-null   uint8  \n",
      " 43  City_Code_C7             4918 non-null   uint8  \n",
      " 44  City_Code_C8             4918 non-null   uint8  \n",
      " 45  City_Code_C9             4918 non-null   uint8  \n",
      " 46  Health Indicator_X2      4918 non-null   uint8  \n",
      " 47  Health Indicator_X3      4918 non-null   uint8  \n",
      " 48  Health Indicator_X4      4918 non-null   uint8  \n",
      " 49  Health Indicator_X5      4918 non-null   uint8  \n",
      " 50  Health Indicator_X6      4918 non-null   uint8  \n",
      " 51  Health Indicator_X7      4918 non-null   uint8  \n",
      " 52  Health Indicator_X8      4918 non-null   uint8  \n",
      " 53  Health Indicator_X9      4918 non-null   uint8  \n",
      "dtypes: float64(2), int32(1), int64(8), uint8(43)\n",
      "memory usage: 808.4 KB\n"
     ]
    }
   ],
   "source": [
    "under_sample.shape\n",
    "under_sample.info()\n"
   ]
  },
  {
   "cell_type": "code",
   "execution_count": 37,
   "metadata": {},
   "outputs": [
    {
     "data": {
      "text/plain": [
       "(4918, 54)"
      ]
     },
     "execution_count": 37,
     "metadata": {},
     "output_type": "execute_result"
    }
   ],
   "source": [
    "df_under_sample = pd.get_dummies(under_sample)\n",
    "df_under_sample.head()\n",
    "df_under_sample.shape\n"
   ]
  },
  {
   "cell_type": "code",
   "execution_count": 38,
   "metadata": {},
   "outputs": [
    {
     "name": "stdout",
     "output_type": "stream",
     "text": [
      "<class 'pandas.core.frame.DataFrame'>\n",
      "Int64Index: 4918 entries, 9 to 7647\n",
      "Data columns (total 54 columns):\n",
      " #   Column                   Non-Null Count  Dtype  \n",
      "---  ------                   --------------  -----  \n",
      " 0   Region_Code              4918 non-null   int64  \n",
      " 1   Accomodation_Type        4918 non-null   int64  \n",
      " 2   Reco_Insurance_Type      4918 non-null   int64  \n",
      " 3   Upper_Age                4918 non-null   int64  \n",
      " 4   Lower_Age                4918 non-null   int64  \n",
      " 5   Is_Spouse                4918 non-null   int64  \n",
      " 6   Holding_Policy_Duration  4918 non-null   int32  \n",
      " 7   Holding_Policy_Type      4918 non-null   float64\n",
      " 8   Reco_Policy_Cat          4918 non-null   int64  \n",
      " 9   Reco_Policy_Premium      4918 non-null   float64\n",
      " 10  Response                 4918 non-null   int64  \n",
      " 11  City_Code_C10            4918 non-null   uint8  \n",
      " 12  City_Code_C11            4918 non-null   uint8  \n",
      " 13  City_Code_C12            4918 non-null   uint8  \n",
      " 14  City_Code_C13            4918 non-null   uint8  \n",
      " 15  City_Code_C14            4918 non-null   uint8  \n",
      " 16  City_Code_C15            4918 non-null   uint8  \n",
      " 17  City_Code_C16            4918 non-null   uint8  \n",
      " 18  City_Code_C17            4918 non-null   uint8  \n",
      " 19  City_Code_C18            4918 non-null   uint8  \n",
      " 20  City_Code_C19            4918 non-null   uint8  \n",
      " 21  City_Code_C2             4918 non-null   uint8  \n",
      " 22  City_Code_C20            4918 non-null   uint8  \n",
      " 23  City_Code_C21            4918 non-null   uint8  \n",
      " 24  City_Code_C22            4918 non-null   uint8  \n",
      " 25  City_Code_C23            4918 non-null   uint8  \n",
      " 26  City_Code_C24            4918 non-null   uint8  \n",
      " 27  City_Code_C25            4918 non-null   uint8  \n",
      " 28  City_Code_C26            4918 non-null   uint8  \n",
      " 29  City_Code_C27            4918 non-null   uint8  \n",
      " 30  City_Code_C28            4918 non-null   uint8  \n",
      " 31  City_Code_C29            4918 non-null   uint8  \n",
      " 32  City_Code_C3             4918 non-null   uint8  \n",
      " 33  City_Code_C30            4918 non-null   uint8  \n",
      " 34  City_Code_C31            4918 non-null   uint8  \n",
      " 35  City_Code_C32            4918 non-null   uint8  \n",
      " 36  City_Code_C33            4918 non-null   uint8  \n",
      " 37  City_Code_C34            4918 non-null   uint8  \n",
      " 38  City_Code_C35            4918 non-null   uint8  \n",
      " 39  City_Code_C36            4918 non-null   uint8  \n",
      " 40  City_Code_C4             4918 non-null   uint8  \n",
      " 41  City_Code_C5             4918 non-null   uint8  \n",
      " 42  City_Code_C6             4918 non-null   uint8  \n",
      " 43  City_Code_C7             4918 non-null   uint8  \n",
      " 44  City_Code_C8             4918 non-null   uint8  \n",
      " 45  City_Code_C9             4918 non-null   uint8  \n",
      " 46  Health Indicator_X2      4918 non-null   uint8  \n",
      " 47  Health Indicator_X3      4918 non-null   uint8  \n",
      " 48  Health Indicator_X4      4918 non-null   uint8  \n",
      " 49  Health Indicator_X5      4918 non-null   uint8  \n",
      " 50  Health Indicator_X6      4918 non-null   uint8  \n",
      " 51  Health Indicator_X7      4918 non-null   uint8  \n",
      " 52  Health Indicator_X8      4918 non-null   uint8  \n",
      " 53  Health Indicator_X9      4918 non-null   uint8  \n",
      "dtypes: float64(2), int32(1), int64(8), uint8(43)\n",
      "memory usage: 808.4 KB\n"
     ]
    }
   ],
   "source": [
    "# check all the columns of the encoded dataframe\n",
    "\n",
    "df_under_sample.info()\n"
   ]
  },
  {
   "cell_type": "code",
   "execution_count": 39,
   "metadata": {},
   "outputs": [
    {
     "data": {
      "text/plain": [
       "(4918, 19)"
      ]
     },
     "execution_count": 39,
     "metadata": {},
     "output_type": "execute_result"
    }
   ],
   "source": [
    "# Drop all the unwanted columns.\n",
    "\n",
    "\n",
    "# Because we have already encoded them and added to main dataframe\n",
    "\n",
    "df_under_sample.drop(['City_Code_C10', 'City_Code_C11',\n",
    "       'City_Code_C12', 'City_Code_C13', 'City_Code_C14', 'City_Code_C15',\n",
    "       'City_Code_C16', 'City_Code_C17', 'City_Code_C18', 'City_Code_C19',\n",
    "       'City_Code_C2', 'City_Code_C20', 'City_Code_C21', 'City_Code_C22',\n",
    "       'City_Code_C23', 'City_Code_C24', 'City_Code_C25', 'City_Code_C26',\n",
    "       'City_Code_C27', 'City_Code_C28', 'City_Code_C29', 'City_Code_C3',\n",
    "       'City_Code_C30', 'City_Code_C31', 'City_Code_C32', 'City_Code_C33',\n",
    "       'City_Code_C34', 'City_Code_C35', 'City_Code_C36', 'City_Code_C4',\n",
    "       'City_Code_C5', 'City_Code_C6', 'City_Code_C7', 'City_Code_C8',\n",
    "       'City_Code_C9'], axis = 1, inplace = True)\n",
    "df_under_sample.shape"
   ]
  },
  {
   "cell_type": "markdown",
   "metadata": {},
   "source": [
    "## Train Test Split\n",
    "\n",
    "**To Do:**\n",
    "1. Sandardise the data\n",
    "2. Perform 80-20 split"
   ]
  },
  {
   "cell_type": "code",
   "execution_count": 40,
   "metadata": {},
   "outputs": [
    {
     "name": "stdout",
     "output_type": "stream",
     "text": [
      "(3442, 18) (1476, 18) (3442, 1) (1476, 1)\n"
     ]
    }
   ],
   "source": [
    "X = df_under_sample.loc[:,df_under_sample.columns != 'Response']\n",
    "y = df_under_sample.loc[:,df_under_sample.columns == 'Response']\n",
    "\n",
    "\n",
    "from sklearn.model_selection import train_test_split\n",
    "\n",
    "X_train, X_test, y_train, y_test = train_test_split(X, y, test_size = 0.3, random_state = 42)\n",
    "print(X_train.shape,X_test.shape,y_train.shape,y_test.shape)"
   ]
  },
  {
   "cell_type": "markdown",
   "metadata": {},
   "source": [
    "## Model Building - Logistic Regression\n",
    "\n",
    "**To Do:**\n",
    "1. Perform appropriate Hyperparameter Tuning\n",
    "2. Train the Model using `Accuracy` as the evaluation metric\n",
    "3. Predict\n",
    "4. Evaluate\n",
    "5. Use Accuracy, Confusion Matrix, Precision & Recall, F1-score and ROC AUC to understand model performance"
   ]
  },
  {
   "cell_type": "markdown",
   "metadata": {},
   "source": [
    "## Model Building - SVM, KNN, DT, RF, Gradient Boosting, AdaBoosting etc\n",
    "\n",
    "For all the algorithms mentioned above, perform below mentioned steps.\n",
    "\n",
    "**To Do:**\n",
    "1. Perform appropriate Hyperparameter Tuning\n",
    "2. Train the Model using `Accuracy` as the evaluation metric\n",
    "3. Predict\n",
    "4. Evaluate\n",
    "5. Use Accuracy, Confusion Matrix, Precision & Recall, F1-score and ROC AUC to understand model performance\n",
    "6. Compare the perormance of all the models"
   ]
  },
  {
   "cell_type": "markdown",
   "metadata": {},
   "source": [
    "## 1.Logistic Regression"
   ]
  },
  {
   "cell_type": "code",
   "execution_count": 41,
   "metadata": {},
   "outputs": [
    {
     "data": {
      "text/plain": [
       "LogisticRegression(random_state=0, solver='liblinear')"
      ]
     },
     "execution_count": 41,
     "metadata": {},
     "output_type": "execute_result"
    }
   ],
   "source": [
    "# Logistic Regression Classifier\n",
    "classifier_1 = LogisticRegression(random_state=0, solver=\"liblinear\")\n",
    "classifier_1.fit(X_train, y_train)\n"
   ]
  },
  {
   "cell_type": "code",
   "execution_count": 42,
   "metadata": {},
   "outputs": [
    {
     "data": {
      "text/plain": [
       "{'C': 1.0,\n",
       " 'class_weight': None,\n",
       " 'dual': False,\n",
       " 'fit_intercept': True,\n",
       " 'intercept_scaling': 1,\n",
       " 'l1_ratio': None,\n",
       " 'max_iter': 100,\n",
       " 'multi_class': 'auto',\n",
       " 'n_jobs': None,\n",
       " 'penalty': 'l2',\n",
       " 'random_state': 0,\n",
       " 'solver': 'liblinear',\n",
       " 'tol': 0.0001,\n",
       " 'verbose': 0,\n",
       " 'warm_start': False}"
      ]
     },
     "execution_count": 42,
     "metadata": {},
     "output_type": "execute_result"
    }
   ],
   "source": [
    "# parameters\n",
    "classifier_1.get_params(deep=True)"
   ]
  },
  {
   "cell_type": "code",
   "execution_count": 43,
   "metadata": {},
   "outputs": [
    {
     "name": "stdout",
     "output_type": "stream",
     "text": [
      "Train_Score :  53.92213829169088\n",
      "Test_Score :  52.10027100271003\n"
     ]
    }
   ],
   "source": [
    "\n",
    "#  Predict\n",
    "y_pred_logi = classifier_1.predict(X_test)\n",
    "\n",
    "# Generate predictions\n",
    "predictions_logi_train =classifier_1.predict(X_train)\n",
    "predictions_logi_test= classifier_1.predict(X_test)\n",
    "\n",
    "#ACCURACY = TRAIN DATA SCORE \n",
    "train_Acc_1=classifier_1.score(X_train,y_train) \n",
    "print('Train_Score : ',train_Acc_1*100)\n",
    "\n",
    "#ACCURACY = TEST DATA SCORE \n",
    "Acc_1=classifier_1.score(X_test, y_test)\n",
    "print('Test_Score : ',Acc_1*100)\n",
    "\n",
    "\n"
   ]
  },
  {
   "cell_type": "code",
   "execution_count": 44,
   "metadata": {},
   "outputs": [
    {
     "name": "stdout",
     "output_type": "stream",
     "text": [
      "confusion_matrix is : \n",
      "[[327 383]\n",
      " [324 442]]\n",
      "====================================================================================================\n",
      "Accuracy score: 52.10027100271003\n",
      "Precision score: 53.57575757575758\n",
      "Recall score: 57.702349869451695\n",
      "F1 score: 55.56253928346951\n",
      "roc_auc_score_1 :  51.87934394881035\n",
      "====================================================================================================\n",
      "classification_report is : \n",
      "              precision    recall  f1-score   support\n",
      "\n",
      "           0       0.50      0.46      0.48       710\n",
      "           1       0.54      0.58      0.56       766\n",
      "\n",
      "    accuracy                           0.52      1476\n",
      "   macro avg       0.52      0.52      0.52      1476\n",
      "weighted avg       0.52      0.52      0.52      1476\n",
      "\n",
      "====================================================================================================\n",
      "[0.        0.5191538 1.       ] [0.         0.59952747 1.        ] [2 1 0]\n",
      "[0.         0.53943662 1.        ] [0.        0.5770235 1.       ] [2 1 0]\n",
      "====================================================================================================\n",
      "Train AUC: 0.540\n",
      "Test AUC: 0.519\n",
      "====================================================================================================\n"
     ]
    },
    {
     "data": {
      "image/png": "[encoded data removed]",
      "text/plain": [
       "<Figure size 1080x576 with 1 Axes>"
      ]
     },
     "metadata": {
      "needs_background": "light"
     },
     "output_type": "display_data"
    }
   ],
   "source": [
    "#  Confusion Matrix\n",
    "print('confusion_matrix is : ')\n",
    "cm_1= metrics.confusion_matrix(y_test, y_pred_logi) \n",
    "print(cm_1)\n",
    "\n",
    "print('='*100)\n",
    "\n",
    "accuracy_1 = metrics.accuracy_score(y_test, y_pred_logi) \n",
    "print(\"Accuracy score:\",accuracy_1*100)\n",
    "\n",
    "precision_1 = metrics.precision_score(y_test, y_pred_logi) \n",
    "print(\"Precision score:\",precision_1*100)\n",
    "\n",
    "recall_1 = metrics.recall_score(y_test, y_pred_logi) \n",
    "print(\"Recall score:\",recall_1*100)\n",
    "\n",
    "f1_1 = metrics.f1_score(y_test,y_pred_logi)\n",
    "print(\"F1 score:\",f1_1*100)\n",
    "\n",
    "roc_auc_1 = roc_auc_score(y_test, predictions_logi_test)\n",
    "print('roc_auc_score_1 : ', roc_auc_1*100)\n",
    "\n",
    "print('='*100)\n",
    "\n",
    "# Checking the summary of classification\n",
    "print('classification_report is : ')\n",
    "print(classification_report(y_test, predictions_logi_test))\n",
    "\n",
    "print('='*100)\n",
    "\n",
    "# calculate ROC\n",
    "FPR, TPR, LRM = roc_curve(y_train, predictions_logi_train)\n",
    "FPR1, TPR1, LRM = roc_curve(y_test,predictions_logi_test)\n",
    "print(FPR, TPR, LRM)\n",
    "print(FPR1, TPR1, LRM)\n",
    "\n",
    "print('='*100)\n",
    "\n",
    "# calculate AUC\n",
    "auc_train_logi = auc(FPR, TPR)\n",
    "print('Train AUC: %0.3f' % auc_train_logi)\n",
    "\n",
    "auc_test_logi = auc(FPR1, TPR1)\n",
    "print('Test AUC: %0.3f' % auc_test_logi)\n",
    "\n",
    "print('='*100)\n",
    "\n",
    "# plot the ROC curve\n",
    "plt.figure(figsize=(15,8))\n",
    "plt.plot(FPR, TPR, label = 'Train AUC: %0.3f'%auc_train_logi)\n",
    "plt.plot(FPR1, TPR1, label = 'Test AUC: %0.3f'%auc_test_logi)\n",
    "\n",
    "plt.plot([1,0],[1,0], ls = '--', color = 'blue', lw = 0.90)\n",
    "\n",
    "plt.title('ROC Curve')\n",
    "plt.legend()\n",
    "plt.show();"
   ]
  },
  {
   "cell_type": "markdown",
   "metadata": {},
   "source": [
    "## Hyper-parameters:"
   ]
  },
  {
   "cell_type": "code",
   "execution_count": 45,
   "metadata": {},
   "outputs": [
    {
     "data": {
      "text/plain": [
       "GridSearchCV(cv=5, estimator=LogisticRegression(),\n",
       "             param_grid=[{'C': [0.0001, 0.01, 1, 100, 10000]}],\n",
       "             scoring='roc_auc')"
      ]
     },
     "execution_count": 45,
     "metadata": {},
     "output_type": "execute_result"
    }
   ],
   "source": [
    "tuned_parameters = [{'C': [10**-4, 10**-2, 10**0, 10**2, 10**4]}]\n",
    "logi = GridSearchCV(LogisticRegression(penalty='l2'), tuned_parameters, scoring = 'roc_auc', cv=5)\n",
    "logi.fit(X_train, y_train)"
   ]
  },
  {
   "cell_type": "code",
   "execution_count": 46,
   "metadata": {},
   "outputs": [
    {
     "data": {
      "text/html": [
       "<div>\n",
       "<style scoped>\n",
       "    .dataframe tbody tr th:only-of-type {\n",
       "        vertical-align: middle;\n",
       "    }\n",
       "\n",
       "    .dataframe tbody tr th {\n",
       "        vertical-align: top;\n",
       "    }\n",
       "\n",
       "    .dataframe thead th {\n",
       "        text-align: right;\n",
       "    }\n",
       "</style>\n",
       "<table border=\"1\" class=\"dataframe\">\n",
       "  <thead>\n",
       "    <tr style=\"text-align: right;\">\n",
       "      <th></th>\n",
       "      <th>mean_fit_time</th>\n",
       "      <th>std_fit_time</th>\n",
       "      <th>mean_score_time</th>\n",
       "      <th>std_score_time</th>\n",
       "      <th>param_C</th>\n",
       "      <th>params</th>\n",
       "      <th>split0_test_score</th>\n",
       "      <th>split1_test_score</th>\n",
       "      <th>split2_test_score</th>\n",
       "      <th>split3_test_score</th>\n",
       "      <th>split4_test_score</th>\n",
       "      <th>mean_test_score</th>\n",
       "      <th>std_test_score</th>\n",
       "      <th>rank_test_score</th>\n",
       "    </tr>\n",
       "  </thead>\n",
       "  <tbody>\n",
       "    <tr>\n",
       "      <th>0</th>\n",
       "      <td>0.104547</td>\n",
       "      <td>0.037883</td>\n",
       "      <td>0.013004</td>\n",
       "      <td>0.002669</td>\n",
       "      <td>0.0001</td>\n",
       "      <td>{'C': 0.0001}</td>\n",
       "      <td>0.529043</td>\n",
       "      <td>0.543826</td>\n",
       "      <td>0.541361</td>\n",
       "      <td>0.549442</td>\n",
       "      <td>0.590469</td>\n",
       "      <td>0.550828</td>\n",
       "      <td>0.020912</td>\n",
       "      <td>2</td>\n",
       "    </tr>\n",
       "    <tr>\n",
       "      <th>1</th>\n",
       "      <td>0.115218</td>\n",
       "      <td>0.036830</td>\n",
       "      <td>0.014417</td>\n",
       "      <td>0.004088</td>\n",
       "      <td>0.01</td>\n",
       "      <td>{'C': 0.01}</td>\n",
       "      <td>0.540211</td>\n",
       "      <td>0.543363</td>\n",
       "      <td>0.547549</td>\n",
       "      <td>0.571268</td>\n",
       "      <td>0.572449</td>\n",
       "      <td>0.554968</td>\n",
       "      <td>0.013991</td>\n",
       "      <td>1</td>\n",
       "    </tr>\n",
       "    <tr>\n",
       "      <th>2</th>\n",
       "      <td>0.095417</td>\n",
       "      <td>0.023165</td>\n",
       "      <td>0.014399</td>\n",
       "      <td>0.001957</td>\n",
       "      <td>1</td>\n",
       "      <td>{'C': 1}</td>\n",
       "      <td>0.531058</td>\n",
       "      <td>0.543363</td>\n",
       "      <td>0.547642</td>\n",
       "      <td>0.554286</td>\n",
       "      <td>0.569533</td>\n",
       "      <td>0.549176</td>\n",
       "      <td>0.012688</td>\n",
       "      <td>3</td>\n",
       "    </tr>\n",
       "    <tr>\n",
       "      <th>3</th>\n",
       "      <td>0.091980</td>\n",
       "      <td>0.026766</td>\n",
       "      <td>0.013593</td>\n",
       "      <td>0.001959</td>\n",
       "      <td>100</td>\n",
       "      <td>{'C': 100}</td>\n",
       "      <td>0.531083</td>\n",
       "      <td>0.543363</td>\n",
       "      <td>0.547608</td>\n",
       "      <td>0.554142</td>\n",
       "      <td>0.569347</td>\n",
       "      <td>0.549109</td>\n",
       "      <td>0.012610</td>\n",
       "      <td>4</td>\n",
       "    </tr>\n",
       "    <tr>\n",
       "      <th>4</th>\n",
       "      <td>0.097927</td>\n",
       "      <td>0.025388</td>\n",
       "      <td>0.012940</td>\n",
       "      <td>0.001590</td>\n",
       "      <td>10000</td>\n",
       "      <td>{'C': 10000}</td>\n",
       "      <td>0.531075</td>\n",
       "      <td>0.543363</td>\n",
       "      <td>0.547608</td>\n",
       "      <td>0.554134</td>\n",
       "      <td>0.569313</td>\n",
       "      <td>0.549098</td>\n",
       "      <td>0.012601</td>\n",
       "      <td>5</td>\n",
       "    </tr>\n",
       "  </tbody>\n",
       "</table>\n",
       "</div>"
      ],
      "text/plain": [
       "   mean_fit_time  std_fit_time  mean_score_time  std_score_time param_C  \\\n",
       "0       0.104547      0.037883         0.013004        0.002669  0.0001   \n",
       "1       0.115218      0.036830         0.014417        0.004088    0.01   \n",
       "2       0.095417      0.023165         0.014399        0.001957       1   \n",
       "3       0.091980      0.026766         0.013593        0.001959     100   \n",
       "4       0.097927      0.025388         0.012940        0.001590   10000   \n",
       "\n",
       "          params  split0_test_score  split1_test_score  split2_test_score  \\\n",
       "0  {'C': 0.0001}           0.529043           0.543826           0.541361   \n",
       "1    {'C': 0.01}           0.540211           0.543363           0.547549   \n",
       "2       {'C': 1}           0.531058           0.543363           0.547642   \n",
       "3     {'C': 100}           0.531083           0.543363           0.547608   \n",
       "4   {'C': 10000}           0.531075           0.543363           0.547608   \n",
       "\n",
       "   split3_test_score  split4_test_score  mean_test_score  std_test_score  \\\n",
       "0           0.549442           0.590469         0.550828        0.020912   \n",
       "1           0.571268           0.572449         0.554968        0.013991   \n",
       "2           0.554286           0.569533         0.549176        0.012688   \n",
       "3           0.554142           0.569347         0.549109        0.012610   \n",
       "4           0.554134           0.569313         0.549098        0.012601   \n",
       "\n",
       "   rank_test_score  \n",
       "0                2  \n",
       "1                1  \n",
       "2                3  \n",
       "3                4  \n",
       "4                5  "
      ]
     },
     "execution_count": 46,
     "metadata": {},
     "output_type": "execute_result"
    }
   ],
   "source": [
    "cv_results_svc=pd.DataFrame(logi.cv_results_)\n",
    "cv_results_svc.head()"
   ]
  },
  {
   "cell_type": "code",
   "execution_count": 47,
   "metadata": {},
   "outputs": [
    {
     "name": "stdout",
     "output_type": "stream",
     "text": [
      "Accuracy is : 53.307101092192845\n",
      "====================================================================================================\n",
      "best_score :  55.496779767507185\n",
      "best_params :  {'C': 0.01}\n",
      "best_estimator :  LogisticRegression(C=0.01)\n",
      "====================================================================================================\n",
      "classification_report is : \n",
      "              precision    recall  f1-score   support\n",
      "\n",
      "           0       0.53      0.45      0.48       710\n",
      "           1       0.55      0.63      0.59       766\n",
      "\n",
      "    accuracy                           0.54      1476\n",
      "   macro avg       0.54      0.54      0.53      1476\n",
      "weighted avg       0.54      0.54      0.54      1476\n",
      "\n",
      "====================================================================================================\n",
      "Accuracy score: 53.99728997289973\n",
      "Precision score: 54.98281786941581\n",
      "Recall score: 62.66318537859008\n",
      "F1 score: 58.572300183038436\n",
      "roc_auc_score_3 :  53.655536351266875\n"
     ]
    }
   ],
   "source": [
    "#The accuracy of the model with the best parameters\n",
    "logi_score=(logi.score(X_test, y_test)*100)\n",
    "print(\"Accuracy is :\" ,logi_score)\n",
    "\n",
    "print('='*100)\n",
    "\n",
    "logi_score1=logi.best_score_\n",
    "print(\"best_score : \",logi_score1*100)\n",
    "print(\"best_params : \",logi.best_params_)\n",
    "print(\"best_estimator : \",logi.best_estimator_)\n",
    "\n",
    "print('='*100)\n",
    "\n",
    "# Checking the summary of classification\n",
    "print('classification_report is : ')\n",
    "y_grid = logi.predict(X_test)\n",
    "print(classification_report(y_test, y_grid))\n",
    "\n",
    "print('='*100)\n",
    "\n",
    "hyper_accuracy_1 = metrics.accuracy_score(y_test, y_grid) \n",
    "print(\"Accuracy score:\",hyper_accuracy_1*100)\n",
    "\n",
    "hyper_precision_1 = metrics.precision_score(y_test, y_grid) \n",
    "print(\"Precision score:\",hyper_precision_1*100)\n",
    "\n",
    "hyper_recall_1 = metrics.recall_score(y_test, y_grid) \n",
    "print(\"Recall score:\",hyper_recall_1*100)\n",
    "\n",
    "hyper_f1_1 = metrics.f1_score(y_test, y_grid)\n",
    "print(\"F1 score:\",hyper_f1_1*100)\n",
    "\n",
    "# roc auc score for test data\n",
    "hyper_roc_auc_1 = roc_auc_score(y_test, y_grid)\n",
    "print('roc_auc_score_3 : ', hyper_roc_auc_1*100)"
   ]
  },
  {
   "cell_type": "markdown",
   "metadata": {},
   "source": [
    "## Feature selection:"
   ]
  },
  {
   "cell_type": "code",
   "execution_count": 48,
   "metadata": {},
   "outputs": [
    {
     "name": "stdout",
     "output_type": "stream",
     "text": [
      "x_test.shape: (1476, 18)\n",
      "X_test_transform_logi.shape: (1476, 3)\n",
      "====================================================================================================\n",
      "Scoree with all features: 0.521\n",
      "Scoree with selected features: 0.520\n",
      "====================================================================================================\n",
      "Num Features: 3\n",
      "Selected Features: [False False  True False False False False False False False False False\n",
      " False False False False  True  True]\n",
      "Feature Ranking: [16  4  1 12 14  2  6  8  5 15  7  3 13  9 11 10  1  1]\n"
     ]
    }
   ],
   "source": [
    "# Logistic Regression Model Fitting\n",
    "\n",
    "rfe_logi = RFE(classifier_1,n_features_to_select=3)\n",
    "rfe_fit_logi = rfe_logi.fit(X_train,y_train)\n",
    "X_test_transform_logi = rfe_fit_logi.transform(X_test)\n",
    "\n",
    "print(\"x_test.shape: {}\".format(X_test.shape))\n",
    "print(\"X_test_transform_logi.shape: {}\".format(X_test_transform_logi.shape))\n",
    "\n",
    "print(\"=\"*100)\n",
    "\n",
    "classifier_1.fit(X_train,y_train)\n",
    "print(\"Scoree with all features: {:,.3f}\".format(classifier_1.score(X_test,y_test)))\n",
    "classifier_1.fit(X_test_transform_logi,y_test)\n",
    "print(\"Scoree with selected features: {:,.3f}\".format(classifier_1.score(X_test_transform_logi,y_test)))\n",
    "\n",
    "print(\"=\"*100)\n",
    "\n",
    "print(\"Num Features: %d\" % rfe_fit_logi.n_features_)\n",
    "print(\"Selected Features: %s\" % rfe_fit_logi.support_)\n",
    "print(\"Feature Ranking: %s\" % rfe_fit_logi.ranking_)\n"
   ]
  },
  {
   "cell_type": "code",
   "execution_count": 49,
   "metadata": {},
   "outputs": [
    {
     "ename": "ValueError",
     "evalue": "X has 18 features per sample; expecting 3",
     "output_type": "error",
     "traceback": [
      "\u001b[1;31m---------------------------------------------------------------------------\u001b[0m",
      "\u001b[1;31mValueError\u001b[0m                                Traceback (most recent call last)",
      "\u001b[1;32m<ipython-input-49-f8a9b7a96125>\u001b[0m in \u001b[0;36m<module>\u001b[1;34m\u001b[0m\n\u001b[1;32m----> 1\u001b[1;33m \u001b[0ma1\u001b[0m\u001b[1;33m=\u001b[0m\u001b[0mclassifier_1\u001b[0m\u001b[1;33m.\u001b[0m\u001b[0mscore\u001b[0m\u001b[1;33m(\u001b[0m\u001b[0mX_test\u001b[0m\u001b[1;33m,\u001b[0m\u001b[0my_test\u001b[0m\u001b[1;33m)\u001b[0m\u001b[1;33m\u001b[0m\u001b[1;33m\u001b[0m\u001b[0m\n\u001b[0m\u001b[0;32m      2\u001b[0m \u001b[0mprint\u001b[0m\u001b[1;33m(\u001b[0m\u001b[1;34m\"Scoree with all features: {:,.3f}\"\u001b[0m\u001b[1;33m.\u001b[0m\u001b[0mformat\u001b[0m\u001b[1;33m(\u001b[0m\u001b[0mclassifier_1\u001b[0m\u001b[1;33m.\u001b[0m\u001b[0mscore\u001b[0m\u001b[1;33m(\u001b[0m\u001b[0mX_test\u001b[0m\u001b[1;33m,\u001b[0m\u001b[0my_test\u001b[0m\u001b[1;33m)\u001b[0m\u001b[1;33m)\u001b[0m\u001b[1;33m)\u001b[0m\u001b[1;33m\u001b[0m\u001b[1;33m\u001b[0m\u001b[0m\n\u001b[0;32m      3\u001b[0m \u001b[0mb1\u001b[0m\u001b[1;33m=\u001b[0m\u001b[0mclassifier_1\u001b[0m\u001b[1;33m.\u001b[0m\u001b[0mscore\u001b[0m\u001b[1;33m(\u001b[0m\u001b[0mX_test_transform_logi\u001b[0m\u001b[1;33m,\u001b[0m\u001b[0my_test\u001b[0m\u001b[1;33m)\u001b[0m\u001b[1;33m\u001b[0m\u001b[1;33m\u001b[0m\u001b[0m\n\u001b[0;32m      4\u001b[0m \u001b[0mprint\u001b[0m\u001b[1;33m(\u001b[0m\u001b[1;34m\"Scoree with selected features: {:,.3f}\"\u001b[0m\u001b[1;33m.\u001b[0m\u001b[0mformat\u001b[0m\u001b[1;33m(\u001b[0m\u001b[0mclassifier_1\u001b[0m\u001b[1;33m.\u001b[0m\u001b[0mscore\u001b[0m\u001b[1;33m(\u001b[0m\u001b[0mX_test_transform_logi\u001b[0m\u001b[1;33m,\u001b[0m\u001b[0my_test\u001b[0m\u001b[1;33m)\u001b[0m\u001b[1;33m)\u001b[0m\u001b[1;33m)\u001b[0m\u001b[1;33m\u001b[0m\u001b[1;33m\u001b[0m\u001b[0m\n",
      "\u001b[1;32mC:\\anaconda\\lib\\site-packages\\sklearn\\base.py\u001b[0m in \u001b[0;36mscore\u001b[1;34m(self, X, y, sample_weight)\u001b[0m\n\u001b[0;32m    498\u001b[0m         \"\"\"\n\u001b[0;32m    499\u001b[0m         \u001b[1;32mfrom\u001b[0m \u001b[1;33m.\u001b[0m\u001b[0mmetrics\u001b[0m \u001b[1;32mimport\u001b[0m \u001b[0maccuracy_score\u001b[0m\u001b[1;33m\u001b[0m\u001b[1;33m\u001b[0m\u001b[0m\n\u001b[1;32m--> 500\u001b[1;33m         \u001b[1;32mreturn\u001b[0m \u001b[0maccuracy_score\u001b[0m\u001b[1;33m(\u001b[0m\u001b[0my\u001b[0m\u001b[1;33m,\u001b[0m \u001b[0mself\u001b[0m\u001b[1;33m.\u001b[0m\u001b[0mpredict\u001b[0m\u001b[1;33m(\u001b[0m\u001b[0mX\u001b[0m\u001b[1;33m)\u001b[0m\u001b[1;33m,\u001b[0m \u001b[0msample_weight\u001b[0m\u001b[1;33m=\u001b[0m\u001b[0msample_weight\u001b[0m\u001b[1;33m)\u001b[0m\u001b[1;33m\u001b[0m\u001b[1;33m\u001b[0m\u001b[0m\n\u001b[0m\u001b[0;32m    501\u001b[0m \u001b[1;33m\u001b[0m\u001b[0m\n\u001b[0;32m    502\u001b[0m     \u001b[1;32mdef\u001b[0m \u001b[0m_more_tags\u001b[0m\u001b[1;33m(\u001b[0m\u001b[0mself\u001b[0m\u001b[1;33m)\u001b[0m\u001b[1;33m:\u001b[0m\u001b[1;33m\u001b[0m\u001b[1;33m\u001b[0m\u001b[0m\n",
      "\u001b[1;32mC:\\anaconda\\lib\\site-packages\\sklearn\\linear_model\\_base.py\u001b[0m in \u001b[0;36mpredict\u001b[1;34m(self, X)\u001b[0m\n\u001b[0;32m    307\u001b[0m             \u001b[0mPredicted\u001b[0m \u001b[1;32mclass\u001b[0m \u001b[0mlabel\u001b[0m \u001b[0mper\u001b[0m \u001b[0msample\u001b[0m\u001b[1;33m.\u001b[0m\u001b[1;33m\u001b[0m\u001b[1;33m\u001b[0m\u001b[0m\n\u001b[0;32m    308\u001b[0m         \"\"\"\n\u001b[1;32m--> 309\u001b[1;33m         \u001b[0mscores\u001b[0m \u001b[1;33m=\u001b[0m \u001b[0mself\u001b[0m\u001b[1;33m.\u001b[0m\u001b[0mdecision_function\u001b[0m\u001b[1;33m(\u001b[0m\u001b[0mX\u001b[0m\u001b[1;33m)\u001b[0m\u001b[1;33m\u001b[0m\u001b[1;33m\u001b[0m\u001b[0m\n\u001b[0m\u001b[0;32m    310\u001b[0m         \u001b[1;32mif\u001b[0m \u001b[0mlen\u001b[0m\u001b[1;33m(\u001b[0m\u001b[0mscores\u001b[0m\u001b[1;33m.\u001b[0m\u001b[0mshape\u001b[0m\u001b[1;33m)\u001b[0m \u001b[1;33m==\u001b[0m \u001b[1;36m1\u001b[0m\u001b[1;33m:\u001b[0m\u001b[1;33m\u001b[0m\u001b[1;33m\u001b[0m\u001b[0m\n\u001b[0;32m    311\u001b[0m             \u001b[0mindices\u001b[0m \u001b[1;33m=\u001b[0m \u001b[1;33m(\u001b[0m\u001b[0mscores\u001b[0m \u001b[1;33m>\u001b[0m \u001b[1;36m0\u001b[0m\u001b[1;33m)\u001b[0m\u001b[1;33m.\u001b[0m\u001b[0mastype\u001b[0m\u001b[1;33m(\u001b[0m\u001b[0mint\u001b[0m\u001b[1;33m)\u001b[0m\u001b[1;33m\u001b[0m\u001b[1;33m\u001b[0m\u001b[0m\n",
      "\u001b[1;32mC:\\anaconda\\lib\\site-packages\\sklearn\\linear_model\\_base.py\u001b[0m in \u001b[0;36mdecision_function\u001b[1;34m(self, X)\u001b[0m\n\u001b[0;32m    286\u001b[0m         \u001b[0mn_features\u001b[0m \u001b[1;33m=\u001b[0m \u001b[0mself\u001b[0m\u001b[1;33m.\u001b[0m\u001b[0mcoef_\u001b[0m\u001b[1;33m.\u001b[0m\u001b[0mshape\u001b[0m\u001b[1;33m[\u001b[0m\u001b[1;36m1\u001b[0m\u001b[1;33m]\u001b[0m\u001b[1;33m\u001b[0m\u001b[1;33m\u001b[0m\u001b[0m\n\u001b[0;32m    287\u001b[0m         \u001b[1;32mif\u001b[0m \u001b[0mX\u001b[0m\u001b[1;33m.\u001b[0m\u001b[0mshape\u001b[0m\u001b[1;33m[\u001b[0m\u001b[1;36m1\u001b[0m\u001b[1;33m]\u001b[0m \u001b[1;33m!=\u001b[0m \u001b[0mn_features\u001b[0m\u001b[1;33m:\u001b[0m\u001b[1;33m\u001b[0m\u001b[1;33m\u001b[0m\u001b[0m\n\u001b[1;32m--> 288\u001b[1;33m             raise ValueError(\"X has %d features per sample; expecting %d\"\n\u001b[0m\u001b[0;32m    289\u001b[0m                              % (X.shape[1], n_features))\n\u001b[0;32m    290\u001b[0m \u001b[1;33m\u001b[0m\u001b[0m\n",
      "\u001b[1;31mValueError\u001b[0m: X has 18 features per sample; expecting 3"
     ]
    }
   ],
   "source": [
    "a1=classifier_1.score(X_test,y_test)\n",
    "print(\"Scoree with all features: {:,.3f}\".format(classifier_1.score(X_test,y_test)))\n",
    "b1=classifier_1.score(X_test_transform_logi,y_test)\n",
    "print(\"Scoree with selected features: {:,.3f}\".format(classifier_1.score(X_test_transform_logi,y_test)))"
   ]
  },
  {
   "cell_type": "markdown",
   "metadata": {},
   "source": [
    "## 2.Decision Tree"
   ]
  },
  {
   "cell_type": "code",
   "execution_count": 50,
   "metadata": {},
   "outputs": [
    {
     "data": {
      "text/plain": [
       "DecisionTreeClassifier(criterion='entropy', random_state=0)"
      ]
     },
     "execution_count": 50,
     "metadata": {},
     "output_type": "execute_result"
    }
   ],
   "source": [
    "#  Fit the classifier\n",
    "\n",
    "classifier_2 = DecisionTreeClassifier(criterion = \"entropy\", random_state=0)\n",
    "classifier_2.fit(X_train, y_train)"
   ]
  },
  {
   "cell_type": "code",
   "execution_count": 51,
   "metadata": {},
   "outputs": [
    {
     "data": {
      "text/plain": [
       "{'ccp_alpha': 0.0,\n",
       " 'class_weight': None,\n",
       " 'criterion': 'entropy',\n",
       " 'max_depth': None,\n",
       " 'max_features': None,\n",
       " 'max_leaf_nodes': None,\n",
       " 'min_impurity_decrease': 0.0,\n",
       " 'min_impurity_split': None,\n",
       " 'min_samples_leaf': 1,\n",
       " 'min_samples_split': 2,\n",
       " 'min_weight_fraction_leaf': 0.0,\n",
       " 'random_state': 0,\n",
       " 'splitter': 'best'}"
      ]
     },
     "execution_count": 51,
     "metadata": {},
     "output_type": "execute_result"
    }
   ],
   "source": [
    "# parameters\n",
    "classifier_2.get_params(deep=True)"
   ]
  },
  {
   "cell_type": "code",
   "execution_count": 52,
   "metadata": {},
   "outputs": [
    {
     "name": "stdout",
     "output_type": "stream",
     "text": [
      "Train_Score :  100.0\n",
      "Test_Score :  54.132791327913274\n"
     ]
    }
   ],
   "source": [
    "\n",
    "# Making predictions on Test data\n",
    "y_pred_dtr= classifier_2.predict(X_test)\n",
    "\n",
    "# Generate predictions\n",
    "predictions_dtr_train =classifier_2.predict(X_train)\n",
    "predictions_dtr_test= classifier_2.predict(X_test)\n",
    "\n",
    "#ACCURACY = TRAIN DATA SCORE \n",
    "train_Acc_2=classifier_2.score(X_train,y_train)          \n",
    "print('Train_Score : ',train_Acc_2*100)\n",
    "\n",
    "#ACCURACY = TEST DATA SCORE \n",
    "Acc_2=classifier_2.score(X_test, y_test)  \n",
    "print('Test_Score : ',Acc_2*100)\n"
   ]
  },
  {
   "cell_type": "code",
   "execution_count": 53,
   "metadata": {},
   "outputs": [
    {
     "name": "stdout",
     "output_type": "stream",
     "text": [
      "confusion_matrix is : \n",
      "[[391 319]\n",
      " [358 408]]\n",
      "====================================================================================================\n",
      "Accuracy score: 54.132791327913274\n",
      "Precision score: 56.121045392022005\n",
      "Recall score: 53.26370757180157\n",
      "F1 score: 54.655056932350966\n",
      "roc_auc_score_2 :  54.16706505350641\n",
      "====================================================================================================\n",
      "classification_report is : \n",
      "              precision    recall  f1-score   support\n",
      "\n",
      "          NO       0.52      0.55      0.54       710\n",
      "         YES       0.56      0.53      0.55       766\n",
      "\n",
      "    accuracy                           0.54      1476\n",
      "   macro avg       0.54      0.54      0.54      1476\n",
      "weighted avg       0.54      0.54      0.54      1476\n",
      "\n",
      "====================================================================================================\n",
      "[0. 0. 1.] [0. 1. 1.] [2 1 0]\n",
      "[0.         0.44929577 1.        ] [0.         0.53263708 1.        ] [2 1 0]\n",
      "====================================================================================================\n",
      "Train AUC: 1.000\n",
      "Test AUC: 0.542\n",
      "====================================================================================================\n"
     ]
    },
    {
     "data": {
      "image/png": "[encoded data removed]",
      "text/plain": [
       "<Figure size 1080x576 with 1 Axes>"
      ]
     },
     "metadata": {
      "needs_background": "light"
     },
     "output_type": "display_data"
    }
   ],
   "source": [
    "#  Evaluate the model performance\n",
    "print('confusion_matrix is : ')\n",
    "cm_2 = metrics.confusion_matrix(y_test, y_pred_dtr) \n",
    "print(cm_2)\n",
    "\n",
    "print('='*100)\n",
    "\n",
    "accuracy_2 = metrics.accuracy_score(y_test, y_pred_dtr) \n",
    "print(\"Accuracy score:\",accuracy_2*100)\n",
    "\n",
    "precision_2 = metrics.precision_score(y_test, y_pred_dtr) \n",
    "print(\"Precision score:\",precision_2*100)\n",
    "\n",
    "recall_2 = metrics.recall_score(y_test, y_pred_dtr) \n",
    "print(\"Recall score:\",recall_2*100)\n",
    "\n",
    "f1_2 = metrics.f1_score(y_test,y_pred_dtr) \n",
    "print(\"F1 score:\",f1_2*100)\n",
    "\n",
    "roc_auc_2 = roc_auc_score(y_test, predictions_dtr_test)\n",
    "print('roc_auc_score_2 : ', roc_auc_2*100)\n",
    "\n",
    "print('='*100)\n",
    "\n",
    " # Checking the summary of classification\n",
    "print('classification_report is : ')\n",
    "print(classification_report(y_test, predictions_dtr_test, target_names = ['NO', 'YES']))\n",
    "\n",
    "print('='*100)\n",
    "\n",
    "# calculate ROC\n",
    "FPR, TPR, LRM = roc_curve(y_train, predictions_dtr_train)\n",
    "FPR1, TPR1, LRM = roc_curve(y_test,predictions_dtr_test)\n",
    "print(FPR, TPR, LRM)\n",
    "print(FPR1, TPR1, LRM)\n",
    "\n",
    "print('='*100)\n",
    "\n",
    "# calculate AUC\n",
    "auc_train_dtr = auc(FPR, TPR)\n",
    "print('Train AUC: %0.3f' % auc_train_dtr)\n",
    "\n",
    "auc_test_dtr = auc(FPR1, TPR1)\n",
    "print('Test AUC: %0.3f' % auc_test_dtr)\n",
    "\n",
    "print('='*100)\n",
    "\n",
    "# plot the ROC curve\n",
    "plt.figure(figsize=(15,8))\n",
    "plt.plot(FPR, TPR, label = 'Train AUC: %0.3f'%auc_train_dtr)\n",
    "plt.plot(FPR1, TPR1, label = 'Test AUC: %0.3f'%auc_test_dtr)\n",
    "\n",
    "plt.plot([1,0],[1,0], ls = '--', color = 'blue', lw = 0.90)\n",
    "\n",
    "plt.title('ROC Curve')\n",
    "plt.legend()\n",
    "plt.show();"
   ]
  },
  {
   "cell_type": "markdown",
   "metadata": {},
   "source": [
    "## Hyper-parameters:"
   ]
  },
  {
   "cell_type": "code",
   "execution_count": 54,
   "metadata": {},
   "outputs": [
    {
     "data": {
      "text/plain": [
       "GridSearchCV(cv=5, estimator=DecisionTreeClassifier(), n_jobs=-1,\n",
       "             param_grid=[{'max_depth': [2, 3, 5, 10],\n",
       "                          'min_samples_leaf': [5, 10, 20, 50]}],\n",
       "             scoring='roc_auc')"
      ]
     },
     "execution_count": 54,
     "metadata": {},
     "output_type": "execute_result"
    }
   ],
   "source": [
    "\n",
    "dtr = DecisionTreeClassifier()\n",
    "tuned_parameters=[{'max_depth':[2,3,5,10],'min_samples_leaf':[5,10,20,50]}]\n",
    "DTR=GridSearchCV( DecisionTreeClassifier(),tuned_parameters,scoring='roc_auc',cv=5,n_jobs=-1)\n",
    "DTR.fit(X_train,y_train)\n"
   ]
  },
  {
   "cell_type": "code",
   "execution_count": 55,
   "metadata": {},
   "outputs": [
    {
     "data": {
      "text/html": [
       "<div>\n",
       "<style scoped>\n",
       "    .dataframe tbody tr th:only-of-type {\n",
       "        vertical-align: middle;\n",
       "    }\n",
       "\n",
       "    .dataframe tbody tr th {\n",
       "        vertical-align: top;\n",
       "    }\n",
       "\n",
       "    .dataframe thead th {\n",
       "        text-align: right;\n",
       "    }\n",
       "</style>\n",
       "<table border=\"1\" class=\"dataframe\">\n",
       "  <thead>\n",
       "    <tr style=\"text-align: right;\">\n",
       "      <th></th>\n",
       "      <th>mean_fit_time</th>\n",
       "      <th>std_fit_time</th>\n",
       "      <th>mean_score_time</th>\n",
       "      <th>std_score_time</th>\n",
       "      <th>param_max_depth</th>\n",
       "      <th>param_min_samples_leaf</th>\n",
       "      <th>params</th>\n",
       "      <th>split0_test_score</th>\n",
       "      <th>split1_test_score</th>\n",
       "      <th>split2_test_score</th>\n",
       "      <th>split3_test_score</th>\n",
       "      <th>split4_test_score</th>\n",
       "      <th>mean_test_score</th>\n",
       "      <th>std_test_score</th>\n",
       "      <th>rank_test_score</th>\n",
       "    </tr>\n",
       "  </thead>\n",
       "  <tbody>\n",
       "    <tr>\n",
       "      <th>0</th>\n",
       "      <td>0.036977</td>\n",
       "      <td>0.006926</td>\n",
       "      <td>0.029584</td>\n",
       "      <td>0.004314</td>\n",
       "      <td>2</td>\n",
       "      <td>5</td>\n",
       "      <td>{'max_depth': 2, 'min_samples_leaf': 5}</td>\n",
       "      <td>0.55893</td>\n",
       "      <td>0.565183</td>\n",
       "      <td>0.552612</td>\n",
       "      <td>0.561213</td>\n",
       "      <td>0.585127</td>\n",
       "      <td>0.564613</td>\n",
       "      <td>0.011037</td>\n",
       "      <td>10</td>\n",
       "    </tr>\n",
       "    <tr>\n",
       "      <th>1</th>\n",
       "      <td>0.048371</td>\n",
       "      <td>0.013521</td>\n",
       "      <td>0.038779</td>\n",
       "      <td>0.015057</td>\n",
       "      <td>2</td>\n",
       "      <td>10</td>\n",
       "      <td>{'max_depth': 2, 'min_samples_leaf': 10}</td>\n",
       "      <td>0.55893</td>\n",
       "      <td>0.565183</td>\n",
       "      <td>0.552612</td>\n",
       "      <td>0.561213</td>\n",
       "      <td>0.585127</td>\n",
       "      <td>0.564613</td>\n",
       "      <td>0.011037</td>\n",
       "      <td>10</td>\n",
       "    </tr>\n",
       "    <tr>\n",
       "      <th>2</th>\n",
       "      <td>0.043975</td>\n",
       "      <td>0.008069</td>\n",
       "      <td>0.024786</td>\n",
       "      <td>0.011171</td>\n",
       "      <td>2</td>\n",
       "      <td>20</td>\n",
       "      <td>{'max_depth': 2, 'min_samples_leaf': 20}</td>\n",
       "      <td>0.55893</td>\n",
       "      <td>0.565183</td>\n",
       "      <td>0.552612</td>\n",
       "      <td>0.561213</td>\n",
       "      <td>0.585127</td>\n",
       "      <td>0.564613</td>\n",
       "      <td>0.011037</td>\n",
       "      <td>10</td>\n",
       "    </tr>\n",
       "    <tr>\n",
       "      <th>3</th>\n",
       "      <td>0.038578</td>\n",
       "      <td>0.017294</td>\n",
       "      <td>0.032781</td>\n",
       "      <td>0.017557</td>\n",
       "      <td>2</td>\n",
       "      <td>50</td>\n",
       "      <td>{'max_depth': 2, 'min_samples_leaf': 50}</td>\n",
       "      <td>0.55893</td>\n",
       "      <td>0.570265</td>\n",
       "      <td>0.552612</td>\n",
       "      <td>0.561213</td>\n",
       "      <td>0.585127</td>\n",
       "      <td>0.565629</td>\n",
       "      <td>0.011274</td>\n",
       "      <td>9</td>\n",
       "    </tr>\n",
       "    <tr>\n",
       "      <th>4</th>\n",
       "      <td>0.051770</td>\n",
       "      <td>0.019373</td>\n",
       "      <td>0.025187</td>\n",
       "      <td>0.009698</td>\n",
       "      <td>3</td>\n",
       "      <td>5</td>\n",
       "      <td>{'max_depth': 3, 'min_samples_leaf': 5}</td>\n",
       "      <td>0.56933</td>\n",
       "      <td>0.567977</td>\n",
       "      <td>0.571589</td>\n",
       "      <td>0.559243</td>\n",
       "      <td>0.575255</td>\n",
       "      <td>0.568679</td>\n",
       "      <td>0.005323</td>\n",
       "      <td>7</td>\n",
       "    </tr>\n",
       "  </tbody>\n",
       "</table>\n",
       "</div>"
      ],
      "text/plain": [
       "   mean_fit_time  std_fit_time  mean_score_time  std_score_time  \\\n",
       "0       0.036977      0.006926         0.029584        0.004314   \n",
       "1       0.048371      0.013521         0.038779        0.015057   \n",
       "2       0.043975      0.008069         0.024786        0.011171   \n",
       "3       0.038578      0.017294         0.032781        0.017557   \n",
       "4       0.051770      0.019373         0.025187        0.009698   \n",
       "\n",
       "  param_max_depth param_min_samples_leaf  \\\n",
       "0               2                      5   \n",
       "1               2                     10   \n",
       "2               2                     20   \n",
       "3               2                     50   \n",
       "4               3                      5   \n",
       "\n",
       "                                     params  split0_test_score  \\\n",
       "0   {'max_depth': 2, 'min_samples_leaf': 5}            0.55893   \n",
       "1  {'max_depth': 2, 'min_samples_leaf': 10}            0.55893   \n",
       "2  {'max_depth': 2, 'min_samples_leaf': 20}            0.55893   \n",
       "3  {'max_depth': 2, 'min_samples_leaf': 50}            0.55893   \n",
       "4   {'max_depth': 3, 'min_samples_leaf': 5}            0.56933   \n",
       "\n",
       "   split1_test_score  split2_test_score  split3_test_score  split4_test_score  \\\n",
       "0           0.565183           0.552612           0.561213           0.585127   \n",
       "1           0.565183           0.552612           0.561213           0.585127   \n",
       "2           0.565183           0.552612           0.561213           0.585127   \n",
       "3           0.570265           0.552612           0.561213           0.585127   \n",
       "4           0.567977           0.571589           0.559243           0.575255   \n",
       "\n",
       "   mean_test_score  std_test_score  rank_test_score  \n",
       "0         0.564613        0.011037               10  \n",
       "1         0.564613        0.011037               10  \n",
       "2         0.564613        0.011037               10  \n",
       "3         0.565629        0.011274                9  \n",
       "4         0.568679        0.005323                7  "
      ]
     },
     "execution_count": 55,
     "metadata": {},
     "output_type": "execute_result"
    }
   ],
   "source": [
    "cv_results_dtr=pd.DataFrame(DTR.cv_results_)\n",
    "cv_results_dtr.head()\n"
   ]
  },
  {
   "cell_type": "code",
   "execution_count": 56,
   "metadata": {},
   "outputs": [
    {
     "name": "stdout",
     "output_type": "stream",
     "text": [
      "Best_Score is : 59.86163718604052\n",
      "====================================================================================================\n",
      "best_score :  57.364029542808545\n",
      "best_params :  {'max_depth': 5, 'min_samples_leaf': 50}\n",
      "best_estimator :  DecisionTreeClassifier(max_depth=5, min_samples_leaf=50)\n",
      "====================================================================================================\n",
      "classification_report is : \n",
      "              precision    recall  f1-score   support\n",
      "\n",
      "           0       0.56      0.42      0.48       710\n",
      "           1       0.56      0.70      0.63       766\n",
      "\n",
      "    accuracy                           0.56      1476\n",
      "   macro avg       0.56      0.56      0.55      1476\n",
      "weighted avg       0.56      0.56      0.55      1476\n",
      "\n",
      "====================================================================================================\n",
      "Accuracy score: 56.36856368563685\n",
      "Precision score: 56.40756302521008\n",
      "Recall score: 70.10443864229765\n",
      "F1 score: 62.514551804423746\n",
      "roc_auc_score_3 :  55.82686720847278\n"
     ]
    }
   ],
   "source": [
    "#The accuracy of the model with the best parameters\n",
    "dtr_score=DTR.score(X_test, y_test)\n",
    "print(\"Best_Score is :\" ,DTR.score(X_test, y_test)*100)\n",
    "\n",
    "print('='*100)\n",
    "\n",
    "dtr_score1=DTR.best_score_\n",
    "print(\"best_score : \",dtr_score1*100)\n",
    "print(\"best_params : \",DTR.best_params_)\n",
    "print(\"best_estimator : \",DTR.best_estimator_)\n",
    "\n",
    "print('='*100)\n",
    "\n",
    "# Checking the summary of classification\n",
    "print('classification_report is : ')\n",
    "y_pred = DTR.predict(X_test)\n",
    "print(classification_report(y_test, y_pred))\n",
    "\n",
    "print('='*100)\n",
    "\n",
    "hyper_accuracy_2 = metrics.accuracy_score(y_test, y_pred) \n",
    "print(\"Accuracy score:\",hyper_accuracy_2*100)\n",
    "\n",
    "hyper_precision_2 = metrics.precision_score(y_test, y_pred) \n",
    "print(\"Precision score:\",hyper_precision_2*100)\n",
    "\n",
    "hyper_recall_2 = metrics.recall_score(y_test, y_pred) \n",
    "print(\"Recall score:\",hyper_recall_2*100)\n",
    "\n",
    "hyper_f1_2 = metrics.f1_score(y_test, y_pred)\n",
    "print(\"F1 score:\",hyper_f1_2*100)\n",
    "\n",
    "# roc auc score for test data\n",
    "hyper_roc_auc_2 = roc_auc_score(y_test, y_pred)\n",
    "print('roc_auc_score_3 : ', hyper_roc_auc_2*100)\n"
   ]
  },
  {
   "cell_type": "markdown",
   "metadata": {},
   "source": [
    "## Feature selection:"
   ]
  },
  {
   "cell_type": "code",
   "execution_count": 57,
   "metadata": {},
   "outputs": [
    {
     "name": "stdout",
     "output_type": "stream",
     "text": [
      "X_test.shape: (1476, 18)\n",
      "X_test_transform_Tree.shape: (1476, 3)\n",
      "====================================================================================================\n",
      "Scoree with all features: 0.541\n",
      "Scoree with selected features: 1.000\n",
      "====================================================================================================\n",
      "Num Features: 3\n",
      "Selected Features: [ True False False False  True False False False False  True False False\n",
      " False False False False False False]\n",
      "Feature Ranking: [ 1  5 10  2  1 13  9  4  3  1  6  8  7 11 12 14 15 16]\n"
     ]
    }
   ],
   "source": [
    "rfe_dtr = RFE(classifier_2,n_features_to_select=3)\n",
    "rfe_fit_dtr = rfe_dtr.fit(X_train,y_train)\n",
    "X_test_transform_dtr = rfe_fit_dtr.transform(X_test)\n",
    "\n",
    "print(\"X_test.shape: {}\".format(X_test.shape))\n",
    "print(\"X_test_transform_Tree.shape: {}\".format(X_test_transform_dtr.shape))\n",
    "\n",
    "print(\"=\"*100)\n",
    "\n",
    "classifier_2.fit(X_train,y_train)\n",
    "print(\"Scoree with all features: {:,.3f}\".format(classifier_2.score(X_test,y_test)))\n",
    "classifier_2.fit(X_test_transform_dtr,y_test)\n",
    "print(\"Scoree with selected features: {:,.3f}\".format(classifier_2.score(X_test_transform_dtr,y_test)))\n",
    "\n",
    "print(\"=\"*100)\n",
    "\n",
    "print(\"Num Features: %d\" % rfe_fit_dtr.n_features_)\n",
    "print(\"Selected Features: %s\" % rfe_fit_dtr.support_)\n",
    "print(\"Feature Ranking: %s\" % rfe_fit_dtr.ranking_)\n"
   ]
  },
  {
   "cell_type": "code",
   "execution_count": null,
   "metadata": {},
   "outputs": [],
   "source": [
    "a2=classifier_2.score(X_test,y_test)\n",
    "print(\"Scoree with all features: {:,.3f}\".format(classifier_2.score(X_test,y_test)))\n",
    "b2=classifier_2.score(X_test_transform_dtr,y_test)\n",
    "print(\"Scoree with selected features: {:,.3f}\".format(classifier_2.score(X_test_transform_dtr,y_test)))"
   ]
  },
  {
   "cell_type": "code",
   "execution_count": null,
   "metadata": {},
   "outputs": [],
   "source": []
  },
  {
   "cell_type": "code",
   "execution_count": null,
   "metadata": {},
   "outputs": [],
   "source": []
  },
  {
   "cell_type": "markdown",
   "metadata": {},
   "source": [
    "## 3.Random Forest Algorithm"
   ]
  },
  {
   "cell_type": "code",
   "execution_count": 58,
   "metadata": {},
   "outputs": [
    {
     "data": {
      "text/plain": [
       "RandomForestClassifier(criterion='entropy', random_state=0)"
      ]
     },
     "execution_count": 58,
     "metadata": {},
     "output_type": "execute_result"
    }
   ],
   "source": [
    "#  Fit Classifier\n",
    "\n",
    "classifier_3 = RandomForestClassifier(n_estimators=100, criterion=\"entropy\", random_state=0)\n",
    "classifier_3.fit(X_train, y_train)\n"
   ]
  },
  {
   "cell_type": "code",
   "execution_count": 59,
   "metadata": {},
   "outputs": [
    {
     "data": {
      "text/plain": [
       "{'bootstrap': True,\n",
       " 'ccp_alpha': 0.0,\n",
       " 'class_weight': None,\n",
       " 'criterion': 'entropy',\n",
       " 'max_depth': None,\n",
       " 'max_features': 'auto',\n",
       " 'max_leaf_nodes': None,\n",
       " 'max_samples': None,\n",
       " 'min_impurity_decrease': 0.0,\n",
       " 'min_impurity_split': None,\n",
       " 'min_samples_leaf': 1,\n",
       " 'min_samples_split': 2,\n",
       " 'min_weight_fraction_leaf': 0.0,\n",
       " 'n_estimators': 100,\n",
       " 'n_jobs': None,\n",
       " 'oob_score': False,\n",
       " 'random_state': 0,\n",
       " 'verbose': 0,\n",
       " 'warm_start': False}"
      ]
     },
     "execution_count": 59,
     "metadata": {},
     "output_type": "execute_result"
    }
   ],
   "source": [
    "# parameters\n",
    "classifier_3.get_params(deep=True)"
   ]
  },
  {
   "cell_type": "code",
   "execution_count": 60,
   "metadata": {},
   "outputs": [
    {
     "name": "stdout",
     "output_type": "stream",
     "text": [
      "Train_Score :  100.0\n",
      "Train_Score :  54.607046070460704\n"
     ]
    }
   ],
   "source": [
    "\n",
    "#  Predict\n",
    "y_pred_rfr = classifier_3.predict(X_test)\n",
    "\n",
    "# Generate predictions\n",
    "predictions_rfr_train =classifier_3.predict(X_train)\n",
    "predictions_rfr_test= classifier_3.predict(X_test)\n",
    "\n",
    "#ACCURACY = TRAIN DATA SCORE \n",
    "train_Acc_3=classifier_3.score(X_train,y_train)          \n",
    "print('Train_Score : ',train_Acc_3*100)\n",
    "\n",
    "#ACCURACY = TEST DATA SCORE \n",
    "Acc_3=classifier_3.score(X_test, y_test) \n",
    "print('Train_Score : ',Acc_3*100)\n"
   ]
  },
  {
   "cell_type": "code",
   "execution_count": 61,
   "metadata": {},
   "outputs": [
    {
     "name": "stdout",
     "output_type": "stream",
     "text": [
      "confusion_matrix is : \n",
      "[[400 310]\n",
      " [360 406]]\n",
      "====================================================================================================\n",
      "Accuracy score: 54.607046070460704\n",
      "Precision score: 56.70391061452514\n",
      "Recall score: 53.00261096605744\n",
      "F1 score: 54.79082321187584\n",
      "roc_auc_score_3 :  54.67031956753576\n",
      "====================================================================================================\n",
      "classification_report is : \n",
      "              precision    recall  f1-score   support\n",
      "\n",
      "          NO       0.53      0.56      0.54       710\n",
      "         YES       0.57      0.53      0.55       766\n",
      "\n",
      "    accuracy                           0.55      1476\n",
      "   macro avg       0.55      0.55      0.55      1476\n",
      "weighted avg       0.55      0.55      0.55      1476\n",
      "\n",
      "====================================================================================================\n",
      "[0. 0. 1.] [0. 1. 1.] [2 1 0]\n",
      "[0.         0.43661972 1.        ] [0.         0.53002611 1.        ] [2 1 0]\n",
      "====================================================================================================\n",
      "Train AUC: 1.000\n",
      "Test AUC: 0.547\n",
      "====================================================================================================\n"
     ]
    },
    {
     "data": {
      "image/png": "[encoded data removed]",
      "text/plain": [
       "<Figure size 1080x576 with 1 Axes>"
      ]
     },
     "metadata": {
      "needs_background": "light"
     },
     "output_type": "display_data"
    }
   ],
   "source": [
    "#  Evaluate the model performance\n",
    "print('confusion_matrix is : ')\n",
    "cm_3 = metrics.confusion_matrix(y_test, y_pred_rfr) \n",
    "print(cm_3)\n",
    "\n",
    "print('='*100)\n",
    "\n",
    "accuracy_3 = metrics.accuracy_score(y_test,y_pred_rfr) \n",
    "print(\"Accuracy score:\",accuracy_3*100)\n",
    "\n",
    "precision_3 = metrics.precision_score(y_test,y_pred_rfr) \n",
    "print(\"Precision score:\",precision_3*100)\n",
    "\n",
    "recall_3 = metrics.recall_score(y_test,y_pred_rfr) \n",
    "print(\"Recall score:\",recall_3*100)\n",
    "\n",
    "f1_3 = metrics.f1_score(y_test,y_pred_rfr) \n",
    "print(\"F1 score:\",f1_3*100)\n",
    "\n",
    "roc_auc_3 = roc_auc_score(y_test, predictions_rfr_test)\n",
    "print('roc_auc_score_3 : ', roc_auc_3*100)\n",
    "\n",
    "print('='*100)\n",
    "\n",
    " # Checking the summary of classification\n",
    "print('classification_report is : ')\n",
    "print(classification_report(y_test,predictions_rfr_test, target_names = ['NO', 'YES']))\n",
    "\n",
    "print('='*100)\n",
    "\n",
    "# calculate ROC\n",
    "FPR, TPR, LRM = roc_curve(y_train, predictions_rfr_train)\n",
    "FPR1, TPR1, LRM = roc_curve(y_test,predictions_rfr_test)\n",
    "print(FPR, TPR, LRM)\n",
    "print(FPR1, TPR1, LRM)\n",
    "\n",
    "print('='*100)\n",
    "\n",
    "# calculate AUC\n",
    "auc_train_rfr = auc(FPR, TPR)\n",
    "print('Train AUC: %0.3f' % auc_train_rfr)\n",
    "\n",
    "auc_test_rfr = auc(FPR1, TPR1)\n",
    "print('Test AUC: %0.3f' % auc_test_rfr)\n",
    "\n",
    "print('='*100)\n",
    "\n",
    "# plot the ROC curve\n",
    "plt.figure(figsize=(15,8))\n",
    "plt.plot(FPR, TPR, label = 'Train AUC: %0.3f'%auc_train_rfr)\n",
    "plt.plot(FPR1, TPR1, label = 'Test AUC: %0.3f'%auc_test_rfr)\n",
    "\n",
    "plt.plot([1,0],[1,0], ls = '--', color = 'blue', lw = 0.90)\n",
    "\n",
    "plt.title('ROC Curve')\n",
    "plt.legend()\n",
    "plt.show();"
   ]
  },
  {
   "cell_type": "markdown",
   "metadata": {},
   "source": [
    "## Hyper-parameters:"
   ]
  },
  {
   "cell_type": "code",
   "execution_count": 62,
   "metadata": {},
   "outputs": [
    {
     "data": {
      "text/plain": [
       "GridSearchCV(cv=5,\n",
       "             estimator=RandomForestClassifier(criterion='entropy',\n",
       "                                              random_state=0),\n",
       "             param_grid=[{'max_features': [1, 2, 3],\n",
       "                          'n_estimators': [20, 50, 100]}],\n",
       "             scoring='roc_auc')"
      ]
     },
     "execution_count": 62,
     "metadata": {},
     "output_type": "execute_result"
    }
   ],
   "source": [
    "\n",
    "rfr = RandomForestClassifier(n_estimators=100, criterion=\"entropy\", random_state=0)\n",
    "tuned_parameters=[{'n_estimators':[20,50,100],'max_features':[1,2,3]}]\n",
    "RFR=GridSearchCV(RandomForestClassifier(n_estimators=100, criterion=\"entropy\", random_state=0),tuned_parameters,scoring='roc_auc',cv=5)\n",
    "RFR.fit(X_train,y_train)"
   ]
  },
  {
   "cell_type": "code",
   "execution_count": 63,
   "metadata": {},
   "outputs": [
    {
     "data": {
      "text/html": [
       "<div>\n",
       "<style scoped>\n",
       "    .dataframe tbody tr th:only-of-type {\n",
       "        vertical-align: middle;\n",
       "    }\n",
       "\n",
       "    .dataframe tbody tr th {\n",
       "        vertical-align: top;\n",
       "    }\n",
       "\n",
       "    .dataframe thead th {\n",
       "        text-align: right;\n",
       "    }\n",
       "</style>\n",
       "<table border=\"1\" class=\"dataframe\">\n",
       "  <thead>\n",
       "    <tr style=\"text-align: right;\">\n",
       "      <th></th>\n",
       "      <th>mean_fit_time</th>\n",
       "      <th>std_fit_time</th>\n",
       "      <th>mean_score_time</th>\n",
       "      <th>std_score_time</th>\n",
       "      <th>param_max_features</th>\n",
       "      <th>param_n_estimators</th>\n",
       "      <th>params</th>\n",
       "      <th>split0_test_score</th>\n",
       "      <th>split1_test_score</th>\n",
       "      <th>split2_test_score</th>\n",
       "      <th>split3_test_score</th>\n",
       "      <th>split4_test_score</th>\n",
       "      <th>mean_test_score</th>\n",
       "      <th>std_test_score</th>\n",
       "      <th>rank_test_score</th>\n",
       "    </tr>\n",
       "  </thead>\n",
       "  <tbody>\n",
       "    <tr>\n",
       "      <th>0</th>\n",
       "      <td>0.318632</td>\n",
       "      <td>0.015850</td>\n",
       "      <td>0.031194</td>\n",
       "      <td>0.005309</td>\n",
       "      <td>1</td>\n",
       "      <td>20</td>\n",
       "      <td>{'max_features': 1, 'n_estimators': 20}</td>\n",
       "      <td>0.575714</td>\n",
       "      <td>0.508685</td>\n",
       "      <td>0.569087</td>\n",
       "      <td>0.532802</td>\n",
       "      <td>0.538111</td>\n",
       "      <td>0.544880</td>\n",
       "      <td>0.024652</td>\n",
       "      <td>9</td>\n",
       "    </tr>\n",
       "    <tr>\n",
       "      <th>1</th>\n",
       "      <td>0.691593</td>\n",
       "      <td>0.036032</td>\n",
       "      <td>0.054132</td>\n",
       "      <td>0.006666</td>\n",
       "      <td>1</td>\n",
       "      <td>50</td>\n",
       "      <td>{'max_features': 1, 'n_estimators': 50}</td>\n",
       "      <td>0.571500</td>\n",
       "      <td>0.526595</td>\n",
       "      <td>0.561610</td>\n",
       "      <td>0.535287</td>\n",
       "      <td>0.550317</td>\n",
       "      <td>0.549062</td>\n",
       "      <td>0.016474</td>\n",
       "      <td>7</td>\n",
       "    </tr>\n",
       "    <tr>\n",
       "      <th>2</th>\n",
       "      <td>1.343834</td>\n",
       "      <td>0.087475</td>\n",
       "      <td>0.089229</td>\n",
       "      <td>0.010677</td>\n",
       "      <td>1</td>\n",
       "      <td>100</td>\n",
       "      <td>{'max_features': 1, 'n_estimators': 100}</td>\n",
       "      <td>0.574062</td>\n",
       "      <td>0.536776</td>\n",
       "      <td>0.560440</td>\n",
       "      <td>0.532079</td>\n",
       "      <td>0.543842</td>\n",
       "      <td>0.549440</td>\n",
       "      <td>0.015623</td>\n",
       "      <td>6</td>\n",
       "    </tr>\n",
       "    <tr>\n",
       "      <th>3</th>\n",
       "      <td>0.252257</td>\n",
       "      <td>0.032175</td>\n",
       "      <td>0.023994</td>\n",
       "      <td>0.002531</td>\n",
       "      <td>2</td>\n",
       "      <td>20</td>\n",
       "      <td>{'max_features': 2, 'n_estimators': 20}</td>\n",
       "      <td>0.565672</td>\n",
       "      <td>0.569090</td>\n",
       "      <td>0.536796</td>\n",
       "      <td>0.569045</td>\n",
       "      <td>0.533395</td>\n",
       "      <td>0.554800</td>\n",
       "      <td>0.016172</td>\n",
       "      <td>5</td>\n",
       "    </tr>\n",
       "    <tr>\n",
       "      <th>4</th>\n",
       "      <td>0.590730</td>\n",
       "      <td>0.027817</td>\n",
       "      <td>0.043187</td>\n",
       "      <td>0.003919</td>\n",
       "      <td>2</td>\n",
       "      <td>50</td>\n",
       "      <td>{'max_features': 2, 'n_estimators': 50}</td>\n",
       "      <td>0.565019</td>\n",
       "      <td>0.574501</td>\n",
       "      <td>0.549328</td>\n",
       "      <td>0.562718</td>\n",
       "      <td>0.541877</td>\n",
       "      <td>0.558688</td>\n",
       "      <td>0.011633</td>\n",
       "      <td>3</td>\n",
       "    </tr>\n",
       "  </tbody>\n",
       "</table>\n",
       "</div>"
      ],
      "text/plain": [
       "   mean_fit_time  std_fit_time  mean_score_time  std_score_time  \\\n",
       "0       0.318632      0.015850         0.031194        0.005309   \n",
       "1       0.691593      0.036032         0.054132        0.006666   \n",
       "2       1.343834      0.087475         0.089229        0.010677   \n",
       "3       0.252257      0.032175         0.023994        0.002531   \n",
       "4       0.590730      0.027817         0.043187        0.003919   \n",
       "\n",
       "  param_max_features param_n_estimators  \\\n",
       "0                  1                 20   \n",
       "1                  1                 50   \n",
       "2                  1                100   \n",
       "3                  2                 20   \n",
       "4                  2                 50   \n",
       "\n",
       "                                     params  split0_test_score  \\\n",
       "0   {'max_features': 1, 'n_estimators': 20}           0.575714   \n",
       "1   {'max_features': 1, 'n_estimators': 50}           0.571500   \n",
       "2  {'max_features': 1, 'n_estimators': 100}           0.574062   \n",
       "3   {'max_features': 2, 'n_estimators': 20}           0.565672   \n",
       "4   {'max_features': 2, 'n_estimators': 50}           0.565019   \n",
       "\n",
       "   split1_test_score  split2_test_score  split3_test_score  split4_test_score  \\\n",
       "0           0.508685           0.569087           0.532802           0.538111   \n",
       "1           0.526595           0.561610           0.535287           0.550317   \n",
       "2           0.536776           0.560440           0.532079           0.543842   \n",
       "3           0.569090           0.536796           0.569045           0.533395   \n",
       "4           0.574501           0.549328           0.562718           0.541877   \n",
       "\n",
       "   mean_test_score  std_test_score  rank_test_score  \n",
       "0         0.544880        0.024652                9  \n",
       "1         0.549062        0.016474                7  \n",
       "2         0.549440        0.015623                6  \n",
       "3         0.554800        0.016172                5  \n",
       "4         0.558688        0.011633                3  "
      ]
     },
     "execution_count": 63,
     "metadata": {},
     "output_type": "execute_result"
    }
   ],
   "source": [
    "cv_results_rfr=pd.DataFrame(RFR.cv_results_)\n",
    "cv_results_rfr.head()"
   ]
  },
  {
   "cell_type": "code",
   "execution_count": 64,
   "metadata": {},
   "outputs": [
    {
     "name": "stdout",
     "output_type": "stream",
     "text": [
      "Best_Score is : 56.63360055896738\n",
      "====================================================================================================\n",
      "best_score :  56.35434135570867\n",
      "best_params :  {'max_features': 3, 'n_estimators': 100}\n",
      "best_estimator :  RandomForestClassifier(criterion='entropy', max_features=3, random_state=0)\n",
      "====================================================================================================\n",
      "classification_report is : \n",
      "              precision    recall  f1-score   support\n",
      "\n",
      "           0       0.52      0.54      0.53       710\n",
      "           1       0.55      0.53      0.54       766\n",
      "\n",
      "    accuracy                           0.54      1476\n",
      "   macro avg       0.54      0.54      0.54      1476\n",
      "weighted avg       0.54      0.54      0.54      1476\n",
      "\n",
      "====================================================================================================\n",
      "Accuracy score: 53.5230352303523\n",
      "Precision score: 55.434782608695656\n",
      "Recall score: 53.26370757180157\n",
      "F1 score: 54.32756324900133\n",
      "roc_auc_score_3 :  53.533262236605005\n"
     ]
    }
   ],
   "source": [
    "#The accuracy of the model with the best parameters\n",
    "rfr_score=RFR.score(X_test, y_test)\n",
    "print(\"Best_Score is :\" ,rfr_score*100)\n",
    "\n",
    "print('='*100)\n",
    "\n",
    "rfr_score1=RFR.best_score_\n",
    "print(\"best_score : \",rfr_score1*100)\n",
    "print(\"best_params : \",RFR.best_params_)\n",
    "print(\"best_estimator : \",RFR.best_estimator_)\n",
    "\n",
    "print('='*100)\n",
    "\n",
    "# Checking the summary of classification\n",
    "print('classification_report is : ')\n",
    "y_pred = RFR.predict(X_test)\n",
    "print(classification_report(y_test, y_pred))\n",
    "\n",
    "print('='*100)\n",
    "\n",
    "hyper_accuracy_3 = metrics.accuracy_score(y_test, y_pred) \n",
    "print(\"Accuracy score:\",hyper_accuracy_3*100)\n",
    "\n",
    "hyper_precision_3 = metrics.precision_score(y_test, y_pred) \n",
    "print(\"Precision score:\",hyper_precision_3*100)\n",
    "\n",
    "hyper_recall_3 = metrics.recall_score(y_test, y_pred) \n",
    "print(\"Recall score:\",hyper_recall_3*100)\n",
    "\n",
    "hyper_f1_3 = metrics.f1_score(y_test, y_pred)\n",
    "print(\"F1 score:\",hyper_f1_3*100)\n",
    "\n",
    "# roc auc score for test data\n",
    "hyper_roc_auc_3 = roc_auc_score(y_test, y_pred)\n",
    "print('roc_auc_score_3 : ', hyper_roc_auc_3*100)\n"
   ]
  },
  {
   "cell_type": "markdown",
   "metadata": {},
   "source": [
    "## Feature selection:"
   ]
  },
  {
   "cell_type": "code",
   "execution_count": 65,
   "metadata": {},
   "outputs": [
    {
     "name": "stdout",
     "output_type": "stream",
     "text": [
      "x_test.shape: (1476, 18)\n",
      "X_test_transform_Random.shape: (1476, 18)\n",
      "====================================================================================================\n",
      "Scoree with all features: 0.546\n",
      "Scoree with selected features: 1.000\n",
      "====================================================================================================\n",
      "Num Features: 18\n",
      "Selected Features: [ True  True  True  True  True  True  True  True  True  True  True  True\n",
      "  True  True  True  True  True  True]\n",
      "Feature Ranking: [1 1 1 1 1 1 1 1 1 1 1 1 1 1 1 1 1 1]\n"
     ]
    }
   ],
   "source": [
    "\n",
    "rfe_rfr = RFE(classifier_3,n_features_to_select=53)\n",
    "rfe_fit_rfr = rfe_rfr.fit(X_train,y_train)\n",
    "X_test_transform_rfr = rfe_fit_rfr.transform(X_test)\n",
    "\n",
    "print(\"x_test.shape: {}\".format(X_test.shape))\n",
    "print(\"X_test_transform_Random.shape: {}\".format(X_test_transform_rfr.shape))\n",
    "\n",
    "print('='*100)\n",
    "\n",
    "classifier_3.fit(X_train,y_train)\n",
    "print(\"Scoree with all features: {:,.3f}\".format(classifier_3.score(X_test,y_test)))\n",
    "classifier_3.fit(X_test_transform_rfr,y_test)\n",
    "print(\"Scoree with selected features: {:,.3f}\".format(classifier_3.score(X_test_transform_rfr,y_test)))\n",
    "\n",
    "print('='*100)\n",
    "\n",
    "print(\"Num Features: %d\" % rfe_fit_rfr.n_features_)\n",
    "print(\"Selected Features: %s\" % rfe_fit_rfr.support_)\n",
    "print(\"Feature Ranking: %s\" % rfe_fit_rfr.ranking_)\n"
   ]
  },
  {
   "cell_type": "code",
   "execution_count": 66,
   "metadata": {},
   "outputs": [
    {
     "name": "stdout",
     "output_type": "stream",
     "text": [
      "Scoree with all features: 1.000\n",
      "Scoree with selected features: 1.000\n"
     ]
    }
   ],
   "source": [
    "a3=classifier_3.score(X_test,y_test)\n",
    "print(\"Scoree with all features: {:,.3f}\".format(classifier_3.score(X_test,y_test)))\n",
    "b3=classifier_3.score(X_test_transform_rfr,y_test)\n",
    "print(\"Scoree with selected features: {:,.3f}\".format(classifier_3.score(X_test_transform_rfr,y_test)))"
   ]
  },
  {
   "cell_type": "code",
   "execution_count": null,
   "metadata": {},
   "outputs": [],
   "source": []
  },
  {
   "cell_type": "code",
   "execution_count": null,
   "metadata": {},
   "outputs": [],
   "source": []
  },
  {
   "cell_type": "markdown",
   "metadata": {},
   "source": [
    "## 4.KNN"
   ]
  },
  {
   "cell_type": "code",
   "execution_count": 67,
   "metadata": {},
   "outputs": [
    {
     "data": {
      "text/plain": [
       "KNeighborsClassifier(n_neighbors=3)"
      ]
     },
     "execution_count": 67,
     "metadata": {},
     "output_type": "execute_result"
    }
   ],
   "source": [
    "# fitting the model\n",
    "\n",
    "classifier_4 = KNeighborsClassifier(n_neighbors=3)\n",
    "classifier_4.fit(X_train, y_train)\n"
   ]
  },
  {
   "cell_type": "code",
   "execution_count": 68,
   "metadata": {},
   "outputs": [
    {
     "data": {
      "text/plain": [
       "{'algorithm': 'auto',\n",
       " 'leaf_size': 30,\n",
       " 'metric': 'minkowski',\n",
       " 'metric_params': None,\n",
       " 'n_jobs': None,\n",
       " 'n_neighbors': 3,\n",
       " 'p': 2,\n",
       " 'weights': 'uniform'}"
      ]
     },
     "execution_count": 68,
     "metadata": {},
     "output_type": "execute_result"
    }
   ],
   "source": [
    "# parameters\n",
    "classifier_4.get_params(deep=True)"
   ]
  },
  {
   "cell_type": "code",
   "execution_count": 69,
   "metadata": {},
   "outputs": [
    {
     "name": "stdout",
     "output_type": "stream",
     "text": [
      "Train_Score :  75.45031958163858\n",
      "Test_Score :  52.710027100271006\n"
     ]
    }
   ],
   "source": [
    "\n",
    "#  Predict\n",
    "y_pred_knn = classifier_4.predict(X_test)\n",
    "\n",
    "# Generate predictions\n",
    "predictions_knn_train =classifier_4.predict(X_train)\n",
    "predictions_knn_test= classifier_4.predict(X_test)\n",
    "\n",
    "#ACCURACY = TRAIN DATA SCORE \n",
    "train_Acc_4=classifier_4.score(X_train,y_train)          \n",
    "print('Train_Score : ',train_Acc_4*100)\n",
    "\n",
    "#ACCURACY = TEST DATA SCORE \n",
    "Acc_4=classifier_4.score(X_test, y_test) \n",
    "print('Test_Score : ',Acc_4*100)\n"
   ]
  },
  {
   "cell_type": "code",
   "execution_count": 70,
   "metadata": {},
   "outputs": [
    {
     "name": "stdout",
     "output_type": "stream",
     "text": [
      "confusion_matrix is : \n",
      "[[390 320]\n",
      " [378 388]]\n",
      "====================================================================================================\n",
      "Accuracy score: 52.710027100271006\n",
      "Precision score: 54.80225988700565\n",
      "Recall score: 50.65274151436031\n",
      "F1 score: 52.645861601085485\n",
      "roc_auc_score_3 :  52.79115948957451\n",
      "====================================================================================================\n",
      "classification_report is : \n",
      "              precision    recall  f1-score   support\n",
      "\n",
      "          NO       0.51      0.55      0.53       710\n",
      "         YES       0.55      0.51      0.53       766\n",
      "\n",
      "    accuracy                           0.53      1476\n",
      "   macro avg       0.53      0.53      0.53      1476\n",
      "weighted avg       0.53      0.53      0.53      1476\n",
      "\n",
      "====================================================================================================\n",
      "[0.         0.22813036 1.        ] [0.         0.73656232 1.        ] [2 1 0]\n",
      "[0.         0.45070423 1.        ] [0.         0.50652742 1.        ] [2 1 0]\n",
      "====================================================================================================\n",
      "Train AUC: 0.754\n",
      "Test AUC: 0.528\n",
      "====================================================================================================\n"
     ]
    },
    {
     "data": {
      "image/png": "[encoded data removed]",
      "text/plain": [
       "<Figure size 1080x576 with 1 Axes>"
      ]
     },
     "metadata": {
      "needs_background": "light"
     },
     "output_type": "display_data"
    }
   ],
   "source": [
    "# Evaluate the model performance\n",
    "print('confusion_matrix is : ')\n",
    "cm_4 = metrics.confusion_matrix(y_test, y_pred_knn) \n",
    "print(cm_4)\n",
    "\n",
    "print('='*100)\n",
    "\n",
    "accuracy_4 = metrics.accuracy_score(y_test,y_pred_knn) \n",
    "print(\"Accuracy score:\",accuracy_4*100)\n",
    "\n",
    "precision_4 = metrics.precision_score(y_test,y_pred_knn) \n",
    "print(\"Precision score:\",precision_4*100)\n",
    "\n",
    "recall_4 = metrics.recall_score(y_test,y_pred_knn) \n",
    "print(\"Recall score:\",recall_4*100)\n",
    "\n",
    "f1_4 = metrics.f1_score(y_test,y_pred_knn) \n",
    "print(\"F1 score:\",f1_4*100)\n",
    "\n",
    "roc_auc_4 = roc_auc_score(y_test, predictions_knn_test)\n",
    "print('roc_auc_score_3 : ', roc_auc_4*100)\n",
    "\n",
    "print('='*100)\n",
    "\n",
    "# Checking the summary of classification\n",
    "print('classification_report is : ')\n",
    "print(classification_report(y_test,predictions_knn_test, target_names = ['NO', 'YES']))\n",
    "\n",
    "print('='*100)\n",
    "\n",
    "# calculate \n",
    "FPR, TPR, LRM = roc_curve(y_train, predictions_knn_train)\n",
    "FPR1, TPR1, LRM = roc_curve(y_test,predictions_knn_test)\n",
    "print(FPR, TPR, LRM)\n",
    "print(FPR1, TPR1, LRM)\n",
    "\n",
    "print('='*100)\n",
    "\n",
    "# calculate AUC\n",
    "auc_train_knn = auc(FPR, TPR)\n",
    "print('Train AUC: %0.3f' % auc_train_knn)\n",
    "\n",
    "auc_test_knn = auc(FPR1, TPR1)\n",
    "print('Test AUC: %0.3f' % auc_test_knn)\n",
    "\n",
    "print('='*100)\n",
    "\n",
    "# plot the ROC curve\n",
    "plt.figure(figsize=(15,8))\n",
    "plt.plot(FPR, TPR, label = 'Train AUC: %0.3f'%auc_train_knn)\n",
    "plt.plot(FPR1, TPR1, label = 'Test AUC: %0.3f'%auc_test_knn)\n",
    "\n",
    "plt.plot([1,0],[1,0], ls = '--', color = 'blue', lw = 0.90)\n",
    "\n",
    "plt.title('ROC Curve')\n",
    "plt.legend()\n",
    "plt.show();"
   ]
  },
  {
   "cell_type": "markdown",
   "metadata": {},
   "source": [
    "## Hyper-parameters:"
   ]
  },
  {
   "cell_type": "code",
   "execution_count": 71,
   "metadata": {},
   "outputs": [
    {
     "data": {
      "text/plain": [
       "GridSearchCV(cv=5, estimator=KNeighborsClassifier(n_neighbors=3), n_jobs=-1,\n",
       "             param_grid=[{'metric': ['canberra', 'euclidean', 'minkowski'],\n",
       "                          'n_neighbors': [3, 20, 2]}],\n",
       "             scoring='roc_auc')"
      ]
     },
     "execution_count": 71,
     "metadata": {},
     "output_type": "execute_result"
    }
   ],
   "source": [
    "\n",
    "knn = KNeighborsClassifier(n_neighbors=3)\n",
    "tuned_parameters=[{'n_neighbors':[3,20,2],'metric':['canberra','euclidean','minkowski']}]\n",
    "KNN=GridSearchCV(KNeighborsClassifier(n_neighbors=3),tuned_parameters,scoring='roc_auc',cv=5,n_jobs=-1)\n",
    "KNN.fit(X_train,y_train)\n"
   ]
  },
  {
   "cell_type": "code",
   "execution_count": 72,
   "metadata": {},
   "outputs": [
    {
     "data": {
      "text/html": [
       "<div>\n",
       "<style scoped>\n",
       "    .dataframe tbody tr th:only-of-type {\n",
       "        vertical-align: middle;\n",
       "    }\n",
       "\n",
       "    .dataframe tbody tr th {\n",
       "        vertical-align: top;\n",
       "    }\n",
       "\n",
       "    .dataframe thead th {\n",
       "        text-align: right;\n",
       "    }\n",
       "</style>\n",
       "<table border=\"1\" class=\"dataframe\">\n",
       "  <thead>\n",
       "    <tr style=\"text-align: right;\">\n",
       "      <th></th>\n",
       "      <th>mean_fit_time</th>\n",
       "      <th>std_fit_time</th>\n",
       "      <th>mean_score_time</th>\n",
       "      <th>std_score_time</th>\n",
       "      <th>param_metric</th>\n",
       "      <th>param_n_neighbors</th>\n",
       "      <th>params</th>\n",
       "      <th>split0_test_score</th>\n",
       "      <th>split1_test_score</th>\n",
       "      <th>split2_test_score</th>\n",
       "      <th>split3_test_score</th>\n",
       "      <th>split4_test_score</th>\n",
       "      <th>mean_test_score</th>\n",
       "      <th>std_test_score</th>\n",
       "      <th>rank_test_score</th>\n",
       "    </tr>\n",
       "  </thead>\n",
       "  <tbody>\n",
       "    <tr>\n",
       "      <th>0</th>\n",
       "      <td>0.039988</td>\n",
       "      <td>0.005656</td>\n",
       "      <td>0.495876</td>\n",
       "      <td>0.034026</td>\n",
       "      <td>canberra</td>\n",
       "      <td>3</td>\n",
       "      <td>{'metric': 'canberra', 'n_neighbors': 3}</td>\n",
       "      <td>0.528302</td>\n",
       "      <td>0.525820</td>\n",
       "      <td>0.539429</td>\n",
       "      <td>0.520655</td>\n",
       "      <td>0.484051</td>\n",
       "      <td>0.519651</td>\n",
       "      <td>0.018828</td>\n",
       "      <td>1</td>\n",
       "    </tr>\n",
       "    <tr>\n",
       "      <th>1</th>\n",
       "      <td>0.047190</td>\n",
       "      <td>0.014618</td>\n",
       "      <td>0.481479</td>\n",
       "      <td>0.011197</td>\n",
       "      <td>canberra</td>\n",
       "      <td>20</td>\n",
       "      <td>{'metric': 'canberra', 'n_neighbors': 20}</td>\n",
       "      <td>0.505504</td>\n",
       "      <td>0.508887</td>\n",
       "      <td>0.510486</td>\n",
       "      <td>0.513580</td>\n",
       "      <td>0.508659</td>\n",
       "      <td>0.509423</td>\n",
       "      <td>0.002632</td>\n",
       "      <td>3</td>\n",
       "    </tr>\n",
       "    <tr>\n",
       "      <th>2</th>\n",
       "      <td>0.055182</td>\n",
       "      <td>0.013242</td>\n",
       "      <td>0.420902</td>\n",
       "      <td>0.035877</td>\n",
       "      <td>canberra</td>\n",
       "      <td>2</td>\n",
       "      <td>{'metric': 'canberra', 'n_neighbors': 2}</td>\n",
       "      <td>0.506650</td>\n",
       "      <td>0.514130</td>\n",
       "      <td>0.557511</td>\n",
       "      <td>0.510955</td>\n",
       "      <td>0.496792</td>\n",
       "      <td>0.517208</td>\n",
       "      <td>0.020982</td>\n",
       "      <td>2</td>\n",
       "    </tr>\n",
       "    <tr>\n",
       "      <th>3</th>\n",
       "      <td>0.060783</td>\n",
       "      <td>0.012749</td>\n",
       "      <td>0.196025</td>\n",
       "      <td>0.011124</td>\n",
       "      <td>euclidean</td>\n",
       "      <td>3</td>\n",
       "      <td>{'metric': 'euclidean', 'n_neighbors': 3}</td>\n",
       "      <td>0.471879</td>\n",
       "      <td>0.495343</td>\n",
       "      <td>0.519679</td>\n",
       "      <td>0.503757</td>\n",
       "      <td>0.534215</td>\n",
       "      <td>0.504975</td>\n",
       "      <td>0.021264</td>\n",
       "      <td>6</td>\n",
       "    </tr>\n",
       "    <tr>\n",
       "      <th>4</th>\n",
       "      <td>0.063990</td>\n",
       "      <td>0.012130</td>\n",
       "      <td>0.219941</td>\n",
       "      <td>0.013616</td>\n",
       "      <td>euclidean</td>\n",
       "      <td>20</td>\n",
       "      <td>{'metric': 'euclidean', 'n_neighbors': 20}</td>\n",
       "      <td>0.505529</td>\n",
       "      <td>0.469077</td>\n",
       "      <td>0.492544</td>\n",
       "      <td>0.495997</td>\n",
       "      <td>0.463824</td>\n",
       "      <td>0.485394</td>\n",
       "      <td>0.016127</td>\n",
       "      <td>8</td>\n",
       "    </tr>\n",
       "  </tbody>\n",
       "</table>\n",
       "</div>"
      ],
      "text/plain": [
       "   mean_fit_time  std_fit_time  mean_score_time  std_score_time param_metric  \\\n",
       "0       0.039988      0.005656         0.495876        0.034026     canberra   \n",
       "1       0.047190      0.014618         0.481479        0.011197     canberra   \n",
       "2       0.055182      0.013242         0.420902        0.035877     canberra   \n",
       "3       0.060783      0.012749         0.196025        0.011124    euclidean   \n",
       "4       0.063990      0.012130         0.219941        0.013616    euclidean   \n",
       "\n",
       "  param_n_neighbors                                      params  \\\n",
       "0                 3    {'metric': 'canberra', 'n_neighbors': 3}   \n",
       "1                20   {'metric': 'canberra', 'n_neighbors': 20}   \n",
       "2                 2    {'metric': 'canberra', 'n_neighbors': 2}   \n",
       "3                 3   {'metric': 'euclidean', 'n_neighbors': 3}   \n",
       "4                20  {'metric': 'euclidean', 'n_neighbors': 20}   \n",
       "\n",
       "   split0_test_score  split1_test_score  split2_test_score  split3_test_score  \\\n",
       "0           0.528302           0.525820           0.539429           0.520655   \n",
       "1           0.505504           0.508887           0.510486           0.513580   \n",
       "2           0.506650           0.514130           0.557511           0.510955   \n",
       "3           0.471879           0.495343           0.519679           0.503757   \n",
       "4           0.505529           0.469077           0.492544           0.495997   \n",
       "\n",
       "   split4_test_score  mean_test_score  std_test_score  rank_test_score  \n",
       "0           0.484051         0.519651        0.018828                1  \n",
       "1           0.508659         0.509423        0.002632                3  \n",
       "2           0.496792         0.517208        0.020982                2  \n",
       "3           0.534215         0.504975        0.021264                6  \n",
       "4           0.463824         0.485394        0.016127                8  "
      ]
     },
     "execution_count": 72,
     "metadata": {},
     "output_type": "execute_result"
    }
   ],
   "source": [
    "cv_results_knn=pd.DataFrame(KNN.cv_results_)\n",
    "cv_results_knn.head()"
   ]
  },
  {
   "cell_type": "code",
   "execution_count": 73,
   "metadata": {},
   "outputs": [
    {
     "name": "stdout",
     "output_type": "stream",
     "text": [
      "Best_Score is : 52.59515316441733\n",
      "====================================================================================================\n",
      "best_score :  51.96512814311133\n",
      "best_params :  {'metric': 'canberra', 'n_neighbors': 3}\n",
      "best_estimator :  KNeighborsClassifier(metric='canberra', n_neighbors=3)\n",
      "====================================================================================================\n",
      "classification_report is : \n",
      "              precision    recall  f1-score   support\n",
      "\n",
      "           0       0.51      0.50      0.51       710\n",
      "           1       0.55      0.55      0.55       766\n",
      "\n",
      "    accuracy                           0.53      1476\n",
      "   macro avg       0.53      0.53      0.53      1476\n",
      "weighted avg       0.53      0.53      0.53      1476\n",
      "\n",
      "====================================================================================================\n",
      "Accuracy score: 52.913279132791324\n",
      "Precision score: 54.58064516129032\n",
      "Recall score: 55.22193211488251\n",
      "F1 score: 54.89941596365997\n",
      "roc_auc_score_3 :  52.82223366307506\n"
     ]
    }
   ],
   "source": [
    "#The accuracy of the model with the best parameters\n",
    "knn_score=KNN.score(X_test, y_test)\n",
    "print(\"Best_Score is :\" ,knn_score*100)\n",
    "\n",
    "print('='*100)\n",
    "\n",
    "knn_score1=KNN.best_score_\n",
    "print(\"best_score : \",knn_score1*100)\n",
    "print(\"best_params : \",KNN.best_params_)\n",
    "print(\"best_estimator : \",KNN.best_estimator_)\n",
    "\n",
    "print('='*100)\n",
    "\n",
    "# Checking the summary of classification\n",
    "print('classification_report is : ')\n",
    "y_pred = KNN.predict(X_test)\n",
    "print(classification_report(y_test, y_pred))\n",
    "\n",
    "print('='*100)\n",
    "\n",
    "hyper_accuracy_4 = metrics.accuracy_score(y_test, y_pred) \n",
    "print(\"Accuracy score:\",hyper_accuracy_4*100)\n",
    "\n",
    "hyper_precision_4 = metrics.precision_score(y_test, y_pred) \n",
    "print(\"Precision score:\",hyper_precision_4*100)\n",
    "\n",
    "hyper_recall_4 = metrics.recall_score(y_test, y_pred) \n",
    "print(\"Recall score:\",hyper_recall_4*100)\n",
    "\n",
    "hyper_f1_4 = metrics.f1_score(y_test, y_pred)\n",
    "print(\"F1 score:\",hyper_f1_4*100)\n",
    "\n",
    "# roc auc score for test data\n",
    "hyper_roc_auc_4 = roc_auc_score(y_test, y_pred)\n",
    "print('roc_auc_score_3 : ', hyper_roc_auc_4*100)\n"
   ]
  },
  {
   "cell_type": "markdown",
   "metadata": {},
   "source": [
    "## Feature selection:"
   ]
  },
  {
   "cell_type": "code",
   "execution_count": 74,
   "metadata": {},
   "outputs": [
    {
     "name": "stdout",
     "output_type": "stream",
     "text": [
      "x_test.shape: (1476, 18)\n",
      "X_test_transform_Random.shape: (1476, 18)\n",
      "====================================================================================================\n",
      "Scoree with all features: 0.527\n",
      "Scoree with selected features: 0.754\n",
      "====================================================================================================\n",
      "Num Features: 18\n",
      "Selected Features: [ True  True  True  True  True  True  True  True  True  True  True  True\n",
      "  True  True  True  True  True  True]\n",
      "Feature Ranking: [1 1 1 1 1 1 1 1 1 1 1 1 1 1 1 1 1 1]\n"
     ]
    }
   ],
   "source": [
    "\n",
    "rfe_knn = RFE(classifier_4,n_features_to_select=53)\n",
    "rfe_fit_knn = rfe_knn.fit(X_train,y_train)\n",
    "X_test_transform_knn = rfe_fit_knn.transform(X_test)\n",
    "\n",
    "print(\"x_test.shape: {}\".format(X_test.shape))\n",
    "print(\"X_test_transform_Random.shape: {}\".format(X_test_transform_knn.shape))\n",
    "\n",
    "print('='*100)\n",
    "\n",
    "classifier_4.fit(X_train,y_train)\n",
    "print(\"Scoree with all features: {:,.3f}\".format(classifier_4.score(X_test,y_test)))\n",
    "classifier_4.fit(X_test_transform_knn,y_test)\n",
    "print(\"Scoree with selected features: {:,.3f}\".format(classifier_4.score(X_test_transform_knn,y_test)))\n",
    "\n",
    "print('='*100)\n",
    "\n",
    "print(\"Num Features: %d\" % rfe_fit_knn.n_features_)\n",
    "print(\"Selected Features: %s\" % rfe_fit_knn.support_)\n",
    "print(\"Feature Ranking: %s\" % rfe_fit_knn.ranking_)\n"
   ]
  },
  {
   "cell_type": "code",
   "execution_count": 75,
   "metadata": {},
   "outputs": [
    {
     "name": "stdout",
     "output_type": "stream",
     "text": [
      "Scoree with all features: 0.754\n",
      "Scoree with selected features: 0.754\n"
     ]
    }
   ],
   "source": [
    "a4=classifier_4.score(X_test,y_test)\n",
    "print(\"Scoree with all features: {:,.3f}\".format(classifier_4.score(X_test,y_test)))\n",
    "b4=classifier_4.score(X_test_transform_knn,y_test)\n",
    "print(\"Scoree with selected features: {:,.3f}\".format(classifier_4.score(X_test_transform_knn,y_test)))"
   ]
  },
  {
   "cell_type": "code",
   "execution_count": null,
   "metadata": {},
   "outputs": [],
   "source": []
  },
  {
   "cell_type": "code",
   "execution_count": null,
   "metadata": {},
   "outputs": [],
   "source": []
  },
  {
   "cell_type": "markdown",
   "metadata": {},
   "source": [
    "## 5.SVM"
   ]
  },
  {
   "cell_type": "code",
   "execution_count": 76,
   "metadata": {},
   "outputs": [
    {
     "data": {
      "text/plain": [
       "SVC()"
      ]
     },
     "execution_count": 76,
     "metadata": {},
     "output_type": "execute_result"
    }
   ],
   "source": [
    "# fitting the model\n",
    "\n",
    "classifier_5 = svm.SVC()\n",
    "classifier_5.fit(X_train, y_train)\n"
   ]
  },
  {
   "cell_type": "code",
   "execution_count": 77,
   "metadata": {},
   "outputs": [
    {
     "data": {
      "text/plain": [
       "{'C': 1.0,\n",
       " 'break_ties': False,\n",
       " 'cache_size': 200,\n",
       " 'class_weight': None,\n",
       " 'coef0': 0.0,\n",
       " 'decision_function_shape': 'ovr',\n",
       " 'degree': 3,\n",
       " 'gamma': 'scale',\n",
       " 'kernel': 'rbf',\n",
       " 'max_iter': -1,\n",
       " 'probability': False,\n",
       " 'random_state': None,\n",
       " 'shrinking': True,\n",
       " 'tol': 0.001,\n",
       " 'verbose': False}"
      ]
     },
     "execution_count": 77,
     "metadata": {},
     "output_type": "execute_result"
    }
   ],
   "source": [
    "# parameters\n",
    "classifier_5.get_params(deep=True)"
   ]
  },
  {
   "cell_type": "code",
   "execution_count": 78,
   "metadata": {},
   "outputs": [
    {
     "name": "stdout",
     "output_type": "stream",
     "text": [
      "Train_Score :  51.568855316676355\n",
      "Test_Score :  49.93224932249323\n"
     ]
    }
   ],
   "source": [
    "#  Predict\n",
    "y_pred_svc = classifier_5.predict(X_test)\n",
    "\n",
    "# Generate predictions\n",
    "predictions_svc_train =classifier_5.predict(X_train)\n",
    "predictions_svc_test= classifier_5.predict(X_test)\n",
    "                                           \n",
    "#ACCURACY = TRAIN DATA SCORE \n",
    "train_Acc_5=classifier_5.score(X_train,y_train)          \n",
    "print('Train_Score : ',train_Acc_5*100)\n",
    "\n",
    "#ACCURACY = TEST DATA SCORE \n",
    "Acc_5=classifier_5.score(X_test, y_test) \n",
    "print('Test_Score : ',Acc_5*100)\n"
   ]
  },
  {
   "cell_type": "code",
   "execution_count": 79,
   "metadata": {},
   "outputs": [
    {
     "name": "stdout",
     "output_type": "stream",
     "text": [
      "confusion_matrix is : \n",
      "[[565 145]\n",
      " [594 172]]\n",
      "====================================================================================================\n",
      "Accuracy score: 49.93224932249323\n",
      "Precision score: 54.25867507886435\n",
      "Recall score: 22.45430809399478\n",
      "F1 score: 31.76361957525392\n",
      "roc_auc_score_5 :  51.01588644136359\n",
      "====================================================================================================\n",
      "classification_report is : \n",
      "              precision    recall  f1-score   support\n",
      "\n",
      "          NO       0.49      0.80      0.60       710\n",
      "         YES       0.54      0.22      0.32       766\n",
      "\n",
      "    accuracy                           0.50      1476\n",
      "   macro avg       0.52      0.51      0.46      1476\n",
      "weighted avg       0.52      0.50      0.46      1476\n",
      "\n",
      "====================================================================================================\n",
      "[0.       0.189251 1.      ] [0.         0.21086828 1.        ] [2 1 0]\n",
      "[0.         0.20422535 1.        ] [0.         0.22454308 1.        ] [2 1 0]\n",
      "====================================================================================================\n",
      "Train AUC: 0.511\n",
      "Test AUC: 0.510\n",
      "====================================================================================================\n"
     ]
    },
    {
     "data": {
      "image/png": "[encoded data removed]",
      "text/plain": [
       "<Figure size 1080x576 with 1 Axes>"
      ]
     },
     "metadata": {
      "needs_background": "light"
     },
     "output_type": "display_data"
    }
   ],
   "source": [
    "#  Evaluate the model performance\n",
    "print('confusion_matrix is : ')\n",
    "cm_5 = metrics.confusion_matrix(y_test, y_pred_svc) \n",
    "print(cm_5)\n",
    "\n",
    "print('='*100)\n",
    "\n",
    "accuracy_5 = metrics.accuracy_score(y_test,y_pred_svc) \n",
    "print(\"Accuracy score:\",accuracy_5*100)\n",
    "\n",
    "precision_5 = metrics.precision_score(y_test,y_pred_svc) \n",
    "print(\"Precision score:\",precision_5*100)\n",
    "\n",
    "recall_5 = metrics.recall_score(y_test,y_pred_svc) \n",
    "print(\"Recall score:\",recall_5*100)\n",
    "\n",
    "f1_5 = metrics.f1_score(y_test,y_pred_svc) \n",
    "print(\"F1 score:\",f1_5*100)\n",
    "\n",
    "roc_auc_5 = roc_auc_score(y_test, predictions_svc_test)\n",
    "print('roc_auc_score_5 : ', roc_auc_5*100)\n",
    "\n",
    "print('='*100)\n",
    "\n",
    "# Checking the summary of classification\n",
    "print('classification_report is : ')\n",
    "print(classification_report(y_test,predictions_svc_test, target_names = ['NO', 'YES']))\n",
    "\n",
    "print('='*100)\n",
    "\n",
    "# calculate \n",
    "FPR, TPR, LRM = roc_curve(y_train, predictions_svc_train)\n",
    "FPR1, TPR1, LRM = roc_curve(y_test,predictions_svc_test)\n",
    "print(FPR, TPR, LRM)\n",
    "print(FPR1, TPR1, LRM)\n",
    "\n",
    "print('='*100)\n",
    "\n",
    "# calculate AUC\n",
    "auc_train_svc = auc(FPR, TPR)\n",
    "print('Train AUC: %0.3f' % auc_train_svc)\n",
    "\n",
    "auc_test_svc = auc(FPR1, TPR1)\n",
    "print('Test AUC: %0.3f' % auc_test_svc)\n",
    "\n",
    "print('='*100)\n",
    "\n",
    "# plot the ROC curve\n",
    "plt.figure(figsize=(15,8))\n",
    "plt.plot(FPR, TPR, label = 'Train AUC: %0.3f'%auc_train_svc)\n",
    "plt.plot(FPR1, TPR1, label = 'Test AUC: %0.3f'%auc_test_svc)\n",
    "\n",
    "plt.plot([1,0],[1,0], ls = '--', color = 'blue', lw = 0.90)\n",
    "\n",
    "plt.title('ROC Curve')\n",
    "plt.legend()\n",
    "plt.show();\n"
   ]
  },
  {
   "cell_type": "markdown",
   "metadata": {},
   "source": [
    "## Hyper-parameters:"
   ]
  },
  {
   "cell_type": "code",
   "execution_count": 80,
   "metadata": {},
   "outputs": [
    {
     "data": {
      "text/plain": [
       "GridSearchCV(cv=5, estimator=SVC(),\n",
       "             param_grid=[{'C': [1, 10, 100, 1000],\n",
       "                          'gamma': [0.01, 0.001, 0.0001]}],\n",
       "             scoring='roc_auc')"
      ]
     },
     "execution_count": 80,
     "metadata": {},
     "output_type": "execute_result"
    }
   ],
   "source": [
    "\n",
    "svc = svm.SVC()\n",
    "tuned_parameters=[{'gamma':[1e-2,1e-3,1e-4],'C':[1,10,100,1000]}]\n",
    "svc=GridSearchCV(svm.SVC(),tuned_parameters,scoring='roc_auc',cv=5)\n",
    "svc.fit(X_train,y_train)\n"
   ]
  },
  {
   "cell_type": "code",
   "execution_count": 81,
   "metadata": {},
   "outputs": [
    {
     "data": {
      "text/html": [
       "<div>\n",
       "<style scoped>\n",
       "    .dataframe tbody tr th:only-of-type {\n",
       "        vertical-align: middle;\n",
       "    }\n",
       "\n",
       "    .dataframe tbody tr th {\n",
       "        vertical-align: top;\n",
       "    }\n",
       "\n",
       "    .dataframe thead th {\n",
       "        text-align: right;\n",
       "    }\n",
       "</style>\n",
       "<table border=\"1\" class=\"dataframe\">\n",
       "  <thead>\n",
       "    <tr style=\"text-align: right;\">\n",
       "      <th></th>\n",
       "      <th>mean_fit_time</th>\n",
       "      <th>std_fit_time</th>\n",
       "      <th>mean_score_time</th>\n",
       "      <th>std_score_time</th>\n",
       "      <th>param_C</th>\n",
       "      <th>param_gamma</th>\n",
       "      <th>params</th>\n",
       "      <th>split0_test_score</th>\n",
       "      <th>split1_test_score</th>\n",
       "      <th>split2_test_score</th>\n",
       "      <th>split3_test_score</th>\n",
       "      <th>split4_test_score</th>\n",
       "      <th>mean_test_score</th>\n",
       "      <th>std_test_score</th>\n",
       "      <th>rank_test_score</th>\n",
       "    </tr>\n",
       "  </thead>\n",
       "  <tbody>\n",
       "    <tr>\n",
       "      <th>0</th>\n",
       "      <td>2.709475</td>\n",
       "      <td>0.616564</td>\n",
       "      <td>1.123892</td>\n",
       "      <td>0.115046</td>\n",
       "      <td>1</td>\n",
       "      <td>0.01</td>\n",
       "      <td>{'C': 1, 'gamma': 0.01}</td>\n",
       "      <td>0.494252</td>\n",
       "      <td>0.511315</td>\n",
       "      <td>0.506065</td>\n",
       "      <td>0.493183</td>\n",
       "      <td>0.490085</td>\n",
       "      <td>0.498980</td>\n",
       "      <td>0.008215</td>\n",
       "      <td>1</td>\n",
       "    </tr>\n",
       "    <tr>\n",
       "      <th>1</th>\n",
       "      <td>2.301891</td>\n",
       "      <td>0.423430</td>\n",
       "      <td>0.959991</td>\n",
       "      <td>0.134364</td>\n",
       "      <td>1</td>\n",
       "      <td>0.001</td>\n",
       "      <td>{'C': 1, 'gamma': 0.001}</td>\n",
       "      <td>0.474699</td>\n",
       "      <td>0.499595</td>\n",
       "      <td>0.502473</td>\n",
       "      <td>0.481534</td>\n",
       "      <td>0.506491</td>\n",
       "      <td>0.492958</td>\n",
       "      <td>0.012503</td>\n",
       "      <td>9</td>\n",
       "    </tr>\n",
       "    <tr>\n",
       "      <th>2</th>\n",
       "      <td>1.767737</td>\n",
       "      <td>0.017151</td>\n",
       "      <td>0.742653</td>\n",
       "      <td>0.018451</td>\n",
       "      <td>1</td>\n",
       "      <td>0.0001</td>\n",
       "      <td>{'C': 1, 'gamma': 0.0001}</td>\n",
       "      <td>0.459444</td>\n",
       "      <td>0.490569</td>\n",
       "      <td>0.505647</td>\n",
       "      <td>0.481733</td>\n",
       "      <td>0.530661</td>\n",
       "      <td>0.493611</td>\n",
       "      <td>0.023813</td>\n",
       "      <td>8</td>\n",
       "    </tr>\n",
       "    <tr>\n",
       "      <th>3</th>\n",
       "      <td>1.884572</td>\n",
       "      <td>0.043876</td>\n",
       "      <td>0.788964</td>\n",
       "      <td>0.018270</td>\n",
       "      <td>10</td>\n",
       "      <td>0.01</td>\n",
       "      <td>{'C': 10, 'gamma': 0.01}</td>\n",
       "      <td>0.492229</td>\n",
       "      <td>0.511332</td>\n",
       "      <td>0.504201</td>\n",
       "      <td>0.490127</td>\n",
       "      <td>0.489012</td>\n",
       "      <td>0.497380</td>\n",
       "      <td>0.008836</td>\n",
       "      <td>2</td>\n",
       "    </tr>\n",
       "    <tr>\n",
       "      <th>4</th>\n",
       "      <td>1.810821</td>\n",
       "      <td>0.012695</td>\n",
       "      <td>0.771296</td>\n",
       "      <td>0.014873</td>\n",
       "      <td>10</td>\n",
       "      <td>0.001</td>\n",
       "      <td>{'C': 10, 'gamma': 0.001}</td>\n",
       "      <td>0.474758</td>\n",
       "      <td>0.502714</td>\n",
       "      <td>0.503174</td>\n",
       "      <td>0.483702</td>\n",
       "      <td>0.505908</td>\n",
       "      <td>0.494051</td>\n",
       "      <td>0.012476</td>\n",
       "      <td>7</td>\n",
       "    </tr>\n",
       "  </tbody>\n",
       "</table>\n",
       "</div>"
      ],
      "text/plain": [
       "   mean_fit_time  std_fit_time  mean_score_time  std_score_time param_C  \\\n",
       "0       2.709475      0.616564         1.123892        0.115046       1   \n",
       "1       2.301891      0.423430         0.959991        0.134364       1   \n",
       "2       1.767737      0.017151         0.742653        0.018451       1   \n",
       "3       1.884572      0.043876         0.788964        0.018270      10   \n",
       "4       1.810821      0.012695         0.771296        0.014873      10   \n",
       "\n",
       "  param_gamma                     params  split0_test_score  \\\n",
       "0        0.01    {'C': 1, 'gamma': 0.01}           0.494252   \n",
       "1       0.001   {'C': 1, 'gamma': 0.001}           0.474699   \n",
       "2      0.0001  {'C': 1, 'gamma': 0.0001}           0.459444   \n",
       "3        0.01   {'C': 10, 'gamma': 0.01}           0.492229   \n",
       "4       0.001  {'C': 10, 'gamma': 0.001}           0.474758   \n",
       "\n",
       "   split1_test_score  split2_test_score  split3_test_score  split4_test_score  \\\n",
       "0           0.511315           0.506065           0.493183           0.490085   \n",
       "1           0.499595           0.502473           0.481534           0.506491   \n",
       "2           0.490569           0.505647           0.481733           0.530661   \n",
       "3           0.511332           0.504201           0.490127           0.489012   \n",
       "4           0.502714           0.503174           0.483702           0.505908   \n",
       "\n",
       "   mean_test_score  std_test_score  rank_test_score  \n",
       "0         0.498980        0.008215                1  \n",
       "1         0.492958        0.012503                9  \n",
       "2         0.493611        0.023813                8  \n",
       "3         0.497380        0.008836                2  \n",
       "4         0.494051        0.012476                7  "
      ]
     },
     "execution_count": 81,
     "metadata": {},
     "output_type": "execute_result"
    }
   ],
   "source": [
    "cv_results_svc=pd.DataFrame(svc.cv_results_)\n",
    "cv_results_svc.head()\n"
   ]
  },
  {
   "cell_type": "code",
   "execution_count": 82,
   "metadata": {},
   "outputs": [
    {
     "name": "stdout",
     "output_type": "stream",
     "text": [
      "Best_Score is : 50.275438531975134\n",
      "====================================================================================================\n",
      "best_score :  49.897998424757176\n",
      "best_params :  {'C': 1, 'gamma': 0.01}\n",
      "best_estimator :  SVC(C=1, gamma=0.01)\n",
      "====================================================================================================\n",
      "classification_report is : \n",
      "              precision    recall  f1-score   support\n",
      "\n",
      "           0       0.48      1.00      0.65       710\n",
      "           1       0.73      0.01      0.02       766\n",
      "\n",
      "    accuracy                           0.48      1476\n",
      "   macro avg       0.60      0.50      0.34      1476\n",
      "weighted avg       0.61      0.48      0.32      1476\n",
      "\n",
      "====================================================================================================\n",
      "Accuracy score: 48.44173441734417\n",
      "Precision score: 72.72727272727273\n",
      "Recall score: 1.0443864229765014\n",
      "F1 score: 2.0592020592020592\n",
      "roc_auc_score_5 :  50.31092560585445\n"
     ]
    }
   ],
   "source": [
    "#The accuracy of the model with the best parameters\n",
    "svc_score=svc.score(X_test, y_test)\n",
    "print(\"Best_Score is :\" ,svc_score*100)\n",
    "\n",
    "print('='*100)\n",
    "\n",
    "svc_score1=svc.best_score_\n",
    "print(\"best_score : \",svc_score1*100)\n",
    "print(\"best_params : \",svc.best_params_)\n",
    "print(\"best_estimator : \",svc.best_estimator_)\n",
    "\n",
    "print('='*100)\n",
    "\n",
    "# Checking the summary of classification\n",
    "print('classification_report is : ')\n",
    "y_pred = svc.predict(X_test)\n",
    "print(classification_report(y_test, y_pred))\n",
    "\n",
    "print('='*100)\n",
    "\n",
    "hyper_accuracy_5 = metrics.accuracy_score(y_test, y_pred) \n",
    "print(\"Accuracy score:\",hyper_accuracy_5*100)\n",
    "\n",
    "hyper_precision_5 = metrics.precision_score(y_test, y_pred) \n",
    "print(\"Precision score:\",hyper_precision_5*100)\n",
    "\n",
    "hyper_recall_5 = metrics.recall_score(y_test, y_pred) \n",
    "print(\"Recall score:\",hyper_recall_5*100)\n",
    "\n",
    "hyper_f1_5 = metrics.f1_score(y_test, y_pred)\n",
    "print(\"F1 score:\",hyper_f1_5*100)\n",
    "\n",
    "# roc auc score for test data\n",
    "hyper_roc_auc_5 = roc_auc_score(y_test, y_pred)\n",
    "print('roc_auc_score_5 : ', hyper_roc_auc_5*100)\n"
   ]
  },
  {
   "cell_type": "markdown",
   "metadata": {},
   "source": [
    "## Feature selection:"
   ]
  },
  {
   "cell_type": "code",
   "execution_count": 83,
   "metadata": {},
   "outputs": [
    {
     "name": "stdout",
     "output_type": "stream",
     "text": [
      "X_test.shape: (1476, 18)\n",
      "X_test_transform_gb.shape: (1476, 18)\n",
      "====================================================================================================\n",
      "Scoree with all features: 0.499\n",
      "Scoree with selected features: 0.519\n",
      "====================================================================================================\n",
      "Num Features: 18\n",
      "Selected Features: [ True  True  True  True  True  True  True  True  True  True  True  True\n",
      "  True  True  True  True  True  True]\n",
      "Feature Ranking: [1 1 1 1 1 1 1 1 1 1 1 1 1 1 1 1 1 1]\n"
     ]
    }
   ],
   "source": [
    "\n",
    "rfe_svc = RFE(classifier_5,n_features_to_select=53)\n",
    "rfe_fit_svc = rfe_svc.fit(X_train,y_train)\n",
    "X_test_transform_svc = rfe_fit_svc.transform(X_test)\n",
    "\n",
    "print(\"X_test.shape: {}\".format(X_test.shape))\n",
    "print(\"X_test_transform_gb.shape: {}\".format(X_test_transform_svc.shape))\n",
    "\n",
    "print(\"=\"*100)\n",
    "\n",
    "classifier_5.fit(X_train,y_train)\n",
    "print(\"Scoree with all features: {:,.3f}\".format(classifier_5.score(X_test,y_test)))\n",
    "classifier_5.fit(X_test_transform_svc,y_test)\n",
    "print(\"Scoree with selected features: {:,.3f}\".format(classifier_5.score(X_test_transform_svc,y_test)))\n",
    "\n",
    "print(\"=\"*100)\n",
    "\n",
    "print(\"Num Features: %d\" % rfe_fit_svc.n_features_)\n",
    "print(\"Selected Features: %s\" % rfe_fit_svc.support_)\n",
    "print(\"Feature Ranking: %s\" % rfe_fit_svc.ranking_)"
   ]
  },
  {
   "cell_type": "code",
   "execution_count": 84,
   "metadata": {},
   "outputs": [
    {
     "name": "stdout",
     "output_type": "stream",
     "text": [
      "Scoree with all features: 0.519\n",
      "Scoree with selected features: 0.519\n"
     ]
    }
   ],
   "source": [
    "a5=classifier_5.score(X_test,y_test)\n",
    "print(\"Scoree with all features: {:,.3f}\".format(classifier_5.score(X_test,y_test)))\n",
    "b5=classifier_5.score(X_test_transform_svc,y_test)\n",
    "print(\"Scoree with selected features: {:,.3f}\".format(classifier_5.score(X_test_transform_svc,y_test)))"
   ]
  },
  {
   "cell_type": "code",
   "execution_count": null,
   "metadata": {},
   "outputs": [],
   "source": []
  },
  {
   "cell_type": "code",
   "execution_count": null,
   "metadata": {},
   "outputs": [],
   "source": []
  },
  {
   "cell_type": "markdown",
   "metadata": {},
   "source": [
    "## 6.Gradient Boosting"
   ]
  },
  {
   "cell_type": "code",
   "execution_count": 85,
   "metadata": {},
   "outputs": [
    {
     "data": {
      "text/plain": [
       "GradientBoostingClassifier()"
      ]
     },
     "execution_count": 85,
     "metadata": {},
     "output_type": "execute_result"
    }
   ],
   "source": [
    "# fitting the model\n",
    "\n",
    "classifier_6 = GradientBoostingClassifier()\n",
    "classifier_6.fit(X_train, y_train)\n"
   ]
  },
  {
   "cell_type": "code",
   "execution_count": 86,
   "metadata": {},
   "outputs": [
    {
     "data": {
      "text/plain": [
       "{'ccp_alpha': 0.0,\n",
       " 'criterion': 'friedman_mse',\n",
       " 'init': None,\n",
       " 'learning_rate': 0.1,\n",
       " 'loss': 'deviance',\n",
       " 'max_depth': 3,\n",
       " 'max_features': None,\n",
       " 'max_leaf_nodes': None,\n",
       " 'min_impurity_decrease': 0.0,\n",
       " 'min_impurity_split': None,\n",
       " 'min_samples_leaf': 1,\n",
       " 'min_samples_split': 2,\n",
       " 'min_weight_fraction_leaf': 0.0,\n",
       " 'n_estimators': 100,\n",
       " 'n_iter_no_change': None,\n",
       " 'random_state': None,\n",
       " 'subsample': 1.0,\n",
       " 'tol': 0.0001,\n",
       " 'validation_fraction': 0.1,\n",
       " 'verbose': 0,\n",
       " 'warm_start': False}"
      ]
     },
     "execution_count": 86,
     "metadata": {},
     "output_type": "execute_result"
    }
   ],
   "source": [
    "# parameters\n",
    "classifier_6.get_params(deep=True)"
   ]
  },
  {
   "cell_type": "code",
   "execution_count": 87,
   "metadata": {},
   "outputs": [
    {
     "name": "stdout",
     "output_type": "stream",
     "text": [
      "Train_Score :  68.53573503776875\n",
      "Test_Score :  68.53573503776875\n"
     ]
    }
   ],
   "source": [
    "# Predict\n",
    "y_pred_grad = classifier_6.predict(X_test)\n",
    "\n",
    "# Generate predictions\n",
    "predictions_grad_train =classifier_6.predict(X_train)\n",
    "predictions_grad_test= classifier_6.predict(X_test)\n",
    "\n",
    "#ACCURACY = TRAIN DATA SCORE \n",
    "train_Acc_6=classifier_6.score(X_train,y_train)          \n",
    "print('Train_Score : ',train_Acc_6*100)\n",
    "\n",
    "#ACCURACY = TEST DATA SCORE \n",
    "Acc_6=classifier_6.score(X_test, y_test) \n",
    "print('Test_Score : ',train_Acc_6*100)\n",
    "\n"
   ]
  },
  {
   "cell_type": "code",
   "execution_count": 88,
   "metadata": {
    "scrolled": true
   },
   "outputs": [
    {
     "name": "stdout",
     "output_type": "stream",
     "text": [
      "confusion_matrix is : \n",
      "[[363 347]\n",
      " [270 496]]\n",
      "====================================================================================================\n",
      "Accuracy score: 58.19783197831978\n",
      "Precision score: 58.83748517200475\n",
      "Recall score: 64.75195822454309\n",
      "F1 score: 61.653200745804845\n",
      "roc_auc_score_6 :  57.93935939396169\n",
      "====================================================================================================\n",
      "classification_report is : \n",
      "              precision    recall  f1-score   support\n",
      "\n",
      "          NO       0.57      0.51      0.54       710\n",
      "         YES       0.59      0.65      0.62       766\n",
      "\n",
      "    accuracy                           0.58      1476\n",
      "   macro avg       0.58      0.58      0.58      1476\n",
      "weighted avg       0.58      0.58      0.58      1476\n",
      "\n",
      "====================================================================================================\n",
      "[0.         0.37678674 1.        ] [0.       0.749557 1.      ] [2 1 0]\n",
      "[0.         0.48873239 1.        ] [0.         0.64751958 1.        ] [2 1 0]\n",
      "====================================================================================================\n",
      "Train AUC: 0.686\n",
      "Test AUC: 0.579\n",
      "====================================================================================================\n"
     ]
    },
    {
     "data": {
      "image/png": "[encoded data removed]",
      "text/plain": [
       "<Figure size 1080x576 with 1 Axes>"
      ]
     },
     "metadata": {
      "needs_background": "light"
     },
     "output_type": "display_data"
    }
   ],
   "source": [
    "#  Evaluate the model performance\n",
    "print('confusion_matrix is : ')\n",
    "cm_6 = metrics.confusion_matrix(y_test, y_pred_grad) \n",
    "print(cm_6)\n",
    "\n",
    "print('='*100)\n",
    "\n",
    "accuracy_6 = metrics.accuracy_score(y_test,y_pred_grad) \n",
    "print(\"Accuracy score:\",accuracy_6*100)\n",
    "\n",
    "precision_6 = metrics.precision_score(y_test,y_pred_grad) \n",
    "print(\"Precision score:\",precision_6*100)\n",
    "\n",
    "recall_6 = metrics.recall_score(y_test,y_pred_grad) \n",
    "print(\"Recall score:\",recall_6*100)\n",
    "\n",
    "f1_6 = metrics.f1_score(y_test,y_pred_grad) \n",
    "print(\"F1 score:\",f1_6*100)\n",
    "\n",
    "roc_auc_6 = roc_auc_score(y_test, predictions_grad_test)\n",
    "print('roc_auc_score_6 : ', roc_auc_6*100)\n",
    "\n",
    "print('='*100)\n",
    "\n",
    "# Checking the summary of classification\n",
    "print('classification_report is : ')\n",
    "print(classification_report(y_test, predictions_grad_test, target_names = ['NO', 'YES']))\n",
    "\n",
    "print('='*100)\n",
    "\n",
    "# calculate \n",
    "FPR, TPR, LRM = roc_curve(y_train, predictions_grad_train)\n",
    "FPR1, TPR1, LRM = roc_curve(y_test,predictions_grad_test)\n",
    "print(FPR, TPR, LRM)\n",
    "print(FPR1, TPR1, LRM)\n",
    "\n",
    "print('='*100)\n",
    "\n",
    "# calculate AUC\n",
    "auc_train_grad = auc(FPR, TPR)\n",
    "print('Train AUC: %0.3f' % auc_train_grad)\n",
    "\n",
    "auc_test_grad = auc(FPR1, TPR1)\n",
    "print('Test AUC: %0.3f' % auc_test_grad)\n",
    "\n",
    "print('='*100)\n",
    "\n",
    "# plot the ROC curve\n",
    "plt.figure(figsize=(15,8))\n",
    "plt.plot(FPR, TPR, label = 'Train AUC: %0.3f'%auc_train_grad)\n",
    "plt.plot(FPR1, TPR1, label = 'Test AUC: %0.3f'%auc_test_grad)\n",
    "\n",
    "plt.plot([1,0],[1,0], ls = '--', color = 'blue', lw = 0.90)\n",
    "\n",
    "plt.title('ROC Curve')\n",
    "plt.legend()\n",
    "plt.show();"
   ]
  },
  {
   "cell_type": "markdown",
   "metadata": {},
   "source": [
    "## Hyper-parameters:"
   ]
  },
  {
   "cell_type": "code",
   "execution_count": 89,
   "metadata": {},
   "outputs": [
    {
     "data": {
      "text/plain": [
       "GridSearchCV(cv=5, estimator=GradientBoostingClassifier(),\n",
       "             param_grid=[{'learning_rate': [0.2, 0.5, 1.0],\n",
       "                          'max_depth': [1, 2, 3],\n",
       "                          'n_estimators': [100, 200, 500]}],\n",
       "             scoring='roc_auc')"
      ]
     },
     "execution_count": 89,
     "metadata": {},
     "output_type": "execute_result"
    }
   ],
   "source": [
    "\n",
    "grad_boost = GradientBoostingClassifier()\n",
    "tuned_parameters=[{'n_estimators': [100, 200,500],'learning_rate': [0.2,0.5,1.0],'max_depth':[1,2,3]}]\n",
    "GRAD=GridSearchCV(GradientBoostingClassifier(),tuned_parameters,scoring='roc_auc',cv=5)\n",
    "GRAD.fit(X_train,y_train)\n"
   ]
  },
  {
   "cell_type": "code",
   "execution_count": 90,
   "metadata": {},
   "outputs": [
    {
     "data": {
      "text/html": [
       "<div>\n",
       "<style scoped>\n",
       "    .dataframe tbody tr th:only-of-type {\n",
       "        vertical-align: middle;\n",
       "    }\n",
       "\n",
       "    .dataframe tbody tr th {\n",
       "        vertical-align: top;\n",
       "    }\n",
       "\n",
       "    .dataframe thead th {\n",
       "        text-align: right;\n",
       "    }\n",
       "</style>\n",
       "<table border=\"1\" class=\"dataframe\">\n",
       "  <thead>\n",
       "    <tr style=\"text-align: right;\">\n",
       "      <th></th>\n",
       "      <th>mean_fit_time</th>\n",
       "      <th>std_fit_time</th>\n",
       "      <th>mean_score_time</th>\n",
       "      <th>std_score_time</th>\n",
       "      <th>param_learning_rate</th>\n",
       "      <th>param_max_depth</th>\n",
       "      <th>param_n_estimators</th>\n",
       "      <th>params</th>\n",
       "      <th>split0_test_score</th>\n",
       "      <th>split1_test_score</th>\n",
       "      <th>split2_test_score</th>\n",
       "      <th>split3_test_score</th>\n",
       "      <th>split4_test_score</th>\n",
       "      <th>mean_test_score</th>\n",
       "      <th>std_test_score</th>\n",
       "      <th>rank_test_score</th>\n",
       "    </tr>\n",
       "  </thead>\n",
       "  <tbody>\n",
       "    <tr>\n",
       "      <th>0</th>\n",
       "      <td>0.526527</td>\n",
       "      <td>0.076852</td>\n",
       "      <td>0.016221</td>\n",
       "      <td>3.105397e-03</td>\n",
       "      <td>0.2</td>\n",
       "      <td>1</td>\n",
       "      <td>100</td>\n",
       "      <td>{'learning_rate': 0.2, 'max_depth': 1, 'n_esti...</td>\n",
       "      <td>0.572554</td>\n",
       "      <td>0.579823</td>\n",
       "      <td>0.546340</td>\n",
       "      <td>0.567861</td>\n",
       "      <td>0.577778</td>\n",
       "      <td>0.568871</td>\n",
       "      <td>0.012013</td>\n",
       "      <td>21</td>\n",
       "    </tr>\n",
       "    <tr>\n",
       "      <th>1</th>\n",
       "      <td>0.787707</td>\n",
       "      <td>0.039592</td>\n",
       "      <td>0.016795</td>\n",
       "      <td>3.915844e-03</td>\n",
       "      <td>0.2</td>\n",
       "      <td>1</td>\n",
       "      <td>200</td>\n",
       "      <td>{'learning_rate': 0.2, 'max_depth': 1, 'n_esti...</td>\n",
       "      <td>0.580649</td>\n",
       "      <td>0.587906</td>\n",
       "      <td>0.560110</td>\n",
       "      <td>0.563833</td>\n",
       "      <td>0.576392</td>\n",
       "      <td>0.573778</td>\n",
       "      <td>0.010386</td>\n",
       "      <td>17</td>\n",
       "    </tr>\n",
       "    <tr>\n",
       "      <th>2</th>\n",
       "      <td>1.883166</td>\n",
       "      <td>0.018179</td>\n",
       "      <td>0.015184</td>\n",
       "      <td>1.604661e-03</td>\n",
       "      <td>0.2</td>\n",
       "      <td>1</td>\n",
       "      <td>500</td>\n",
       "      <td>{'learning_rate': 0.2, 'max_depth': 1, 'n_esti...</td>\n",
       "      <td>0.594783</td>\n",
       "      <td>0.586515</td>\n",
       "      <td>0.578284</td>\n",
       "      <td>0.570440</td>\n",
       "      <td>0.574938</td>\n",
       "      <td>0.580992</td>\n",
       "      <td>0.008672</td>\n",
       "      <td>5</td>\n",
       "    </tr>\n",
       "    <tr>\n",
       "      <th>3</th>\n",
       "      <td>0.625910</td>\n",
       "      <td>0.008472</td>\n",
       "      <td>0.010401</td>\n",
       "      <td>1.962185e-03</td>\n",
       "      <td>0.2</td>\n",
       "      <td>2</td>\n",
       "      <td>100</td>\n",
       "      <td>{'learning_rate': 0.2, 'max_depth': 2, 'n_esti...</td>\n",
       "      <td>0.591016</td>\n",
       "      <td>0.596890</td>\n",
       "      <td>0.569362</td>\n",
       "      <td>0.561027</td>\n",
       "      <td>0.557733</td>\n",
       "      <td>0.575206</td>\n",
       "      <td>0.015878</td>\n",
       "      <td>14</td>\n",
       "    </tr>\n",
       "    <tr>\n",
       "      <th>4</th>\n",
       "      <td>1.240311</td>\n",
       "      <td>0.009860</td>\n",
       "      <td>0.011996</td>\n",
       "      <td>5.917394e-07</td>\n",
       "      <td>0.2</td>\n",
       "      <td>2</td>\n",
       "      <td>200</td>\n",
       "      <td>{'learning_rate': 0.2, 'max_depth': 2, 'n_esti...</td>\n",
       "      <td>0.591471</td>\n",
       "      <td>0.584703</td>\n",
       "      <td>0.591970</td>\n",
       "      <td>0.556450</td>\n",
       "      <td>0.572715</td>\n",
       "      <td>0.579462</td>\n",
       "      <td>0.013440</td>\n",
       "      <td>7</td>\n",
       "    </tr>\n",
       "  </tbody>\n",
       "</table>\n",
       "</div>"
      ],
      "text/plain": [
       "   mean_fit_time  std_fit_time  mean_score_time  std_score_time  \\\n",
       "0       0.526527      0.076852         0.016221    3.105397e-03   \n",
       "1       0.787707      0.039592         0.016795    3.915844e-03   \n",
       "2       1.883166      0.018179         0.015184    1.604661e-03   \n",
       "3       0.625910      0.008472         0.010401    1.962185e-03   \n",
       "4       1.240311      0.009860         0.011996    5.917394e-07   \n",
       "\n",
       "  param_learning_rate param_max_depth param_n_estimators  \\\n",
       "0                 0.2               1                100   \n",
       "1                 0.2               1                200   \n",
       "2                 0.2               1                500   \n",
       "3                 0.2               2                100   \n",
       "4                 0.2               2                200   \n",
       "\n",
       "                                              params  split0_test_score  \\\n",
       "0  {'learning_rate': 0.2, 'max_depth': 1, 'n_esti...           0.572554   \n",
       "1  {'learning_rate': 0.2, 'max_depth': 1, 'n_esti...           0.580649   \n",
       "2  {'learning_rate': 0.2, 'max_depth': 1, 'n_esti...           0.594783   \n",
       "3  {'learning_rate': 0.2, 'max_depth': 2, 'n_esti...           0.591016   \n",
       "4  {'learning_rate': 0.2, 'max_depth': 2, 'n_esti...           0.591471   \n",
       "\n",
       "   split1_test_score  split2_test_score  split3_test_score  split4_test_score  \\\n",
       "0           0.579823           0.546340           0.567861           0.577778   \n",
       "1           0.587906           0.560110           0.563833           0.576392   \n",
       "2           0.586515           0.578284           0.570440           0.574938   \n",
       "3           0.596890           0.569362           0.561027           0.557733   \n",
       "4           0.584703           0.591970           0.556450           0.572715   \n",
       "\n",
       "   mean_test_score  std_test_score  rank_test_score  \n",
       "0         0.568871        0.012013               21  \n",
       "1         0.573778        0.010386               17  \n",
       "2         0.580992        0.008672                5  \n",
       "3         0.575206        0.015878               14  \n",
       "4         0.579462        0.013440                7  "
      ]
     },
     "execution_count": 90,
     "metadata": {},
     "output_type": "execute_result"
    }
   ],
   "source": [
    "cv_results_grad=pd.DataFrame(GRAD.cv_results_)\n",
    "cv_results_grad.head()\n"
   ]
  },
  {
   "cell_type": "code",
   "execution_count": 91,
   "metadata": {},
   "outputs": [
    {
     "name": "stdout",
     "output_type": "stream",
     "text": [
      "Best_Score is : 59.81373882984591\n",
      "====================================================================================================\n",
      "best_score :  58.5815404909477\n",
      "best_params :  {'learning_rate': 0.2, 'max_depth': 3, 'n_estimators': 200}\n",
      "best_estimator :  GradientBoostingClassifier(learning_rate=0.2, n_estimators=200)\n",
      "====================================================================================================\n",
      "classification_report is : \n",
      "              precision    recall  f1-score   support\n",
      "\n",
      "           0       0.56      0.57      0.57       710\n",
      "           1       0.60      0.59      0.59       766\n",
      "\n",
      "    accuracy                           0.58      1476\n",
      "   macro avg       0.58      0.58      0.58      1476\n",
      "weighted avg       0.58      0.58      0.58      1476\n",
      "\n",
      "====================================================================================================\n",
      "Accuracy score: 57.994579945799465\n",
      "Precision score: 59.65608465608465\n",
      "Recall score: 58.87728459530026\n",
      "F1 score: 59.264126149802884\n",
      "roc_auc_score_6 :  0.5795976905821352\n"
     ]
    }
   ],
   "source": [
    "#The accuracy of the model with the best parameters\n",
    "grad_score=GRAD.score(X_test, y_test)\n",
    "print(\"Best_Score is :\" ,grad_score*100)\n",
    "\n",
    "print('='*100)\n",
    "\n",
    "grad_score1=GRAD.best_score_\n",
    "print(\"best_score : \",grad_score1*100)\n",
    "print(\"best_params : \",GRAD.best_params_)\n",
    "print(\"best_estimator : \",GRAD.best_estimator_)\n",
    "\n",
    "print('='*100)\n",
    "\n",
    "# Checking the summary of classification\n",
    "print('classification_report is : ')\n",
    "y_pred = GRAD.predict(X_test)\n",
    "print(classification_report(y_test, y_pred))\n",
    "\n",
    "print('='*100)\n",
    "\n",
    "hyper_accuracy_6 = metrics.accuracy_score(y_test, y_pred) \n",
    "print(\"Accuracy score:\",hyper_accuracy_6*100)\n",
    "\n",
    "hyper_precision_6 = metrics.precision_score(y_test, y_pred) \n",
    "print(\"Precision score:\",hyper_precision_6*100)\n",
    "\n",
    "hyper_recall_6 = metrics.recall_score(y_test, y_pred) \n",
    "print(\"Recall score:\",hyper_recall_6*100)\n",
    "\n",
    "hyper_f1_6 = metrics.f1_score(y_test, y_pred)\n",
    "print(\"F1 score:\",hyper_f1_6*100)\n",
    "\n",
    "hyper_roc_auc_6 = roc_auc_score(y_test, y_pred)\n",
    "print('roc_auc_score_6 : ', hyper_roc_auc_6)"
   ]
  },
  {
   "cell_type": "markdown",
   "metadata": {},
   "source": [
    "## Feature selection:"
   ]
  },
  {
   "cell_type": "code",
   "execution_count": 92,
   "metadata": {},
   "outputs": [
    {
     "name": "stdout",
     "output_type": "stream",
     "text": [
      "x_test.shape: (1476, 18)\n",
      "X_test_transform_gb.shape: (1476, 18)\n",
      "====================================================================================================\n",
      "Scoree with all features: 0.585\n",
      "Scoree with selected features: 0.759\n",
      "====================================================================================================\n",
      "Num Features: 18\n",
      "Selected Features: [ True  True  True  True  True  True  True  True  True  True  True  True\n",
      "  True  True  True  True  True  True]\n",
      "Feature Ranking: [1 1 1 1 1 1 1 1 1 1 1 1 1 1 1 1 1 1]\n"
     ]
    }
   ],
   "source": [
    "\n",
    "rfe_grad = RFE(classifier_6,n_features_to_select=53)\n",
    "rfe_fit_grad = rfe_grad.fit(X_train,y_train)\n",
    "X_test_transform_grad = rfe_fit_grad.transform(X_test)\n",
    "\n",
    "print(\"x_test.shape: {}\".format(X_test.shape))\n",
    "print(\"X_test_transform_gb.shape: {}\".format(X_test_transform_grad.shape))\n",
    "\n",
    "print(\"=\"*100)\n",
    "\n",
    "classifier_6.fit(X_train,y_train)\n",
    "print(\"Scoree with all features: {:,.3f}\".format(classifier_6.score(X_test,y_test)))\n",
    "classifier_6.fit(X_test_transform_grad,y_test)\n",
    "print(\"Scoree with selected features: {:,.3f}\".format(classifier_6.score(X_test_transform_grad,y_test)))\n",
    "\n",
    "print(\"=\"*100)\n",
    "\n",
    "print(\"Num Features: %d\" % rfe_fit_grad.n_features_)\n",
    "print(\"Selected Features: %s\" % rfe_fit_grad.support_)\n",
    "print(\"Feature Ranking: %s\" % rfe_fit_grad.ranking_)\n"
   ]
  },
  {
   "cell_type": "code",
   "execution_count": 93,
   "metadata": {},
   "outputs": [
    {
     "name": "stdout",
     "output_type": "stream",
     "text": [
      "Scoree with all features: 0.759\n",
      "Scoree with selected features: 0.759\n"
     ]
    }
   ],
   "source": [
    "a6=classifier_6.score(X_test,y_test)\n",
    "print(\"Scoree with all features: {:,.3f}\".format(classifier_6.score(X_test,y_test)))\n",
    "b6=classifier_6.score(X_test_transform_grad,y_test)\n",
    "print(\"Scoree with selected features: {:,.3f}\".format(classifier_6.score(X_test_transform_grad,y_test)))"
   ]
  },
  {
   "cell_type": "code",
   "execution_count": null,
   "metadata": {},
   "outputs": [],
   "source": []
  },
  {
   "cell_type": "code",
   "execution_count": null,
   "metadata": {},
   "outputs": [],
   "source": []
  },
  {
   "cell_type": "markdown",
   "metadata": {},
   "source": [
    "## 7.Ada Boost"
   ]
  },
  {
   "cell_type": "code",
   "execution_count": 94,
   "metadata": {},
   "outputs": [
    {
     "data": {
      "text/plain": [
       "AdaBoostClassifier(learning_rate=0.2, n_estimators=20, random_state=123)"
      ]
     },
     "execution_count": 94,
     "metadata": {},
     "output_type": "execute_result"
    }
   ],
   "source": [
    "# fitting the model\n",
    "\n",
    "classifier_7 = AdaBoostClassifier(n_estimators = 20, learning_rate = 0.2, random_state = 123)\n",
    "classifier_7.fit(X_train, y_train)\n"
   ]
  },
  {
   "cell_type": "code",
   "execution_count": 95,
   "metadata": {},
   "outputs": [
    {
     "data": {
      "text/plain": [
       "{'algorithm': 'SAMME.R',\n",
       " 'base_estimator': None,\n",
       " 'learning_rate': 0.2,\n",
       " 'n_estimators': 20,\n",
       " 'random_state': 123}"
      ]
     },
     "execution_count": 95,
     "metadata": {},
     "output_type": "execute_result"
    }
   ],
   "source": [
    "# parameters\n",
    "classifier_7.get_params(deep=True)"
   ]
  },
  {
   "cell_type": "code",
   "execution_count": 96,
   "metadata": {},
   "outputs": [
    {
     "name": "stdout",
     "output_type": "stream",
     "text": [
      "Train_Score :  56.507844276583384\n",
      "Train_Score :  56.43631436314364\n"
     ]
    }
   ],
   "source": [
    "#  Predict\n",
    "y_pred_ada = classifier_7.predict(X_test)\n",
    "\n",
    "# Generate predictions\n",
    "predictions_ada_train =classifier_7.predict(X_train)\n",
    "predictions_ada_test= classifier_7.predict(X_test)\n",
    "\n",
    "#ACCURACY = TRAIN DATA SCORE \n",
    "train_Acc_7=classifier_7.score(X_train,y_train)          \n",
    "print('Train_Score : ',train_Acc_7*100)\n",
    "\n",
    "#ACCURACY = TEST DATA SCORE \n",
    "Acc_7=classifier_7.score(X_test, y_test) \n",
    "print('Train_Score : ',Acc_7*100)\n"
   ]
  },
  {
   "cell_type": "code",
   "execution_count": 97,
   "metadata": {},
   "outputs": [
    {
     "name": "stdout",
     "output_type": "stream",
     "text": [
      "confusion_matrix is : \n",
      "[[183 527]\n",
      " [116 650]]\n",
      "====================================================================================================\n",
      "Accuracy score: 56.43631436314364\n",
      "Precision score: 55.225148683092605\n",
      "Recall score: 84.85639686684074\n",
      "F1 score: 66.90684508492022\n",
      "roc_auc_score_7 :  55.31552237708234\n",
      "====================================================================================================\n",
      "classification_report is : \n",
      "              precision    recall  f1-score   support\n",
      "\n",
      "          NO       0.61      0.26      0.36       710\n",
      "         YES       0.55      0.85      0.67       766\n",
      "\n",
      "    accuracy                           0.56      1476\n",
      "   macro avg       0.58      0.55      0.52      1476\n",
      "weighted avg       0.58      0.56      0.52      1476\n",
      "\n",
      "====================================================================================================\n",
      "[0.         0.71412236 1.        ] [0.         0.85351447 1.        ] [2 1 0]\n",
      "[0.         0.74225352 1.        ] [0.         0.84856397 1.        ] [2 1 0]\n",
      "====================================================================================================\n",
      "Train AUC: 0.570\n",
      "Test AUC: 0.553\n",
      "====================================================================================================\n"
     ]
    },
    {
     "data": {
      "image/png": "[encoded data removed]",
      "text/plain": [
       "<Figure size 1080x576 with 1 Axes>"
      ]
     },
     "metadata": {
      "needs_background": "light"
     },
     "output_type": "display_data"
    }
   ],
   "source": [
    "# Evaluate the model performance\n",
    "print('confusion_matrix is : ')\n",
    "cm_7 = metrics.confusion_matrix(y_test, y_pred_ada) \n",
    "print(cm_7)\n",
    "\n",
    "print('='*100)\n",
    "\n",
    "accuracy_7 = metrics.accuracy_score(y_test,y_pred_ada) \n",
    "print(\"Accuracy score:\",accuracy_7*100)\n",
    "\n",
    "precision_7 = metrics.precision_score(y_test,y_pred_ada) \n",
    "print(\"Precision score:\",precision_7*100)\n",
    "\n",
    "recall_7 = metrics.recall_score(y_test,y_pred_ada) \n",
    "print(\"Recall score:\",recall_7*100)\n",
    "\n",
    "f1_7 = metrics.f1_score(y_test,y_pred_ada) \n",
    "print(\"F1 score:\",f1_7*100)\n",
    "\n",
    "roc_auc_7 = roc_auc_score(y_test, y_pred_ada)\n",
    "print('roc_auc_score_7 : ', roc_auc_7*100)\n",
    "\n",
    "print('='*100)\n",
    "\n",
    "# Checking the summary of classification\n",
    "print('classification_report is : ')\n",
    "print(classification_report(y_test, predictions_ada_test, target_names = ['NO', 'YES']))\n",
    "\n",
    "print('='*100)\n",
    "\n",
    "# calculate \n",
    "FPR, TPR, LRM = roc_curve(y_train, predictions_ada_train)\n",
    "FPR1, TPR1, LRM = roc_curve(y_test,predictions_ada_test)\n",
    "print(FPR, TPR, LRM)\n",
    "print(FPR1, TPR1, LRM)\n",
    "\n",
    "print('='*100)\n",
    "\n",
    "# calculate AUC\n",
    "auc_train_ada = auc(FPR, TPR)\n",
    "print('Train AUC: %0.3f' % auc_train_ada)\n",
    "\n",
    "auc_test_ada = auc(FPR1, TPR1)\n",
    "print('Test AUC: %0.3f' % auc_test_ada)\n",
    "\n",
    "print('='*100)\n",
    "\n",
    "# plot the ROC curve\n",
    "plt.figure(figsize=(15,8))\n",
    "plt.plot(FPR, TPR, label = 'Train AUC: %0.3f'%auc_train_ada)\n",
    "plt.plot(FPR1, TPR1, label = 'Test AUC: %0.3f'%auc_test_ada)\n",
    "\n",
    "plt.plot([1,0],[1,0], ls = '--', color = 'blue', lw = 0.90)\n",
    "\n",
    "plt.title('ROC Curve')\n",
    "plt.legend()\n",
    "plt.show();"
   ]
  },
  {
   "cell_type": "markdown",
   "metadata": {},
   "source": [
    "## Hyper-parameters:"
   ]
  },
  {
   "cell_type": "code",
   "execution_count": 98,
   "metadata": {},
   "outputs": [
    {
     "data": {
      "text/plain": [
       "GridSearchCV(cv=5,\n",
       "             estimator=AdaBoostClassifier(learning_rate=0.2, n_estimators=20,\n",
       "                                          random_state=123),\n",
       "             param_grid=[{'learning_rate': [0.2, 0.5, 1.0],\n",
       "                          'n_estimators': [100, 200, 500]}],\n",
       "             scoring='roc_auc')"
      ]
     },
     "execution_count": 98,
     "metadata": {},
     "output_type": "execute_result"
    }
   ],
   "source": [
    "\n",
    "ada_boost = AdaBoostClassifier(n_estimators = 20, learning_rate = 0.2, random_state = 123)\n",
    "tuned_parameters=[{'n_estimators': [100, 200,500],'learning_rate': [0.2,0.5,1.0]}]\n",
    "ADA=GridSearchCV(AdaBoostClassifier(n_estimators = 20, learning_rate = 0.2, random_state = 123),tuned_parameters,scoring='roc_auc',cv=5)\n",
    "ADA.fit(X_train,y_train)\n"
   ]
  },
  {
   "cell_type": "code",
   "execution_count": 99,
   "metadata": {},
   "outputs": [
    {
     "data": {
      "text/html": [
       "<div>\n",
       "<style scoped>\n",
       "    .dataframe tbody tr th:only-of-type {\n",
       "        vertical-align: middle;\n",
       "    }\n",
       "\n",
       "    .dataframe tbody tr th {\n",
       "        vertical-align: top;\n",
       "    }\n",
       "\n",
       "    .dataframe thead th {\n",
       "        text-align: right;\n",
       "    }\n",
       "</style>\n",
       "<table border=\"1\" class=\"dataframe\">\n",
       "  <thead>\n",
       "    <tr style=\"text-align: right;\">\n",
       "      <th></th>\n",
       "      <th>mean_fit_time</th>\n",
       "      <th>std_fit_time</th>\n",
       "      <th>mean_score_time</th>\n",
       "      <th>std_score_time</th>\n",
       "      <th>param_learning_rate</th>\n",
       "      <th>param_n_estimators</th>\n",
       "      <th>params</th>\n",
       "      <th>split0_test_score</th>\n",
       "      <th>split1_test_score</th>\n",
       "      <th>split2_test_score</th>\n",
       "      <th>split3_test_score</th>\n",
       "      <th>split4_test_score</th>\n",
       "      <th>mean_test_score</th>\n",
       "      <th>std_test_score</th>\n",
       "      <th>rank_test_score</th>\n",
       "    </tr>\n",
       "  </thead>\n",
       "  <tbody>\n",
       "    <tr>\n",
       "      <th>0</th>\n",
       "      <td>0.745726</td>\n",
       "      <td>0.019466</td>\n",
       "      <td>0.068246</td>\n",
       "      <td>0.000537</td>\n",
       "      <td>0.2</td>\n",
       "      <td>100</td>\n",
       "      <td>{'learning_rate': 0.2, 'n_estimators': 100}</td>\n",
       "      <td>0.575259</td>\n",
       "      <td>0.583595</td>\n",
       "      <td>0.549683</td>\n",
       "      <td>0.567642</td>\n",
       "      <td>0.577339</td>\n",
       "      <td>0.570703</td>\n",
       "      <td>0.011681</td>\n",
       "      <td>9</td>\n",
       "    </tr>\n",
       "    <tr>\n",
       "      <th>1</th>\n",
       "      <td>1.472373</td>\n",
       "      <td>0.021967</td>\n",
       "      <td>0.128433</td>\n",
       "      <td>0.007966</td>\n",
       "      <td>0.2</td>\n",
       "      <td>200</td>\n",
       "      <td>{'learning_rate': 0.2, 'n_estimators': 200}</td>\n",
       "      <td>0.581429</td>\n",
       "      <td>0.584968</td>\n",
       "      <td>0.556543</td>\n",
       "      <td>0.560114</td>\n",
       "      <td>0.573467</td>\n",
       "      <td>0.571304</td>\n",
       "      <td>0.011287</td>\n",
       "      <td>8</td>\n",
       "    </tr>\n",
       "    <tr>\n",
       "      <th>2</th>\n",
       "      <td>3.792070</td>\n",
       "      <td>0.220753</td>\n",
       "      <td>0.311801</td>\n",
       "      <td>0.021211</td>\n",
       "      <td>0.2</td>\n",
       "      <td>500</td>\n",
       "      <td>{'learning_rate': 0.2, 'n_estimators': 500}</td>\n",
       "      <td>0.590716</td>\n",
       "      <td>0.584808</td>\n",
       "      <td>0.574992</td>\n",
       "      <td>0.564556</td>\n",
       "      <td>0.575428</td>\n",
       "      <td>0.578100</td>\n",
       "      <td>0.008993</td>\n",
       "      <td>4</td>\n",
       "    </tr>\n",
       "    <tr>\n",
       "      <th>3</th>\n",
       "      <td>0.733625</td>\n",
       "      <td>0.013316</td>\n",
       "      <td>0.073001</td>\n",
       "      <td>0.006742</td>\n",
       "      <td>0.5</td>\n",
       "      <td>100</td>\n",
       "      <td>{'learning_rate': 0.5, 'n_estimators': 100}</td>\n",
       "      <td>0.584349</td>\n",
       "      <td>0.591665</td>\n",
       "      <td>0.561230</td>\n",
       "      <td>0.562743</td>\n",
       "      <td>0.570568</td>\n",
       "      <td>0.574111</td>\n",
       "      <td>0.012005</td>\n",
       "      <td>7</td>\n",
       "    </tr>\n",
       "    <tr>\n",
       "      <th>4</th>\n",
       "      <td>1.578761</td>\n",
       "      <td>0.199536</td>\n",
       "      <td>0.147162</td>\n",
       "      <td>0.046458</td>\n",
       "      <td>0.5</td>\n",
       "      <td>200</td>\n",
       "      <td>{'learning_rate': 0.5, 'n_estimators': 200}</td>\n",
       "      <td>0.585424</td>\n",
       "      <td>0.581302</td>\n",
       "      <td>0.575228</td>\n",
       "      <td>0.568914</td>\n",
       "      <td>0.571954</td>\n",
       "      <td>0.576564</td>\n",
       "      <td>0.006042</td>\n",
       "      <td>5</td>\n",
       "    </tr>\n",
       "  </tbody>\n",
       "</table>\n",
       "</div>"
      ],
      "text/plain": [
       "   mean_fit_time  std_fit_time  mean_score_time  std_score_time  \\\n",
       "0       0.745726      0.019466         0.068246        0.000537   \n",
       "1       1.472373      0.021967         0.128433        0.007966   \n",
       "2       3.792070      0.220753         0.311801        0.021211   \n",
       "3       0.733625      0.013316         0.073001        0.006742   \n",
       "4       1.578761      0.199536         0.147162        0.046458   \n",
       "\n",
       "  param_learning_rate param_n_estimators  \\\n",
       "0                 0.2                100   \n",
       "1                 0.2                200   \n",
       "2                 0.2                500   \n",
       "3                 0.5                100   \n",
       "4                 0.5                200   \n",
       "\n",
       "                                        params  split0_test_score  \\\n",
       "0  {'learning_rate': 0.2, 'n_estimators': 100}           0.575259   \n",
       "1  {'learning_rate': 0.2, 'n_estimators': 200}           0.581429   \n",
       "2  {'learning_rate': 0.2, 'n_estimators': 500}           0.590716   \n",
       "3  {'learning_rate': 0.5, 'n_estimators': 100}           0.584349   \n",
       "4  {'learning_rate': 0.5, 'n_estimators': 200}           0.585424   \n",
       "\n",
       "   split1_test_score  split2_test_score  split3_test_score  split4_test_score  \\\n",
       "0           0.583595           0.549683           0.567642           0.577339   \n",
       "1           0.584968           0.556543           0.560114           0.573467   \n",
       "2           0.584808           0.574992           0.564556           0.575428   \n",
       "3           0.591665           0.561230           0.562743           0.570568   \n",
       "4           0.581302           0.575228           0.568914           0.571954   \n",
       "\n",
       "   mean_test_score  std_test_score  rank_test_score  \n",
       "0         0.570703        0.011681                9  \n",
       "1         0.571304        0.011287                8  \n",
       "2         0.578100        0.008993                4  \n",
       "3         0.574111        0.012005                7  \n",
       "4         0.576564        0.006042                5  "
      ]
     },
     "execution_count": 99,
     "metadata": {},
     "output_type": "execute_result"
    }
   ],
   "source": [
    "cv_results_ada=pd.DataFrame(ADA.cv_results_)\n",
    "cv_results_ada.head()"
   ]
  },
  {
   "cell_type": "code",
   "execution_count": 100,
   "metadata": {},
   "outputs": [
    {
     "name": "stdout",
     "output_type": "stream",
     "text": [
      "Best_Score is : 58.08195123745081\n",
      "====================================================================================================\n",
      "best_score :  58.1015635353598\n",
      "best_params :  {'learning_rate': 1.0, 'n_estimators': 500}\n",
      "best_estimator :  AdaBoostClassifier(n_estimators=500, random_state=123)\n",
      "====================================================================================================\n",
      "classification_report is : \n",
      "              precision    recall  f1-score   support\n",
      "\n",
      "           0       0.55      0.55      0.55       710\n",
      "           1       0.58      0.58      0.58       766\n",
      "\n",
      "    accuracy                           0.56      1476\n",
      "   macro avg       0.56      0.56      0.56      1476\n",
      "weighted avg       0.56      0.56      0.56      1476\n",
      "\n",
      "====================================================================================================\n",
      "Accuracy score: 56.30081300813008\n",
      "Precision score: 57.90849673202615\n",
      "Recall score: 57.83289817232375\n",
      "F1 score: 57.870672762900064\n",
      "roc_auc_score_7 :  56.24039274813371\n"
     ]
    }
   ],
   "source": [
    "#The accuracy of the model with the best parameters\n",
    "ada_score=ADA.score(X_test, y_test)\n",
    "print(\"Best_Score is :\" ,ada_score*100)\n",
    "\n",
    "print('='*100)\n",
    "\n",
    "ada_score1=ADA.best_score_\n",
    "print(\"best_score : \",ada_score1*100)\n",
    "print(\"best_params : \",ADA.best_params_)\n",
    "print(\"best_estimator : \",ADA.best_estimator_)\n",
    "\n",
    "print('='*100)\n",
    "\n",
    "# Checking the summary of classification\n",
    "print('classification_report is : ')\n",
    "y_pred = ADA.predict(X_test)\n",
    "print(classification_report(y_test, y_pred))\n",
    "\n",
    "print('='*100)\n",
    "\n",
    "hyper_accuracy_7 = metrics.accuracy_score(y_test, y_pred) \n",
    "print(\"Accuracy score:\",hyper_accuracy_7*100)\n",
    "\n",
    "hyper_precision_7 = metrics.precision_score(y_test, y_pred) \n",
    "print(\"Precision score:\",hyper_precision_7*100)\n",
    "\n",
    "hyper_recall_7 = metrics.recall_score(y_test, y_pred) \n",
    "print(\"Recall score:\",hyper_recall_7*100)\n",
    "\n",
    "hyper_f1_7 = metrics.f1_score(y_test, y_pred)\n",
    "print(\"F1 score:\",hyper_f1_7*100)\n",
    "\n",
    "hyper_roc_auc_7 = roc_auc_score(y_test, y_pred)\n",
    "print('roc_auc_score_7 : ', hyper_roc_auc_7*100)"
   ]
  },
  {
   "cell_type": "markdown",
   "metadata": {},
   "source": [
    "## Feature selection:"
   ]
  },
  {
   "cell_type": "code",
   "execution_count": 101,
   "metadata": {},
   "outputs": [
    {
     "name": "stdout",
     "output_type": "stream",
     "text": [
      "x_test.shape: (1476, 18)\n",
      "X_test_transform_ada.shape: (1476, 18)\n",
      "====================================================================================================\n",
      "Scoree with all features: 0.564\n",
      "Scoree with selected features: 0.579\n",
      "====================================================================================================\n",
      "Num Features: 18\n",
      "Selected Features: [ True  True  True  True  True  True  True  True  True  True  True  True\n",
      "  True  True  True  True  True  True]\n",
      "Feature Ranking: [1 1 1 1 1 1 1 1 1 1 1 1 1 1 1 1 1 1]\n"
     ]
    }
   ],
   "source": [
    "rfe_ada = RFE(classifier_7,n_features_to_select=53)\n",
    "rfe_fit_ada = rfe_ada.fit(X_train,y_train)\n",
    "X_test_transform_ada = rfe_fit_ada.transform(X_test)\n",
    "\n",
    "print(\"x_test.shape: {}\".format(X_test.shape))\n",
    "print(\"X_test_transform_ada.shape: {}\".format(X_test_transform_ada.shape))\n",
    "\n",
    "print(\"=\"*100)\n",
    "\n",
    "classifier_7.fit(X_train,y_train)\n",
    "print(\"Scoree with all features: {:,.3f}\".format(classifier_7.score(X_test,y_test)))\n",
    "classifier_7.fit(X_test_transform_ada,y_test)\n",
    "print(\"Scoree with selected features: {:,.3f}\".format(classifier_7.score(X_test_transform_ada,y_test)))\n",
    "\n",
    "print(\"=\"*100)\n",
    "\n",
    "print(\"Num Features: %d\" % rfe_fit_ada.n_features_)\n",
    "print(\"Selected Features: %s\" % rfe_fit_ada.support_)\n",
    "print(\"Feature Ranking: %s\" % rfe_fit_ada.ranking_)\n"
   ]
  },
  {
   "cell_type": "code",
   "execution_count": 102,
   "metadata": {},
   "outputs": [
    {
     "name": "stdout",
     "output_type": "stream",
     "text": [
      "Scoree with all features: 0.579\n",
      "Scoree with selected features: 0.579\n"
     ]
    }
   ],
   "source": [
    "a7=classifier_7.score(X_test,y_test)\n",
    "print(\"Scoree with all features: {:,.3f}\".format(classifier_7.score(X_test,y_test)))\n",
    "b7=classifier_7.score(X_test_transform_ada,y_test)\n",
    "print(\"Scoree with selected features: {:,.3f}\".format(classifier_7.score(X_test_transform_ada,y_test)))"
   ]
  },
  {
   "cell_type": "code",
   "execution_count": null,
   "metadata": {},
   "outputs": [],
   "source": []
  },
  {
   "cell_type": "code",
   "execution_count": null,
   "metadata": {},
   "outputs": [],
   "source": []
  },
  {
   "cell_type": "markdown",
   "metadata": {},
   "source": [
    "# Comparing Models:"
   ]
  },
  {
   "cell_type": "markdown",
   "metadata": {},
   "source": [
    "#### 1.Without Hyper parameter tuned Scores"
   ]
  },
  {
   "cell_type": "code",
   "execution_count": 103,
   "metadata": {},
   "outputs": [
    {
     "data": {
      "text/html": [
       "<div>\n",
       "<style scoped>\n",
       "    .dataframe tbody tr th:only-of-type {\n",
       "        vertical-align: middle;\n",
       "    }\n",
       "\n",
       "    .dataframe tbody tr th {\n",
       "        vertical-align: top;\n",
       "    }\n",
       "\n",
       "    .dataframe thead th {\n",
       "        text-align: right;\n",
       "    }\n",
       "</style>\n",
       "<table border=\"1\" class=\"dataframe\">\n",
       "  <thead>\n",
       "    <tr style=\"text-align: right;\">\n",
       "      <th></th>\n",
       "      <th>Model</th>\n",
       "      <th>Train_Score</th>\n",
       "      <th>Test_Score</th>\n",
       "      <th>Precision</th>\n",
       "      <th>Recall</th>\n",
       "      <th>F1_Score</th>\n",
       "      <th>Roc_Score</th>\n",
       "    </tr>\n",
       "  </thead>\n",
       "  <tbody>\n",
       "    <tr>\n",
       "      <th>2</th>\n",
       "      <td>Random Forest</td>\n",
       "      <td>1.000000</td>\n",
       "      <td>0.546070</td>\n",
       "      <td>0.567039</td>\n",
       "      <td>0.530026</td>\n",
       "      <td>0.547908</td>\n",
       "      <td>0.546703</td>\n",
       "    </tr>\n",
       "    <tr>\n",
       "      <th>1</th>\n",
       "      <td>Decision Tree</td>\n",
       "      <td>1.000000</td>\n",
       "      <td>0.541328</td>\n",
       "      <td>0.561210</td>\n",
       "      <td>0.532637</td>\n",
       "      <td>0.546551</td>\n",
       "      <td>0.541671</td>\n",
       "    </tr>\n",
       "    <tr>\n",
       "      <th>3</th>\n",
       "      <td>KNN</td>\n",
       "      <td>0.754503</td>\n",
       "      <td>0.527100</td>\n",
       "      <td>0.548023</td>\n",
       "      <td>0.506527</td>\n",
       "      <td>0.526459</td>\n",
       "      <td>0.527912</td>\n",
       "    </tr>\n",
       "    <tr>\n",
       "      <th>5</th>\n",
       "      <td>Gradient Boosting</td>\n",
       "      <td>0.685357</td>\n",
       "      <td>0.581978</td>\n",
       "      <td>0.588375</td>\n",
       "      <td>0.647520</td>\n",
       "      <td>0.616532</td>\n",
       "      <td>0.579394</td>\n",
       "    </tr>\n",
       "    <tr>\n",
       "      <th>6</th>\n",
       "      <td>Ada Boosting</td>\n",
       "      <td>0.565078</td>\n",
       "      <td>0.564363</td>\n",
       "      <td>0.552251</td>\n",
       "      <td>0.848564</td>\n",
       "      <td>0.669068</td>\n",
       "      <td>0.553155</td>\n",
       "    </tr>\n",
       "    <tr>\n",
       "      <th>0</th>\n",
       "      <td>Logistic Regression</td>\n",
       "      <td>0.539221</td>\n",
       "      <td>0.521003</td>\n",
       "      <td>0.535758</td>\n",
       "      <td>0.577023</td>\n",
       "      <td>0.555625</td>\n",
       "      <td>0.518793</td>\n",
       "    </tr>\n",
       "    <tr>\n",
       "      <th>4</th>\n",
       "      <td>SVC</td>\n",
       "      <td>0.515689</td>\n",
       "      <td>0.499322</td>\n",
       "      <td>0.542587</td>\n",
       "      <td>0.224543</td>\n",
       "      <td>0.317636</td>\n",
       "      <td>0.510159</td>\n",
       "    </tr>\n",
       "  </tbody>\n",
       "</table>\n",
       "</div>"
      ],
      "text/plain": [
       "                 Model  Train_Score  Test_Score  Precision    Recall  \\\n",
       "2        Random Forest     1.000000    0.546070   0.567039  0.530026   \n",
       "1        Decision Tree     1.000000    0.541328   0.561210  0.532637   \n",
       "3                  KNN     0.754503    0.527100   0.548023  0.506527   \n",
       "5    Gradient Boosting     0.685357    0.581978   0.588375  0.647520   \n",
       "6         Ada Boosting     0.565078    0.564363   0.552251  0.848564   \n",
       "0  Logistic Regression     0.539221    0.521003   0.535758  0.577023   \n",
       "4                  SVC     0.515689    0.499322   0.542587  0.224543   \n",
       "\n",
       "   F1_Score  Roc_Score  \n",
       "2  0.547908   0.546703  \n",
       "1  0.546551   0.541671  \n",
       "3  0.526459   0.527912  \n",
       "5  0.616532   0.579394  \n",
       "6  0.669068   0.553155  \n",
       "0  0.555625   0.518793  \n",
       "4  0.317636   0.510159  "
      ]
     },
     "execution_count": 103,
     "metadata": {},
     "output_type": "execute_result"
    }
   ],
   "source": [
    "models = pd.DataFrame({\n",
    "    'Model': ['Logistic Regression','Decision Tree','Random Forest','KNN','SVC','Gradient Boosting','Ada Boosting'],\n",
    "    'Train_Score': [train_Acc_1, train_Acc_2,train_Acc_3, train_Acc_4, train_Acc_5, train_Acc_6,train_Acc_7],\n",
    "    'Test_Score': [Acc_1, Acc_2,Acc_3, Acc_4, Acc_5, Acc_6,Acc_7],\n",
    "    'Precision': [precision_1, precision_2,precision_3, precision_4, precision_5, precision_6,precision_7],\n",
    "    'Recall': [recall_1, recall_2,recall_3, recall_4, recall_5, recall_6,recall_7],\n",
    "    'F1_Score': [f1_1,f1_2,f1_3,f1_4,f1_5,f1_6,f1_7],\n",
    "    'Roc_Score':[roc_auc_1,roc_auc_2,roc_auc_3,roc_auc_4,roc_auc_5,roc_auc_6,roc_auc_7]\n",
    "})\n",
    "models.sort_values(by=['Train_Score','Test_Score','Precision','Recall','F1_Score','Roc_Score'], ascending=False)\n"
   ]
  },
  {
   "cell_type": "markdown",
   "metadata": {},
   "source": [
    "#### 2.With Hyper parameter tuned Scores:"
   ]
  },
  {
   "cell_type": "code",
   "execution_count": 104,
   "metadata": {},
   "outputs": [
    {
     "data": {
      "text/html": [
       "<div>\n",
       "<style scoped>\n",
       "    .dataframe tbody tr th:only-of-type {\n",
       "        vertical-align: middle;\n",
       "    }\n",
       "\n",
       "    .dataframe tbody tr th {\n",
       "        vertical-align: top;\n",
       "    }\n",
       "\n",
       "    .dataframe thead th {\n",
       "        text-align: right;\n",
       "    }\n",
       "</style>\n",
       "<table border=\"1\" class=\"dataframe\">\n",
       "  <thead>\n",
       "    <tr style=\"text-align: right;\">\n",
       "      <th></th>\n",
       "      <th>Model</th>\n",
       "      <th>Accuarcy</th>\n",
       "      <th>Precision</th>\n",
       "      <th>Recall</th>\n",
       "      <th>F1_Score</th>\n",
       "      <th>Roc_Score</th>\n",
       "      <th>Tuned_Score</th>\n",
       "    </tr>\n",
       "  </thead>\n",
       "  <tbody>\n",
       "    <tr>\n",
       "      <th>5</th>\n",
       "      <td>Gradient Boosting</td>\n",
       "      <td>0.581978</td>\n",
       "      <td>0.596561</td>\n",
       "      <td>0.588773</td>\n",
       "      <td>0.592641</td>\n",
       "      <td>0.579598</td>\n",
       "      <td>0.585815</td>\n",
       "    </tr>\n",
       "    <tr>\n",
       "      <th>6</th>\n",
       "      <td>Ada Boosting</td>\n",
       "      <td>0.564363</td>\n",
       "      <td>0.579085</td>\n",
       "      <td>0.578329</td>\n",
       "      <td>0.578707</td>\n",
       "      <td>0.562404</td>\n",
       "      <td>0.581016</td>\n",
       "    </tr>\n",
       "    <tr>\n",
       "      <th>2</th>\n",
       "      <td>Random Forest</td>\n",
       "      <td>0.546070</td>\n",
       "      <td>0.554348</td>\n",
       "      <td>0.532637</td>\n",
       "      <td>0.543276</td>\n",
       "      <td>0.535333</td>\n",
       "      <td>0.563543</td>\n",
       "    </tr>\n",
       "    <tr>\n",
       "      <th>1</th>\n",
       "      <td>Decision Tree</td>\n",
       "      <td>0.541328</td>\n",
       "      <td>0.564076</td>\n",
       "      <td>0.701044</td>\n",
       "      <td>0.625146</td>\n",
       "      <td>0.558269</td>\n",
       "      <td>0.573640</td>\n",
       "    </tr>\n",
       "    <tr>\n",
       "      <th>3</th>\n",
       "      <td>KNN</td>\n",
       "      <td>0.527100</td>\n",
       "      <td>0.545806</td>\n",
       "      <td>0.552219</td>\n",
       "      <td>0.548994</td>\n",
       "      <td>0.528222</td>\n",
       "      <td>0.519651</td>\n",
       "    </tr>\n",
       "    <tr>\n",
       "      <th>0</th>\n",
       "      <td>Logistic Regression</td>\n",
       "      <td>0.521003</td>\n",
       "      <td>0.549828</td>\n",
       "      <td>0.626632</td>\n",
       "      <td>0.585723</td>\n",
       "      <td>0.536555</td>\n",
       "      <td>0.554968</td>\n",
       "    </tr>\n",
       "    <tr>\n",
       "      <th>4</th>\n",
       "      <td>SVC</td>\n",
       "      <td>0.499322</td>\n",
       "      <td>0.727273</td>\n",
       "      <td>0.010444</td>\n",
       "      <td>0.020592</td>\n",
       "      <td>0.503109</td>\n",
       "      <td>0.498980</td>\n",
       "    </tr>\n",
       "  </tbody>\n",
       "</table>\n",
       "</div>"
      ],
      "text/plain": [
       "                 Model  Accuarcy  Precision    Recall  F1_Score  Roc_Score  \\\n",
       "5    Gradient Boosting  0.581978   0.596561  0.588773  0.592641   0.579598   \n",
       "6         Ada Boosting  0.564363   0.579085  0.578329  0.578707   0.562404   \n",
       "2        Random Forest  0.546070   0.554348  0.532637  0.543276   0.535333   \n",
       "1        Decision Tree  0.541328   0.564076  0.701044  0.625146   0.558269   \n",
       "3                  KNN  0.527100   0.545806  0.552219  0.548994   0.528222   \n",
       "0  Logistic Regression  0.521003   0.549828  0.626632  0.585723   0.536555   \n",
       "4                  SVC  0.499322   0.727273  0.010444  0.020592   0.503109   \n",
       "\n",
       "   Tuned_Score  \n",
       "5     0.585815  \n",
       "6     0.581016  \n",
       "2     0.563543  \n",
       "1     0.573640  \n",
       "3     0.519651  \n",
       "0     0.554968  \n",
       "4     0.498980  "
      ]
     },
     "execution_count": 104,
     "metadata": {},
     "output_type": "execute_result"
    }
   ],
   "source": [
    "models = pd.DataFrame({\n",
    "    'Model': ['Logistic Regression','Decision Tree','Random Forest','KNN','SVC','Gradient Boosting','Ada Boosting'],\n",
    "    'Accuarcy' : [accuracy_1,accuracy_2,accuracy_3,accuracy_4,accuracy_5,accuracy_6,accuracy_7],\n",
    "    'Precision': [hyper_precision_1, hyper_precision_2,hyper_precision_3,hyper_precision_4, hyper_precision_5, hyper_precision_6,hyper_precision_7],\n",
    "    'Recall': [hyper_recall_1, hyper_recall_2,hyper_recall_3, hyper_recall_4, hyper_recall_5, hyper_recall_6,hyper_recall_7],\n",
    "    'F1_Score': [hyper_f1_1,hyper_f1_2,hyper_f1_3,hyper_f1_4,hyper_f1_5,hyper_f1_6,hyper_f1_7],\n",
    "    'Roc_Score':[hyper_roc_auc_1,hyper_roc_auc_2,hyper_roc_auc_3,hyper_roc_auc_4,hyper_roc_auc_5,hyper_roc_auc_6,hyper_roc_auc_7],\n",
    "    'Tuned_Score' : [logi_score1,dtr_score1,rfr_score1,knn_score1,svc_score1,grad_score1,ada_score1]\n",
    "})\n",
    "models.sort_values(by=['Accuarcy','Precision','Recall','F1_Score','Roc_Score','Tuned_Score'], ascending=False)"
   ]
  },
  {
   "cell_type": "markdown",
   "metadata": {},
   "source": [
    "#### 3.With feature Selection Scores:"
   ]
  },
  {
   "cell_type": "code",
   "execution_count": 105,
   "metadata": {
    "scrolled": true
   },
   "outputs": [
    {
     "data": {
      "text/html": [
       "<div>\n",
       "<style scoped>\n",
       "    .dataframe tbody tr th:only-of-type {\n",
       "        vertical-align: middle;\n",
       "    }\n",
       "\n",
       "    .dataframe tbody tr th {\n",
       "        vertical-align: top;\n",
       "    }\n",
       "\n",
       "    .dataframe thead th {\n",
       "        text-align: right;\n",
       "    }\n",
       "</style>\n",
       "<table border=\"1\" class=\"dataframe\">\n",
       "  <thead>\n",
       "    <tr style=\"text-align: right;\">\n",
       "      <th></th>\n",
       "      <th>Model</th>\n",
       "      <th>Score_1</th>\n",
       "      <th>Score_2</th>\n",
       "    </tr>\n",
       "  </thead>\n",
       "  <tbody>\n",
       "    <tr>\n",
       "      <th>0</th>\n",
       "      <td>Random Forest</td>\n",
       "      <td>1.000000</td>\n",
       "      <td>1.000000</td>\n",
       "    </tr>\n",
       "    <tr>\n",
       "      <th>3</th>\n",
       "      <td>Gradient Boosting</td>\n",
       "      <td>0.758808</td>\n",
       "      <td>0.758808</td>\n",
       "    </tr>\n",
       "    <tr>\n",
       "      <th>1</th>\n",
       "      <td>KNN</td>\n",
       "      <td>0.754065</td>\n",
       "      <td>0.754065</td>\n",
       "    </tr>\n",
       "    <tr>\n",
       "      <th>4</th>\n",
       "      <td>Ada Boosting</td>\n",
       "      <td>0.578591</td>\n",
       "      <td>0.578591</td>\n",
       "    </tr>\n",
       "    <tr>\n",
       "      <th>2</th>\n",
       "      <td>SVC</td>\n",
       "      <td>0.518970</td>\n",
       "      <td>0.518970</td>\n",
       "    </tr>\n",
       "  </tbody>\n",
       "</table>\n",
       "</div>"
      ],
      "text/plain": [
       "               Model   Score_1   Score_2\n",
       "0      Random Forest  1.000000  1.000000\n",
       "3  Gradient Boosting  0.758808  0.758808\n",
       "1                KNN  0.754065  0.754065\n",
       "4       Ada Boosting  0.578591  0.578591\n",
       "2                SVC  0.518970  0.518970"
      ]
     },
     "execution_count": 105,
     "metadata": {},
     "output_type": "execute_result"
    }
   ],
   "source": [
    "models = pd.DataFrame({\n",
    "    'Model': ['Random Forest','KNN','SVC','Gradient Boosting','Ada Boosting'],\n",
    "    'Score_1' : [a3,a4,a5,a6,a7],\n",
    "    'Score_2': [b3,b4,b5,b6,b7]   \n",
    "})\n",
    "models.sort_values(by=['Score_1','Score_2'], ascending=False)"
   ]
  },
  {
   "cell_type": "markdown",
   "metadata": {},
   "source": [
    "#### 4.All Scores:"
   ]
  },
  {
   "cell_type": "code",
   "execution_count": 109,
   "metadata": {},
   "outputs": [
    {
     "data": {
      "text/html": [
       "<div>\n",
       "<style scoped>\n",
       "    .dataframe tbody tr th:only-of-type {\n",
       "        vertical-align: middle;\n",
       "    }\n",
       "\n",
       "    .dataframe tbody tr th {\n",
       "        vertical-align: top;\n",
       "    }\n",
       "\n",
       "    .dataframe thead th {\n",
       "        text-align: right;\n",
       "    }\n",
       "</style>\n",
       "<table border=\"1\" class=\"dataframe\">\n",
       "  <thead>\n",
       "    <tr style=\"text-align: right;\">\n",
       "      <th></th>\n",
       "      <th>Model</th>\n",
       "      <th>Precision</th>\n",
       "      <th>Recall</th>\n",
       "      <th>F1_Score</th>\n",
       "      <th>Roc_Score</th>\n",
       "      <th>Tuned_Score</th>\n",
       "      <th>Precision_1</th>\n",
       "      <th>Recall_1</th>\n",
       "      <th>F1_Score_1</th>\n",
       "      <th>Roc_Score_1</th>\n",
       "      <th>Score_1</th>\n",
       "      <th>Score_2</th>\n",
       "    </tr>\n",
       "  </thead>\n",
       "  <tbody>\n",
       "    <tr>\n",
       "      <th>3</th>\n",
       "      <td>Gradient Boosting</td>\n",
       "      <td>0.588375</td>\n",
       "      <td>0.647520</td>\n",
       "      <td>0.616532</td>\n",
       "      <td>0.579394</td>\n",
       "      <td>0.585815</td>\n",
       "      <td>0.596561</td>\n",
       "      <td>0.588773</td>\n",
       "      <td>0.592641</td>\n",
       "      <td>0.579598</td>\n",
       "      <td>0.758808</td>\n",
       "      <td>0.758808</td>\n",
       "    </tr>\n",
       "    <tr>\n",
       "      <th>0</th>\n",
       "      <td>Random Forest</td>\n",
       "      <td>0.567039</td>\n",
       "      <td>0.530026</td>\n",
       "      <td>0.547908</td>\n",
       "      <td>0.546703</td>\n",
       "      <td>0.563543</td>\n",
       "      <td>0.554348</td>\n",
       "      <td>0.532637</td>\n",
       "      <td>0.543276</td>\n",
       "      <td>0.535333</td>\n",
       "      <td>1.000000</td>\n",
       "      <td>1.000000</td>\n",
       "    </tr>\n",
       "    <tr>\n",
       "      <th>4</th>\n",
       "      <td>Ada Boosting</td>\n",
       "      <td>0.552251</td>\n",
       "      <td>0.848564</td>\n",
       "      <td>0.669068</td>\n",
       "      <td>0.553155</td>\n",
       "      <td>0.581016</td>\n",
       "      <td>0.579085</td>\n",
       "      <td>0.578329</td>\n",
       "      <td>0.578707</td>\n",
       "      <td>0.562404</td>\n",
       "      <td>0.578591</td>\n",
       "      <td>0.578591</td>\n",
       "    </tr>\n",
       "    <tr>\n",
       "      <th>1</th>\n",
       "      <td>KNN</td>\n",
       "      <td>0.548023</td>\n",
       "      <td>0.506527</td>\n",
       "      <td>0.526459</td>\n",
       "      <td>0.527912</td>\n",
       "      <td>0.519651</td>\n",
       "      <td>0.545806</td>\n",
       "      <td>0.552219</td>\n",
       "      <td>0.548994</td>\n",
       "      <td>0.528222</td>\n",
       "      <td>0.754065</td>\n",
       "      <td>0.754065</td>\n",
       "    </tr>\n",
       "    <tr>\n",
       "      <th>2</th>\n",
       "      <td>SVC</td>\n",
       "      <td>0.542587</td>\n",
       "      <td>0.224543</td>\n",
       "      <td>0.317636</td>\n",
       "      <td>0.510159</td>\n",
       "      <td>0.498980</td>\n",
       "      <td>0.727273</td>\n",
       "      <td>0.010444</td>\n",
       "      <td>0.020592</td>\n",
       "      <td>0.503109</td>\n",
       "      <td>0.518970</td>\n",
       "      <td>0.518970</td>\n",
       "    </tr>\n",
       "  </tbody>\n",
       "</table>\n",
       "</div>"
      ],
      "text/plain": [
       "               Model  Precision    Recall  F1_Score  Roc_Score  Tuned_Score  \\\n",
       "3  Gradient Boosting   0.588375  0.647520  0.616532   0.579394     0.585815   \n",
       "0      Random Forest   0.567039  0.530026  0.547908   0.546703     0.563543   \n",
       "4       Ada Boosting   0.552251  0.848564  0.669068   0.553155     0.581016   \n",
       "1                KNN   0.548023  0.506527  0.526459   0.527912     0.519651   \n",
       "2                SVC   0.542587  0.224543  0.317636   0.510159     0.498980   \n",
       "\n",
       "   Precision_1  Recall_1  F1_Score_1  Roc_Score_1   Score_1   Score_2  \n",
       "3     0.596561  0.588773    0.592641     0.579598  0.758808  0.758808  \n",
       "0     0.554348  0.532637    0.543276     0.535333  1.000000  1.000000  \n",
       "4     0.579085  0.578329    0.578707     0.562404  0.578591  0.578591  \n",
       "1     0.545806  0.552219    0.548994     0.528222  0.754065  0.754065  \n",
       "2     0.727273  0.010444    0.020592     0.503109  0.518970  0.518970  "
      ]
     },
     "execution_count": 109,
     "metadata": {},
     "output_type": "execute_result"
    }
   ],
   "source": [
    "models = pd.DataFrame({\n",
    "    'Model': ['Random Forest','KNN','SVC','Gradient Boosting','Ada Boosting'],\n",
    "    #'Train_Score': [train_Acc_3, train_Acc_4, train_Acc_5, train_Acc_6,train_Acc_7],\n",
    "    #'Test_Score': [Acc_3, Acc_4, Acc_5, Acc_6,Acc_7],\n",
    "    'Precision': [precision_3, precision_4, precision_5, precision_6,precision_7],\n",
    "    'Recall': [recall_3, recall_4, recall_5, recall_6,recall_7],\n",
    "    'F1_Score': [f1_3,f1_4,f1_5,f1_6,f1_7],\n",
    "    'Roc_Score':[roc_auc_3,roc_auc_4,roc_auc_5,roc_auc_6,roc_auc_7],\n",
    "    'Tuned_Score' : [rfr_score1,knn_score1,svc_score1,grad_score1,ada_score1],\n",
    "    'Precision_1': [hyper_precision_3,hyper_precision_4, hyper_precision_5, hyper_precision_6,hyper_precision_7],\n",
    "    'Recall_1': [hyper_recall_3, hyper_recall_4, hyper_recall_5, hyper_recall_6,hyper_recall_7],\n",
    "    'F1_Score_1': [hyper_f1_3,hyper_f1_4,hyper_f1_5,hyper_f1_6,hyper_f1_7],\n",
    "    'Roc_Score_1':[hyper_roc_auc_3,hyper_roc_auc_4,hyper_roc_auc_5,hyper_roc_auc_6,hyper_roc_auc_7],\n",
    "    'Score_1' : [a3,a4,a5,a6,a7],\n",
    "    'Score_2': [b3,b4,b5,b6,b7] \n",
    "})\n",
    "models.sort_values(by=['Precision','Recall','F1_Score','Roc_Score','Tuned_Score','Precision_1','Recall_1','F1_Score_1','Roc_Score_1','Score_1','Score_2'], ascending=False)"
   ]
  },
  {
   "cell_type": "markdown",
   "metadata": {},
   "source": [
    "#### 5.Test,Tuned,Feature Scores:"
   ]
  },
  {
   "cell_type": "code",
   "execution_count": 110,
   "metadata": {},
   "outputs": [
    {
     "data": {
      "text/html": [
       "<div>\n",
       "<style scoped>\n",
       "    .dataframe tbody tr th:only-of-type {\n",
       "        vertical-align: middle;\n",
       "    }\n",
       "\n",
       "    .dataframe tbody tr th {\n",
       "        vertical-align: top;\n",
       "    }\n",
       "\n",
       "    .dataframe thead th {\n",
       "        text-align: right;\n",
       "    }\n",
       "</style>\n",
       "<table border=\"1\" class=\"dataframe\">\n",
       "  <thead>\n",
       "    <tr style=\"text-align: right;\">\n",
       "      <th></th>\n",
       "      <th>Model</th>\n",
       "      <th>Test_Score</th>\n",
       "      <th>Tuned_Score</th>\n",
       "      <th>Score_1</th>\n",
       "      <th>Score_2</th>\n",
       "    </tr>\n",
       "  </thead>\n",
       "  <tbody>\n",
       "    <tr>\n",
       "      <th>3</th>\n",
       "      <td>Gradient Boosting</td>\n",
       "      <td>0.581978</td>\n",
       "      <td>0.585815</td>\n",
       "      <td>0.758808</td>\n",
       "      <td>0.758808</td>\n",
       "    </tr>\n",
       "    <tr>\n",
       "      <th>4</th>\n",
       "      <td>Ada Boosting</td>\n",
       "      <td>0.564363</td>\n",
       "      <td>0.581016</td>\n",
       "      <td>0.578591</td>\n",
       "      <td>0.578591</td>\n",
       "    </tr>\n",
       "    <tr>\n",
       "      <th>0</th>\n",
       "      <td>Random Forest</td>\n",
       "      <td>0.546070</td>\n",
       "      <td>0.563543</td>\n",
       "      <td>1.000000</td>\n",
       "      <td>1.000000</td>\n",
       "    </tr>\n",
       "    <tr>\n",
       "      <th>1</th>\n",
       "      <td>KNN</td>\n",
       "      <td>0.527100</td>\n",
       "      <td>0.519651</td>\n",
       "      <td>0.754065</td>\n",
       "      <td>0.754065</td>\n",
       "    </tr>\n",
       "    <tr>\n",
       "      <th>2</th>\n",
       "      <td>SVC</td>\n",
       "      <td>0.499322</td>\n",
       "      <td>0.498980</td>\n",
       "      <td>0.518970</td>\n",
       "      <td>0.518970</td>\n",
       "    </tr>\n",
       "  </tbody>\n",
       "</table>\n",
       "</div>"
      ],
      "text/plain": [
       "               Model  Test_Score  Tuned_Score   Score_1   Score_2\n",
       "3  Gradient Boosting    0.581978     0.585815  0.758808  0.758808\n",
       "4       Ada Boosting    0.564363     0.581016  0.578591  0.578591\n",
       "0      Random Forest    0.546070     0.563543  1.000000  1.000000\n",
       "1                KNN    0.527100     0.519651  0.754065  0.754065\n",
       "2                SVC    0.499322     0.498980  0.518970  0.518970"
      ]
     },
     "execution_count": 110,
     "metadata": {},
     "output_type": "execute_result"
    }
   ],
   "source": [
    "models = pd.DataFrame({\n",
    "    'Model': ['Random Forest','KNN','SVC','Gradient Boosting','Ada Boosting'],\n",
    "    #'Train_Score': [train_Acc_3, train_Acc_4, train_Acc_5, train_Acc_6,train_Acc_7],\n",
    "    'Test_Score': [Acc_3, Acc_4, Acc_5, Acc_6,Acc_7],\n",
    "    'Tuned_Score' : [rfr_score1,knn_score1,svc_score1,grad_score1,ada_score1],\n",
    "    'Score_1' : [a3,a4,a5,a6,a7],\n",
    "    'Score_2': [b3,b4,b5,b6,b7] \n",
    "})\n",
    "models.sort_values(by=['Test_Score','Tuned_Score','Score_1','Score_2'], ascending=False)"
   ]
  },
  {
   "cell_type": "code",
   "execution_count": null,
   "metadata": {},
   "outputs": [],
   "source": []
  }
 ],
 "metadata": {
  "kernelspec": {
   "display_name": "Python 3",
   "language": "python",
   "name": "python3"
  },
  "language_info": {
   "codemirror_mode": {
    "name": "ipython",
    "version": 3
   },
   "file_extension": ".py",
   "mimetype": "text/x-python",
   "name": "python",
   "nbconvert_exporter": "python",
   "pygments_lexer": "ipython3",
   "version": "3.8.5"
  }
 },
 "nbformat": 4,
 "nbformat_minor": 5
}
