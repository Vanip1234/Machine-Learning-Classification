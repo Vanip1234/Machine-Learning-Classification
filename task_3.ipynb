{
 "cells": [
  {
   "cell_type": "markdown",
   "metadata": {},
   "source": [
    "# Task - 3\n",
    "\n",
    "\n",
    "\n",
    "## **Task has been mentioned at the end of this notebook**  "
   ]
  },
  {
   "cell_type": "markdown",
   "metadata": {},
   "source": [
    "## 1. Basic Pandas Operations"
   ]
  },
  {
   "cell_type": "code",
   "execution_count": 1,
   "metadata": {},
   "outputs": [],
   "source": [
    "# Import all the required Libraries\n",
    "\n",
    "import pandas as pd\n",
    "import numpy as np\n",
    "import seaborn as sns\n",
    "import matplotlib.pyplot as plt\n",
    "\n",
    "import warnings\n",
    "warnings.filterwarnings('ignore')\n",
    "\n",
    "from collections import Counter\n",
    "from imblearn import under_sampling, over_sampling\n",
    "from imblearn.over_sampling import RandomOverSampler\n",
    "from imblearn.under_sampling import RandomUnderSampler\n",
    "\n",
    "from sklearn.model_selection import train_test_split\n",
    "\n",
    "from sklearn.linear_model import LogisticRegression\n",
    "from sklearn.tree import DecisionTreeClassifier\n",
    "from sklearn.ensemble import RandomForestClassifier\n",
    "from sklearn.neighbors import KNeighborsClassifier\n",
    "from sklearn import svm\n",
    "from sklearn.ensemble import GradientBoostingClassifier\n",
    "from sklearn.ensemble import AdaBoostClassifier\n",
    "from sklearn import metrics\n",
    "from sklearn.metrics import confusion_matrix,accuracy_score,classification_report,auc,roc_curve,roc_auc_score\n",
    "from sklearn.metrics import classification_report"
   ]
  },
  {
   "cell_type": "code",
   "execution_count": 2,
   "metadata": {
    "scrolled": true
   },
   "outputs": [
    {
     "data": {
      "text/html": [
       "<div>\n",
       "<style scoped>\n",
       "    .dataframe tbody tr th:only-of-type {\n",
       "        vertical-align: middle;\n",
       "    }\n",
       "\n",
       "    .dataframe tbody tr th {\n",
       "        vertical-align: top;\n",
       "    }\n",
       "\n",
       "    .dataframe thead th {\n",
       "        text-align: right;\n",
       "    }\n",
       "</style>\n",
       "<table border=\"1\" class=\"dataframe\">\n",
       "  <thead>\n",
       "    <tr style=\"text-align: right;\">\n",
       "      <th></th>\n",
       "      <th>Unnamed: 0</th>\n",
       "      <th>ID</th>\n",
       "      <th>City_Code</th>\n",
       "      <th>Region_Code</th>\n",
       "      <th>Accomodation_Type</th>\n",
       "      <th>Reco_Insurance_Type</th>\n",
       "      <th>Upper_Age</th>\n",
       "      <th>Lower_Age</th>\n",
       "      <th>Is_Spouse</th>\n",
       "      <th>Health Indicator</th>\n",
       "      <th>Holding_Policy_Duration</th>\n",
       "      <th>Holding_Policy_Type</th>\n",
       "      <th>Reco_Policy_Cat</th>\n",
       "      <th>Reco_Policy_Premium</th>\n",
       "      <th>Response</th>\n",
       "    </tr>\n",
       "  </thead>\n",
       "  <tbody>\n",
       "    <tr>\n",
       "      <th>0</th>\n",
       "      <td>27385</td>\n",
       "      <td>27386</td>\n",
       "      <td>C3</td>\n",
       "      <td>64</td>\n",
       "      <td>Owned</td>\n",
       "      <td>Individual</td>\n",
       "      <td>36</td>\n",
       "      <td>36</td>\n",
       "      <td>No</td>\n",
       "      <td>X1</td>\n",
       "      <td>14+</td>\n",
       "      <td>2.0</td>\n",
       "      <td>16</td>\n",
       "      <td>13320.0</td>\n",
       "      <td>0</td>\n",
       "    </tr>\n",
       "    <tr>\n",
       "      <th>1</th>\n",
       "      <td>33499</td>\n",
       "      <td>33500</td>\n",
       "      <td>C3</td>\n",
       "      <td>2955</td>\n",
       "      <td>Owned</td>\n",
       "      <td>Individual</td>\n",
       "      <td>66</td>\n",
       "      <td>66</td>\n",
       "      <td>No</td>\n",
       "      <td>X6</td>\n",
       "      <td>10</td>\n",
       "      <td>1.0</td>\n",
       "      <td>19</td>\n",
       "      <td>16152.0</td>\n",
       "      <td>0</td>\n",
       "    </tr>\n",
       "    <tr>\n",
       "      <th>2</th>\n",
       "      <td>7997</td>\n",
       "      <td>7998</td>\n",
       "      <td>C1</td>\n",
       "      <td>1542</td>\n",
       "      <td>Rented</td>\n",
       "      <td>Individual</td>\n",
       "      <td>24</td>\n",
       "      <td>24</td>\n",
       "      <td>No</td>\n",
       "      <td>NaN</td>\n",
       "      <td>3</td>\n",
       "      <td>1.0</td>\n",
       "      <td>16</td>\n",
       "      <td>7310.0</td>\n",
       "      <td>0</td>\n",
       "    </tr>\n",
       "    <tr>\n",
       "      <th>3</th>\n",
       "      <td>33032</td>\n",
       "      <td>33033</td>\n",
       "      <td>C26</td>\n",
       "      <td>772</td>\n",
       "      <td>Rented</td>\n",
       "      <td>Individual</td>\n",
       "      <td>75</td>\n",
       "      <td>75</td>\n",
       "      <td>No</td>\n",
       "      <td>X1</td>\n",
       "      <td>1</td>\n",
       "      <td>3.0</td>\n",
       "      <td>16</td>\n",
       "      <td>15792.0</td>\n",
       "      <td>0</td>\n",
       "    </tr>\n",
       "    <tr>\n",
       "      <th>4</th>\n",
       "      <td>30516</td>\n",
       "      <td>30517</td>\n",
       "      <td>C2</td>\n",
       "      <td>1510</td>\n",
       "      <td>Owned</td>\n",
       "      <td>Joint</td>\n",
       "      <td>59</td>\n",
       "      <td>58</td>\n",
       "      <td>Yes</td>\n",
       "      <td>X1</td>\n",
       "      <td>14+</td>\n",
       "      <td>4.0</td>\n",
       "      <td>17</td>\n",
       "      <td>23673.0</td>\n",
       "      <td>0</td>\n",
       "    </tr>\n",
       "  </tbody>\n",
       "</table>\n",
       "</div>"
      ],
      "text/plain": [
       "   Unnamed: 0     ID City_Code  Region_Code Accomodation_Type  \\\n",
       "0       27385  27386        C3           64             Owned   \n",
       "1       33499  33500        C3         2955             Owned   \n",
       "2        7997   7998        C1         1542            Rented   \n",
       "3       33032  33033       C26          772            Rented   \n",
       "4       30516  30517        C2         1510             Owned   \n",
       "\n",
       "  Reco_Insurance_Type  Upper_Age  Lower_Age Is_Spouse Health Indicator  \\\n",
       "0          Individual         36         36        No               X1   \n",
       "1          Individual         66         66        No               X6   \n",
       "2          Individual         24         24        No              NaN   \n",
       "3          Individual         75         75        No               X1   \n",
       "4               Joint         59         58       Yes               X1   \n",
       "\n",
       "  Holding_Policy_Duration  Holding_Policy_Type  Reco_Policy_Cat  \\\n",
       "0                     14+                  2.0               16   \n",
       "1                      10                  1.0               19   \n",
       "2                       3                  1.0               16   \n",
       "3                       1                  3.0               16   \n",
       "4                     14+                  4.0               17   \n",
       "\n",
       "   Reco_Policy_Premium  Response  \n",
       "0              13320.0         0  \n",
       "1              16152.0         0  \n",
       "2               7310.0         0  \n",
       "3              15792.0         0  \n",
       "4              23673.0         0  "
      ]
     },
     "execution_count": 2,
     "metadata": {},
     "output_type": "execute_result"
    }
   ],
   "source": [
    "# Read the dataset and display the head. You will get the output as mentioned below\n",
    "\n",
    "df=pd.read_csv(r\"C:\\Users\\Lenovo\\classfiles\\Machine learning\\train.csv\")\n",
    "df.head()"
   ]
  },
  {
   "cell_type": "code",
   "execution_count": 3,
   "metadata": {},
   "outputs": [
    {
     "data": {
      "text/plain": [
       "(10000, 15)"
      ]
     },
     "execution_count": 3,
     "metadata": {},
     "output_type": "execute_result"
    }
   ],
   "source": [
    "# Check the shape of the dataframe\n",
    "\n",
    "df.shape"
   ]
  },
  {
   "cell_type": "code",
   "execution_count": 4,
   "metadata": {
    "scrolled": true
   },
   "outputs": [
    {
     "name": "stdout",
     "output_type": "stream",
     "text": [
      "<class 'pandas.core.frame.DataFrame'>\n",
      "RangeIndex: 10000 entries, 0 to 9999\n",
      "Data columns (total 15 columns):\n",
      " #   Column                   Non-Null Count  Dtype  \n",
      "---  ------                   --------------  -----  \n",
      " 0   Unnamed: 0               10000 non-null  int64  \n",
      " 1   ID                       10000 non-null  int64  \n",
      " 2   City_Code                10000 non-null  object \n",
      " 3   Region_Code              10000 non-null  int64  \n",
      " 4   Accomodation_Type        10000 non-null  object \n",
      " 5   Reco_Insurance_Type      10000 non-null  object \n",
      " 6   Upper_Age                10000 non-null  int64  \n",
      " 7   Lower_Age                10000 non-null  int64  \n",
      " 8   Is_Spouse                10000 non-null  object \n",
      " 9   Health Indicator         7671 non-null   object \n",
      " 10  Holding_Policy_Duration  5946 non-null   object \n",
      " 11  Holding_Policy_Type      5946 non-null   float64\n",
      " 12  Reco_Policy_Cat          10000 non-null  int64  \n",
      " 13  Reco_Policy_Premium      10000 non-null  float64\n",
      " 14  Response                 10000 non-null  int64  \n",
      "dtypes: float64(2), int64(7), object(6)\n",
      "memory usage: 1.1+ MB\n"
     ]
    }
   ],
   "source": [
    "# On the dataframe apply info() function and observe the Dtypes and Missing Values\n",
    "\n",
    "df.info()"
   ]
  },
  {
   "cell_type": "code",
   "execution_count": 5,
   "metadata": {},
   "outputs": [
    {
     "data": {
      "text/plain": [
       "Unnamed: 0                    0\n",
       "ID                            0\n",
       "City_Code                     0\n",
       "Region_Code                   0\n",
       "Accomodation_Type             0\n",
       "Reco_Insurance_Type           0\n",
       "Upper_Age                     0\n",
       "Lower_Age                     0\n",
       "Is_Spouse                     0\n",
       "Health Indicator           2329\n",
       "Holding_Policy_Duration    4054\n",
       "Holding_Policy_Type        4054\n",
       "Reco_Policy_Cat               0\n",
       "Reco_Policy_Premium           0\n",
       "Response                      0\n",
       "dtype: int64"
      ]
     },
     "execution_count": 5,
     "metadata": {},
     "output_type": "execute_result"
    }
   ],
   "source": [
    "df.isna().sum()"
   ]
  },
  {
   "cell_type": "markdown",
   "metadata": {},
   "source": [
    "## 2. Cleaning the Data"
   ]
  },
  {
   "cell_type": "code",
   "execution_count": 6,
   "metadata": {},
   "outputs": [
    {
     "name": "stdout",
     "output_type": "stream",
     "text": [
      "Unnamed: 0                 0\n",
      "ID                         0\n",
      "City_Code                  0\n",
      "Region_Code                0\n",
      "Accomodation_Type          0\n",
      "Reco_Insurance_Type        0\n",
      "Upper_Age                  0\n",
      "Lower_Age                  0\n",
      "Is_Spouse                  0\n",
      "Health Indicator           0\n",
      "Holding_Policy_Duration    0\n",
      "Holding_Policy_Type        0\n",
      "Reco_Policy_Cat            0\n",
      "Reco_Policy_Premium        0\n",
      "Response                   0\n",
      "dtype: int64\n"
     ]
    }
   ],
   "source": [
    "# Impute the Null values in Health Indicator, Holding_Policy_Duration and Holding_Policy_Type\n",
    "\n",
    "df['Holding_Policy_Type'].fillna(df['Holding_Policy_Type'].mean(), inplace = True)\n",
    "df['Holding_Policy_Duration'].fillna(df['Holding_Policy_Duration'].mode()[0], inplace = True) \n",
    "df['Health Indicator'].fillna(df['Health Indicator'].mode()[0], inplace = True)\n",
    "print(df.isnull().sum())"
   ]
  },
  {
   "cell_type": "code",
   "execution_count": 7,
   "metadata": {},
   "outputs": [
    {
     "data": {
      "text/plain": [
       "14+    4952\n",
       "1       867\n",
       "2       790\n",
       "3       696\n",
       "4       530\n",
       "5       461\n",
       "6       374\n",
       "7       320\n",
       "8       254\n",
       "9       205\n",
       "10      166\n",
       "12      104\n",
       "13      103\n",
       "11       89\n",
       "14       89\n",
       "Name: Holding_Policy_Duration, dtype: int64"
      ]
     },
     "execution_count": 7,
     "metadata": {},
     "output_type": "execute_result"
    }
   ],
   "source": [
    "# Check again Holding_Policy_Duration is in object column convert that into int\n",
    "\n",
    "\n",
    "df['Holding_Policy_Duration'].value_counts()"
   ]
  },
  {
   "cell_type": "code",
   "execution_count": 8,
   "metadata": {},
   "outputs": [
    {
     "data": {
      "text/plain": [
       "14-    5048\n",
       "14+    4952\n",
       "Name: Holding_Policy_Duration, dtype: int64"
      ]
     },
     "execution_count": 8,
     "metadata": {},
     "output_type": "execute_result"
    }
   ],
   "source": [
    "df['Holding_Policy_Duration'] = df['Holding_Policy_Duration'].replace(['1','2','3','4','5','6','7','8','9','10','11','12','13','14'],'14-')\n",
    "df['Holding_Policy_Duration'].value_counts()"
   ]
  },
  {
   "cell_type": "code",
   "execution_count": 9,
   "metadata": {},
   "outputs": [
    {
     "data": {
      "text/plain": [
       "array([0, 1])"
      ]
     },
     "execution_count": 9,
     "metadata": {},
     "output_type": "execute_result"
    }
   ],
   "source": [
    "# Import label encoder\n",
    "from sklearn import preprocessing\n",
    "  \n",
    "# label_encoder object knows how to understand word labels.\n",
    "label_encoder = preprocessing.LabelEncoder()\n",
    "  \n",
    "df['Holding_Policy_Duration'] = label_encoder.fit_transform(df['Holding_Policy_Duration'])\n",
    "df['Holding_Policy_Duration'].unique()"
   ]
  },
  {
   "cell_type": "code",
   "execution_count": 10,
   "metadata": {},
   "outputs": [
    {
     "name": "stdout",
     "output_type": "stream",
     "text": [
      "0     Owned\n",
      "1     Owned\n",
      "2    Rented\n",
      "3    Rented\n",
      "4     Owned\n",
      "Name: Accomodation_Type, dtype: object\n",
      "0    Individual\n",
      "1    Individual\n",
      "2    Individual\n",
      "3    Individual\n",
      "4         Joint\n",
      "Name: Reco_Insurance_Type, dtype: object\n",
      "0     No\n",
      "1     No\n",
      "2     No\n",
      "3     No\n",
      "4    Yes\n",
      "Name: Is_Spouse, dtype: object\n"
     ]
    }
   ],
   "source": [
    "# Observe that ['Accomodation_Type','Reco_Insurance_Type','Is_Spouse'] \n",
    "# above these Object columns have two values - Yes and No\n",
    "\n",
    "print(df['Accomodation_Type'].head())\n",
    "print(df['Reco_Insurance_Type'].head())\n",
    "print(df['Is_Spouse'].head())"
   ]
  },
  {
   "cell_type": "code",
   "execution_count": 11,
   "metadata": {},
   "outputs": [],
   "source": [
    "# Converting all the Yes to 1 and No to 0. \n",
    "\n",
    "\n",
    "\n",
    "# Write a for loop to iterate over the list given above\n",
    "# For each feature use pandas 'apply()' to convert all the 'Yes' to 1 and 'No' to 0\n",
    "\n",
    "%timeit\n",
    "df['Is_Spouse']=df['Is_Spouse'].apply(lambda x:0 if x=='No' else 1)\n",
    "\n",
    "\n",
    "    \n"
   ]
  },
  {
   "cell_type": "code",
   "execution_count": 12,
   "metadata": {},
   "outputs": [
    {
     "data": {
      "text/plain": [
       "0       1\n",
       "1       1\n",
       "2       0\n",
       "3       0\n",
       "4       1\n",
       "       ..\n",
       "9995    1\n",
       "9996    0\n",
       "9997    1\n",
       "9998    0\n",
       "9999    1\n",
       "Name: Accomodation_Type, Length: 10000, dtype: int64"
      ]
     },
     "execution_count": 12,
     "metadata": {},
     "output_type": "execute_result"
    }
   ],
   "source": [
    "%timeit\n",
    "df['Accomodation_Type']=df['Accomodation_Type'].apply(lambda x:0 if x=='Rented' else 1)\n",
    "df['Accomodation_Type']"
   ]
  },
  {
   "cell_type": "code",
   "execution_count": 13,
   "metadata": {},
   "outputs": [
    {
     "data": {
      "text/plain": [
       "0       1\n",
       "1       1\n",
       "2       1\n",
       "3       1\n",
       "4       0\n",
       "       ..\n",
       "9995    0\n",
       "9996    1\n",
       "9997    1\n",
       "9998    1\n",
       "9999    0\n",
       "Name: Reco_Insurance_Type, Length: 10000, dtype: int64"
      ]
     },
     "execution_count": 13,
     "metadata": {},
     "output_type": "execute_result"
    }
   ],
   "source": [
    "%timeit\n",
    "df['Reco_Insurance_Type']=df['Reco_Insurance_Type'].apply(lambda x:0 if x=='Joint' else 1)\n",
    "df['Reco_Insurance_Type']"
   ]
  },
  {
   "cell_type": "code",
   "execution_count": 14,
   "metadata": {},
   "outputs": [
    {
     "data": {
      "text/html": [
       "<div>\n",
       "<style scoped>\n",
       "    .dataframe tbody tr th:only-of-type {\n",
       "        vertical-align: middle;\n",
       "    }\n",
       "\n",
       "    .dataframe tbody tr th {\n",
       "        vertical-align: top;\n",
       "    }\n",
       "\n",
       "    .dataframe thead th {\n",
       "        text-align: right;\n",
       "    }\n",
       "</style>\n",
       "<table border=\"1\" class=\"dataframe\">\n",
       "  <thead>\n",
       "    <tr style=\"text-align: right;\">\n",
       "      <th></th>\n",
       "      <th>Unnamed: 0</th>\n",
       "      <th>ID</th>\n",
       "      <th>City_Code</th>\n",
       "      <th>Region_Code</th>\n",
       "      <th>Accomodation_Type</th>\n",
       "      <th>Reco_Insurance_Type</th>\n",
       "      <th>Upper_Age</th>\n",
       "      <th>Lower_Age</th>\n",
       "      <th>Is_Spouse</th>\n",
       "      <th>Health Indicator</th>\n",
       "      <th>Holding_Policy_Duration</th>\n",
       "      <th>Holding_Policy_Type</th>\n",
       "      <th>Reco_Policy_Cat</th>\n",
       "      <th>Reco_Policy_Premium</th>\n",
       "      <th>Response</th>\n",
       "    </tr>\n",
       "  </thead>\n",
       "  <tbody>\n",
       "    <tr>\n",
       "      <th>0</th>\n",
       "      <td>27385</td>\n",
       "      <td>27386</td>\n",
       "      <td>C3</td>\n",
       "      <td>64</td>\n",
       "      <td>1</td>\n",
       "      <td>1</td>\n",
       "      <td>36</td>\n",
       "      <td>36</td>\n",
       "      <td>0</td>\n",
       "      <td>X1</td>\n",
       "      <td>0</td>\n",
       "      <td>2.0</td>\n",
       "      <td>16</td>\n",
       "      <td>13320.0</td>\n",
       "      <td>0</td>\n",
       "    </tr>\n",
       "    <tr>\n",
       "      <th>1</th>\n",
       "      <td>33499</td>\n",
       "      <td>33500</td>\n",
       "      <td>C3</td>\n",
       "      <td>2955</td>\n",
       "      <td>1</td>\n",
       "      <td>1</td>\n",
       "      <td>66</td>\n",
       "      <td>66</td>\n",
       "      <td>0</td>\n",
       "      <td>X6</td>\n",
       "      <td>1</td>\n",
       "      <td>1.0</td>\n",
       "      <td>19</td>\n",
       "      <td>16152.0</td>\n",
       "      <td>0</td>\n",
       "    </tr>\n",
       "    <tr>\n",
       "      <th>2</th>\n",
       "      <td>7997</td>\n",
       "      <td>7998</td>\n",
       "      <td>C1</td>\n",
       "      <td>1542</td>\n",
       "      <td>0</td>\n",
       "      <td>1</td>\n",
       "      <td>24</td>\n",
       "      <td>24</td>\n",
       "      <td>0</td>\n",
       "      <td>X1</td>\n",
       "      <td>1</td>\n",
       "      <td>1.0</td>\n",
       "      <td>16</td>\n",
       "      <td>7310.0</td>\n",
       "      <td>0</td>\n",
       "    </tr>\n",
       "    <tr>\n",
       "      <th>3</th>\n",
       "      <td>33032</td>\n",
       "      <td>33033</td>\n",
       "      <td>C26</td>\n",
       "      <td>772</td>\n",
       "      <td>0</td>\n",
       "      <td>1</td>\n",
       "      <td>75</td>\n",
       "      <td>75</td>\n",
       "      <td>0</td>\n",
       "      <td>X1</td>\n",
       "      <td>1</td>\n",
       "      <td>3.0</td>\n",
       "      <td>16</td>\n",
       "      <td>15792.0</td>\n",
       "      <td>0</td>\n",
       "    </tr>\n",
       "    <tr>\n",
       "      <th>4</th>\n",
       "      <td>30516</td>\n",
       "      <td>30517</td>\n",
       "      <td>C2</td>\n",
       "      <td>1510</td>\n",
       "      <td>1</td>\n",
       "      <td>0</td>\n",
       "      <td>59</td>\n",
       "      <td>58</td>\n",
       "      <td>1</td>\n",
       "      <td>X1</td>\n",
       "      <td>0</td>\n",
       "      <td>4.0</td>\n",
       "      <td>17</td>\n",
       "      <td>23673.0</td>\n",
       "      <td>0</td>\n",
       "    </tr>\n",
       "  </tbody>\n",
       "</table>\n",
       "</div>"
      ],
      "text/plain": [
       "   Unnamed: 0     ID City_Code  Region_Code  Accomodation_Type  \\\n",
       "0       27385  27386        C3           64                  1   \n",
       "1       33499  33500        C3         2955                  1   \n",
       "2        7997   7998        C1         1542                  0   \n",
       "3       33032  33033       C26          772                  0   \n",
       "4       30516  30517        C2         1510                  1   \n",
       "\n",
       "   Reco_Insurance_Type  Upper_Age  Lower_Age  Is_Spouse Health Indicator  \\\n",
       "0                    1         36         36          0               X1   \n",
       "1                    1         66         66          0               X6   \n",
       "2                    1         24         24          0               X1   \n",
       "3                    1         75         75          0               X1   \n",
       "4                    0         59         58          1               X1   \n",
       "\n",
       "   Holding_Policy_Duration  Holding_Policy_Type  Reco_Policy_Cat  \\\n",
       "0                        0                  2.0               16   \n",
       "1                        1                  1.0               19   \n",
       "2                        1                  1.0               16   \n",
       "3                        1                  3.0               16   \n",
       "4                        0                  4.0               17   \n",
       "\n",
       "   Reco_Policy_Premium  Response  \n",
       "0              13320.0         0  \n",
       "1              16152.0         0  \n",
       "2               7310.0         0  \n",
       "3              15792.0         0  \n",
       "4              23673.0         0  "
      ]
     },
     "execution_count": 14,
     "metadata": {},
     "output_type": "execute_result"
    }
   ],
   "source": [
    "# Now again having a look at all those columns to see if everything went well\n",
    "\n",
    "df.head()"
   ]
  },
  {
   "cell_type": "code",
   "execution_count": 15,
   "metadata": {},
   "outputs": [
    {
     "name": "stdout",
     "output_type": "stream",
     "text": [
      "<class 'pandas.core.frame.DataFrame'>\n",
      "RangeIndex: 10000 entries, 0 to 9999\n",
      "Data columns (total 15 columns):\n",
      " #   Column                   Non-Null Count  Dtype  \n",
      "---  ------                   --------------  -----  \n",
      " 0   Unnamed: 0               10000 non-null  int64  \n",
      " 1   ID                       10000 non-null  int64  \n",
      " 2   City_Code                10000 non-null  object \n",
      " 3   Region_Code              10000 non-null  int64  \n",
      " 4   Accomodation_Type        10000 non-null  int64  \n",
      " 5   Reco_Insurance_Type      10000 non-null  int64  \n",
      " 6   Upper_Age                10000 non-null  int64  \n",
      " 7   Lower_Age                10000 non-null  int64  \n",
      " 8   Is_Spouse                10000 non-null  int64  \n",
      " 9   Health Indicator         10000 non-null  object \n",
      " 10  Holding_Policy_Duration  10000 non-null  int32  \n",
      " 11  Holding_Policy_Type      10000 non-null  float64\n",
      " 12  Reco_Policy_Cat          10000 non-null  int64  \n",
      " 13  Reco_Policy_Premium      10000 non-null  float64\n",
      " 14  Response                 10000 non-null  int64  \n",
      "dtypes: float64(2), int32(1), int64(10), object(2)\n",
      "memory usage: 1.1+ MB\n"
     ]
    }
   ],
   "source": [
    "# Observe that all those columns are now converted from Object to Int64\n",
    "\n",
    "df.info()"
   ]
  },
  {
   "cell_type": "code",
   "execution_count": 16,
   "metadata": {},
   "outputs": [
    {
     "data": {
      "text/plain": [
       "array(['C3', 'C1', 'C26', 'C2', 'C17', 'C4', 'C16', 'C9', 'C23', 'C21',\n",
       "       'C6', 'C7', 'C11', 'C22', 'C15', 'C13', 'C8', 'C35', 'C29', 'C33',\n",
       "       'C10', 'C12', 'C19', 'C5', 'C18', 'C14', 'C24', 'C27', 'C20',\n",
       "       'C34', 'C36', 'C25', 'C28', 'C32', 'C30', 'C31'], dtype=object)"
      ]
     },
     "execution_count": 16,
     "metadata": {},
     "output_type": "execute_result"
    }
   ],
   "source": [
    "# Checking all the Object Dtypes - Here, these columns have more than 2 categories\n",
    "\n",
    "df['City_Code'].unique()"
   ]
  },
  {
   "cell_type": "code",
   "execution_count": 17,
   "metadata": {},
   "outputs": [
    {
     "data": {
      "text/plain": [
       "array(['X1', 'X6', 'X4', 'X2', 'X3', 'X5', 'X8', 'X7', 'X9'], dtype=object)"
      ]
     },
     "execution_count": 17,
     "metadata": {},
     "output_type": "execute_result"
    }
   ],
   "source": [
    "df['Health Indicator'].unique()"
   ]
  },
  {
   "cell_type": "code",
   "execution_count": 18,
   "metadata": {},
   "outputs": [
    {
     "data": {
      "text/html": [
       "<div>\n",
       "<style scoped>\n",
       "    .dataframe tbody tr th:only-of-type {\n",
       "        vertical-align: middle;\n",
       "    }\n",
       "\n",
       "    .dataframe tbody tr th {\n",
       "        vertical-align: top;\n",
       "    }\n",
       "\n",
       "    .dataframe thead th {\n",
       "        text-align: right;\n",
       "    }\n",
       "</style>\n",
       "<table border=\"1\" class=\"dataframe\">\n",
       "  <thead>\n",
       "    <tr style=\"text-align: right;\">\n",
       "      <th></th>\n",
       "      <th>City_Code</th>\n",
       "      <th>Health Indicator</th>\n",
       "    </tr>\n",
       "  </thead>\n",
       "  <tbody>\n",
       "    <tr>\n",
       "      <th>0</th>\n",
       "      <td>C3</td>\n",
       "      <td>X1</td>\n",
       "    </tr>\n",
       "    <tr>\n",
       "      <th>1</th>\n",
       "      <td>C3</td>\n",
       "      <td>X6</td>\n",
       "    </tr>\n",
       "    <tr>\n",
       "      <th>2</th>\n",
       "      <td>C1</td>\n",
       "      <td>X1</td>\n",
       "    </tr>\n",
       "    <tr>\n",
       "      <th>3</th>\n",
       "      <td>C26</td>\n",
       "      <td>X1</td>\n",
       "    </tr>\n",
       "    <tr>\n",
       "      <th>4</th>\n",
       "      <td>C2</td>\n",
       "      <td>X1</td>\n",
       "    </tr>\n",
       "    <tr>\n",
       "      <th>...</th>\n",
       "      <td>...</td>\n",
       "      <td>...</td>\n",
       "    </tr>\n",
       "    <tr>\n",
       "      <th>9995</th>\n",
       "      <td>C3</td>\n",
       "      <td>X5</td>\n",
       "    </tr>\n",
       "    <tr>\n",
       "      <th>9996</th>\n",
       "      <td>C5</td>\n",
       "      <td>X1</td>\n",
       "    </tr>\n",
       "    <tr>\n",
       "      <th>9997</th>\n",
       "      <td>C1</td>\n",
       "      <td>X1</td>\n",
       "    </tr>\n",
       "    <tr>\n",
       "      <th>9998</th>\n",
       "      <td>C1</td>\n",
       "      <td>X5</td>\n",
       "    </tr>\n",
       "    <tr>\n",
       "      <th>9999</th>\n",
       "      <td>C7</td>\n",
       "      <td>X2</td>\n",
       "    </tr>\n",
       "  </tbody>\n",
       "</table>\n",
       "<p>10000 rows × 2 columns</p>\n",
       "</div>"
      ],
      "text/plain": [
       "     City_Code Health Indicator\n",
       "0           C3               X1\n",
       "1           C3               X6\n",
       "2           C1               X1\n",
       "3          C26               X1\n",
       "4           C2               X1\n",
       "...        ...              ...\n",
       "9995        C3               X5\n",
       "9996        C5               X1\n",
       "9997        C1               X1\n",
       "9998        C1               X5\n",
       "9999        C7               X2\n",
       "\n",
       "[10000 rows x 2 columns]"
      ]
     },
     "execution_count": 18,
     "metadata": {},
     "output_type": "execute_result"
    }
   ],
   "source": [
    "# You can also do this to separate Object columns\n",
    "\n",
    "df_categorical=df.select_dtypes(include='object')\n",
    "df_categorical"
   ]
  },
  {
   "cell_type": "code",
   "execution_count": 19,
   "metadata": {},
   "outputs": [
    {
     "data": {
      "text/plain": [
       "array([0, 1], dtype=int64)"
      ]
     },
     "execution_count": 19,
     "metadata": {},
     "output_type": "execute_result"
    }
   ],
   "source": [
    "# Lets just try to see what is happening Response. Check the output.\n",
    "\n",
    "df['Response'].unique()"
   ]
  },
  {
   "cell_type": "code",
   "execution_count": 20,
   "metadata": {},
   "outputs": [
    {
     "data": {
      "text/html": [
       "<div>\n",
       "<style scoped>\n",
       "    .dataframe tbody tr th:only-of-type {\n",
       "        vertical-align: middle;\n",
       "    }\n",
       "\n",
       "    .dataframe tbody tr th {\n",
       "        vertical-align: top;\n",
       "    }\n",
       "\n",
       "    .dataframe thead th {\n",
       "        text-align: right;\n",
       "    }\n",
       "</style>\n",
       "<table border=\"1\" class=\"dataframe\">\n",
       "  <thead>\n",
       "    <tr style=\"text-align: right;\">\n",
       "      <th></th>\n",
       "      <th>ID</th>\n",
       "      <th>City_Code</th>\n",
       "      <th>Region_Code</th>\n",
       "      <th>Accomodation_Type</th>\n",
       "      <th>Reco_Insurance_Type</th>\n",
       "      <th>Upper_Age</th>\n",
       "      <th>Lower_Age</th>\n",
       "      <th>Is_Spouse</th>\n",
       "      <th>Health Indicator</th>\n",
       "      <th>Holding_Policy_Duration</th>\n",
       "      <th>Holding_Policy_Type</th>\n",
       "      <th>Reco_Policy_Cat</th>\n",
       "      <th>Reco_Policy_Premium</th>\n",
       "      <th>Response</th>\n",
       "    </tr>\n",
       "  </thead>\n",
       "  <tbody>\n",
       "    <tr>\n",
       "      <th>0</th>\n",
       "      <td>27386</td>\n",
       "      <td>C3</td>\n",
       "      <td>64</td>\n",
       "      <td>1</td>\n",
       "      <td>1</td>\n",
       "      <td>36</td>\n",
       "      <td>36</td>\n",
       "      <td>0</td>\n",
       "      <td>X1</td>\n",
       "      <td>0</td>\n",
       "      <td>2.0</td>\n",
       "      <td>16</td>\n",
       "      <td>13320.0</td>\n",
       "      <td>0</td>\n",
       "    </tr>\n",
       "    <tr>\n",
       "      <th>1</th>\n",
       "      <td>33500</td>\n",
       "      <td>C3</td>\n",
       "      <td>2955</td>\n",
       "      <td>1</td>\n",
       "      <td>1</td>\n",
       "      <td>66</td>\n",
       "      <td>66</td>\n",
       "      <td>0</td>\n",
       "      <td>X6</td>\n",
       "      <td>1</td>\n",
       "      <td>1.0</td>\n",
       "      <td>19</td>\n",
       "      <td>16152.0</td>\n",
       "      <td>0</td>\n",
       "    </tr>\n",
       "    <tr>\n",
       "      <th>2</th>\n",
       "      <td>7998</td>\n",
       "      <td>C1</td>\n",
       "      <td>1542</td>\n",
       "      <td>0</td>\n",
       "      <td>1</td>\n",
       "      <td>24</td>\n",
       "      <td>24</td>\n",
       "      <td>0</td>\n",
       "      <td>X1</td>\n",
       "      <td>1</td>\n",
       "      <td>1.0</td>\n",
       "      <td>16</td>\n",
       "      <td>7310.0</td>\n",
       "      <td>0</td>\n",
       "    </tr>\n",
       "    <tr>\n",
       "      <th>3</th>\n",
       "      <td>33033</td>\n",
       "      <td>C26</td>\n",
       "      <td>772</td>\n",
       "      <td>0</td>\n",
       "      <td>1</td>\n",
       "      <td>75</td>\n",
       "      <td>75</td>\n",
       "      <td>0</td>\n",
       "      <td>X1</td>\n",
       "      <td>1</td>\n",
       "      <td>3.0</td>\n",
       "      <td>16</td>\n",
       "      <td>15792.0</td>\n",
       "      <td>0</td>\n",
       "    </tr>\n",
       "    <tr>\n",
       "      <th>4</th>\n",
       "      <td>30517</td>\n",
       "      <td>C2</td>\n",
       "      <td>1510</td>\n",
       "      <td>1</td>\n",
       "      <td>0</td>\n",
       "      <td>59</td>\n",
       "      <td>58</td>\n",
       "      <td>1</td>\n",
       "      <td>X1</td>\n",
       "      <td>0</td>\n",
       "      <td>4.0</td>\n",
       "      <td>17</td>\n",
       "      <td>23673.0</td>\n",
       "      <td>0</td>\n",
       "    </tr>\n",
       "  </tbody>\n",
       "</table>\n",
       "</div>"
      ],
      "text/plain": [
       "      ID City_Code  Region_Code  Accomodation_Type  Reco_Insurance_Type  \\\n",
       "0  27386        C3           64                  1                    1   \n",
       "1  33500        C3         2955                  1                    1   \n",
       "2   7998        C1         1542                  0                    1   \n",
       "3  33033       C26          772                  0                    1   \n",
       "4  30517        C2         1510                  1                    0   \n",
       "\n",
       "   Upper_Age  Lower_Age  Is_Spouse Health Indicator  Holding_Policy_Duration  \\\n",
       "0         36         36          0               X1                        0   \n",
       "1         66         66          0               X6                        1   \n",
       "2         24         24          0               X1                        1   \n",
       "3         75         75          0               X1                        1   \n",
       "4         59         58          1               X1                        0   \n",
       "\n",
       "   Holding_Policy_Type  Reco_Policy_Cat  Reco_Policy_Premium  Response  \n",
       "0                  2.0               16              13320.0         0  \n",
       "1                  1.0               19              16152.0         0  \n",
       "2                  1.0               16               7310.0         0  \n",
       "3                  3.0               16              15792.0         0  \n",
       "4                  4.0               17              23673.0         0  "
      ]
     },
     "execution_count": 20,
     "metadata": {},
     "output_type": "execute_result"
    }
   ],
   "source": [
    "# Dropping unknown column\n",
    "\n",
    "# Write the code here to drop unknown column and check dataframe shape\n",
    "df=df.drop(['Unnamed: 0'], axis=1)\n",
    "df.head()\n"
   ]
  },
  {
   "cell_type": "code",
   "execution_count": 21,
   "metadata": {},
   "outputs": [
    {
     "data": {
      "text/plain": [
       "(10000, 14)"
      ]
     },
     "execution_count": 21,
     "metadata": {},
     "output_type": "execute_result"
    }
   ],
   "source": [
    "df.shape"
   ]
  },
  {
   "cell_type": "code",
   "execution_count": 22,
   "metadata": {},
   "outputs": [
    {
     "name": "stdout",
     "output_type": "stream",
     "text": [
      "     City_Code Health Indicator\n",
      "0           C3               X1\n",
      "1           C3               X6\n",
      "2           C1               X1\n",
      "3          C26               X1\n",
      "4           C2               X1\n",
      "...        ...              ...\n",
      "9995        C3               X5\n",
      "9996        C5               X1\n",
      "9997        C1               X1\n",
      "9998        C1               X5\n",
      "9999        C7               X2\n",
      "\n",
      "[10000 rows x 2 columns]\n",
      "City_Code           object\n",
      "Health Indicator    object\n",
      "dtype: object\n",
      "(10000, 2)\n"
     ]
    }
   ],
   "source": [
    "# Getting all the Object Dtypes\n",
    "\n",
    "print(df_categorical)\n",
    "print(df_categorical.dtypes)\n",
    "print(df_categorical.shape)"
   ]
  },
  {
   "cell_type": "code",
   "execution_count": 23,
   "metadata": {},
   "outputs": [
    {
     "data": {
      "text/plain": [
       "array([[0., 0., 0., ..., 0., 0., 0.],\n",
       "       [0., 0., 0., ..., 0., 0., 0.],\n",
       "       [1., 0., 0., ..., 0., 0., 0.],\n",
       "       ...,\n",
       "       [1., 0., 0., ..., 0., 0., 0.],\n",
       "       [1., 0., 0., ..., 0., 0., 0.],\n",
       "       [0., 0., 0., ..., 0., 0., 0.]])"
      ]
     },
     "execution_count": 23,
     "metadata": {},
     "output_type": "execute_result"
    }
   ],
   "source": [
    "# Encoding the categorical features\n",
    "\n",
    "\n",
    "\n",
    "# column names are (annoyingly) lost after OneHotEncoding\n",
    "# (i.e. the dataframe is converted to a numpy ndarray)\n",
    "\n",
    "# Write the code here to use 'encoder' to convert all the categorical columns to numerical representations\n",
    "# Take extra care to convert encoded numpy array to dataframe and call that data fram 'df_encoded'\n",
    "\n",
    "from sklearn.preprocessing import OneHotEncoder\n",
    "encoder=OneHotEncoder(sparse=False)\n",
    "df_encoded=encoder.fit_transform(df_categorical)\n",
    "df_encoded"
   ]
  },
  {
   "cell_type": "code",
   "execution_count": 24,
   "metadata": {},
   "outputs": [],
   "source": [
    "df_encoded=pd.get_dummies(df_categorical,drop_first=True)"
   ]
  },
  {
   "cell_type": "code",
   "execution_count": 25,
   "metadata": {},
   "outputs": [
    {
     "name": "stdout",
     "output_type": "stream",
     "text": [
      "      ID  Region_Code  Accomodation_Type  Reco_Insurance_Type  Upper_Age  \\\n",
      "0  27386           64                  1                    1         36   \n",
      "1  33500         2955                  1                    1         66   \n",
      "2   7998         1542                  0                    1         24   \n",
      "3  33033          772                  0                    1         75   \n",
      "4  30517         1510                  1                    0         59   \n",
      "\n",
      "   Lower_Age  Is_Spouse  Holding_Policy_Duration  Holding_Policy_Type  \\\n",
      "0         36          0                        0                  2.0   \n",
      "1         66          0                        1                  1.0   \n",
      "2         24          0                        1                  1.0   \n",
      "3         75          0                        1                  3.0   \n",
      "4         58          1                        0                  4.0   \n",
      "\n",
      "   Reco_Policy_Cat  Reco_Policy_Premium  Response  \n",
      "0               16              13320.0         0  \n",
      "1               19              16152.0         0  \n",
      "2               16               7310.0         0  \n",
      "3               16              15792.0         0  \n",
      "4               17              23673.0         0  \n",
      "(10000, 12)\n"
     ]
    }
   ],
   "source": [
    "df_numerical=df.select_dtypes(include='number')\n",
    "print(df_numerical.head())\n",
    "print(df_numerical.shape)"
   ]
  },
  {
   "cell_type": "code",
   "execution_count": 26,
   "metadata": {},
   "outputs": [
    {
     "data": {
      "text/html": [
       "<div>\n",
       "<style scoped>\n",
       "    .dataframe tbody tr th:only-of-type {\n",
       "        vertical-align: middle;\n",
       "    }\n",
       "\n",
       "    .dataframe tbody tr th {\n",
       "        vertical-align: top;\n",
       "    }\n",
       "\n",
       "    .dataframe thead th {\n",
       "        text-align: right;\n",
       "    }\n",
       "</style>\n",
       "<table border=\"1\" class=\"dataframe\">\n",
       "  <thead>\n",
       "    <tr style=\"text-align: right;\">\n",
       "      <th></th>\n",
       "      <th>ID</th>\n",
       "      <th>Region_Code</th>\n",
       "      <th>Accomodation_Type</th>\n",
       "      <th>Reco_Insurance_Type</th>\n",
       "      <th>Upper_Age</th>\n",
       "      <th>Lower_Age</th>\n",
       "      <th>Is_Spouse</th>\n",
       "      <th>Holding_Policy_Duration</th>\n",
       "      <th>Holding_Policy_Type</th>\n",
       "      <th>Reco_Policy_Cat</th>\n",
       "      <th>...</th>\n",
       "      <th>City_Code_C8</th>\n",
       "      <th>City_Code_C9</th>\n",
       "      <th>Health Indicator_X2</th>\n",
       "      <th>Health Indicator_X3</th>\n",
       "      <th>Health Indicator_X4</th>\n",
       "      <th>Health Indicator_X5</th>\n",
       "      <th>Health Indicator_X6</th>\n",
       "      <th>Health Indicator_X7</th>\n",
       "      <th>Health Indicator_X8</th>\n",
       "      <th>Health Indicator_X9</th>\n",
       "    </tr>\n",
       "  </thead>\n",
       "  <tbody>\n",
       "    <tr>\n",
       "      <th>0</th>\n",
       "      <td>27386</td>\n",
       "      <td>64</td>\n",
       "      <td>1</td>\n",
       "      <td>1</td>\n",
       "      <td>36</td>\n",
       "      <td>36</td>\n",
       "      <td>0</td>\n",
       "      <td>0</td>\n",
       "      <td>2.000000</td>\n",
       "      <td>16</td>\n",
       "      <td>...</td>\n",
       "      <td>0</td>\n",
       "      <td>0</td>\n",
       "      <td>0</td>\n",
       "      <td>0</td>\n",
       "      <td>0</td>\n",
       "      <td>0</td>\n",
       "      <td>0</td>\n",
       "      <td>0</td>\n",
       "      <td>0</td>\n",
       "      <td>0</td>\n",
       "    </tr>\n",
       "    <tr>\n",
       "      <th>1</th>\n",
       "      <td>33500</td>\n",
       "      <td>2955</td>\n",
       "      <td>1</td>\n",
       "      <td>1</td>\n",
       "      <td>66</td>\n",
       "      <td>66</td>\n",
       "      <td>0</td>\n",
       "      <td>1</td>\n",
       "      <td>1.000000</td>\n",
       "      <td>19</td>\n",
       "      <td>...</td>\n",
       "      <td>0</td>\n",
       "      <td>0</td>\n",
       "      <td>0</td>\n",
       "      <td>0</td>\n",
       "      <td>0</td>\n",
       "      <td>0</td>\n",
       "      <td>1</td>\n",
       "      <td>0</td>\n",
       "      <td>0</td>\n",
       "      <td>0</td>\n",
       "    </tr>\n",
       "    <tr>\n",
       "      <th>2</th>\n",
       "      <td>7998</td>\n",
       "      <td>1542</td>\n",
       "      <td>0</td>\n",
       "      <td>1</td>\n",
       "      <td>24</td>\n",
       "      <td>24</td>\n",
       "      <td>0</td>\n",
       "      <td>1</td>\n",
       "      <td>1.000000</td>\n",
       "      <td>16</td>\n",
       "      <td>...</td>\n",
       "      <td>0</td>\n",
       "      <td>0</td>\n",
       "      <td>0</td>\n",
       "      <td>0</td>\n",
       "      <td>0</td>\n",
       "      <td>0</td>\n",
       "      <td>0</td>\n",
       "      <td>0</td>\n",
       "      <td>0</td>\n",
       "      <td>0</td>\n",
       "    </tr>\n",
       "    <tr>\n",
       "      <th>3</th>\n",
       "      <td>33033</td>\n",
       "      <td>772</td>\n",
       "      <td>0</td>\n",
       "      <td>1</td>\n",
       "      <td>75</td>\n",
       "      <td>75</td>\n",
       "      <td>0</td>\n",
       "      <td>1</td>\n",
       "      <td>3.000000</td>\n",
       "      <td>16</td>\n",
       "      <td>...</td>\n",
       "      <td>0</td>\n",
       "      <td>0</td>\n",
       "      <td>0</td>\n",
       "      <td>0</td>\n",
       "      <td>0</td>\n",
       "      <td>0</td>\n",
       "      <td>0</td>\n",
       "      <td>0</td>\n",
       "      <td>0</td>\n",
       "      <td>0</td>\n",
       "    </tr>\n",
       "    <tr>\n",
       "      <th>4</th>\n",
       "      <td>30517</td>\n",
       "      <td>1510</td>\n",
       "      <td>1</td>\n",
       "      <td>0</td>\n",
       "      <td>59</td>\n",
       "      <td>58</td>\n",
       "      <td>1</td>\n",
       "      <td>0</td>\n",
       "      <td>4.000000</td>\n",
       "      <td>17</td>\n",
       "      <td>...</td>\n",
       "      <td>0</td>\n",
       "      <td>0</td>\n",
       "      <td>0</td>\n",
       "      <td>0</td>\n",
       "      <td>0</td>\n",
       "      <td>0</td>\n",
       "      <td>0</td>\n",
       "      <td>0</td>\n",
       "      <td>0</td>\n",
       "      <td>0</td>\n",
       "    </tr>\n",
       "    <tr>\n",
       "      <th>...</th>\n",
       "      <td>...</td>\n",
       "      <td>...</td>\n",
       "      <td>...</td>\n",
       "      <td>...</td>\n",
       "      <td>...</td>\n",
       "      <td>...</td>\n",
       "      <td>...</td>\n",
       "      <td>...</td>\n",
       "      <td>...</td>\n",
       "      <td>...</td>\n",
       "      <td>...</td>\n",
       "      <td>...</td>\n",
       "      <td>...</td>\n",
       "      <td>...</td>\n",
       "      <td>...</td>\n",
       "      <td>...</td>\n",
       "      <td>...</td>\n",
       "      <td>...</td>\n",
       "      <td>...</td>\n",
       "      <td>...</td>\n",
       "      <td>...</td>\n",
       "    </tr>\n",
       "    <tr>\n",
       "      <th>9995</th>\n",
       "      <td>5204</td>\n",
       "      <td>13</td>\n",
       "      <td>1</td>\n",
       "      <td>0</td>\n",
       "      <td>47</td>\n",
       "      <td>40</td>\n",
       "      <td>1</td>\n",
       "      <td>0</td>\n",
       "      <td>2.431719</td>\n",
       "      <td>19</td>\n",
       "      <td>...</td>\n",
       "      <td>0</td>\n",
       "      <td>0</td>\n",
       "      <td>0</td>\n",
       "      <td>0</td>\n",
       "      <td>0</td>\n",
       "      <td>1</td>\n",
       "      <td>0</td>\n",
       "      <td>0</td>\n",
       "      <td>0</td>\n",
       "      <td>0</td>\n",
       "    </tr>\n",
       "    <tr>\n",
       "      <th>9996</th>\n",
       "      <td>35449</td>\n",
       "      <td>1477</td>\n",
       "      <td>0</td>\n",
       "      <td>1</td>\n",
       "      <td>34</td>\n",
       "      <td>34</td>\n",
       "      <td>0</td>\n",
       "      <td>1</td>\n",
       "      <td>1.000000</td>\n",
       "      <td>4</td>\n",
       "      <td>...</td>\n",
       "      <td>0</td>\n",
       "      <td>0</td>\n",
       "      <td>0</td>\n",
       "      <td>0</td>\n",
       "      <td>0</td>\n",
       "      <td>0</td>\n",
       "      <td>0</td>\n",
       "      <td>0</td>\n",
       "      <td>0</td>\n",
       "      <td>0</td>\n",
       "    </tr>\n",
       "    <tr>\n",
       "      <th>9997</th>\n",
       "      <td>47254</td>\n",
       "      <td>2357</td>\n",
       "      <td>1</td>\n",
       "      <td>1</td>\n",
       "      <td>64</td>\n",
       "      <td>64</td>\n",
       "      <td>0</td>\n",
       "      <td>1</td>\n",
       "      <td>2.000000</td>\n",
       "      <td>19</td>\n",
       "      <td>...</td>\n",
       "      <td>0</td>\n",
       "      <td>0</td>\n",
       "      <td>0</td>\n",
       "      <td>0</td>\n",
       "      <td>0</td>\n",
       "      <td>0</td>\n",
       "      <td>0</td>\n",
       "      <td>0</td>\n",
       "      <td>0</td>\n",
       "      <td>0</td>\n",
       "    </tr>\n",
       "    <tr>\n",
       "      <th>9998</th>\n",
       "      <td>42545</td>\n",
       "      <td>1443</td>\n",
       "      <td>0</td>\n",
       "      <td>1</td>\n",
       "      <td>53</td>\n",
       "      <td>53</td>\n",
       "      <td>0</td>\n",
       "      <td>0</td>\n",
       "      <td>3.000000</td>\n",
       "      <td>13</td>\n",
       "      <td>...</td>\n",
       "      <td>0</td>\n",
       "      <td>0</td>\n",
       "      <td>0</td>\n",
       "      <td>0</td>\n",
       "      <td>0</td>\n",
       "      <td>1</td>\n",
       "      <td>0</td>\n",
       "      <td>0</td>\n",
       "      <td>0</td>\n",
       "      <td>0</td>\n",
       "    </tr>\n",
       "    <tr>\n",
       "      <th>9999</th>\n",
       "      <td>7865</td>\n",
       "      <td>1476</td>\n",
       "      <td>1</td>\n",
       "      <td>0</td>\n",
       "      <td>56</td>\n",
       "      <td>47</td>\n",
       "      <td>1</td>\n",
       "      <td>0</td>\n",
       "      <td>3.000000</td>\n",
       "      <td>10</td>\n",
       "      <td>...</td>\n",
       "      <td>0</td>\n",
       "      <td>0</td>\n",
       "      <td>1</td>\n",
       "      <td>0</td>\n",
       "      <td>0</td>\n",
       "      <td>0</td>\n",
       "      <td>0</td>\n",
       "      <td>0</td>\n",
       "      <td>0</td>\n",
       "      <td>0</td>\n",
       "    </tr>\n",
       "  </tbody>\n",
       "</table>\n",
       "<p>10000 rows × 55 columns</p>\n",
       "</div>"
      ],
      "text/plain": [
       "         ID  Region_Code  Accomodation_Type  Reco_Insurance_Type  Upper_Age  \\\n",
       "0     27386           64                  1                    1         36   \n",
       "1     33500         2955                  1                    1         66   \n",
       "2      7998         1542                  0                    1         24   \n",
       "3     33033          772                  0                    1         75   \n",
       "4     30517         1510                  1                    0         59   \n",
       "...     ...          ...                ...                  ...        ...   \n",
       "9995   5204           13                  1                    0         47   \n",
       "9996  35449         1477                  0                    1         34   \n",
       "9997  47254         2357                  1                    1         64   \n",
       "9998  42545         1443                  0                    1         53   \n",
       "9999   7865         1476                  1                    0         56   \n",
       "\n",
       "      Lower_Age  Is_Spouse  Holding_Policy_Duration  Holding_Policy_Type  \\\n",
       "0            36          0                        0             2.000000   \n",
       "1            66          0                        1             1.000000   \n",
       "2            24          0                        1             1.000000   \n",
       "3            75          0                        1             3.000000   \n",
       "4            58          1                        0             4.000000   \n",
       "...         ...        ...                      ...                  ...   \n",
       "9995         40          1                        0             2.431719   \n",
       "9996         34          0                        1             1.000000   \n",
       "9997         64          0                        1             2.000000   \n",
       "9998         53          0                        0             3.000000   \n",
       "9999         47          1                        0             3.000000   \n",
       "\n",
       "      Reco_Policy_Cat  ...  City_Code_C8  City_Code_C9  Health Indicator_X2  \\\n",
       "0                  16  ...             0             0                    0   \n",
       "1                  19  ...             0             0                    0   \n",
       "2                  16  ...             0             0                    0   \n",
       "3                  16  ...             0             0                    0   \n",
       "4                  17  ...             0             0                    0   \n",
       "...               ...  ...           ...           ...                  ...   \n",
       "9995               19  ...             0             0                    0   \n",
       "9996                4  ...             0             0                    0   \n",
       "9997               19  ...             0             0                    0   \n",
       "9998               13  ...             0             0                    0   \n",
       "9999               10  ...             0             0                    1   \n",
       "\n",
       "      Health Indicator_X3  Health Indicator_X4  Health Indicator_X5  \\\n",
       "0                       0                    0                    0   \n",
       "1                       0                    0                    0   \n",
       "2                       0                    0                    0   \n",
       "3                       0                    0                    0   \n",
       "4                       0                    0                    0   \n",
       "...                   ...                  ...                  ...   \n",
       "9995                    0                    0                    1   \n",
       "9996                    0                    0                    0   \n",
       "9997                    0                    0                    0   \n",
       "9998                    0                    0                    1   \n",
       "9999                    0                    0                    0   \n",
       "\n",
       "      Health Indicator_X6  Health Indicator_X7  Health Indicator_X8  \\\n",
       "0                       0                    0                    0   \n",
       "1                       1                    0                    0   \n",
       "2                       0                    0                    0   \n",
       "3                       0                    0                    0   \n",
       "4                       0                    0                    0   \n",
       "...                   ...                  ...                  ...   \n",
       "9995                    0                    0                    0   \n",
       "9996                    0                    0                    0   \n",
       "9997                    0                    0                    0   \n",
       "9998                    0                    0                    0   \n",
       "9999                    0                    0                    0   \n",
       "\n",
       "      Health Indicator_X9  \n",
       "0                       0  \n",
       "1                       0  \n",
       "2                       0  \n",
       "3                       0  \n",
       "4                       0  \n",
       "...                   ...  \n",
       "9995                    0  \n",
       "9996                    0  \n",
       "9997                    0  \n",
       "9998                    0  \n",
       "9999                    0  \n",
       "\n",
       "[10000 rows x 55 columns]"
      ]
     },
     "execution_count": 26,
     "metadata": {},
     "output_type": "execute_result"
    }
   ],
   "source": [
    "# Concatinating the original data frame and onehot encoded dataframe\n",
    "\n",
    "df_main=pd.concat([df_numerical,df_encoded],axis=1)\n",
    "\n",
    "df_main\n"
   ]
  },
  {
   "cell_type": "code",
   "execution_count": 27,
   "metadata": {},
   "outputs": [
    {
     "data": {
      "text/plain": [
       "Index(['ID', 'Region_Code', 'Accomodation_Type', 'Reco_Insurance_Type',\n",
       "       'Upper_Age', 'Lower_Age', 'Is_Spouse', 'Holding_Policy_Duration',\n",
       "       'Holding_Policy_Type', 'Reco_Policy_Cat', 'Reco_Policy_Premium',\n",
       "       'Response', 'City_Code_C10', 'City_Code_C11', 'City_Code_C12',\n",
       "       'City_Code_C13', 'City_Code_C14', 'City_Code_C15', 'City_Code_C16',\n",
       "       'City_Code_C17', 'City_Code_C18', 'City_Code_C19', 'City_Code_C2',\n",
       "       'City_Code_C20', 'City_Code_C21', 'City_Code_C22', 'City_Code_C23',\n",
       "       'City_Code_C24', 'City_Code_C25', 'City_Code_C26', 'City_Code_C27',\n",
       "       'City_Code_C28', 'City_Code_C29', 'City_Code_C3', 'City_Code_C30',\n",
       "       'City_Code_C31', 'City_Code_C32', 'City_Code_C33', 'City_Code_C34',\n",
       "       'City_Code_C35', 'City_Code_C36', 'City_Code_C4', 'City_Code_C5',\n",
       "       'City_Code_C6', 'City_Code_C7', 'City_Code_C8', 'City_Code_C9',\n",
       "       'Health Indicator_X2', 'Health Indicator_X3', 'Health Indicator_X4',\n",
       "       'Health Indicator_X5', 'Health Indicator_X6', 'Health Indicator_X7',\n",
       "       'Health Indicator_X8', 'Health Indicator_X9'],\n",
       "      dtype='object')"
      ]
     },
     "execution_count": 27,
     "metadata": {},
     "output_type": "execute_result"
    }
   ],
   "source": [
    "df_main.columns"
   ]
  },
  {
   "cell_type": "code",
   "execution_count": 28,
   "metadata": {},
   "outputs": [],
   "source": [
    "# Drop all the unwanted columns.\n",
    "df_final = df_main.drop(['ID'],axis=1)\n",
    "\n",
    "\n",
    "# Because we have already encoded them and added to main dataframe\n",
    "\n"
   ]
  },
  {
   "cell_type": "markdown",
   "metadata": {},
   "source": [
    "## Observe that 26.5% datapoints belong to one class rest all belongs to other class. Clearly dataset is having high imbalance.\n",
    "\n",
    "**To Do:**\n",
    "1. Read about Oversampling and Undersampling.\n",
    "2. Perform undersampling."
   ]
  },
  {
   "cell_type": "code",
   "execution_count": 29,
   "metadata": {},
   "outputs": [
    {
     "name": "stdout",
     "output_type": "stream",
     "text": [
      "2459\n"
     ]
    }
   ],
   "source": [
    "# Find Number of samples having one as response\n",
    "\n",
    "one_response = len(df_final[df_final['Response'] == 1])\n",
    "print(one_response)\n",
    "\n"
   ]
  },
  {
   "cell_type": "code",
   "execution_count": 30,
   "metadata": {},
   "outputs": [
    {
     "name": "stdout",
     "output_type": "stream",
     "text": [
      "Int64Index([   0,    1,    2,    3,    4,    5,    6,    7,    8,   10,\n",
      "            ...\n",
      "            9986, 9987, 9989, 9992, 9993, 9994, 9996, 9997, 9998, 9999],\n",
      "           dtype='int64', length=7541)\n"
     ]
    }
   ],
   "source": [
    "# Get indices having zero as response\n",
    "\n",
    "zero_response_indices = df_final[df_final['Response'] == 0].index\n",
    "print(zero_response_indices)\n"
   ]
  },
  {
   "cell_type": "code",
   "execution_count": 31,
   "metadata": {},
   "outputs": [
    {
     "name": "stdout",
     "output_type": "stream",
     "text": [
      "[6201 7201 2225 ... 6290 2290 7661]\n"
     ]
    }
   ],
   "source": [
    "# Random samples of zero indices\n",
    "\n",
    "random_indices = np.random.choice(zero_response_indices, one_response, replace = False)\n",
    "print(random_indices)\n"
   ]
  },
  {
   "cell_type": "code",
   "execution_count": 32,
   "metadata": {},
   "outputs": [
    {
     "name": "stdout",
     "output_type": "stream",
     "text": [
      "Int64Index([   9,   12,   21,   22,   34,   39,   40,   41,   42,   56,\n",
      "            ...\n",
      "            9955, 9959, 9968, 9975, 9980, 9983, 9988, 9990, 9991, 9995],\n",
      "           dtype='int64', length=2459)\n"
     ]
    }
   ],
   "source": [
    "# Find the indices of response having one \n",
    "\n",
    "response_indices = df_final[df_final['Response'] == 1].index\n",
    "print(response_indices)\n"
   ]
  },
  {
   "cell_type": "code",
   "execution_count": 33,
   "metadata": {},
   "outputs": [
    {
     "name": "stdout",
     "output_type": "stream",
     "text": [
      "[   9   12   21 ... 6290 2290 7661]\n"
     ]
    }
   ],
   "source": [
    "# Concat response_indices with random_indices\n",
    "\n",
    "under_sample_indices = np.concatenate([response_indices, random_indices])\n",
    "print(under_sample_indices)\n"
   ]
  },
  {
   "cell_type": "code",
   "execution_count": 34,
   "metadata": {},
   "outputs": [
    {
     "name": "stdout",
     "output_type": "stream",
     "text": [
      "    Region_Code  Accomodation_Type  Reco_Insurance_Type  Upper_Age  Lower_Age  \\\n",
      "9          3377                  0                    1         30         30   \n",
      "12         5029                  1                    1         73         73   \n",
      "21          573                  1                    1         35         35   \n",
      "22          849                  1                    1         42         42   \n",
      "34           71                  1                    1         36         36   \n",
      "\n",
      "    Is_Spouse  Holding_Policy_Duration  Holding_Policy_Type  Reco_Policy_Cat  \\\n",
      "9           0                        0             2.431719               13   \n",
      "12          0                        1             3.000000               15   \n",
      "21          0                        1             3.000000               15   \n",
      "22          0                        1             4.000000               22   \n",
      "34          0                        1             1.000000               16   \n",
      "\n",
      "    Reco_Policy_Premium  ...  City_Code_C8  City_Code_C9  Health Indicator_X2  \\\n",
      "9                7572.0  ...             0             0                    0   \n",
      "12              16666.0  ...             0             0                    0   \n",
      "21               8800.0  ...             0             0                    0   \n",
      "22               9044.0  ...             0             0                    0   \n",
      "34              14872.0  ...             0             0                    0   \n",
      "\n",
      "    Health Indicator_X3  Health Indicator_X4  Health Indicator_X5  \\\n",
      "9                     1                    0                    0   \n",
      "12                    0                    0                    0   \n",
      "21                    0                    1                    0   \n",
      "22                    0                    0                    1   \n",
      "34                    0                    0                    0   \n",
      "\n",
      "    Health Indicator_X6  Health Indicator_X7  Health Indicator_X8  \\\n",
      "9                     0                    0                    0   \n",
      "12                    0                    0                    0   \n",
      "21                    0                    0                    0   \n",
      "22                    0                    0                    0   \n",
      "34                    0                    0                    0   \n",
      "\n",
      "    Health Indicator_X9  \n",
      "9                     0  \n",
      "12                    0  \n",
      "21                    0  \n",
      "22                    0  \n",
      "34                    0  \n",
      "\n",
      "[5 rows x 54 columns]\n"
     ]
    }
   ],
   "source": [
    "# Get Balance Dataframe\n",
    "\n",
    "under_sample = df_final.loc[under_sample_indices]\n",
    "print(under_sample.head())\n"
   ]
  },
  {
   "cell_type": "code",
   "execution_count": 35,
   "metadata": {},
   "outputs": [
    {
     "data": {
      "text/plain": [
       "<AxesSubplot:xlabel='Response', ylabel='count'>"
      ]
     },
     "execution_count": 35,
     "metadata": {},
     "output_type": "execute_result"
    },
    {
     "data": {
      "image/png": "[encoded data removed]",
      "text/plain": [
       "<Figure size 432x288 with 1 Axes>"
      ]
     },
     "metadata": {
      "needs_background": "light"
     },
     "output_type": "display_data"
    }
   ],
   "source": [
    "# Visualising Undersampled Data\n",
    "\n",
    "sns.countplot(x = under_sample['Response'], data = under_sample)"
   ]
  },
  {
   "cell_type": "code",
   "execution_count": 36,
   "metadata": {},
   "outputs": [
    {
     "name": "stdout",
     "output_type": "stream",
     "text": [
      "<class 'pandas.core.frame.DataFrame'>\n",
      "Int64Index: 4918 entries, 9 to 7661\n",
      "Data columns (total 54 columns):\n",
      " #   Column                   Non-Null Count  Dtype  \n",
      "---  ------                   --------------  -----  \n",
      " 0   Region_Code              4918 non-null   int64  \n",
      " 1   Accomodation_Type        4918 non-null   int64  \n",
      " 2   Reco_Insurance_Type      4918 non-null   int64  \n",
      " 3   Upper_Age                4918 non-null   int64  \n",
      " 4   Lower_Age                4918 non-null   int64  \n",
      " 5   Is_Spouse                4918 non-null   int64  \n",
      " 6   Holding_Policy_Duration  4918 non-null   int32  \n",
      " 7   Holding_Policy_Type      4918 non-null   float64\n",
      " 8   Reco_Policy_Cat          4918 non-null   int64  \n",
      " 9   Reco_Policy_Premium      4918 non-null   float64\n",
      " 10  Response                 4918 non-null   int64  \n",
      " 11  City_Code_C10            4918 non-null   uint8  \n",
      " 12  City_Code_C11            4918 non-null   uint8  \n",
      " 13  City_Code_C12            4918 non-null   uint8  \n",
      " 14  City_Code_C13            4918 non-null   uint8  \n",
      " 15  City_Code_C14            4918 non-null   uint8  \n",
      " 16  City_Code_C15            4918 non-null   uint8  \n",
      " 17  City_Code_C16            4918 non-null   uint8  \n",
      " 18  City_Code_C17            4918 non-null   uint8  \n",
      " 19  City_Code_C18            4918 non-null   uint8  \n",
      " 20  City_Code_C19            4918 non-null   uint8  \n",
      " 21  City_Code_C2             4918 non-null   uint8  \n",
      " 22  City_Code_C20            4918 non-null   uint8  \n",
      " 23  City_Code_C21            4918 non-null   uint8  \n",
      " 24  City_Code_C22            4918 non-null   uint8  \n",
      " 25  City_Code_C23            4918 non-null   uint8  \n",
      " 26  City_Code_C24            4918 non-null   uint8  \n",
      " 27  City_Code_C25            4918 non-null   uint8  \n",
      " 28  City_Code_C26            4918 non-null   uint8  \n",
      " 29  City_Code_C27            4918 non-null   uint8  \n",
      " 30  City_Code_C28            4918 non-null   uint8  \n",
      " 31  City_Code_C29            4918 non-null   uint8  \n",
      " 32  City_Code_C3             4918 non-null   uint8  \n",
      " 33  City_Code_C30            4918 non-null   uint8  \n",
      " 34  City_Code_C31            4918 non-null   uint8  \n",
      " 35  City_Code_C32            4918 non-null   uint8  \n",
      " 36  City_Code_C33            4918 non-null   uint8  \n",
      " 37  City_Code_C34            4918 non-null   uint8  \n",
      " 38  City_Code_C35            4918 non-null   uint8  \n",
      " 39  City_Code_C36            4918 non-null   uint8  \n",
      " 40  City_Code_C4             4918 non-null   uint8  \n",
      " 41  City_Code_C5             4918 non-null   uint8  \n",
      " 42  City_Code_C6             4918 non-null   uint8  \n",
      " 43  City_Code_C7             4918 non-null   uint8  \n",
      " 44  City_Code_C8             4918 non-null   uint8  \n",
      " 45  City_Code_C9             4918 non-null   uint8  \n",
      " 46  Health Indicator_X2      4918 non-null   uint8  \n",
      " 47  Health Indicator_X3      4918 non-null   uint8  \n",
      " 48  Health Indicator_X4      4918 non-null   uint8  \n",
      " 49  Health Indicator_X5      4918 non-null   uint8  \n",
      " 50  Health Indicator_X6      4918 non-null   uint8  \n",
      " 51  Health Indicator_X7      4918 non-null   uint8  \n",
      " 52  Health Indicator_X8      4918 non-null   uint8  \n",
      " 53  Health Indicator_X9      4918 non-null   uint8  \n",
      "dtypes: float64(2), int32(1), int64(8), uint8(43)\n",
      "memory usage: 808.4 KB\n"
     ]
    }
   ],
   "source": [
    "under_sample.shape\n",
    "under_sample.info()\n"
   ]
  },
  {
   "cell_type": "code",
   "execution_count": 37,
   "metadata": {},
   "outputs": [
    {
     "data": {
      "text/plain": [
       "(4918, 54)"
      ]
     },
     "execution_count": 37,
     "metadata": {},
     "output_type": "execute_result"
    }
   ],
   "source": [
    "df_under_sample = pd.get_dummies(under_sample)\n",
    "df_under_sample.head()\n",
    "df_under_sample.shape\n"
   ]
  },
  {
   "cell_type": "code",
   "execution_count": 38,
   "metadata": {},
   "outputs": [
    {
     "name": "stdout",
     "output_type": "stream",
     "text": [
      "<class 'pandas.core.frame.DataFrame'>\n",
      "Int64Index: 4918 entries, 9 to 7661\n",
      "Data columns (total 54 columns):\n",
      " #   Column                   Non-Null Count  Dtype  \n",
      "---  ------                   --------------  -----  \n",
      " 0   Region_Code              4918 non-null   int64  \n",
      " 1   Accomodation_Type        4918 non-null   int64  \n",
      " 2   Reco_Insurance_Type      4918 non-null   int64  \n",
      " 3   Upper_Age                4918 non-null   int64  \n",
      " 4   Lower_Age                4918 non-null   int64  \n",
      " 5   Is_Spouse                4918 non-null   int64  \n",
      " 6   Holding_Policy_Duration  4918 non-null   int32  \n",
      " 7   Holding_Policy_Type      4918 non-null   float64\n",
      " 8   Reco_Policy_Cat          4918 non-null   int64  \n",
      " 9   Reco_Policy_Premium      4918 non-null   float64\n",
      " 10  Response                 4918 non-null   int64  \n",
      " 11  City_Code_C10            4918 non-null   uint8  \n",
      " 12  City_Code_C11            4918 non-null   uint8  \n",
      " 13  City_Code_C12            4918 non-null   uint8  \n",
      " 14  City_Code_C13            4918 non-null   uint8  \n",
      " 15  City_Code_C14            4918 non-null   uint8  \n",
      " 16  City_Code_C15            4918 non-null   uint8  \n",
      " 17  City_Code_C16            4918 non-null   uint8  \n",
      " 18  City_Code_C17            4918 non-null   uint8  \n",
      " 19  City_Code_C18            4918 non-null   uint8  \n",
      " 20  City_Code_C19            4918 non-null   uint8  \n",
      " 21  City_Code_C2             4918 non-null   uint8  \n",
      " 22  City_Code_C20            4918 non-null   uint8  \n",
      " 23  City_Code_C21            4918 non-null   uint8  \n",
      " 24  City_Code_C22            4918 non-null   uint8  \n",
      " 25  City_Code_C23            4918 non-null   uint8  \n",
      " 26  City_Code_C24            4918 non-null   uint8  \n",
      " 27  City_Code_C25            4918 non-null   uint8  \n",
      " 28  City_Code_C26            4918 non-null   uint8  \n",
      " 29  City_Code_C27            4918 non-null   uint8  \n",
      " 30  City_Code_C28            4918 non-null   uint8  \n",
      " 31  City_Code_C29            4918 non-null   uint8  \n",
      " 32  City_Code_C3             4918 non-null   uint8  \n",
      " 33  City_Code_C30            4918 non-null   uint8  \n",
      " 34  City_Code_C31            4918 non-null   uint8  \n",
      " 35  City_Code_C32            4918 non-null   uint8  \n",
      " 36  City_Code_C33            4918 non-null   uint8  \n",
      " 37  City_Code_C34            4918 non-null   uint8  \n",
      " 38  City_Code_C35            4918 non-null   uint8  \n",
      " 39  City_Code_C36            4918 non-null   uint8  \n",
      " 40  City_Code_C4             4918 non-null   uint8  \n",
      " 41  City_Code_C5             4918 non-null   uint8  \n",
      " 42  City_Code_C6             4918 non-null   uint8  \n",
      " 43  City_Code_C7             4918 non-null   uint8  \n",
      " 44  City_Code_C8             4918 non-null   uint8  \n",
      " 45  City_Code_C9             4918 non-null   uint8  \n",
      " 46  Health Indicator_X2      4918 non-null   uint8  \n",
      " 47  Health Indicator_X3      4918 non-null   uint8  \n",
      " 48  Health Indicator_X4      4918 non-null   uint8  \n",
      " 49  Health Indicator_X5      4918 non-null   uint8  \n",
      " 50  Health Indicator_X6      4918 non-null   uint8  \n",
      " 51  Health Indicator_X7      4918 non-null   uint8  \n",
      " 52  Health Indicator_X8      4918 non-null   uint8  \n",
      " 53  Health Indicator_X9      4918 non-null   uint8  \n",
      "dtypes: float64(2), int32(1), int64(8), uint8(43)\n",
      "memory usage: 808.4 KB\n"
     ]
    }
   ],
   "source": [
    "# check all the columns of the encoded dataframe\n",
    "\n",
    "df_under_sample.info()\n"
   ]
  },
  {
   "cell_type": "code",
   "execution_count": 39,
   "metadata": {},
   "outputs": [
    {
     "data": {
      "text/plain": [
       "(4918, 19)"
      ]
     },
     "execution_count": 39,
     "metadata": {},
     "output_type": "execute_result"
    }
   ],
   "source": [
    "# Drop all the unwanted columns.\n",
    "\n",
    "\n",
    "# Because we have already encoded them and added to main dataframe\n",
    "\n",
    "df_under_sample.drop(['City_Code_C10', 'City_Code_C11',\n",
    "       'City_Code_C12', 'City_Code_C13', 'City_Code_C14', 'City_Code_C15',\n",
    "       'City_Code_C16', 'City_Code_C17', 'City_Code_C18', 'City_Code_C19',\n",
    "       'City_Code_C2', 'City_Code_C20', 'City_Code_C21', 'City_Code_C22',\n",
    "       'City_Code_C23', 'City_Code_C24', 'City_Code_C25', 'City_Code_C26',\n",
    "       'City_Code_C27', 'City_Code_C28', 'City_Code_C29', 'City_Code_C3',\n",
    "       'City_Code_C30', 'City_Code_C31', 'City_Code_C32', 'City_Code_C33',\n",
    "       'City_Code_C34', 'City_Code_C35', 'City_Code_C36', 'City_Code_C4',\n",
    "       'City_Code_C5', 'City_Code_C6', 'City_Code_C7', 'City_Code_C8',\n",
    "       'City_Code_C9'], axis = 1, inplace = True)\n",
    "df_under_sample.shape"
   ]
  },
  {
   "cell_type": "markdown",
   "metadata": {},
   "source": [
    "## Train Test Split\n",
    "\n",
    "**To Do:**\n",
    "1. Sandardise the data\n",
    "2. Perform 80-20 split"
   ]
  },
  {
   "cell_type": "code",
   "execution_count": 40,
   "metadata": {},
   "outputs": [
    {
     "name": "stdout",
     "output_type": "stream",
     "text": [
      "(3442, 18) (1476, 18) (3442, 1) (1476, 1)\n"
     ]
    }
   ],
   "source": [
    "X = df_under_sample.loc[:,df_under_sample.columns != 'Response']\n",
    "y = df_under_sample.loc[:,df_under_sample.columns == 'Response']\n",
    "\n",
    "# Standardize the data\n",
    "from sklearn.model_selection import train_test_split\n",
    "\n",
    "X_train, X_test, y_train, y_test = train_test_split(X, y, test_size = 0.3, random_state = 42)\n",
    "print(X_train.shape,X_test.shape,y_train.shape,y_test.shape)"
   ]
  },
  {
   "cell_type": "markdown",
   "metadata": {},
   "source": [
    "## Model Building - Logistic Regression, SVM, KNN, DT, RF, Gradient Boosting, AdaBoosting etc\n",
    "\n",
    "For all the algorithms mentioned above, perform below mentioned steps.\n",
    "\n",
    "**To Do:**\n",
    "1. Train the Model using `Accuracy` as the evaluation metric\n",
    "2. Predict\n",
    "3. Evaluate use Accuracy, Confusion Matrix, Precision & Recall, F1-score and ROC AUC to understand model performance\n",
    "4. Compare the perormance of all the models"
   ]
  },
  {
   "cell_type": "markdown",
   "metadata": {},
   "source": [
    "## 1.Logistic Regression"
   ]
  },
  {
   "cell_type": "code",
   "execution_count": 41,
   "metadata": {},
   "outputs": [
    {
     "data": {
      "text/plain": [
       "LogisticRegression(random_state=0, solver='liblinear')"
      ]
     },
     "execution_count": 41,
     "metadata": {},
     "output_type": "execute_result"
    }
   ],
   "source": [
    "# Logistic Regression Classifier\n",
    "\n",
    "classifier_1 = LogisticRegression(random_state=0, solver=\"liblinear\")\n",
    "classifier_1.fit(X_train, y_train)\n"
   ]
  },
  {
   "cell_type": "code",
   "execution_count": 42,
   "metadata": {},
   "outputs": [
    {
     "data": {
      "text/plain": [
       "{'C': 1.0,\n",
       " 'class_weight': None,\n",
       " 'dual': False,\n",
       " 'fit_intercept': True,\n",
       " 'intercept_scaling': 1,\n",
       " 'l1_ratio': None,\n",
       " 'max_iter': 100,\n",
       " 'multi_class': 'auto',\n",
       " 'n_jobs': None,\n",
       " 'penalty': 'l2',\n",
       " 'random_state': 0,\n",
       " 'solver': 'liblinear',\n",
       " 'tol': 0.0001,\n",
       " 'verbose': 0,\n",
       " 'warm_start': False}"
      ]
     },
     "execution_count": 42,
     "metadata": {},
     "output_type": "execute_result"
    }
   ],
   "source": [
    "# parameters\n",
    "classifier_1.get_params(deep=True)"
   ]
  },
  {
   "cell_type": "code",
   "execution_count": 43,
   "metadata": {},
   "outputs": [
    {
     "name": "stdout",
     "output_type": "stream",
     "text": [
      "Train_Score :  54.35793143521208\n",
      "Test_Score :  53.04878048780488\n"
     ]
    }
   ],
   "source": [
    "\n",
    "#  Predict\n",
    "y_pred_logi = classifier_1.predict(X_test)\n",
    "\n",
    "# Generate predictions\n",
    "predictions_logi_train =classifier_1.predict(X_train)\n",
    "predictions_logi_test= classifier_1.predict(X_test)\n",
    "\n",
    "#ACCURACY = TRAIN DATA SCORE \n",
    "train_Acc_1=classifier_1.score(X_train,y_train) \n",
    "print('Train_Score : ',train_Acc_1*100)\n",
    "\n",
    "#ACCURACY = TEST DATA SCORE \n",
    "Acc_1=classifier_1.score(X_test, y_test)\n",
    "print('Test_Score : ',Acc_1*100)\n",
    "\n",
    "\n"
   ]
  },
  {
   "cell_type": "code",
   "execution_count": 44,
   "metadata": {},
   "outputs": [
    {
     "name": "stdout",
     "output_type": "stream",
     "text": [
      "confusion_matrix is : \n",
      "[[349 361]\n",
      " [332 434]]\n",
      "====================================================================================================\n",
      "Accuracy score: 53.04878048780488\n",
      "Precision score: 54.59119496855346\n",
      "Recall score: 56.6579634464752\n",
      "F1 score: 55.605381165919276\n",
      "roc_auc_score_1 :  52.906446511969996\n",
      "====================================================================================================\n",
      "classification_report is : \n",
      "              precision    recall  f1-score   support\n",
      "\n",
      "           0       0.51      0.49      0.50       710\n",
      "           1       0.55      0.57      0.56       766\n",
      "\n",
      "    accuracy                           0.53      1476\n",
      "   macro avg       0.53      0.53      0.53      1476\n",
      "weighted avg       0.53      0.53      0.53      1476\n",
      "\n",
      "====================================================================================================\n",
      "[0.        0.5025729 1.       ] [0.         0.59125812 1.        ] [2 1 0]\n",
      "[0.        0.5084507 1.       ] [0.         0.56657963 1.        ] [2 1 0]\n",
      "====================================================================================================\n",
      "Train AUC: 0.544\n",
      "Test AUC: 0.529\n",
      "====================================================================================================\n"
     ]
    },
    {
     "data": {
      "image/png": "[encoded data removed]",
      "text/plain": [
       "<Figure size 1080x576 with 1 Axes>"
      ]
     },
     "metadata": {
      "needs_background": "light"
     },
     "output_type": "display_data"
    }
   ],
   "source": [
    "#  Confusion Matrix\n",
    "print('confusion_matrix is : ')\n",
    "cm_1= metrics.confusion_matrix(y_test, y_pred_logi) \n",
    "print(cm_1)\n",
    "\n",
    "print('='*100)\n",
    "\n",
    "accuracy_1 = metrics.accuracy_score(y_test, y_pred_logi) \n",
    "print(\"Accuracy score:\",accuracy_1*100)\n",
    "\n",
    "precision_1 = metrics.precision_score(y_test, y_pred_logi) \n",
    "print(\"Precision score:\",precision_1*100)\n",
    "\n",
    "recall_1 = metrics.recall_score(y_test, y_pred_logi) \n",
    "print(\"Recall score:\",recall_1*100)\n",
    "\n",
    "f1_1 = metrics.f1_score(y_test,y_pred_logi)\n",
    "print(\"F1 score:\",f1_1*100)\n",
    "\n",
    "roc_auc_1 = roc_auc_score(y_test, predictions_logi_test)\n",
    "print('roc_auc_score_1 : ', roc_auc_1*100)\n",
    "\n",
    "print('='*100)\n",
    "\n",
    "# Checking the summary of classification\n",
    "print('classification_report is : ')\n",
    "print(classification_report(y_test, predictions_logi_test))\n",
    "\n",
    "print('='*100)\n",
    "\n",
    "# calculate ROC\n",
    "FPR, TPR, LRM = roc_curve(y_train, predictions_logi_train)\n",
    "FPR1, TPR1, LRM = roc_curve(y_test,predictions_logi_test)\n",
    "print(FPR, TPR, LRM)\n",
    "print(FPR1, TPR1, LRM)\n",
    "\n",
    "print('='*100)\n",
    "\n",
    "# calculate AUC\n",
    "auc_train_logi = auc(FPR, TPR)\n",
    "print('Train AUC: %0.3f' % auc_train_logi)\n",
    "\n",
    "auc_test_logi = auc(FPR1, TPR1)\n",
    "print('Test AUC: %0.3f' % auc_test_logi)\n",
    "\n",
    "print('='*100)\n",
    "\n",
    "# plot the ROC curve\n",
    "plt.figure(figsize=(15,8))\n",
    "plt.plot(FPR, TPR, label = 'Train AUC: %0.3f'%auc_train_logi)\n",
    "plt.plot(FPR1, TPR1, label = 'Test AUC: %0.3f'%auc_test_logi)\n",
    "\n",
    "plt.plot([1,0],[1,0], ls = '--', color = 'blue', lw = 0.90)\n",
    "\n",
    "plt.title('ROC Curve')\n",
    "plt.legend()\n",
    "plt.show();"
   ]
  },
  {
   "cell_type": "code",
   "execution_count": null,
   "metadata": {},
   "outputs": [],
   "source": []
  },
  {
   "cell_type": "markdown",
   "metadata": {},
   "source": [
    "## 2.Decision Tree"
   ]
  },
  {
   "cell_type": "code",
   "execution_count": 45,
   "metadata": {},
   "outputs": [
    {
     "data": {
      "text/plain": [
       "DecisionTreeClassifier(criterion='entropy', random_state=0)"
      ]
     },
     "execution_count": 45,
     "metadata": {},
     "output_type": "execute_result"
    }
   ],
   "source": [
    "#  Fit the classifier\n",
    "\n",
    "classifier_2 = DecisionTreeClassifier(criterion = \"entropy\", random_state=0)\n",
    "classifier_2.fit(X_train, y_train)"
   ]
  },
  {
   "cell_type": "code",
   "execution_count": 46,
   "metadata": {},
   "outputs": [
    {
     "data": {
      "text/plain": [
       "{'ccp_alpha': 0.0,\n",
       " 'class_weight': None,\n",
       " 'criterion': 'entropy',\n",
       " 'max_depth': None,\n",
       " 'max_features': None,\n",
       " 'max_leaf_nodes': None,\n",
       " 'min_impurity_decrease': 0.0,\n",
       " 'min_impurity_split': None,\n",
       " 'min_samples_leaf': 1,\n",
       " 'min_samples_split': 2,\n",
       " 'min_weight_fraction_leaf': 0.0,\n",
       " 'random_state': 0,\n",
       " 'splitter': 'best'}"
      ]
     },
     "execution_count": 46,
     "metadata": {},
     "output_type": "execute_result"
    }
   ],
   "source": [
    "# parameters\n",
    "classifier_2.get_params(deep=True)"
   ]
  },
  {
   "cell_type": "code",
   "execution_count": 47,
   "metadata": {},
   "outputs": [
    {
     "name": "stdout",
     "output_type": "stream",
     "text": [
      "Train_Score :  100.0\n",
      "Test_Score :  54.87804878048781\n"
     ]
    }
   ],
   "source": [
    "\n",
    "# Making predictions on Test data\n",
    "y_pred_dtr= classifier_2.predict(X_test)\n",
    "\n",
    "# Generate predictions\n",
    "predictions_dtr_train =classifier_2.predict(X_train)\n",
    "predictions_dtr_test= classifier_2.predict(X_test)\n",
    "\n",
    "#ACCURACY = TRAIN DATA SCORE \n",
    "train_Acc_2=classifier_2.score(X_train,y_train)          \n",
    "print('Train_Score : ',train_Acc_2*100)\n",
    "\n",
    "#ACCURACY = TEST DATA SCORE \n",
    "Acc_2=classifier_2.score(X_test, y_test)  \n",
    "print('Test_Score : ',Acc_2*100)\n"
   ]
  },
  {
   "cell_type": "code",
   "execution_count": 48,
   "metadata": {},
   "outputs": [
    {
     "name": "stdout",
     "output_type": "stream",
     "text": [
      "confusion_matrix is : \n",
      "[[402 308]\n",
      " [358 408]]\n",
      "====================================================================================================\n",
      "Accuracy score: 54.87804878048781\n",
      "Precision score: 56.98324022346368\n",
      "Recall score: 53.26370757180157\n",
      "F1 score: 55.06072874493927\n",
      "roc_auc_score_2 :  54.94171294083036\n",
      "====================================================================================================\n",
      "classification_report is : \n",
      "              precision    recall  f1-score   support\n",
      "\n",
      "          NO       0.53      0.57      0.55       710\n",
      "         YES       0.57      0.53      0.55       766\n",
      "\n",
      "    accuracy                           0.55      1476\n",
      "   macro avg       0.55      0.55      0.55      1476\n",
      "weighted avg       0.55      0.55      0.55      1476\n",
      "\n",
      "====================================================================================================\n",
      "[0. 0. 1.] [0. 1. 1.] [2 1 0]\n",
      "[0.         0.43380282 1.        ] [0.         0.53263708 1.        ] [2 1 0]\n",
      "====================================================================================================\n",
      "Train AUC: 1.000\n",
      "Test AUC: 0.549\n",
      "====================================================================================================\n"
     ]
    },
    {
     "data": {
      "image/png": "[encoded data removed]",
      "text/plain": [
       "<Figure size 1080x576 with 1 Axes>"
      ]
     },
     "metadata": {
      "needs_background": "light"
     },
     "output_type": "display_data"
    }
   ],
   "source": [
    "#  Evaluate the model performance\n",
    "print('confusion_matrix is : ')\n",
    "cm_2 = metrics.confusion_matrix(y_test, y_pred_dtr) \n",
    "print(cm_2)\n",
    "\n",
    "print('='*100)\n",
    "\n",
    "accuracy_2 = metrics.accuracy_score(y_test, y_pred_dtr) \n",
    "print(\"Accuracy score:\",accuracy_2*100)\n",
    "\n",
    "precision_2 = metrics.precision_score(y_test, y_pred_dtr) \n",
    "print(\"Precision score:\",precision_2*100)\n",
    "\n",
    "recall_2 = metrics.recall_score(y_test, y_pred_dtr) \n",
    "print(\"Recall score:\",recall_2*100)\n",
    "\n",
    "f1_2 = metrics.f1_score(y_test,y_pred_dtr) \n",
    "print(\"F1 score:\",f1_2*100)\n",
    "\n",
    "roc_auc_2 = roc_auc_score(y_test, predictions_dtr_test)\n",
    "print('roc_auc_score_2 : ', roc_auc_2*100)\n",
    "\n",
    "print('='*100)\n",
    "\n",
    " # Checking the summary of classification\n",
    "print('classification_report is : ')\n",
    "print(classification_report(y_test, predictions_dtr_test, target_names = ['NO', 'YES']))\n",
    "\n",
    "print('='*100)\n",
    "\n",
    "# calculate ROC\n",
    "FPR, TPR, LRM = roc_curve(y_train, predictions_dtr_train)\n",
    "FPR1, TPR1, LRM = roc_curve(y_test,predictions_dtr_test)\n",
    "print(FPR, TPR, LRM)\n",
    "print(FPR1, TPR1, LRM)\n",
    "\n",
    "print('='*100)\n",
    "\n",
    "# calculate AUC\n",
    "auc_train_dtr = auc(FPR, TPR)\n",
    "print('Train AUC: %0.3f' % auc_train_dtr)\n",
    "\n",
    "auc_test_dtr = auc(FPR1, TPR1)\n",
    "print('Test AUC: %0.3f' % auc_test_dtr)\n",
    "\n",
    "print('='*100)\n",
    "\n",
    "# plot the ROC curve\n",
    "plt.figure(figsize=(15,8))\n",
    "plt.plot(FPR, TPR, label = 'Train AUC: %0.3f'%auc_train_dtr)\n",
    "plt.plot(FPR1, TPR1, label = 'Test AUC: %0.3f'%auc_test_dtr)\n",
    "\n",
    "plt.plot([1,0],[1,0], ls = '--', color = 'blue', lw = 0.90)\n",
    "\n",
    "plt.title('ROC Curve')\n",
    "plt.legend()\n",
    "plt.show();"
   ]
  },
  {
   "cell_type": "markdown",
   "metadata": {},
   "source": [
    "## 3.Random Forest Algorithm"
   ]
  },
  {
   "cell_type": "code",
   "execution_count": 49,
   "metadata": {},
   "outputs": [
    {
     "data": {
      "text/plain": [
       "RandomForestClassifier(criterion='entropy', random_state=0)"
      ]
     },
     "execution_count": 49,
     "metadata": {},
     "output_type": "execute_result"
    }
   ],
   "source": [
    "#  Fit Classifier\n",
    "\n",
    "classifier_3 = RandomForestClassifier(n_estimators=100, criterion=\"entropy\", random_state=0)\n",
    "classifier_3.fit(X_train, y_train)\n"
   ]
  },
  {
   "cell_type": "code",
   "execution_count": 50,
   "metadata": {},
   "outputs": [
    {
     "data": {
      "text/plain": [
       "{'bootstrap': True,\n",
       " 'ccp_alpha': 0.0,\n",
       " 'class_weight': None,\n",
       " 'criterion': 'entropy',\n",
       " 'max_depth': None,\n",
       " 'max_features': 'auto',\n",
       " 'max_leaf_nodes': None,\n",
       " 'max_samples': None,\n",
       " 'min_impurity_decrease': 0.0,\n",
       " 'min_impurity_split': None,\n",
       " 'min_samples_leaf': 1,\n",
       " 'min_samples_split': 2,\n",
       " 'min_weight_fraction_leaf': 0.0,\n",
       " 'n_estimators': 100,\n",
       " 'n_jobs': None,\n",
       " 'oob_score': False,\n",
       " 'random_state': 0,\n",
       " 'verbose': 0,\n",
       " 'warm_start': False}"
      ]
     },
     "execution_count": 50,
     "metadata": {},
     "output_type": "execute_result"
    }
   ],
   "source": [
    "# parameters\n",
    "classifier_3.get_params(deep=True)"
   ]
  },
  {
   "cell_type": "code",
   "execution_count": 51,
   "metadata": {},
   "outputs": [
    {
     "name": "stdout",
     "output_type": "stream",
     "text": [
      "Train_Score :  100.0\n",
      "Train_Score :  54.87804878048781\n"
     ]
    }
   ],
   "source": [
    "\n",
    "#  Predict\n",
    "y_pred_rfr = classifier_3.predict(X_test)\n",
    "\n",
    "# Generate predictions\n",
    "predictions_rfr_train =classifier_3.predict(X_train)\n",
    "predictions_rfr_test= classifier_3.predict(X_test)\n",
    "\n",
    "#ACCURACY = TRAIN DATA SCORE \n",
    "train_Acc_3=classifier_3.score(X_train,y_train)          \n",
    "print('Train_Score : ',train_Acc_3*100)\n",
    "\n",
    "#ACCURACY = TEST DATA SCORE \n",
    "Acc_3=classifier_3.score(X_test, y_test) \n",
    "print('Train_Score : ',Acc_3*100)\n"
   ]
  },
  {
   "cell_type": "code",
   "execution_count": 52,
   "metadata": {},
   "outputs": [
    {
     "name": "stdout",
     "output_type": "stream",
     "text": [
      "confusion_matrix is : \n",
      "[[382 328]\n",
      " [338 428]]\n",
      "====================================================================================================\n",
      "Accuracy score: 54.87804878048781\n",
      "Precision score: 56.613756613756614\n",
      "Recall score: 55.87467362924282\n",
      "F1 score: 56.24178712220763\n",
      "roc_auc_score_3 :  54.83874526532563\n",
      "====================================================================================================\n",
      "classification_report is : \n",
      "              precision    recall  f1-score   support\n",
      "\n",
      "          NO       0.53      0.54      0.53       710\n",
      "         YES       0.57      0.56      0.56       766\n",
      "\n",
      "    accuracy                           0.55      1476\n",
      "   macro avg       0.55      0.55      0.55      1476\n",
      "weighted avg       0.55      0.55      0.55      1476\n",
      "\n",
      "====================================================================================================\n",
      "[0. 0. 1.] [0. 1. 1.] [2 1 0]\n",
      "[0.         0.46197183 1.        ] [0.         0.55874674 1.        ] [2 1 0]\n",
      "====================================================================================================\n",
      "Train AUC: 1.000\n",
      "Test AUC: 0.548\n",
      "====================================================================================================\n"
     ]
    },
    {
     "data": {
      "image/png": "[encoded data removed]",
      "text/plain": [
       "<Figure size 1080x576 with 1 Axes>"
      ]
     },
     "metadata": {
      "needs_background": "light"
     },
     "output_type": "display_data"
    }
   ],
   "source": [
    "#  Evaluate the model performance\n",
    "print('confusion_matrix is : ')\n",
    "cm_3 = metrics.confusion_matrix(y_test, y_pred_rfr) \n",
    "print(cm_3)\n",
    "\n",
    "print('='*100)\n",
    "\n",
    "accuracy_3 = metrics.accuracy_score(y_test,y_pred_rfr) \n",
    "print(\"Accuracy score:\",accuracy_3*100)\n",
    "\n",
    "precision_3 = metrics.precision_score(y_test,y_pred_rfr) \n",
    "print(\"Precision score:\",precision_3*100)\n",
    "\n",
    "recall_3 = metrics.recall_score(y_test,y_pred_rfr) \n",
    "print(\"Recall score:\",recall_3*100)\n",
    "\n",
    "f1_3 = metrics.f1_score(y_test,y_pred_rfr) \n",
    "print(\"F1 score:\",f1_3*100)\n",
    "\n",
    "roc_auc_3 = roc_auc_score(y_test, predictions_rfr_test)\n",
    "print('roc_auc_score_3 : ', roc_auc_3*100)\n",
    "\n",
    "print('='*100)\n",
    "\n",
    " # Checking the summary of classification\n",
    "print('classification_report is : ')\n",
    "print(classification_report(y_test,predictions_rfr_test, target_names = ['NO', 'YES']))\n",
    "\n",
    "print('='*100)\n",
    "\n",
    "# calculate ROC\n",
    "FPR, TPR, LRM = roc_curve(y_train, predictions_rfr_train)\n",
    "FPR1, TPR1, LRM = roc_curve(y_test,predictions_rfr_test)\n",
    "print(FPR, TPR, LRM)\n",
    "print(FPR1, TPR1, LRM)\n",
    "\n",
    "print('='*100)\n",
    "\n",
    "# calculate AUC\n",
    "auc_train_rfr = auc(FPR, TPR)\n",
    "print('Train AUC: %0.3f' % auc_train_rfr)\n",
    "\n",
    "auc_test_rfr = auc(FPR1, TPR1)\n",
    "print('Test AUC: %0.3f' % auc_test_rfr)\n",
    "\n",
    "print('='*100)\n",
    "\n",
    "# plot the ROC curve\n",
    "plt.figure(figsize=(15,8))\n",
    "plt.plot(FPR, TPR, label = 'Train AUC: %0.3f'%auc_train_rfr)\n",
    "plt.plot(FPR1, TPR1, label = 'Test AUC: %0.3f'%auc_test_rfr)\n",
    "\n",
    "plt.plot([1,0],[1,0], ls = '--', color = 'blue', lw = 0.90)\n",
    "\n",
    "plt.title('ROC Curve')\n",
    "plt.legend()\n",
    "plt.show();"
   ]
  },
  {
   "cell_type": "markdown",
   "metadata": {},
   "source": [
    "## 4.KNN"
   ]
  },
  {
   "cell_type": "code",
   "execution_count": 53,
   "metadata": {},
   "outputs": [
    {
     "data": {
      "text/plain": [
       "KNeighborsClassifier(n_neighbors=3)"
      ]
     },
     "execution_count": 53,
     "metadata": {},
     "output_type": "execute_result"
    }
   ],
   "source": [
    "# fitting the model\n",
    "\n",
    "classifier_4 = KNeighborsClassifier(n_neighbors=3)\n",
    "classifier_4.fit(X_train, y_train)\n"
   ]
  },
  {
   "cell_type": "code",
   "execution_count": 54,
   "metadata": {},
   "outputs": [
    {
     "data": {
      "text/plain": [
       "{'algorithm': 'auto',\n",
       " 'leaf_size': 30,\n",
       " 'metric': 'minkowski',\n",
       " 'metric_params': None,\n",
       " 'n_jobs': None,\n",
       " 'n_neighbors': 3,\n",
       " 'p': 2,\n",
       " 'weights': 'uniform'}"
      ]
     },
     "execution_count": 54,
     "metadata": {},
     "output_type": "execute_result"
    }
   ],
   "source": [
    "# parameters\n",
    "classifier_4.get_params(deep=True)"
   ]
  },
  {
   "cell_type": "code",
   "execution_count": 55,
   "metadata": {},
   "outputs": [
    {
     "name": "stdout",
     "output_type": "stream",
     "text": [
      "Train_Score :  74.31725740848344\n",
      "Test_Score :  49.1869918699187\n"
     ]
    }
   ],
   "source": [
    "\n",
    "#  Predict\n",
    "y_pred_knn = classifier_4.predict(X_test)\n",
    "\n",
    "# Generate predictions\n",
    "predictions_knn_train =classifier_4.predict(X_train)\n",
    "predictions_knn_test= classifier_4.predict(X_test)\n",
    "\n",
    "#ACCURACY = TRAIN DATA SCORE \n",
    "train_Acc_4=classifier_4.score(X_train,y_train)          \n",
    "print('Train_Score : ',train_Acc_4*100)\n",
    "\n",
    "#ACCURACY = TEST DATA SCORE \n",
    "Acc_4=classifier_4.score(X_test, y_test) \n",
    "print('Test_Score : ',Acc_4*100)\n"
   ]
  },
  {
   "cell_type": "code",
   "execution_count": 56,
   "metadata": {},
   "outputs": [
    {
     "name": "stdout",
     "output_type": "stream",
     "text": [
      "confusion_matrix is : \n",
      "[[381 329]\n",
      " [421 345]]\n",
      "====================================================================================================\n",
      "Accuracy score: 49.1869918699187\n",
      "Precision score: 51.18694362017804\n",
      "Recall score: 45.039164490861616\n",
      "F1 score: 47.916666666666664\n",
      "roc_auc_score_3 :  49.35056816092376\n",
      "====================================================================================================\n",
      "classification_report is : \n",
      "              precision    recall  f1-score   support\n",
      "\n",
      "          NO       0.48      0.54      0.50       710\n",
      "         YES       0.51      0.45      0.48       766\n",
      "\n",
      "    accuracy                           0.49      1476\n",
      "   macro avg       0.49      0.49      0.49      1476\n",
      "weighted avg       0.49      0.49      0.49      1476\n",
      "\n",
      "====================================================================================================\n",
      "[0.         0.24528302 1.        ] [0.         0.73124631 1.        ] [2 1 0]\n",
      "[0.         0.46338028 1.        ] [0.         0.45039164 1.        ] [2 1 0]\n",
      "====================================================================================================\n",
      "Train AUC: 0.743\n",
      "Test AUC: 0.494\n",
      "====================================================================================================\n"
     ]
    },
    {
     "data": {
      "image/png": "[encoded data removed]",
      "text/plain": [
       "<Figure size 1080x576 with 1 Axes>"
      ]
     },
     "metadata": {
      "needs_background": "light"
     },
     "output_type": "display_data"
    }
   ],
   "source": [
    "# Evaluate the model performance\n",
    "print('confusion_matrix is : ')\n",
    "cm_4 = metrics.confusion_matrix(y_test, y_pred_knn) \n",
    "print(cm_4)\n",
    "\n",
    "print('='*100)\n",
    "\n",
    "accuracy_4 = metrics.accuracy_score(y_test,y_pred_knn) \n",
    "print(\"Accuracy score:\",accuracy_4*100)\n",
    "\n",
    "precision_4 = metrics.precision_score(y_test,y_pred_knn) \n",
    "print(\"Precision score:\",precision_4*100)\n",
    "\n",
    "recall_4 = metrics.recall_score(y_test,y_pred_knn) \n",
    "print(\"Recall score:\",recall_4*100)\n",
    "\n",
    "f1_4 = metrics.f1_score(y_test,y_pred_knn) \n",
    "print(\"F1 score:\",f1_4*100)\n",
    "\n",
    "roc_auc_4 = roc_auc_score(y_test, predictions_knn_test)\n",
    "print('roc_auc_score_3 : ', roc_auc_4*100)\n",
    "\n",
    "print('='*100)\n",
    "\n",
    "# Checking the summary of classification\n",
    "print('classification_report is : ')\n",
    "print(classification_report(y_test,predictions_knn_test, target_names = ['NO', 'YES']))\n",
    "\n",
    "print('='*100)\n",
    "\n",
    "# calculate \n",
    "FPR, TPR, LRM = roc_curve(y_train, predictions_knn_train)\n",
    "FPR1, TPR1, LRM = roc_curve(y_test,predictions_knn_test)\n",
    "print(FPR, TPR, LRM)\n",
    "print(FPR1, TPR1, LRM)\n",
    "\n",
    "print('='*100)\n",
    "\n",
    "# calculate AUC\n",
    "auc_train_knn = auc(FPR, TPR)\n",
    "print('Train AUC: %0.3f' % auc_train_knn)\n",
    "\n",
    "auc_test_knn = auc(FPR1, TPR1)\n",
    "print('Test AUC: %0.3f' % auc_test_knn)\n",
    "\n",
    "print('='*100)\n",
    "\n",
    "# plot the ROC curve\n",
    "plt.figure(figsize=(15,8))\n",
    "plt.plot(FPR, TPR, label = 'Train AUC: %0.3f'%auc_train_knn)\n",
    "plt.plot(FPR1, TPR1, label = 'Test AUC: %0.3f'%auc_test_knn)\n",
    "\n",
    "plt.plot([1,0],[1,0], ls = '--', color = 'blue', lw = 0.90)\n",
    "\n",
    "plt.title('ROC Curve')\n",
    "plt.legend()\n",
    "plt.show();"
   ]
  },
  {
   "cell_type": "markdown",
   "metadata": {},
   "source": [
    "## 5.SVM"
   ]
  },
  {
   "cell_type": "code",
   "execution_count": 57,
   "metadata": {},
   "outputs": [
    {
     "data": {
      "text/plain": [
       "SVC()"
      ]
     },
     "execution_count": 57,
     "metadata": {},
     "output_type": "execute_result"
    }
   ],
   "source": [
    "# fitting the model\n",
    "\n",
    "classifier_5 = svm.SVC()\n",
    "classifier_5.fit(X_train, y_train)\n"
   ]
  },
  {
   "cell_type": "code",
   "execution_count": 58,
   "metadata": {},
   "outputs": [
    {
     "data": {
      "text/plain": [
       "{'C': 1.0,\n",
       " 'break_ties': False,\n",
       " 'cache_size': 200,\n",
       " 'class_weight': None,\n",
       " 'coef0': 0.0,\n",
       " 'decision_function_shape': 'ovr',\n",
       " 'degree': 3,\n",
       " 'gamma': 'scale',\n",
       " 'kernel': 'rbf',\n",
       " 'max_iter': -1,\n",
       " 'probability': False,\n",
       " 'random_state': None,\n",
       " 'shrinking': True,\n",
       " 'tol': 0.001,\n",
       " 'verbose': False}"
      ]
     },
     "execution_count": 58,
     "metadata": {},
     "output_type": "execute_result"
    }
   ],
   "source": [
    "# parameters\n",
    "classifier_5.get_params(deep=True)"
   ]
  },
  {
   "cell_type": "code",
   "execution_count": 59,
   "metadata": {},
   "outputs": [
    {
     "name": "stdout",
     "output_type": "stream",
     "text": [
      "Train_Score :  51.539802440441605\n",
      "Test_Score :  51.42276422764228\n"
     ]
    }
   ],
   "source": [
    "#  Predict\n",
    "y_pred_svc = classifier_5.predict(X_test)\n",
    "\n",
    "# Generate predictions\n",
    "predictions_svc_train =classifier_5.predict(X_train)\n",
    "predictions_svc_test= classifier_5.predict(X_test)\n",
    "                                           \n",
    "#ACCURACY = TRAIN DATA SCORE \n",
    "train_Acc_5=classifier_5.score(X_train,y_train)          \n",
    "print('Train_Score : ',train_Acc_5*100)\n",
    "\n",
    "#ACCURACY = TEST DATA SCORE \n",
    "Acc_5=classifier_5.score(X_test, y_test) \n",
    "print('Test_Score : ',Acc_5*100)\n"
   ]
  },
  {
   "cell_type": "code",
   "execution_count": 60,
   "metadata": {},
   "outputs": [
    {
     "name": "stdout",
     "output_type": "stream",
     "text": [
      "confusion_matrix is : \n",
      "[[448 262]\n",
      " [455 311]]\n",
      "====================================================================================================\n",
      "Accuracy score: 51.42276422764228\n",
      "Precision score: 54.275741710296685\n",
      "Recall score: 40.60052219321149\n",
      "F1 score: 46.452576549663924\n",
      "roc_auc_score_5 :  51.84955687125363\n",
      "====================================================================================================\n",
      "classification_report is : \n",
      "              precision    recall  f1-score   support\n",
      "\n",
      "          NO       0.50      0.63      0.56       710\n",
      "         YES       0.54      0.41      0.46       766\n",
      "\n",
      "    accuracy                           0.51      1476\n",
      "   macro avg       0.52      0.52      0.51      1476\n",
      "weighted avg       0.52      0.51      0.51      1476\n",
      "\n",
      "====================================================================================================\n",
      "[0.         0.37164094 1.        ] [0.         0.39870053 1.        ] [2 1 0]\n",
      "[0.         0.36901408 1.        ] [0.         0.40600522 1.        ] [2 1 0]\n",
      "====================================================================================================\n",
      "Train AUC: 0.514\n",
      "Test AUC: 0.518\n",
      "====================================================================================================\n"
     ]
    },
    {
     "data": {
      "image/png": "[encoded data removed]",
      "text/plain": [
       "<Figure size 1080x576 with 1 Axes>"
      ]
     },
     "metadata": {
      "needs_background": "light"
     },
     "output_type": "display_data"
    }
   ],
   "source": [
    "#  Evaluate the model performance\n",
    "print('confusion_matrix is : ')\n",
    "cm_5 = metrics.confusion_matrix(y_test, y_pred_svc) \n",
    "print(cm_5)\n",
    "\n",
    "print('='*100)\n",
    "\n",
    "accuracy_5 = metrics.accuracy_score(y_test,y_pred_svc) \n",
    "print(\"Accuracy score:\",accuracy_5*100)\n",
    "\n",
    "precision_5 = metrics.precision_score(y_test,y_pred_svc) \n",
    "print(\"Precision score:\",precision_5*100)\n",
    "\n",
    "recall_5 = metrics.recall_score(y_test,y_pred_svc) \n",
    "print(\"Recall score:\",recall_5*100)\n",
    "\n",
    "f1_5 = metrics.f1_score(y_test,y_pred_svc) \n",
    "print(\"F1 score:\",f1_5*100)\n",
    "\n",
    "roc_auc_5 = roc_auc_score(y_test, predictions_svc_test)\n",
    "print('roc_auc_score_5 : ', roc_auc_5*100)\n",
    "\n",
    "print('='*100)\n",
    "\n",
    "# Checking the summary of classification\n",
    "print('classification_report is : ')\n",
    "print(classification_report(y_test,predictions_svc_test, target_names = ['NO', 'YES']))\n",
    "\n",
    "print('='*100)\n",
    "\n",
    "# calculate \n",
    "FPR, TPR, LRM = roc_curve(y_train, predictions_svc_train)\n",
    "FPR1, TPR1, LRM = roc_curve(y_test,predictions_svc_test)\n",
    "print(FPR, TPR, LRM)\n",
    "print(FPR1, TPR1, LRM)\n",
    "\n",
    "print('='*100)\n",
    "\n",
    "# calculate AUC\n",
    "auc_train_svc = auc(FPR, TPR)\n",
    "print('Train AUC: %0.3f' % auc_train_svc)\n",
    "\n",
    "auc_test_svc = auc(FPR1, TPR1)\n",
    "print('Test AUC: %0.3f' % auc_test_svc)\n",
    "\n",
    "print('='*100)\n",
    "\n",
    "# plot the ROC curve\n",
    "plt.figure(figsize=(15,8))\n",
    "plt.plot(FPR, TPR, label = 'Train AUC: %0.3f'%auc_train_svc)\n",
    "plt.plot(FPR1, TPR1, label = 'Test AUC: %0.3f'%auc_test_svc)\n",
    "\n",
    "plt.plot([1,0],[1,0], ls = '--', color = 'blue', lw = 0.90)\n",
    "\n",
    "plt.title('ROC Curve')\n",
    "plt.legend()\n",
    "plt.show();\n"
   ]
  },
  {
   "cell_type": "markdown",
   "metadata": {},
   "source": [
    "## 6.Gradient Boosting"
   ]
  },
  {
   "cell_type": "code",
   "execution_count": 61,
   "metadata": {},
   "outputs": [
    {
     "data": {
      "text/plain": [
       "GradientBoostingClassifier()"
      ]
     },
     "execution_count": 61,
     "metadata": {},
     "output_type": "execute_result"
    }
   ],
   "source": [
    "# fitting the model\n",
    "\n",
    "classifier_6 = GradientBoostingClassifier()\n",
    "classifier_6.fit(X_train, y_train)\n"
   ]
  },
  {
   "cell_type": "code",
   "execution_count": 62,
   "metadata": {},
   "outputs": [
    {
     "data": {
      "text/plain": [
       "{'ccp_alpha': 0.0,\n",
       " 'criterion': 'friedman_mse',\n",
       " 'init': None,\n",
       " 'learning_rate': 0.1,\n",
       " 'loss': 'deviance',\n",
       " 'max_depth': 3,\n",
       " 'max_features': None,\n",
       " 'max_leaf_nodes': None,\n",
       " 'min_impurity_decrease': 0.0,\n",
       " 'min_impurity_split': None,\n",
       " 'min_samples_leaf': 1,\n",
       " 'min_samples_split': 2,\n",
       " 'min_weight_fraction_leaf': 0.0,\n",
       " 'n_estimators': 100,\n",
       " 'n_iter_no_change': None,\n",
       " 'random_state': None,\n",
       " 'subsample': 1.0,\n",
       " 'tol': 0.0001,\n",
       " 'validation_fraction': 0.1,\n",
       " 'verbose': 0,\n",
       " 'warm_start': False}"
      ]
     },
     "execution_count": 62,
     "metadata": {},
     "output_type": "execute_result"
    }
   ],
   "source": [
    "# parameters\n",
    "classifier_6.get_params(deep=True)"
   ]
  },
  {
   "cell_type": "code",
   "execution_count": 63,
   "metadata": {},
   "outputs": [
    {
     "name": "stdout",
     "output_type": "stream",
     "text": [
      "Train_Score :  67.8965717606043\n",
      "Test_Score :  67.8965717606043\n"
     ]
    }
   ],
   "source": [
    "# Predict\n",
    "y_pred_grad = classifier_6.predict(X_test)\n",
    "\n",
    "# Generate predictions\n",
    "predictions_grad_train =classifier_6.predict(X_train)\n",
    "predictions_grad_test= classifier_6.predict(X_test)\n",
    "\n",
    "#ACCURACY = TRAIN DATA SCORE \n",
    "train_Acc_6=classifier_6.score(X_train,y_train)          \n",
    "print('Train_Score : ',train_Acc_6*100)\n",
    "\n",
    "#ACCURACY = TEST DATA SCORE \n",
    "Acc_6=classifier_6.score(X_test, y_test) \n",
    "print('Test_Score : ',train_Acc_6*100)\n",
    "\n"
   ]
  },
  {
   "cell_type": "code",
   "execution_count": 64,
   "metadata": {
    "scrolled": true
   },
   "outputs": [
    {
     "name": "stdout",
     "output_type": "stream",
     "text": [
      "confusion_matrix is : \n",
      "[[358 352]\n",
      " [287 479]]\n",
      "====================================================================================================\n",
      "Accuracy score: 56.70731707317073\n",
      "Precision score: 57.64139590854393\n",
      "Recall score: 62.532637075718014\n",
      "F1 score: 59.98747651847213\n",
      "roc_auc_score_6 :  56.47758614349281\n",
      "====================================================================================================\n",
      "classification_report is : \n",
      "              precision    recall  f1-score   support\n",
      "\n",
      "          NO       0.56      0.50      0.53       710\n",
      "         YES       0.58      0.63      0.60       766\n",
      "\n",
      "    accuracy                           0.57      1476\n",
      "   macro avg       0.57      0.56      0.56      1476\n",
      "weighted avg       0.57      0.57      0.57      1476\n",
      "\n",
      "====================================================================================================\n",
      "[0.         0.38021727 1.        ] [0.         0.74010632 1.        ] [2 1 0]\n",
      "[0.         0.49577465 1.        ] [0.         0.62532637 1.        ] [2 1 0]\n",
      "====================================================================================================\n",
      "Train AUC: 0.680\n",
      "Test AUC: 0.565\n",
      "====================================================================================================\n"
     ]
    },
    {
     "data": {
      "image/png": "[encoded data removed]",
      "text/plain": [
       "<Figure size 1080x576 with 1 Axes>"
      ]
     },
     "metadata": {
      "needs_background": "light"
     },
     "output_type": "display_data"
    }
   ],
   "source": [
    "#  Evaluate the model performance\n",
    "print('confusion_matrix is : ')\n",
    "cm_6 = metrics.confusion_matrix(y_test, y_pred_grad) \n",
    "print(cm_6)\n",
    "\n",
    "print('='*100)\n",
    "\n",
    "accuracy_6 = metrics.accuracy_score(y_test,y_pred_grad) \n",
    "print(\"Accuracy score:\",accuracy_6*100)\n",
    "\n",
    "precision_6 = metrics.precision_score(y_test,y_pred_grad) \n",
    "print(\"Precision score:\",precision_6*100)\n",
    "\n",
    "recall_6 = metrics.recall_score(y_test,y_pred_grad) \n",
    "print(\"Recall score:\",recall_6*100)\n",
    "\n",
    "f1_6 = metrics.f1_score(y_test,y_pred_grad) \n",
    "print(\"F1 score:\",f1_6*100)\n",
    "\n",
    "roc_auc_6 = roc_auc_score(y_test, predictions_grad_test)\n",
    "print('roc_auc_score_6 : ', roc_auc_6*100)\n",
    "\n",
    "print('='*100)\n",
    "\n",
    "# Checking the summary of classification\n",
    "print('classification_report is : ')\n",
    "print(classification_report(y_test, predictions_grad_test, target_names = ['NO', 'YES']))\n",
    "\n",
    "print('='*100)\n",
    "\n",
    "# calculate \n",
    "FPR, TPR, LRM = roc_curve(y_train, predictions_grad_train)\n",
    "FPR1, TPR1, LRM = roc_curve(y_test,predictions_grad_test)\n",
    "print(FPR, TPR, LRM)\n",
    "print(FPR1, TPR1, LRM)\n",
    "\n",
    "print('='*100)\n",
    "\n",
    "# calculate AUC\n",
    "auc_train_grad = auc(FPR, TPR)\n",
    "print('Train AUC: %0.3f' % auc_train_grad)\n",
    "\n",
    "auc_test_grad = auc(FPR1, TPR1)\n",
    "print('Test AUC: %0.3f' % auc_test_grad)\n",
    "\n",
    "print('='*100)\n",
    "\n",
    "# plot the ROC curve\n",
    "plt.figure(figsize=(15,8))\n",
    "plt.plot(FPR, TPR, label = 'Train AUC: %0.3f'%auc_train_grad)\n",
    "plt.plot(FPR1, TPR1, label = 'Test AUC: %0.3f'%auc_test_grad)\n",
    "\n",
    "plt.plot([1,0],[1,0], ls = '--', color = 'blue', lw = 0.90)\n",
    "\n",
    "plt.title('ROC Curve')\n",
    "plt.legend()\n",
    "plt.show();"
   ]
  },
  {
   "cell_type": "markdown",
   "metadata": {},
   "source": [
    "## 7.AdaBoosting"
   ]
  },
  {
   "cell_type": "code",
   "execution_count": 65,
   "metadata": {},
   "outputs": [
    {
     "data": {
      "text/plain": [
       "AdaBoostClassifier(learning_rate=0.2, n_estimators=20, random_state=123)"
      ]
     },
     "execution_count": 65,
     "metadata": {},
     "output_type": "execute_result"
    }
   ],
   "source": [
    "# fitting the model\n",
    "\n",
    "classifier_7 = AdaBoostClassifier(n_estimators = 20, learning_rate = 0.2, random_state = 123)\n",
    "classifier_7.fit(X_train, y_train)\n",
    "\n"
   ]
  },
  {
   "cell_type": "code",
   "execution_count": 66,
   "metadata": {},
   "outputs": [
    {
     "data": {
      "text/plain": [
       "{'algorithm': 'SAMME.R',\n",
       " 'base_estimator': None,\n",
       " 'learning_rate': 0.2,\n",
       " 'n_estimators': 20,\n",
       " 'random_state': 123}"
      ]
     },
     "execution_count": 66,
     "metadata": {},
     "output_type": "execute_result"
    }
   ],
   "source": [
    "# parameters\n",
    "classifier_7.get_params(deep=True)"
   ]
  },
  {
   "cell_type": "code",
   "execution_count": 67,
   "metadata": {},
   "outputs": [
    {
     "name": "stdout",
     "output_type": "stream",
     "text": [
      "Train_Score :  56.15920976176641\n",
      "Train_Score :  57.18157181571816\n"
     ]
    }
   ],
   "source": [
    "#  Predict\n",
    "y_pred_ada = classifier_7.predict(X_test)\n",
    "\n",
    "# Generate predictions\n",
    "predictions_ada_train =classifier_7.predict(X_train)\n",
    "predictions_ada_test= classifier_7.predict(X_test)\n",
    "\n",
    "#ACCURACY = TRAIN DATA SCORE \n",
    "train_Acc_7=classifier_7.score(X_train,y_train)          \n",
    "print('Train_Score : ',train_Acc_7*100)\n",
    "\n",
    "#ACCURACY = TEST DATA SCORE \n",
    "Acc_7=classifier_7.score(X_test, y_test) \n",
    "print('Train_Score : ',Acc_7*100)\n"
   ]
  },
  {
   "cell_type": "code",
   "execution_count": 68,
   "metadata": {},
   "outputs": [
    {
     "name": "stdout",
     "output_type": "stream",
     "text": [
      "confusion_matrix is : \n",
      "[[208 502]\n",
      " [130 636]]\n",
      "====================================================================================================\n",
      "Accuracy score: 57.18157181571816\n",
      "Precision score: 55.88752196836555\n",
      "Recall score: 83.02872062663185\n",
      "F1 score: 66.80672268907561\n",
      "roc_auc_score_7 :  56.16224763725959\n",
      "====================================================================================================\n",
      "classification_report is : \n",
      "              precision    recall  f1-score   support\n",
      "\n",
      "          NO       0.62      0.29      0.40       710\n",
      "         YES       0.56      0.83      0.67       766\n",
      "\n",
      "    accuracy                           0.57      1476\n",
      "   macro avg       0.59      0.56      0.53      1476\n",
      "weighted avg       0.59      0.57      0.54      1476\n",
      "\n",
      "====================================================================================================\n",
      "[0.        0.6969697 1.       ] [0.         0.82870644 1.        ] [2 1 0]\n",
      "[0.         0.70704225 1.        ] [0.         0.83028721 1.        ] [2 1 0]\n",
      "====================================================================================================\n",
      "Train AUC: 0.566\n",
      "Test AUC: 0.562\n",
      "====================================================================================================\n"
     ]
    },
    {
     "data": {
      "image/png": "[encoded data removed]",
      "text/plain": [
       "<Figure size 1080x576 with 1 Axes>"
      ]
     },
     "metadata": {
      "needs_background": "light"
     },
     "output_type": "display_data"
    }
   ],
   "source": [
    "# Evaluate the model performance\n",
    "print('confusion_matrix is : ')\n",
    "cm_7 = metrics.confusion_matrix(y_test, y_pred_ada) \n",
    "print(cm_7)\n",
    "\n",
    "print('='*100)\n",
    "\n",
    "accuracy_7 = metrics.accuracy_score(y_test,y_pred_ada) \n",
    "print(\"Accuracy score:\",accuracy_7*100)\n",
    "\n",
    "precision_7 = metrics.precision_score(y_test,y_pred_ada) \n",
    "print(\"Precision score:\",precision_7*100)\n",
    "\n",
    "recall_7 = metrics.recall_score(y_test,y_pred_ada) \n",
    "print(\"Recall score:\",recall_7*100)\n",
    "\n",
    "f1_7 = metrics.f1_score(y_test,y_pred_ada) \n",
    "print(\"F1 score:\",f1_7*100)\n",
    "\n",
    "roc_auc_7 = roc_auc_score(y_test, y_pred_ada)\n",
    "print('roc_auc_score_7 : ', roc_auc_7*100)\n",
    "\n",
    "print('='*100)\n",
    "\n",
    "# Checking the summary of classification\n",
    "print('classification_report is : ')\n",
    "print(classification_report(y_test, predictions_ada_test, target_names = ['NO', 'YES']))\n",
    "\n",
    "print('='*100)\n",
    "\n",
    "# calculate \n",
    "FPR, TPR, LRM = roc_curve(y_train, predictions_ada_train)\n",
    "FPR1, TPR1, LRM = roc_curve(y_test,predictions_ada_test)\n",
    "print(FPR, TPR, LRM)\n",
    "print(FPR1, TPR1, LRM)\n",
    "\n",
    "print('='*100)\n",
    "\n",
    "# calculate AUC\n",
    "auc_train_ada = auc(FPR, TPR)\n",
    "print('Train AUC: %0.3f' % auc_train_ada)\n",
    "\n",
    "auc_test_ada = auc(FPR1, TPR1)\n",
    "print('Test AUC: %0.3f' % auc_test_ada)\n",
    "\n",
    "print('='*100)\n",
    "\n",
    "# plot the ROC curve\n",
    "plt.figure(figsize=(15,8))\n",
    "plt.plot(FPR, TPR, label = 'Train AUC: %0.3f'%auc_train_ada)\n",
    "plt.plot(FPR1, TPR1, label = 'Test AUC: %0.3f'%auc_test_ada)\n",
    "\n",
    "plt.plot([1,0],[1,0], ls = '--', color = 'blue', lw = 0.90)\n",
    "\n",
    "plt.title('ROC Curve')\n",
    "plt.legend()\n",
    "plt.show();"
   ]
  },
  {
   "cell_type": "markdown",
   "metadata": {},
   "source": [
    "# Comparing Models:"
   ]
  },
  {
   "cell_type": "markdown",
   "metadata": {},
   "source": [
    "#### 1.Train and Test Scores:-"
   ]
  },
  {
   "cell_type": "code",
   "execution_count": 69,
   "metadata": {},
   "outputs": [
    {
     "data": {
      "text/html": [
       "<div>\n",
       "<style scoped>\n",
       "    .dataframe tbody tr th:only-of-type {\n",
       "        vertical-align: middle;\n",
       "    }\n",
       "\n",
       "    .dataframe tbody tr th {\n",
       "        vertical-align: top;\n",
       "    }\n",
       "\n",
       "    .dataframe thead th {\n",
       "        text-align: right;\n",
       "    }\n",
       "</style>\n",
       "<table border=\"1\" class=\"dataframe\">\n",
       "  <thead>\n",
       "    <tr style=\"text-align: right;\">\n",
       "      <th></th>\n",
       "      <th>Model</th>\n",
       "      <th>Train_Score</th>\n",
       "      <th>Test_Score</th>\n",
       "    </tr>\n",
       "  </thead>\n",
       "  <tbody>\n",
       "    <tr>\n",
       "      <th>1</th>\n",
       "      <td>Decision Tree</td>\n",
       "      <td>1.000000</td>\n",
       "      <td>0.548780</td>\n",
       "    </tr>\n",
       "    <tr>\n",
       "      <th>2</th>\n",
       "      <td>Random Forest</td>\n",
       "      <td>1.000000</td>\n",
       "      <td>0.548780</td>\n",
       "    </tr>\n",
       "    <tr>\n",
       "      <th>3</th>\n",
       "      <td>KNN</td>\n",
       "      <td>0.743173</td>\n",
       "      <td>0.491870</td>\n",
       "    </tr>\n",
       "    <tr>\n",
       "      <th>5</th>\n",
       "      <td>Gradient Boosting</td>\n",
       "      <td>0.678966</td>\n",
       "      <td>0.567073</td>\n",
       "    </tr>\n",
       "    <tr>\n",
       "      <th>6</th>\n",
       "      <td>Ada Boosting</td>\n",
       "      <td>0.561592</td>\n",
       "      <td>0.571816</td>\n",
       "    </tr>\n",
       "    <tr>\n",
       "      <th>0</th>\n",
       "      <td>Logistic Regression</td>\n",
       "      <td>0.543579</td>\n",
       "      <td>0.530488</td>\n",
       "    </tr>\n",
       "    <tr>\n",
       "      <th>4</th>\n",
       "      <td>SVC</td>\n",
       "      <td>0.515398</td>\n",
       "      <td>0.514228</td>\n",
       "    </tr>\n",
       "  </tbody>\n",
       "</table>\n",
       "</div>"
      ],
      "text/plain": [
       "                 Model  Train_Score  Test_Score\n",
       "1        Decision Tree     1.000000    0.548780\n",
       "2        Random Forest     1.000000    0.548780\n",
       "3                  KNN     0.743173    0.491870\n",
       "5    Gradient Boosting     0.678966    0.567073\n",
       "6         Ada Boosting     0.561592    0.571816\n",
       "0  Logistic Regression     0.543579    0.530488\n",
       "4                  SVC     0.515398    0.514228"
      ]
     },
     "execution_count": 69,
     "metadata": {},
     "output_type": "execute_result"
    }
   ],
   "source": [
    "models = pd.DataFrame({\n",
    "    'Model': ['Logistic Regression','Decision Tree','Random Forest','KNN','SVC','Gradient Boosting','Ada Boosting'],\n",
    "    'Train_Score': [train_Acc_1, train_Acc_2,train_Acc_3, train_Acc_4, train_Acc_5, train_Acc_6,train_Acc_7],\n",
    "    'Test_Score': [Acc_1, Acc_2,Acc_3, Acc_4, Acc_5, Acc_6,Acc_7]\n",
    "})\n",
    "models.sort_values(by=['Train_Score','Test_Score'], ascending=False)"
   ]
  },
  {
   "cell_type": "markdown",
   "metadata": {},
   "source": [
    "#### 2.Metrics Scores:"
   ]
  },
  {
   "cell_type": "code",
   "execution_count": 70,
   "metadata": {},
   "outputs": [
    {
     "data": {
      "text/html": [
       "<div>\n",
       "<style scoped>\n",
       "    .dataframe tbody tr th:only-of-type {\n",
       "        vertical-align: middle;\n",
       "    }\n",
       "\n",
       "    .dataframe tbody tr th {\n",
       "        vertical-align: top;\n",
       "    }\n",
       "\n",
       "    .dataframe thead th {\n",
       "        text-align: right;\n",
       "    }\n",
       "</style>\n",
       "<table border=\"1\" class=\"dataframe\">\n",
       "  <thead>\n",
       "    <tr style=\"text-align: right;\">\n",
       "      <th></th>\n",
       "      <th>Model</th>\n",
       "      <th>Precision</th>\n",
       "      <th>Recall</th>\n",
       "      <th>F1_Score</th>\n",
       "      <th>Roc_Score</th>\n",
       "    </tr>\n",
       "  </thead>\n",
       "  <tbody>\n",
       "    <tr>\n",
       "      <th>5</th>\n",
       "      <td>Gradient Boosting</td>\n",
       "      <td>0.576414</td>\n",
       "      <td>0.625326</td>\n",
       "      <td>0.599875</td>\n",
       "      <td>0.564776</td>\n",
       "    </tr>\n",
       "    <tr>\n",
       "      <th>1</th>\n",
       "      <td>Decision Tree</td>\n",
       "      <td>0.569832</td>\n",
       "      <td>0.532637</td>\n",
       "      <td>0.550607</td>\n",
       "      <td>0.549417</td>\n",
       "    </tr>\n",
       "    <tr>\n",
       "      <th>2</th>\n",
       "      <td>Random Forest</td>\n",
       "      <td>0.566138</td>\n",
       "      <td>0.558747</td>\n",
       "      <td>0.562418</td>\n",
       "      <td>0.548387</td>\n",
       "    </tr>\n",
       "    <tr>\n",
       "      <th>6</th>\n",
       "      <td>Ada Boosting</td>\n",
       "      <td>0.558875</td>\n",
       "      <td>0.830287</td>\n",
       "      <td>0.668067</td>\n",
       "      <td>0.561622</td>\n",
       "    </tr>\n",
       "    <tr>\n",
       "      <th>0</th>\n",
       "      <td>Logistic Regression</td>\n",
       "      <td>0.545912</td>\n",
       "      <td>0.566580</td>\n",
       "      <td>0.556054</td>\n",
       "      <td>0.529064</td>\n",
       "    </tr>\n",
       "    <tr>\n",
       "      <th>4</th>\n",
       "      <td>SVC</td>\n",
       "      <td>0.542757</td>\n",
       "      <td>0.406005</td>\n",
       "      <td>0.464526</td>\n",
       "      <td>0.518496</td>\n",
       "    </tr>\n",
       "    <tr>\n",
       "      <th>3</th>\n",
       "      <td>KNN</td>\n",
       "      <td>0.511869</td>\n",
       "      <td>0.450392</td>\n",
       "      <td>0.479167</td>\n",
       "      <td>0.493506</td>\n",
       "    </tr>\n",
       "  </tbody>\n",
       "</table>\n",
       "</div>"
      ],
      "text/plain": [
       "                 Model  Precision    Recall  F1_Score  Roc_Score\n",
       "5    Gradient Boosting   0.576414  0.625326  0.599875   0.564776\n",
       "1        Decision Tree   0.569832  0.532637  0.550607   0.549417\n",
       "2        Random Forest   0.566138  0.558747  0.562418   0.548387\n",
       "6         Ada Boosting   0.558875  0.830287  0.668067   0.561622\n",
       "0  Logistic Regression   0.545912  0.566580  0.556054   0.529064\n",
       "4                  SVC   0.542757  0.406005  0.464526   0.518496\n",
       "3                  KNN   0.511869  0.450392  0.479167   0.493506"
      ]
     },
     "execution_count": 70,
     "metadata": {},
     "output_type": "execute_result"
    }
   ],
   "source": [
    "models = pd.DataFrame({\n",
    "    'Model': ['Logistic Regression','Decision Tree','Random Forest','KNN','SVC','Gradient Boosting','Ada Boosting'],\n",
    "    'Precision': [precision_1, precision_2,precision_3, precision_4, precision_5, precision_6,precision_7],\n",
    "    'Recall': [recall_1, recall_2,recall_3, recall_4, recall_5, recall_6,recall_7],\n",
    "    'F1_Score': [f1_1,f1_2,f1_3,f1_4,f1_5,f1_6,f1_7],\n",
    "    'Roc_Score':[roc_auc_1,roc_auc_2,roc_auc_3,roc_auc_4,roc_auc_5,roc_auc_6,roc_auc_7]\n",
    "})\n",
    "models.sort_values(by=['Precision','Recall','F1_Score','Roc_Score'], ascending=False)"
   ]
  },
  {
   "cell_type": "markdown",
   "metadata": {},
   "source": [
    "#### 3.Final Scores:"
   ]
  },
  {
   "cell_type": "code",
   "execution_count": 71,
   "metadata": {},
   "outputs": [
    {
     "data": {
      "text/html": [
       "<div>\n",
       "<style scoped>\n",
       "    .dataframe tbody tr th:only-of-type {\n",
       "        vertical-align: middle;\n",
       "    }\n",
       "\n",
       "    .dataframe tbody tr th {\n",
       "        vertical-align: top;\n",
       "    }\n",
       "\n",
       "    .dataframe thead th {\n",
       "        text-align: right;\n",
       "    }\n",
       "</style>\n",
       "<table border=\"1\" class=\"dataframe\">\n",
       "  <thead>\n",
       "    <tr style=\"text-align: right;\">\n",
       "      <th></th>\n",
       "      <th>Model</th>\n",
       "      <th>Train_Score</th>\n",
       "      <th>Test_Score</th>\n",
       "      <th>Precision</th>\n",
       "      <th>Recall</th>\n",
       "      <th>F1_Score</th>\n",
       "      <th>Roc_Score</th>\n",
       "    </tr>\n",
       "  </thead>\n",
       "  <tbody>\n",
       "    <tr>\n",
       "      <th>1</th>\n",
       "      <td>Decision Tree</td>\n",
       "      <td>1.000000</td>\n",
       "      <td>0.548780</td>\n",
       "      <td>0.569832</td>\n",
       "      <td>0.532637</td>\n",
       "      <td>0.550607</td>\n",
       "      <td>0.549417</td>\n",
       "    </tr>\n",
       "    <tr>\n",
       "      <th>2</th>\n",
       "      <td>Random Forest</td>\n",
       "      <td>1.000000</td>\n",
       "      <td>0.548780</td>\n",
       "      <td>0.566138</td>\n",
       "      <td>0.558747</td>\n",
       "      <td>0.562418</td>\n",
       "      <td>0.548387</td>\n",
       "    </tr>\n",
       "    <tr>\n",
       "      <th>3</th>\n",
       "      <td>KNN</td>\n",
       "      <td>0.743173</td>\n",
       "      <td>0.491870</td>\n",
       "      <td>0.511869</td>\n",
       "      <td>0.450392</td>\n",
       "      <td>0.479167</td>\n",
       "      <td>0.493506</td>\n",
       "    </tr>\n",
       "    <tr>\n",
       "      <th>5</th>\n",
       "      <td>Gradient Boosting</td>\n",
       "      <td>0.678966</td>\n",
       "      <td>0.567073</td>\n",
       "      <td>0.576414</td>\n",
       "      <td>0.625326</td>\n",
       "      <td>0.599875</td>\n",
       "      <td>0.564776</td>\n",
       "    </tr>\n",
       "    <tr>\n",
       "      <th>6</th>\n",
       "      <td>Ada Boosting</td>\n",
       "      <td>0.561592</td>\n",
       "      <td>0.571816</td>\n",
       "      <td>0.558875</td>\n",
       "      <td>0.830287</td>\n",
       "      <td>0.668067</td>\n",
       "      <td>0.561622</td>\n",
       "    </tr>\n",
       "    <tr>\n",
       "      <th>0</th>\n",
       "      <td>Logistic Regression</td>\n",
       "      <td>0.543579</td>\n",
       "      <td>0.530488</td>\n",
       "      <td>0.545912</td>\n",
       "      <td>0.566580</td>\n",
       "      <td>0.556054</td>\n",
       "      <td>0.529064</td>\n",
       "    </tr>\n",
       "    <tr>\n",
       "      <th>4</th>\n",
       "      <td>SVC</td>\n",
       "      <td>0.515398</td>\n",
       "      <td>0.514228</td>\n",
       "      <td>0.542757</td>\n",
       "      <td>0.406005</td>\n",
       "      <td>0.464526</td>\n",
       "      <td>0.518496</td>\n",
       "    </tr>\n",
       "  </tbody>\n",
       "</table>\n",
       "</div>"
      ],
      "text/plain": [
       "                 Model  Train_Score  Test_Score  Precision    Recall  \\\n",
       "1        Decision Tree     1.000000    0.548780   0.569832  0.532637   \n",
       "2        Random Forest     1.000000    0.548780   0.566138  0.558747   \n",
       "3                  KNN     0.743173    0.491870   0.511869  0.450392   \n",
       "5    Gradient Boosting     0.678966    0.567073   0.576414  0.625326   \n",
       "6         Ada Boosting     0.561592    0.571816   0.558875  0.830287   \n",
       "0  Logistic Regression     0.543579    0.530488   0.545912  0.566580   \n",
       "4                  SVC     0.515398    0.514228   0.542757  0.406005   \n",
       "\n",
       "   F1_Score  Roc_Score  \n",
       "1  0.550607   0.549417  \n",
       "2  0.562418   0.548387  \n",
       "3  0.479167   0.493506  \n",
       "5  0.599875   0.564776  \n",
       "6  0.668067   0.561622  \n",
       "0  0.556054   0.529064  \n",
       "4  0.464526   0.518496  "
      ]
     },
     "execution_count": 71,
     "metadata": {},
     "output_type": "execute_result"
    }
   ],
   "source": [
    "models = pd.DataFrame({\n",
    "    'Model': ['Logistic Regression','Decision Tree','Random Forest','KNN','SVC','Gradient Boosting','Ada Boosting'],\n",
    "    'Train_Score': [train_Acc_1, train_Acc_2,train_Acc_3, train_Acc_4, train_Acc_5, train_Acc_6,train_Acc_7],\n",
    "    'Test_Score': [Acc_1, Acc_2,Acc_3, Acc_4, Acc_5, Acc_6,Acc_7],\n",
    "    'Precision': [precision_1, precision_2,precision_3, precision_4, precision_5, precision_6,precision_7],\n",
    "    'Recall': [recall_1, recall_2,recall_3, recall_4, recall_5, recall_6,recall_7],\n",
    "    'F1_Score': [f1_1,f1_2,f1_3,f1_4,f1_5,f1_6,f1_7],\n",
    "    'Roc_Score':[roc_auc_1,roc_auc_2,roc_auc_3,roc_auc_4,roc_auc_5,roc_auc_6,roc_auc_7]\n",
    "})\n",
    "models.sort_values(by=['Train_Score','Test_Score','Precision','Recall','F1_Score','Roc_Score'], ascending=False)"
   ]
  },
  {
   "cell_type": "code",
   "execution_count": null,
   "metadata": {},
   "outputs": [],
   "source": []
  }
 ],
 "metadata": {
  "kernelspec": {
   "display_name": "Python 3",
   "language": "python",
   "name": "python3"
  },
  "language_info": {
   "codemirror_mode": {
    "name": "ipython",
    "version": 3
   },
   "file_extension": ".py",
   "mimetype": "text/x-python",
   "name": "python",
   "nbconvert_exporter": "python",
   "pygments_lexer": "ipython3",
   "version": "3.8.5"
  }
 },
 "nbformat": 4,
 "nbformat_minor": 5
}
