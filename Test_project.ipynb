{
 "cells": [
  {
   "cell_type": "markdown",
   "metadata": {},
   "source": [
    "# Import necessay libraries:"
   ]
  },
  {
   "cell_type": "code",
   "execution_count": 76,
   "metadata": {},
   "outputs": [],
   "source": [
    "import pandas as pd \n",
    "import numpy as np\n",
    "import matplotlib.pyplot as plt\n",
    "import seaborn as sns\n",
    "%matplotlib inline\n",
    "                         \n",
    "\n",
    "from sklearn.linear_model import LogisticRegression\n",
    "from sklearn.tree import DecisionTreeClassifier\n",
    "from sklearn.neighbors import KNeighborsClassifier\n",
    "from sklearn import svm\n",
    "from sklearn.metrics import confusion_matrix,accuracy_score,classification_report,auc,roc_curve,roc_auc_score\n",
    "from sklearn.metrics import classification_report\n",
    "\n",
    "\n",
    "from sklearn.model_selection import train_test_split    # Splitting dataset into training and test data\n",
    "from sklearn import metrics\n",
    "from sklearn.metrics import mean_squared_error, mean_absolute_error, r2_score  #compute the metrics\n",
    "import itertools as it\n",
    "import statsmodels.api as sm\n",
    "import statsmodels.formula.api as smf\n",
    "from sklearn import preprocessing\n",
    "from sklearn import utils\n",
    "\n",
    "\n",
    "from sklearn.model_selection import cross_val_score    #importing the cross validation score\n",
    "from sklearn import preprocessing                      #importing the preprocessing library\n",
    "from scipy.stats import uniform \n",
    "from sklearn.model_selection import RandomizedSearchCV #RandomSearch\n",
    "from sklearn.model_selection import GridSearchCV       #Gridsearch\n",
    "from sklearn.metrics import classification_report      #Classification\n",
    "from random import randint                             #random\n",
    "\n"
   ]
  },
  {
   "cell_type": "markdown",
   "metadata": {},
   "source": [
    "# Load and read dataset:"
   ]
  },
  {
   "cell_type": "code",
   "execution_count": 77,
   "metadata": {},
   "outputs": [],
   "source": [
    "data=pd.read_csv('data.csv')"
   ]
  },
  {
   "cell_type": "code",
   "execution_count": 78,
   "metadata": {},
   "outputs": [
    {
     "data": {
      "text/html": [
       "<div>\n",
       "<style scoped>\n",
       "    .dataframe tbody tr th:only-of-type {\n",
       "        vertical-align: middle;\n",
       "    }\n",
       "\n",
       "    .dataframe tbody tr th {\n",
       "        vertical-align: top;\n",
       "    }\n",
       "\n",
       "    .dataframe thead th {\n",
       "        text-align: right;\n",
       "    }\n",
       "</style>\n",
       "<table border=\"1\" class=\"dataframe\">\n",
       "  <thead>\n",
       "    <tr style=\"text-align: right;\">\n",
       "      <th></th>\n",
       "      <th>x1</th>\n",
       "      <th>x2</th>\n",
       "      <th>y</th>\n",
       "    </tr>\n",
       "  </thead>\n",
       "  <tbody>\n",
       "    <tr>\n",
       "      <th>0</th>\n",
       "      <td>-119.366669</td>\n",
       "      <td>115.000000</td>\n",
       "      <td>1</td>\n",
       "    </tr>\n",
       "    <tr>\n",
       "      <th>1</th>\n",
       "      <td>-101.108044</td>\n",
       "      <td>97.777159</td>\n",
       "      <td>1</td>\n",
       "    </tr>\n",
       "    <tr>\n",
       "      <th>2</th>\n",
       "      <td>-130.278658</td>\n",
       "      <td>106.767654</td>\n",
       "      <td>1</td>\n",
       "    </tr>\n",
       "    <tr>\n",
       "      <th>3</th>\n",
       "      <td>-114.703415</td>\n",
       "      <td>101.195477</td>\n",
       "      <td>1</td>\n",
       "    </tr>\n",
       "    <tr>\n",
       "      <th>4</th>\n",
       "      <td>-119.366669</td>\n",
       "      <td>115.000000</td>\n",
       "      <td>1</td>\n",
       "    </tr>\n",
       "  </tbody>\n",
       "</table>\n",
       "</div>"
      ],
      "text/plain": [
       "           x1          x2  y\n",
       "0 -119.366669  115.000000  1\n",
       "1 -101.108044   97.777159  1\n",
       "2 -130.278658  106.767654  1\n",
       "3 -114.703415  101.195477  1\n",
       "4 -119.366669  115.000000  1"
      ]
     },
     "execution_count": 78,
     "metadata": {},
     "output_type": "execute_result"
    }
   ],
   "source": [
    "data.head()"
   ]
  },
  {
   "cell_type": "markdown",
   "metadata": {},
   "source": [
    "# Data Preprocessing:"
   ]
  },
  {
   "cell_type": "code",
   "execution_count": 79,
   "metadata": {},
   "outputs": [
    {
     "data": {
      "text/plain": [
       "(2227, 3)"
      ]
     },
     "execution_count": 79,
     "metadata": {},
     "output_type": "execute_result"
    }
   ],
   "source": [
    "data.shape"
   ]
  },
  {
   "cell_type": "code",
   "execution_count": 80,
   "metadata": {},
   "outputs": [
    {
     "name": "stdout",
     "output_type": "stream",
     "text": [
      "Number of rows 2227\n",
      "Number of columns 3\n"
     ]
    }
   ],
   "source": [
    "print('Number of rows',data.shape[0])\n",
    "print('Number of columns',data.shape[1])"
   ]
  },
  {
   "cell_type": "code",
   "execution_count": 81,
   "metadata": {},
   "outputs": [
    {
     "name": "stdout",
     "output_type": "stream",
     "text": [
      "<class 'pandas.core.frame.DataFrame'>\n",
      "RangeIndex: 2227 entries, 0 to 2226\n",
      "Data columns (total 3 columns):\n",
      " #   Column  Non-Null Count  Dtype  \n",
      "---  ------  --------------  -----  \n",
      " 0   x1      2222 non-null   float64\n",
      " 1   x2      2224 non-null   float64\n",
      " 2   y       2227 non-null   int64  \n",
      "dtypes: float64(2), int64(1)\n",
      "memory usage: 52.3 KB\n"
     ]
    }
   ],
   "source": [
    "data.info()"
   ]
  },
  {
   "cell_type": "code",
   "execution_count": 82,
   "metadata": {},
   "outputs": [
    {
     "data": {
      "text/plain": [
       "x1    float64\n",
       "x2    float64\n",
       "y       int64\n",
       "dtype: object"
      ]
     },
     "execution_count": 82,
     "metadata": {},
     "output_type": "execute_result"
    }
   ],
   "source": [
    "data.dtypes"
   ]
  },
  {
   "cell_type": "code",
   "execution_count": 83,
   "metadata": {},
   "outputs": [
    {
     "data": {
      "text/plain": [
       "x1    5\n",
       "x2    3\n",
       "y     0\n",
       "dtype: int64"
      ]
     },
     "execution_count": 83,
     "metadata": {},
     "output_type": "execute_result"
    }
   ],
   "source": [
    "#data.isnull()\n",
    "data.isna().sum()"
   ]
  },
  {
   "cell_type": "code",
   "execution_count": 84,
   "metadata": {},
   "outputs": [
    {
     "name": "stdout",
     "output_type": "stream",
     "text": [
      "x1    0\n",
      "x2    0\n",
      "y     0\n",
      "dtype: int64\n"
     ]
    }
   ],
   "source": [
    "data['x1'].fillna(data['x1'].mean(), inplace = True)\n",
    "data['x2'].fillna(data['x2'].mode()[0], inplace = True) \n",
    "print(data.isnull().sum())"
   ]
  },
  {
   "cell_type": "code",
   "execution_count": 85,
   "metadata": {},
   "outputs": [
    {
     "data": {
      "text/html": [
       "<div>\n",
       "<style scoped>\n",
       "    .dataframe tbody tr th:only-of-type {\n",
       "        vertical-align: middle;\n",
       "    }\n",
       "\n",
       "    .dataframe tbody tr th {\n",
       "        vertical-align: top;\n",
       "    }\n",
       "\n",
       "    .dataframe thead th {\n",
       "        text-align: right;\n",
       "    }\n",
       "</style>\n",
       "<table border=\"1\" class=\"dataframe\">\n",
       "  <thead>\n",
       "    <tr style=\"text-align: right;\">\n",
       "      <th></th>\n",
       "      <th>count</th>\n",
       "      <th>mean</th>\n",
       "      <th>std</th>\n",
       "      <th>min</th>\n",
       "      <th>25%</th>\n",
       "      <th>50%</th>\n",
       "      <th>75%</th>\n",
       "      <th>max</th>\n",
       "    </tr>\n",
       "  </thead>\n",
       "  <tbody>\n",
       "    <tr>\n",
       "      <th>x1</th>\n",
       "      <td>2227.0</td>\n",
       "      <td>-4.818766</td>\n",
       "      <td>7.485570e+01</td>\n",
       "      <td>-134.369160</td>\n",
       "      <td>-71.581453</td>\n",
       "      <td>-9.124370</td>\n",
       "      <td>59.633331</td>\n",
       "      <td>1.345087e+02</td>\n",
       "    </tr>\n",
       "    <tr>\n",
       "      <th>x2</th>\n",
       "      <td>2227.0</td>\n",
       "      <td>89355.572917</td>\n",
       "      <td>2.981313e+06</td>\n",
       "      <td>-134.876132</td>\n",
       "      <td>-80.584107</td>\n",
       "      <td>-1.566092</td>\n",
       "      <td>63.749871</td>\n",
       "      <td>1.000000e+08</td>\n",
       "    </tr>\n",
       "    <tr>\n",
       "      <th>y</th>\n",
       "      <td>2227.0</td>\n",
       "      <td>0.442299</td>\n",
       "      <td>4.967710e-01</td>\n",
       "      <td>0.000000</td>\n",
       "      <td>0.000000</td>\n",
       "      <td>0.000000</td>\n",
       "      <td>1.000000</td>\n",
       "      <td>1.000000e+00</td>\n",
       "    </tr>\n",
       "  </tbody>\n",
       "</table>\n",
       "</div>"
      ],
      "text/plain": [
       "     count          mean           std         min        25%       50%  \\\n",
       "x1  2227.0     -4.818766  7.485570e+01 -134.369160 -71.581453 -9.124370   \n",
       "x2  2227.0  89355.572917  2.981313e+06 -134.876132 -80.584107 -1.566092   \n",
       "y   2227.0      0.442299  4.967710e-01    0.000000   0.000000  0.000000   \n",
       "\n",
       "          75%           max  \n",
       "x1  59.633331  1.345087e+02  \n",
       "x2  63.749871  1.000000e+08  \n",
       "y    1.000000  1.000000e+00  "
      ]
     },
     "execution_count": 85,
     "metadata": {},
     "output_type": "execute_result"
    }
   ],
   "source": [
    "#data.describe()\n",
    "data.describe().T\n"
   ]
  },
  {
   "cell_type": "markdown",
   "metadata": {},
   "source": [
    "# Checking Outliers :"
   ]
  },
  {
   "cell_type": "code",
   "execution_count": 86,
   "metadata": {},
   "outputs": [
    {
     "data": {
      "text/plain": [
       "<AxesSubplot:>"
      ]
     },
     "execution_count": 86,
     "metadata": {},
     "output_type": "execute_result"
    },
    {
     "data": {
      "image/png": "[encoded data removed]",
      "text/plain": [
       "<Figure size 1080x576 with 1 Axes>"
      ]
     },
     "metadata": {
      "needs_background": "light"
     },
     "output_type": "display_data"
    }
   ],
   "source": [
    "data.boxplot(figsize=(15,8))"
   ]
  },
  {
   "cell_type": "code",
   "execution_count": 87,
   "metadata": {},
   "outputs": [
    {
     "name": "stdout",
     "output_type": "stream",
     "text": [
      "Outliers in x1 : 0\n",
      "Outliers in x2 : 2\n",
      "Outliers in y : 0\n"
     ]
    }
   ],
   "source": [
    "print(\"Outliers in x1 :\",data[((data.x1 - data.x1.mean()) / data.x1.std()).abs()>3][\"x1\"].count())\n",
    "print(\"Outliers in x2 :\",data[((data.x2 - data.x2.mean()) / data.x2.std()).abs()>3][\"x2\"].count())\n",
    "print(\"Outliers in y :\",data[((data.y - data.y.mean()) / data.y.std()).abs()>3][\"y\"].count())"
   ]
  },
  {
   "cell_type": "markdown",
   "metadata": {},
   "source": [
    "# Removing outliers:"
   ]
  },
  {
   "cell_type": "code",
   "execution_count": 88,
   "metadata": {},
   "outputs": [],
   "source": [
    "for cols in data.columns[:-1]:\n",
    "    Q1=data[cols].quantile(0.25)\n",
    "    Q3=data[cols].quantile(0.75)\n",
    "    iqr=Q3-Q1\n",
    "    \n",
    "    low=Q1-1.5*iqr\n",
    "    high=Q3+1.5*iqr\n",
    "    data.loc[(data[cols]<low)| (data[cols]>high),cols]=data[cols].median()"
   ]
  },
  {
   "cell_type": "code",
   "execution_count": 89,
   "metadata": {},
   "outputs": [
    {
     "data": {
      "text/plain": [
       "<AxesSubplot:>"
      ]
     },
     "execution_count": 89,
     "metadata": {},
     "output_type": "execute_result"
    },
    {
     "data": {
      "image/png": "[encoded data removed]",
      "text/plain": [
       "<Figure size 1080x576 with 1 Axes>"
      ]
     },
     "metadata": {
      "needs_background": "light"
     },
     "output_type": "display_data"
    }
   ],
   "source": [
    "data.boxplot(figsize=(15,8))"
   ]
  },
  {
   "cell_type": "markdown",
   "metadata": {},
   "source": [
    "# Splitting the dataset:"
   ]
  },
  {
   "cell_type": "code",
   "execution_count": 90,
   "metadata": {},
   "outputs": [],
   "source": [
    "X=data.drop(\"y\",axis=1)     #independent\n",
    "y=data[\"y\"]                 #dependent"
   ]
  },
  {
   "cell_type": "code",
   "execution_count": 91,
   "metadata": {},
   "outputs": [
    {
     "name": "stdout",
     "output_type": "stream",
     "text": [
      "           x1          x2\n",
      "0 -119.366669  115.000000\n",
      "1 -101.108044   97.777159\n",
      "2 -130.278658  106.767654\n",
      "3 -114.703415  101.195477\n",
      "4 -119.366669  115.000000\n",
      "0    1\n",
      "1    1\n",
      "2    1\n",
      "3    1\n",
      "4    1\n",
      "Name: y, dtype: int64\n"
     ]
    }
   ],
   "source": [
    "print(X.head())\n",
    "print(y.head())"
   ]
  },
  {
   "cell_type": "code",
   "execution_count": 92,
   "metadata": {},
   "outputs": [],
   "source": [
    "from scipy.stats import zscore\n",
    "\n",
    "Xscaled=X.apply(zscore)\n",
    "Xscaled_data=pd.DataFrame(Xscaled,columns=data.columns)"
   ]
  },
  {
   "cell_type": "code",
   "execution_count": 93,
   "metadata": {},
   "outputs": [],
   "source": [
    "X_train, X_test, y_train, y_test = train_test_split(Xscaled, y, test_size=0.2, random_state=2)"
   ]
  },
  {
   "cell_type": "code",
   "execution_count": 94,
   "metadata": {},
   "outputs": [],
   "source": [
    "#feature Scaling  \n",
    "from sklearn.preprocessing import StandardScaler    \n",
    "st_x= StandardScaler()    \n",
    "X_train= st_x.fit_transform(X_train)    \n",
    "X_test= st_x.transform(X_test)  "
   ]
  },
  {
   "cell_type": "markdown",
   "metadata": {},
   "source": [
    "# Logistic Regression: "
   ]
  },
  {
   "cell_type": "code",
   "execution_count": 95,
   "metadata": {},
   "outputs": [
    {
     "data": {
      "text/plain": [
       "LogisticRegression(random_state=0, solver='liblinear')"
      ]
     },
     "execution_count": 95,
     "metadata": {},
     "output_type": "execute_result"
    }
   ],
   "source": [
    "# Logistic Regression Classifier\n",
    "\n",
    "classifier_1 = LogisticRegression(random_state=0, solver=\"liblinear\")\n",
    "classifier_1.fit(X_train, y_train)\n"
   ]
  },
  {
   "cell_type": "code",
   "execution_count": 96,
   "metadata": {},
   "outputs": [
    {
     "name": "stdout",
     "output_type": "stream",
     "text": [
      "Train_Score :  74.11566535654127\n",
      "Test_Score :  73.76681614349776\n"
     ]
    }
   ],
   "source": [
    "\n",
    "#  Predict\n",
    "y_pred_logi = classifier_1.predict(X_test)\n",
    "\n",
    "# Generate predictions\n",
    "predictions_logi_train =classifier_1.predict(X_train)\n",
    "predictions_logi_test= classifier_1.predict(X_test)\n",
    "\n",
    "#ACCURACY = TRAIN DATA SCORE \n",
    "train_Acc_1=classifier_1.score(X_train,y_train) \n",
    "print('Train_Score : ',train_Acc_1*100)\n",
    "\n",
    "#ACCURACY = TEST DATA SCORE \n",
    "Acc_1=classifier_1.score(X_test, y_test)\n",
    "print('Test_Score : ',Acc_1*100)\n",
    "\n",
    "\n"
   ]
  },
  {
   "cell_type": "code",
   "execution_count": 97,
   "metadata": {
    "scrolled": true
   },
   "outputs": [
    {
     "name": "stdout",
     "output_type": "stream",
     "text": [
      "confusion_matrix is : \n",
      "[[247   2]\n",
      " [115  82]]\n",
      "====================================================================================================\n",
      "Accuracy score: 73.76681614349776\n",
      "Precision score: 97.61904761904762\n",
      "Recall score: 41.62436548223351\n",
      "F1 score: 58.362989323843415\n",
      "roc_auc_score_1 :  70.41057631541395\n",
      "====================================================================================================\n",
      "classification_report is : \n",
      "              precision    recall  f1-score   support\n",
      "\n",
      "           0       0.68      0.99      0.81       249\n",
      "           1       0.98      0.42      0.58       197\n",
      "\n",
      "    accuracy                           0.74       446\n",
      "   macro avg       0.83      0.70      0.70       446\n",
      "weighted avg       0.81      0.74      0.71       446\n",
      "\n",
      "====================================================================================================\n",
      "[0.         0.00704935 1.        ] [0.         0.42385787 1.        ] [2 1 0]\n",
      "[0.         0.00803213 1.        ] [0.         0.41624365 1.        ] [2 1 0]\n",
      "====================================================================================================\n",
      "Train AUC: 0.708\n",
      "Test AUC: 0.704\n",
      "====================================================================================================\n"
     ]
    },
    {
     "data": {
      "image/png": "[encoded data removed]",
      "text/plain": [
       "<Figure size 1080x576 with 1 Axes>"
      ]
     },
     "metadata": {
      "needs_background": "light"
     },
     "output_type": "display_data"
    }
   ],
   "source": [
    "#  Confusion Matrix\n",
    "print('confusion_matrix is : ')\n",
    "cm_1= metrics.confusion_matrix(y_test, y_pred_logi) \n",
    "print(cm_1)\n",
    "\n",
    "print('='*100)\n",
    "\n",
    "accuracy_1 = metrics.accuracy_score(y_test, y_pred_logi) \n",
    "print(\"Accuracy score:\",accuracy_1*100)\n",
    "\n",
    "precision_1 = metrics.precision_score(y_test, y_pred_logi) \n",
    "print(\"Precision score:\",precision_1*100)\n",
    "\n",
    "recall_1 = metrics.recall_score(y_test, y_pred_logi) \n",
    "print(\"Recall score:\",recall_1*100)\n",
    "\n",
    "f1_1 = metrics.f1_score(y_test,y_pred_logi)\n",
    "print(\"F1 score:\",f1_1*100)\n",
    "\n",
    "roc_auc_1 = roc_auc_score(y_test, predictions_logi_test)\n",
    "print('roc_auc_score_1 : ', roc_auc_1*100)\n",
    "\n",
    "print('='*100)\n",
    "\n",
    "# Checking the summary of classification\n",
    "print('classification_report is : ')\n",
    "print(classification_report(y_test, predictions_logi_test))\n",
    "\n",
    "print('='*100)\n",
    "\n",
    "# calculate ROC\n",
    "FPR, TPR, LRM = roc_curve(y_train, predictions_logi_train)\n",
    "FPR1, TPR1, LRM = roc_curve(y_test,predictions_logi_test)\n",
    "print(FPR, TPR, LRM)\n",
    "print(FPR1, TPR1, LRM)\n",
    "\n",
    "print('='*100)\n",
    "\n",
    "# calculate AUC\n",
    "auc_train_logi = auc(FPR, TPR)\n",
    "print('Train AUC: %0.3f' % auc_train_logi)\n",
    "\n",
    "auc_test_logi = auc(FPR1, TPR1)\n",
    "print('Test AUC: %0.3f' % auc_test_logi)\n",
    "\n",
    "print('='*100)\n",
    "\n",
    "# plot the ROC curve\n",
    "plt.figure(figsize=(15,8))\n",
    "plt.plot(FPR, TPR, label = 'Train AUC: %0.3f'%auc_train_logi)\n",
    "plt.plot(FPR1, TPR1, label = 'Test AUC: %0.3f'%auc_test_logi)\n",
    "\n",
    "plt.plot([1,0],[1,0], ls = '--', color = 'blue', lw = 0.90)\n",
    "\n",
    "plt.title('ROC Curve')\n",
    "plt.legend()\n",
    "plt.show();"
   ]
  },
  {
   "cell_type": "markdown",
   "metadata": {},
   "source": [
    "## Hyper parameter tunning:"
   ]
  },
  {
   "cell_type": "code",
   "execution_count": 120,
   "metadata": {},
   "outputs": [
    {
     "data": {
      "text/plain": [
       "GridSearchCV(cv=5, estimator=LogisticRegression(),\n",
       "             param_grid=[{'C': [0.0001, 0.01, 1, 100, 10000]}],\n",
       "             scoring='roc_auc')"
      ]
     },
     "execution_count": 120,
     "metadata": {},
     "output_type": "execute_result"
    }
   ],
   "source": [
    "tuned_parameters = [{'C': [10**-4, 10**-2, 10**0, 10**2, 10**4]}]\n",
    "logi = GridSearchCV(LogisticRegression(penalty='l2'), tuned_parameters, scoring = 'roc_auc', cv=5)\n",
    "logi.fit(X_train, y_train)"
   ]
  },
  {
   "cell_type": "code",
   "execution_count": 121,
   "metadata": {},
   "outputs": [
    {
     "ename": "SyntaxError",
     "evalue": "unexpected EOF while parsing (<ipython-input-121-2817d1d17c06>, line 2)",
     "output_type": "error",
     "traceback": [
      "\u001b[1;36m  File \u001b[1;32m\"<ipython-input-121-2817d1d17c06>\"\u001b[1;36m, line \u001b[1;32m2\u001b[0m\n\u001b[1;33m    cv_results_svc.head(\u001b[0m\n\u001b[1;37m                        ^\u001b[0m\n\u001b[1;31mSyntaxError\u001b[0m\u001b[1;31m:\u001b[0m unexpected EOF while parsing\n"
     ]
    }
   ],
   "source": [
    "cv_results_svc=pd.DataFrame(logi.cv_results_)\n",
    "cv_results_svc.head("
   ]
  },
  {
   "cell_type": "code",
   "execution_count": 123,
   "metadata": {},
   "outputs": [
    {
     "name": "stdout",
     "output_type": "stream",
     "text": [
      "Accuracy is : 56.720282143803644\n",
      "====================================================================================================\n",
      "best_score :  57.5468004180846\n",
      "best_params :  {'C': 0.0001}\n",
      "best_estimator :  LogisticRegression(C=0.0001)\n",
      "====================================================================================================\n",
      "classification_report is : \n",
      "              precision    recall  f1-score   support\n",
      "\n",
      "           0       0.56      1.00      0.72       249\n",
      "           1       0.00      0.00      0.00       197\n",
      "\n",
      "    accuracy                           0.56       446\n",
      "   macro avg       0.28      0.50      0.36       446\n",
      "weighted avg       0.31      0.56      0.40       446\n",
      "\n",
      "====================================================================================================\n",
      "Accuracy score: 55.82959641255605\n",
      "Precision score: 0.0\n",
      "Recall score: 0.0\n",
      "F1 score: 0.0\n",
      "roc_auc_score_3 :  50.0\n"
     ]
    },
    {
     "name": "stderr",
     "output_type": "stream",
     "text": [
      "C:\\anaconda\\lib\\site-packages\\sklearn\\metrics\\_classification.py:1248: UndefinedMetricWarning: Precision and F-score are ill-defined and being set to 0.0 in labels with no predicted samples. Use `zero_division` parameter to control this behavior.\n",
      "  _warn_prf(average, modifier, msg_start, len(result))\n",
      "C:\\anaconda\\lib\\site-packages\\sklearn\\metrics\\_classification.py:1248: UndefinedMetricWarning: Precision and F-score are ill-defined and being set to 0.0 in labels with no predicted samples. Use `zero_division` parameter to control this behavior.\n",
      "  _warn_prf(average, modifier, msg_start, len(result))\n",
      "C:\\anaconda\\lib\\site-packages\\sklearn\\metrics\\_classification.py:1248: UndefinedMetricWarning: Precision and F-score are ill-defined and being set to 0.0 in labels with no predicted samples. Use `zero_division` parameter to control this behavior.\n",
      "  _warn_prf(average, modifier, msg_start, len(result))\n",
      "C:\\anaconda\\lib\\site-packages\\sklearn\\metrics\\_classification.py:1248: UndefinedMetricWarning: Precision is ill-defined and being set to 0.0 due to no predicted samples. Use `zero_division` parameter to control this behavior.\n",
      "  _warn_prf(average, modifier, msg_start, len(result))\n"
     ]
    }
   ],
   "source": [
    "#The accuracy of the model with the best parameters\n",
    "logi_score=(logi.score(X_test, y_test)*100)\n",
    "print(\"Accuracy is :\" ,logi_score)\n",
    "\n",
    "print('='*100)\n",
    "\n",
    "logi_score1=logi.best_score_\n",
    "print(\"best_score : \",logi_score1*100)\n",
    "print(\"best_params : \",logi.best_params_)\n",
    "print(\"best_estimator : \",logi.best_estimator_)\n",
    "\n",
    "print('='*100)\n",
    "\n",
    "# Checking the summary of classification\n",
    "print('classification_report is : ')\n",
    "y_grid = logi.predict(X_test)\n",
    "print(classification_report(y_test, y_grid))\n",
    "\n",
    "print('='*100)\n",
    "\n",
    "hyper_accuracy_1 = metrics.accuracy_score(y_test, y_grid) \n",
    "print(\"Accuracy score:\",hyper_accuracy_1*100)\n",
    "\n",
    "hyper_precision_1 = metrics.precision_score(y_test, y_grid) \n",
    "print(\"Precision score:\",hyper_precision_1*100)\n",
    "\n",
    "hyper_recall_1 = metrics.recall_score(y_test, y_grid) \n",
    "print(\"Recall score:\",hyper_recall_1*100)\n",
    "\n",
    "hyper_f1_1 = metrics.f1_score(y_test, y_grid)\n",
    "print(\"F1 score:\",hyper_f1_1*100)\n",
    "\n",
    "# roc auc score for test data\n",
    "hyper_roc_auc_1 = roc_auc_score(y_test, y_grid)\n",
    "print('roc_auc_score_3 : ', hyper_roc_auc_1*100)"
   ]
  },
  {
   "cell_type": "code",
   "execution_count": null,
   "metadata": {},
   "outputs": [],
   "source": []
  },
  {
   "cell_type": "markdown",
   "metadata": {},
   "source": [
    "# Decision Tree :"
   ]
  },
  {
   "cell_type": "code",
   "execution_count": 98,
   "metadata": {},
   "outputs": [
    {
     "data": {
      "text/plain": [
       "DecisionTreeClassifier(criterion='entropy', random_state=0)"
      ]
     },
     "execution_count": 98,
     "metadata": {},
     "output_type": "execute_result"
    }
   ],
   "source": [
    "#  Fit the classifier\n",
    "\n",
    "classifier_2 = DecisionTreeClassifier(criterion = \"entropy\", random_state=0)\n",
    "classifier_2.fit(X_train, y_train)"
   ]
  },
  {
   "cell_type": "code",
   "execution_count": 99,
   "metadata": {},
   "outputs": [
    {
     "name": "stdout",
     "output_type": "stream",
     "text": [
      "Train_Score :  100.0\n",
      "Test_Score :  92.82511210762333\n"
     ]
    }
   ],
   "source": [
    "\n",
    "# Making predictions on Test data\n",
    "y_pred_dtr= classifier_2.predict(X_test)\n",
    "\n",
    "# Generate predictions\n",
    "predictions_dtr_train =classifier_2.predict(X_train)\n",
    "predictions_dtr_test= classifier_2.predict(X_test)\n",
    "\n",
    "#ACCURACY = TRAIN DATA SCORE \n",
    "train_Acc_2=classifier_2.score(X_train,y_train)          \n",
    "print('Train_Score : ',train_Acc_2*100)\n",
    "\n",
    "#ACCURACY = TEST DATA SCORE \n",
    "Acc_2=classifier_2.score(X_test, y_test)  \n",
    "print('Test_Score : ',Acc_2*100)\n"
   ]
  },
  {
   "cell_type": "code",
   "execution_count": 100,
   "metadata": {},
   "outputs": [
    {
     "name": "stdout",
     "output_type": "stream",
     "text": [
      "confusion_matrix is : \n",
      "[[234  15]\n",
      " [ 17 180]]\n",
      "====================================================================================================\n",
      "Accuracy score: 92.82511210762333\n",
      "Precision score: 92.3076923076923\n",
      "Recall score: 91.37055837563452\n",
      "F1 score: 91.83673469387756\n",
      "roc_auc_score_2 :  92.67323099504618\n",
      "====================================================================================================\n",
      "classification_report is : \n",
      "              precision    recall  f1-score   support\n",
      "\n",
      "          NO       0.93      0.94      0.94       249\n",
      "         YES       0.92      0.91      0.92       197\n",
      "\n",
      "    accuracy                           0.93       446\n",
      "   macro avg       0.93      0.93      0.93       446\n",
      "weighted avg       0.93      0.93      0.93       446\n",
      "\n",
      "====================================================================================================\n",
      "[0. 0. 1.] [0. 1. 1.] [2 1 0]\n",
      "[0.         0.06024096 1.        ] [0.         0.91370558 1.        ] [2 1 0]\n",
      "====================================================================================================\n",
      "Train AUC: 1.000\n",
      "Test AUC: 0.927\n",
      "====================================================================================================\n"
     ]
    },
    {
     "data": {
      "image/png": "[encoded data removed]",
      "text/plain": [
       "<Figure size 1080x576 with 1 Axes>"
      ]
     },
     "metadata": {
      "needs_background": "light"
     },
     "output_type": "display_data"
    }
   ],
   "source": [
    "#  Evaluate the model performance\n",
    "print('confusion_matrix is : ')\n",
    "cm_2 = metrics.confusion_matrix(y_test, y_pred_dtr) \n",
    "print(cm_2)\n",
    "\n",
    "print('='*100)\n",
    "\n",
    "accuracy_2 = metrics.accuracy_score(y_test, y_pred_dtr) \n",
    "print(\"Accuracy score:\",accuracy_2*100)\n",
    "\n",
    "precision_2 = metrics.precision_score(y_test, y_pred_dtr) \n",
    "print(\"Precision score:\",precision_2*100)\n",
    "\n",
    "recall_2 = metrics.recall_score(y_test, y_pred_dtr) \n",
    "print(\"Recall score:\",recall_2*100)\n",
    "\n",
    "f1_2 = metrics.f1_score(y_test,y_pred_dtr) \n",
    "print(\"F1 score:\",f1_2*100)\n",
    "\n",
    "roc_auc_2 = roc_auc_score(y_test, predictions_dtr_test)\n",
    "print('roc_auc_score_2 : ', roc_auc_2*100)\n",
    "\n",
    "print('='*100)\n",
    "\n",
    " # Checking the summary of classification\n",
    "print('classification_report is : ')\n",
    "print(classification_report(y_test, predictions_dtr_test, target_names = ['NO', 'YES']))\n",
    "\n",
    "print('='*100)\n",
    "\n",
    "# calculate ROC\n",
    "FPR, TPR, LRM = roc_curve(y_train, predictions_dtr_train)\n",
    "FPR1, TPR1, LRM = roc_curve(y_test,predictions_dtr_test)\n",
    "print(FPR, TPR, LRM)\n",
    "print(FPR1, TPR1, LRM)\n",
    "\n",
    "print('='*100)\n",
    "\n",
    "# calculate AUC\n",
    "auc_train_dtr = auc(FPR, TPR)\n",
    "print('Train AUC: %0.3f' % auc_train_dtr)\n",
    "\n",
    "auc_test_dtr = auc(FPR1, TPR1)\n",
    "print('Test AUC: %0.3f' % auc_test_dtr)\n",
    "\n",
    "print('='*100)\n",
    "\n",
    "# plot the ROC curve\n",
    "plt.figure(figsize=(15,8))\n",
    "plt.plot(FPR, TPR, label = 'Train AUC: %0.3f'%auc_train_dtr)\n",
    "plt.plot(FPR1, TPR1, label = 'Test AUC: %0.3f'%auc_test_dtr)\n",
    "\n",
    "plt.plot([1,0],[1,0], ls = '--', color = 'blue', lw = 0.90)\n",
    "\n",
    "plt.title('ROC Curve')\n",
    "plt.legend()\n",
    "plt.show();"
   ]
  },
  {
   "cell_type": "markdown",
   "metadata": {},
   "source": [
    "## Hyper parameter tunning:"
   ]
  },
  {
   "cell_type": "code",
   "execution_count": 124,
   "metadata": {},
   "outputs": [
    {
     "data": {
      "text/plain": [
       "GridSearchCV(cv=5, estimator=DecisionTreeClassifier(), n_jobs=-1,\n",
       "             param_grid=[{'max_depth': [2, 3, 5, 10],\n",
       "                          'min_samples_leaf': [5, 10, 20, 50]}],\n",
       "             scoring='roc_auc')"
      ]
     },
     "execution_count": 124,
     "metadata": {},
     "output_type": "execute_result"
    }
   ],
   "source": [
    "\n",
    "dtr = DecisionTreeClassifier()\n",
    "tuned_parameters=[{'max_depth':[2,3,5,10],'min_samples_leaf':[5,10,20,50]}]\n",
    "DTR=GridSearchCV( DecisionTreeClassifier(),tuned_parameters,scoring='roc_auc',cv=5,n_jobs=-1)\n",
    "DTR.fit(X_train,y_train)"
   ]
  },
  {
   "cell_type": "code",
   "execution_count": 125,
   "metadata": {},
   "outputs": [
    {
     "data": {
      "text/html": [
       "<div>\n",
       "<style scoped>\n",
       "    .dataframe tbody tr th:only-of-type {\n",
       "        vertical-align: middle;\n",
       "    }\n",
       "\n",
       "    .dataframe tbody tr th {\n",
       "        vertical-align: top;\n",
       "    }\n",
       "\n",
       "    .dataframe thead th {\n",
       "        text-align: right;\n",
       "    }\n",
       "</style>\n",
       "<table border=\"1\" class=\"dataframe\">\n",
       "  <thead>\n",
       "    <tr style=\"text-align: right;\">\n",
       "      <th></th>\n",
       "      <th>mean_fit_time</th>\n",
       "      <th>std_fit_time</th>\n",
       "      <th>mean_score_time</th>\n",
       "      <th>std_score_time</th>\n",
       "      <th>param_max_depth</th>\n",
       "      <th>param_min_samples_leaf</th>\n",
       "      <th>params</th>\n",
       "      <th>split0_test_score</th>\n",
       "      <th>split1_test_score</th>\n",
       "      <th>split2_test_score</th>\n",
       "      <th>split3_test_score</th>\n",
       "      <th>split4_test_score</th>\n",
       "      <th>mean_test_score</th>\n",
       "      <th>std_test_score</th>\n",
       "      <th>rank_test_score</th>\n",
       "    </tr>\n",
       "  </thead>\n",
       "  <tbody>\n",
       "    <tr>\n",
       "      <th>0</th>\n",
       "      <td>0.077958</td>\n",
       "      <td>0.040052</td>\n",
       "      <td>0.005995</td>\n",
       "      <td>0.000892</td>\n",
       "      <td>2</td>\n",
       "      <td>5</td>\n",
       "      <td>{'max_depth': 2, 'min_samples_leaf': 5}</td>\n",
       "      <td>0.833312</td>\n",
       "      <td>0.917518</td>\n",
       "      <td>0.917902</td>\n",
       "      <td>0.850259</td>\n",
       "      <td>0.841932</td>\n",
       "      <td>0.872184</td>\n",
       "      <td>0.037556</td>\n",
       "      <td>13</td>\n",
       "    </tr>\n",
       "    <tr>\n",
       "      <th>1</th>\n",
       "      <td>0.003798</td>\n",
       "      <td>0.000400</td>\n",
       "      <td>0.004197</td>\n",
       "      <td>0.000748</td>\n",
       "      <td>2</td>\n",
       "      <td>10</td>\n",
       "      <td>{'max_depth': 2, 'min_samples_leaf': 10}</td>\n",
       "      <td>0.833312</td>\n",
       "      <td>0.917518</td>\n",
       "      <td>0.917902</td>\n",
       "      <td>0.850259</td>\n",
       "      <td>0.841932</td>\n",
       "      <td>0.872184</td>\n",
       "      <td>0.037556</td>\n",
       "      <td>13</td>\n",
       "    </tr>\n",
       "    <tr>\n",
       "      <th>2</th>\n",
       "      <td>0.004397</td>\n",
       "      <td>0.000489</td>\n",
       "      <td>0.004597</td>\n",
       "      <td>0.000490</td>\n",
       "      <td>2</td>\n",
       "      <td>20</td>\n",
       "      <td>{'max_depth': 2, 'min_samples_leaf': 20}</td>\n",
       "      <td>0.833312</td>\n",
       "      <td>0.917518</td>\n",
       "      <td>0.917902</td>\n",
       "      <td>0.850259</td>\n",
       "      <td>0.841932</td>\n",
       "      <td>0.872184</td>\n",
       "      <td>0.037556</td>\n",
       "      <td>13</td>\n",
       "    </tr>\n",
       "    <tr>\n",
       "      <th>3</th>\n",
       "      <td>0.004397</td>\n",
       "      <td>0.000489</td>\n",
       "      <td>0.004598</td>\n",
       "      <td>0.000490</td>\n",
       "      <td>2</td>\n",
       "      <td>50</td>\n",
       "      <td>{'max_depth': 2, 'min_samples_leaf': 50}</td>\n",
       "      <td>0.833312</td>\n",
       "      <td>0.917518</td>\n",
       "      <td>0.917902</td>\n",
       "      <td>0.850259</td>\n",
       "      <td>0.841932</td>\n",
       "      <td>0.872184</td>\n",
       "      <td>0.037556</td>\n",
       "      <td>13</td>\n",
       "    </tr>\n",
       "    <tr>\n",
       "      <th>4</th>\n",
       "      <td>0.004997</td>\n",
       "      <td>0.000001</td>\n",
       "      <td>0.004397</td>\n",
       "      <td>0.000489</td>\n",
       "      <td>3</td>\n",
       "      <td>5</td>\n",
       "      <td>{'max_depth': 3, 'min_samples_leaf': 5}</td>\n",
       "      <td>0.950051</td>\n",
       "      <td>0.977979</td>\n",
       "      <td>0.976187</td>\n",
       "      <td>0.953043</td>\n",
       "      <td>0.898638</td>\n",
       "      <td>0.951180</td>\n",
       "      <td>0.028667</td>\n",
       "      <td>9</td>\n",
       "    </tr>\n",
       "  </tbody>\n",
       "</table>\n",
       "</div>"
      ],
      "text/plain": [
       "   mean_fit_time  std_fit_time  mean_score_time  std_score_time  \\\n",
       "0       0.077958      0.040052         0.005995        0.000892   \n",
       "1       0.003798      0.000400         0.004197        0.000748   \n",
       "2       0.004397      0.000489         0.004597        0.000490   \n",
       "3       0.004397      0.000489         0.004598        0.000490   \n",
       "4       0.004997      0.000001         0.004397        0.000489   \n",
       "\n",
       "  param_max_depth param_min_samples_leaf  \\\n",
       "0               2                      5   \n",
       "1               2                     10   \n",
       "2               2                     20   \n",
       "3               2                     50   \n",
       "4               3                      5   \n",
       "\n",
       "                                     params  split0_test_score  \\\n",
       "0   {'max_depth': 2, 'min_samples_leaf': 5}           0.833312   \n",
       "1  {'max_depth': 2, 'min_samples_leaf': 10}           0.833312   \n",
       "2  {'max_depth': 2, 'min_samples_leaf': 20}           0.833312   \n",
       "3  {'max_depth': 2, 'min_samples_leaf': 50}           0.833312   \n",
       "4   {'max_depth': 3, 'min_samples_leaf': 5}           0.950051   \n",
       "\n",
       "   split1_test_score  split2_test_score  split3_test_score  split4_test_score  \\\n",
       "0           0.917518           0.917902           0.850259           0.841932   \n",
       "1           0.917518           0.917902           0.850259           0.841932   \n",
       "2           0.917518           0.917902           0.850259           0.841932   \n",
       "3           0.917518           0.917902           0.850259           0.841932   \n",
       "4           0.977979           0.976187           0.953043           0.898638   \n",
       "\n",
       "   mean_test_score  std_test_score  rank_test_score  \n",
       "0         0.872184        0.037556               13  \n",
       "1         0.872184        0.037556               13  \n",
       "2         0.872184        0.037556               13  \n",
       "3         0.872184        0.037556               13  \n",
       "4         0.951180        0.028667                9  "
      ]
     },
     "execution_count": 125,
     "metadata": {},
     "output_type": "execute_result"
    }
   ],
   "source": [
    "cv_results_dtr=pd.DataFrame(DTR.cv_results_)\n",
    "cv_results_dtr.head()\n"
   ]
  },
  {
   "cell_type": "code",
   "execution_count": 126,
   "metadata": {},
   "outputs": [
    {
     "name": "stdout",
     "output_type": "stream",
     "text": [
      "Best_Score is : 98.89303406519478\n",
      "====================================================================================================\n",
      "best_score :  98.8975244199746\n",
      "best_params :  {'max_depth': 10, 'min_samples_leaf': 20}\n",
      "best_estimator :  DecisionTreeClassifier(max_depth=10, min_samples_leaf=20)\n",
      "====================================================================================================\n",
      "classification_report is : \n",
      "              precision    recall  f1-score   support\n",
      "\n",
      "           0       0.95      0.94      0.95       249\n",
      "           1       0.93      0.94      0.93       197\n",
      "\n",
      "    accuracy                           0.94       446\n",
      "   macro avg       0.94      0.94      0.94       446\n",
      "weighted avg       0.94      0.94      0.94       446\n",
      "\n",
      "====================================================================================================\n",
      "Accuracy score: 94.17040358744396\n",
      "Precision score: 92.96482412060301\n",
      "Recall score: 93.90862944162437\n",
      "F1 score: 93.43434343434343\n",
      "roc_auc_score_3 :  94.1430697408925\n"
     ]
    }
   ],
   "source": [
    "#The accuracy of the model with the best parameters\n",
    "dtr_score=DTR.score(X_test, y_test)\n",
    "print(\"Best_Score is :\" ,DTR.score(X_test, y_test)*100)\n",
    "\n",
    "print('='*100)\n",
    "\n",
    "dtr_score1=DTR.best_score_\n",
    "print(\"best_score : \",dtr_score1*100)\n",
    "print(\"best_params : \",DTR.best_params_)\n",
    "print(\"best_estimator : \",DTR.best_estimator_)\n",
    "\n",
    "print('='*100)\n",
    "\n",
    "# Checking the summary of classification\n",
    "print('classification_report is : ')\n",
    "y_pred = DTR.predict(X_test)\n",
    "print(classification_report(y_test, y_pred))\n",
    "\n",
    "print('='*100)\n",
    "\n",
    "hyper_accuracy_2 = metrics.accuracy_score(y_test, y_pred) \n",
    "print(\"Accuracy score:\",hyper_accuracy_2*100)\n",
    "\n",
    "hyper_precision_2 = metrics.precision_score(y_test, y_pred) \n",
    "print(\"Precision score:\",hyper_precision_2*100)\n",
    "\n",
    "hyper_recall_2 = metrics.recall_score(y_test, y_pred) \n",
    "print(\"Recall score:\",hyper_recall_2*100)\n",
    "\n",
    "hyper_f1_2 = metrics.f1_score(y_test, y_pred)\n",
    "print(\"F1 score:\",hyper_f1_2*100)\n",
    "\n",
    "# roc auc score for test data\n",
    "hyper_roc_auc_2 = roc_auc_score(y_test, y_pred)\n",
    "print('roc_auc_score_3 : ', hyper_roc_auc_2*100)"
   ]
  },
  {
   "cell_type": "code",
   "execution_count": null,
   "metadata": {},
   "outputs": [],
   "source": []
  },
  {
   "cell_type": "markdown",
   "metadata": {},
   "source": [
    "# KNN :"
   ]
  },
  {
   "cell_type": "code",
   "execution_count": 101,
   "metadata": {},
   "outputs": [
    {
     "data": {
      "text/plain": [
       "KNeighborsClassifier(n_neighbors=3)"
      ]
     },
     "execution_count": 101,
     "metadata": {},
     "output_type": "execute_result"
    }
   ],
   "source": [
    "# fitting the model\n",
    "\n",
    "classifier_3 = KNeighborsClassifier(n_neighbors=3)\n",
    "classifier_3.fit(X_train, y_train)\n"
   ]
  },
  {
   "cell_type": "code",
   "execution_count": 102,
   "metadata": {},
   "outputs": [
    {
     "name": "stdout",
     "output_type": "stream",
     "text": [
      "Train_Score :  96.68725435148792\n",
      "Test_Score :  94.39461883408072\n"
     ]
    }
   ],
   "source": [
    "\n",
    "#  Predict\n",
    "y_pred_knn = classifier_3.predict(X_test)\n",
    "\n",
    "# Generate predictions\n",
    "predictions_knn_train =classifier_3.predict(X_train)\n",
    "predictions_knn_test= classifier_3.predict(X_test)\n",
    "\n",
    "#ACCURACY = TRAIN DATA SCORE \n",
    "train_Acc_3=classifier_3.score(X_train,y_train)          \n",
    "print('Train_Score : ',train_Acc_4*100)\n",
    "\n",
    "#ACCURACY = TEST DATA SCORE \n",
    "Acc_3=classifier_3.score(X_test, y_test) \n",
    "print('Test_Score : ',Acc_4*100)\n"
   ]
  },
  {
   "cell_type": "code",
   "execution_count": 103,
   "metadata": {},
   "outputs": [
    {
     "name": "stdout",
     "output_type": "stream",
     "text": [
      "confusion_matrix is : \n",
      "[[239  10]\n",
      " [ 15 182]]\n",
      "====================================================================================================\n",
      "Accuracy score: 94.39461883408072\n",
      "Precision score: 94.79166666666666\n",
      "Recall score: 92.38578680203045\n",
      "F1 score: 93.57326478149099\n",
      "roc_auc_score :  94.18486127250117\n",
      "====================================================================================================\n",
      "classification_report is : \n",
      "              precision    recall  f1-score   support\n",
      "\n",
      "          NO       0.94      0.96      0.95       249\n",
      "         YES       0.95      0.92      0.94       197\n",
      "\n",
      "    accuracy                           0.94       446\n",
      "   macro avg       0.94      0.94      0.94       446\n",
      "weighted avg       0.94      0.94      0.94       446\n",
      "\n",
      "====================================================================================================\n",
      "[0.         0.03121853 1.        ] [0.         0.96446701 1.        ] [2 1 0]\n",
      "[0.         0.04016064 1.        ] [0.         0.92385787 1.        ] [2 1 0]\n",
      "====================================================================================================\n",
      "Train AUC: 0.967\n",
      "Test AUC: 0.942\n",
      "====================================================================================================\n"
     ]
    },
    {
     "data": {
      "image/png": "[encoded data removed]",
      "text/plain": [
       "<Figure size 1080x576 with 1 Axes>"
      ]
     },
     "metadata": {
      "needs_background": "light"
     },
     "output_type": "display_data"
    }
   ],
   "source": [
    "# Evaluate the model performance\n",
    "print('confusion_matrix is : ')\n",
    "cm_3 = metrics.confusion_matrix(y_test, y_pred_knn) \n",
    "print(cm_3)\n",
    "\n",
    "print('='*100)\n",
    "\n",
    "accuracy_3 = metrics.accuracy_score(y_test,y_pred_knn) \n",
    "print(\"Accuracy score:\",accuracy_3*100)\n",
    "\n",
    "precision_3 = metrics.precision_score(y_test,y_pred_knn) \n",
    "print(\"Precision score:\",precision_3*100)\n",
    "\n",
    "recall_3 = metrics.recall_score(y_test,y_pred_knn) \n",
    "print(\"Recall score:\",recall_3*100)\n",
    "\n",
    "f1_3 = metrics.f1_score(y_test,y_pred_knn) \n",
    "print(\"F1 score:\",f1_3*100)\n",
    "\n",
    "roc_auc_3 = roc_auc_score(y_test, predictions_knn_test)\n",
    "print('roc_auc_score : ', roc_auc_3*100)\n",
    "\n",
    "print('='*100)\n",
    "\n",
    "# Checking the summary of classification\n",
    "print('classification_report is : ')\n",
    "print(classification_report(y_test,predictions_knn_test, target_names = ['NO', 'YES']))\n",
    "\n",
    "print('='*100)\n",
    "\n",
    "# calculate \n",
    "FPR, TPR, LRM = roc_curve(y_train, predictions_knn_train)\n",
    "FPR1, TPR1, LRM = roc_curve(y_test,predictions_knn_test)\n",
    "print(FPR, TPR, LRM)\n",
    "print(FPR1, TPR1, LRM)\n",
    "\n",
    "print('='*100)\n",
    "\n",
    "# calculate AUC\n",
    "auc_train_knn = auc(FPR, TPR)\n",
    "print('Train AUC: %0.3f' % auc_train_knn)\n",
    "\n",
    "auc_test_knn = auc(FPR1, TPR1)\n",
    "print('Test AUC: %0.3f' % auc_test_knn)\n",
    "\n",
    "print('='*100)\n",
    "\n",
    "# plot the ROC curve\n",
    "plt.figure(figsize=(15,8))\n",
    "plt.plot(FPR, TPR, label = 'Train AUC: %0.3f'%auc_train_knn)\n",
    "plt.plot(FPR1, TPR1, label = 'Test AUC: %0.3f'%auc_test_knn)\n",
    "\n",
    "plt.plot([1,0],[1,0], ls = '--', color = 'blue', lw = 0.90)\n",
    "\n",
    "plt.title('ROC Curve')\n",
    "plt.legend()\n",
    "plt.show();"
   ]
  },
  {
   "cell_type": "markdown",
   "metadata": {},
   "source": [
    "## Hyper parameter tunning:"
   ]
  },
  {
   "cell_type": "code",
   "execution_count": 127,
   "metadata": {},
   "outputs": [
    {
     "data": {
      "text/plain": [
       "GridSearchCV(cv=5, estimator=KNeighborsClassifier(n_neighbors=3), n_jobs=-1,\n",
       "             param_grid=[{'metric': ['canberra', 'euclidean', 'minkowski'],\n",
       "                          'n_neighbors': [3, 20, 2]}],\n",
       "             scoring='roc_auc')"
      ]
     },
     "execution_count": 127,
     "metadata": {},
     "output_type": "execute_result"
    }
   ],
   "source": [
    "knn = KNeighborsClassifier(n_neighbors=3)\n",
    "tuned_parameters=[{'n_neighbors':[3,20,2],'metric':['canberra','euclidean','minkowski']}]\n",
    "KNN=GridSearchCV(KNeighborsClassifier(n_neighbors=3),tuned_parameters,scoring='roc_auc',cv=5,n_jobs=-1)\n",
    "KNN.fit(X_train,y_train)"
   ]
  },
  {
   "cell_type": "code",
   "execution_count": 128,
   "metadata": {},
   "outputs": [
    {
     "data": {
      "text/html": [
       "<div>\n",
       "<style scoped>\n",
       "    .dataframe tbody tr th:only-of-type {\n",
       "        vertical-align: middle;\n",
       "    }\n",
       "\n",
       "    .dataframe tbody tr th {\n",
       "        vertical-align: top;\n",
       "    }\n",
       "\n",
       "    .dataframe thead th {\n",
       "        text-align: right;\n",
       "    }\n",
       "</style>\n",
       "<table border=\"1\" class=\"dataframe\">\n",
       "  <thead>\n",
       "    <tr style=\"text-align: right;\">\n",
       "      <th></th>\n",
       "      <th>mean_fit_time</th>\n",
       "      <th>std_fit_time</th>\n",
       "      <th>mean_score_time</th>\n",
       "      <th>std_score_time</th>\n",
       "      <th>param_metric</th>\n",
       "      <th>param_n_neighbors</th>\n",
       "      <th>params</th>\n",
       "      <th>split0_test_score</th>\n",
       "      <th>split1_test_score</th>\n",
       "      <th>split2_test_score</th>\n",
       "      <th>split3_test_score</th>\n",
       "      <th>split4_test_score</th>\n",
       "      <th>mean_test_score</th>\n",
       "      <th>std_test_score</th>\n",
       "      <th>rank_test_score</th>\n",
       "    </tr>\n",
       "  </thead>\n",
       "  <tbody>\n",
       "    <tr>\n",
       "      <th>0</th>\n",
       "      <td>0.053166</td>\n",
       "      <td>0.023896</td>\n",
       "      <td>0.037779</td>\n",
       "      <td>0.010161</td>\n",
       "      <td>canberra</td>\n",
       "      <td>3</td>\n",
       "      <td>{'metric': 'canberra', 'n_neighbors': 3}</td>\n",
       "      <td>0.973570</td>\n",
       "      <td>0.984445</td>\n",
       "      <td>0.970777</td>\n",
       "      <td>0.971471</td>\n",
       "      <td>0.974524</td>\n",
       "      <td>0.974957</td>\n",
       "      <td>0.004934</td>\n",
       "      <td>6</td>\n",
       "    </tr>\n",
       "    <tr>\n",
       "      <th>1</th>\n",
       "      <td>0.005197</td>\n",
       "      <td>0.000979</td>\n",
       "      <td>0.049172</td>\n",
       "      <td>0.021336</td>\n",
       "      <td>canberra</td>\n",
       "      <td>20</td>\n",
       "      <td>{'metric': 'canberra', 'n_neighbors': 20}</td>\n",
       "      <td>0.989425</td>\n",
       "      <td>0.991118</td>\n",
       "      <td>0.990526</td>\n",
       "      <td>0.991673</td>\n",
       "      <td>0.994246</td>\n",
       "      <td>0.991398</td>\n",
       "      <td>0.001607</td>\n",
       "      <td>3</td>\n",
       "    </tr>\n",
       "    <tr>\n",
       "      <th>2</th>\n",
       "      <td>0.004397</td>\n",
       "      <td>0.000490</td>\n",
       "      <td>0.028185</td>\n",
       "      <td>0.013725</td>\n",
       "      <td>canberra</td>\n",
       "      <td>2</td>\n",
       "      <td>{'metric': 'canberra', 'n_neighbors': 2}</td>\n",
       "      <td>0.968704</td>\n",
       "      <td>0.979451</td>\n",
       "      <td>0.956662</td>\n",
       "      <td>0.967012</td>\n",
       "      <td>0.961322</td>\n",
       "      <td>0.966630</td>\n",
       "      <td>0.007699</td>\n",
       "      <td>7</td>\n",
       "    </tr>\n",
       "    <tr>\n",
       "      <th>3</th>\n",
       "      <td>0.006995</td>\n",
       "      <td>0.001094</td>\n",
       "      <td>0.021189</td>\n",
       "      <td>0.016692</td>\n",
       "      <td>euclidean</td>\n",
       "      <td>3</td>\n",
       "      <td>{'metric': 'euclidean', 'n_neighbors': 3}</td>\n",
       "      <td>0.979772</td>\n",
       "      <td>0.983116</td>\n",
       "      <td>0.973226</td>\n",
       "      <td>0.976330</td>\n",
       "      <td>0.977720</td>\n",
       "      <td>0.978033</td>\n",
       "      <td>0.003316</td>\n",
       "      <td>4</td>\n",
       "    </tr>\n",
       "    <tr>\n",
       "      <th>4</th>\n",
       "      <td>0.029382</td>\n",
       "      <td>0.021937</td>\n",
       "      <td>0.038975</td>\n",
       "      <td>0.014090</td>\n",
       "      <td>euclidean</td>\n",
       "      <td>20</td>\n",
       "      <td>{'metric': 'euclidean', 'n_neighbors': 20}</td>\n",
       "      <td>0.990109</td>\n",
       "      <td>0.991374</td>\n",
       "      <td>0.992142</td>\n",
       "      <td>0.991178</td>\n",
       "      <td>0.994454</td>\n",
       "      <td>0.991851</td>\n",
       "      <td>0.001454</td>\n",
       "      <td>1</td>\n",
       "    </tr>\n",
       "  </tbody>\n",
       "</table>\n",
       "</div>"
      ],
      "text/plain": [
       "   mean_fit_time  std_fit_time  mean_score_time  std_score_time param_metric  \\\n",
       "0       0.053166      0.023896         0.037779        0.010161     canberra   \n",
       "1       0.005197      0.000979         0.049172        0.021336     canberra   \n",
       "2       0.004397      0.000490         0.028185        0.013725     canberra   \n",
       "3       0.006995      0.001094         0.021189        0.016692    euclidean   \n",
       "4       0.029382      0.021937         0.038975        0.014090    euclidean   \n",
       "\n",
       "  param_n_neighbors                                      params  \\\n",
       "0                 3    {'metric': 'canberra', 'n_neighbors': 3}   \n",
       "1                20   {'metric': 'canberra', 'n_neighbors': 20}   \n",
       "2                 2    {'metric': 'canberra', 'n_neighbors': 2}   \n",
       "3                 3   {'metric': 'euclidean', 'n_neighbors': 3}   \n",
       "4                20  {'metric': 'euclidean', 'n_neighbors': 20}   \n",
       "\n",
       "   split0_test_score  split1_test_score  split2_test_score  split3_test_score  \\\n",
       "0           0.973570           0.984445           0.970777           0.971471   \n",
       "1           0.989425           0.991118           0.990526           0.991673   \n",
       "2           0.968704           0.979451           0.956662           0.967012   \n",
       "3           0.979772           0.983116           0.973226           0.976330   \n",
       "4           0.990109           0.991374           0.992142           0.991178   \n",
       "\n",
       "   split4_test_score  mean_test_score  std_test_score  rank_test_score  \n",
       "0           0.974524         0.974957        0.004934                6  \n",
       "1           0.994246         0.991398        0.001607                3  \n",
       "2           0.961322         0.966630        0.007699                7  \n",
       "3           0.977720         0.978033        0.003316                4  \n",
       "4           0.994454         0.991851        0.001454                1  "
      ]
     },
     "execution_count": 128,
     "metadata": {},
     "output_type": "execute_result"
    }
   ],
   "source": [
    "cv_results_knn=pd.DataFrame(KNN.cv_results_)\n",
    "cv_results_knn.head()"
   ]
  },
  {
   "cell_type": "code",
   "execution_count": 135,
   "metadata": {},
   "outputs": [
    {
     "name": "stdout",
     "output_type": "stream",
     "text": [
      "Best_Score is : 99.34050924510224\n",
      "====================================================================================================\n",
      "best_score :  99.18513424286161\n",
      "best_params :  {'metric': 'euclidean', 'n_neighbors': 20}\n",
      "best_estimator :  KNeighborsClassifier(metric='euclidean', n_neighbors=20)\n",
      "====================================================================================================\n",
      "classification_report is : \n",
      "              precision    recall  f1-score   support\n",
      "\n",
      "           0       0.94      0.97      0.95       249\n",
      "           1       0.96      0.92      0.94       197\n",
      "\n",
      "    accuracy                           0.95       446\n",
      "   macro avg       0.95      0.95      0.95       446\n",
      "weighted avg       0.95      0.95      0.95       446\n",
      "\n",
      "====================================================================================================\n",
      "Accuracy score: 94.84304932735425\n",
      "Precision score: 95.78947368421052\n",
      "Recall score: 92.38578680203045\n",
      "F1 score: 94.05684754521964\n",
      "roc_auc_score_3 :  94.58646769820398\n"
     ]
    }
   ],
   "source": [
    "#The accuracy of the model with the best parameters\n",
    "knn_score=KNN.score(X_test, y_test)\n",
    "print(\"Best_Score is :\" ,knn_score*100)\n",
    "\n",
    "print('='*100)\n",
    "\n",
    "knn_score1=KNN.best_score_\n",
    "print(\"best_score : \",knn_score1*100)\n",
    "print(\"best_params : \",KNN.best_params_)\n",
    "print(\"best_estimator : \",KNN.best_estimator_)\n",
    "\n",
    "print('='*100)\n",
    "\n",
    "# Checking the summary of classification\n",
    "print('classification_report is : ')\n",
    "y_pred = KNN.predict(X_test)\n",
    "print(classification_report(y_test, y_pred))\n",
    "\n",
    "print('='*100)\n",
    "\n",
    "hyper_accuracy_3 = metrics.accuracy_score(y_test, y_pred) \n",
    "print(\"Accuracy score:\",hyper_accuracy_3*100)\n",
    "\n",
    "hyper_precision_3 = metrics.precision_score(y_test, y_pred) \n",
    "print(\"Precision score:\",hyper_precision_3*100)\n",
    "\n",
    "hyper_recall_3 = metrics.recall_score(y_test, y_pred) \n",
    "print(\"Recall score:\",hyper_recall_3*100)\n",
    "\n",
    "hyper_f1_3 = metrics.f1_score(y_test, y_pred)\n",
    "print(\"F1 score:\",hyper_f1_3*100)\n",
    "\n",
    "# roc auc score for test data\n",
    "hyper_roc_auc_3 = roc_auc_score(y_test, y_pred)\n",
    "print('roc_auc_score_3 : ', hyper_roc_auc_3*100)\n"
   ]
  },
  {
   "cell_type": "code",
   "execution_count": null,
   "metadata": {},
   "outputs": [],
   "source": []
  },
  {
   "cell_type": "code",
   "execution_count": null,
   "metadata": {},
   "outputs": [],
   "source": []
  },
  {
   "cell_type": "markdown",
   "metadata": {},
   "source": [
    "# SVM :\n"
   ]
  },
  {
   "cell_type": "code",
   "execution_count": 104,
   "metadata": {},
   "outputs": [
    {
     "data": {
      "text/plain": [
       "SVC()"
      ]
     },
     "execution_count": 104,
     "metadata": {},
     "output_type": "execute_result"
    }
   ],
   "source": [
    "# fitting the model\n",
    "\n",
    "classifier_4 = svm.SVC()\n",
    "classifier_4.fit(X_train, y_train)"
   ]
  },
  {
   "cell_type": "code",
   "execution_count": 105,
   "metadata": {},
   "outputs": [
    {
     "name": "stdout",
     "output_type": "stream",
     "text": [
      "Train_Score :  94.8343627175744\n",
      "Test_Score :  93.94618834080718\n"
     ]
    }
   ],
   "source": [
    "#  Predict\n",
    "y_pred_svc = classifier_4.predict(X_test)\n",
    "\n",
    "# Generate predictions\n",
    "predictions_svc_train =classifier_4.predict(X_train)\n",
    "predictions_svc_test= classifier_4.predict(X_test)\n",
    "                                           \n",
    "#ACCURACY = TRAIN DATA SCORE \n",
    "train_Acc_4=classifier_4.score(X_train,y_train)          \n",
    "print('Train_Score : ',train_Acc_4*100)\n",
    "\n",
    "#ACCURACY = TEST DATA SCORE \n",
    "Acc_4=classifier_4.score(X_test, y_test) \n",
    "print('Test_Score : ',Acc_4*100)"
   ]
  },
  {
   "cell_type": "code",
   "execution_count": 106,
   "metadata": {},
   "outputs": [
    {
     "name": "stdout",
     "output_type": "stream",
     "text": [
      "confusion_matrix is : \n",
      "[[245   4]\n",
      " [ 23 174]]\n",
      "====================================================================================================\n",
      "Accuracy score: 93.94618834080718\n",
      "Precision score: 97.75280898876404\n",
      "Recall score: 88.3248730964467\n",
      "F1 score: 92.8\n",
      "roc_auc_score_4 :  93.35922369681772\n",
      "====================================================================================================\n",
      "classification_report is : \n",
      "              precision    recall  f1-score   support\n",
      "\n",
      "          NO       0.91      0.98      0.95       249\n",
      "         YES       0.98      0.88      0.93       197\n",
      "\n",
      "    accuracy                           0.94       446\n",
      "   macro avg       0.95      0.93      0.94       446\n",
      "weighted avg       0.94      0.94      0.94       446\n",
      "\n",
      "====================================================================================================\n",
      "[0.         0.02618328 1.        ] [0.         0.91624365 1.        ] [2 1 0]\n",
      "[0.         0.01606426 1.        ] [0.         0.88324873 1.        ] [2 1 0]\n",
      "====================================================================================================\n",
      "Train AUC: 0.945\n",
      "Test AUC: 0.934\n",
      "====================================================================================================\n"
     ]
    },
    {
     "data": {
      "image/png": "[encoded data removed]",
      "text/plain": [
       "<Figure size 1080x576 with 1 Axes>"
      ]
     },
     "metadata": {
      "needs_background": "light"
     },
     "output_type": "display_data"
    }
   ],
   "source": [
    "#  Evaluate the model performance\n",
    "print('confusion_matrix is : ')\n",
    "cm_4 = metrics.confusion_matrix(y_test, y_pred_svc) \n",
    "print(cm_4)\n",
    "\n",
    "print('='*100)\n",
    "\n",
    "accuracy_4 = metrics.accuracy_score(y_test,y_pred_svc) \n",
    "print(\"Accuracy score:\",accuracy_4*100)\n",
    "\n",
    "precision_4 = metrics.precision_score(y_test,y_pred_svc) \n",
    "print(\"Precision score:\",precision_4*100)\n",
    "\n",
    "recall_4 = metrics.recall_score(y_test,y_pred_svc) \n",
    "print(\"Recall score:\",recall_4*100)\n",
    "\n",
    "f1_4 = metrics.f1_score(y_test,y_pred_svc) \n",
    "print(\"F1 score:\",f1_4*100)\n",
    "\n",
    "roc_auc_4 = roc_auc_score(y_test, predictions_svc_test)\n",
    "print('roc_auc_score_4 : ', roc_auc_4*100)\n",
    "\n",
    "print('='*100)\n",
    "\n",
    "# Checking the summary of classification\n",
    "print('classification_report is : ')\n",
    "print(classification_report(y_test,predictions_svc_test, target_names = ['NO', 'YES']))\n",
    "\n",
    "print('='*100)\n",
    "\n",
    "# calculate \n",
    "FPR, TPR, LRM = roc_curve(y_train, predictions_svc_train)\n",
    "FPR1, TPR1, LRM = roc_curve(y_test,predictions_svc_test)\n",
    "print(FPR, TPR, LRM)\n",
    "print(FPR1, TPR1, LRM)\n",
    "\n",
    "print('='*100)\n",
    "\n",
    "# calculate AUC\n",
    "auc_train_svc = auc(FPR, TPR)\n",
    "print('Train AUC: %0.3f' % auc_train_svc)\n",
    "\n",
    "auc_test_svc = auc(FPR1, TPR1)\n",
    "print('Test AUC: %0.3f' % auc_test_svc)\n",
    "\n",
    "print('='*100)\n",
    "\n",
    "# plot the ROC curve\n",
    "plt.figure(figsize=(15,8))\n",
    "plt.plot(FPR, TPR, label = 'Train AUC: %0.3f'%auc_train_svc)\n",
    "plt.plot(FPR1, TPR1, label = 'Test AUC: %0.3f'%auc_test_svc)\n",
    "\n",
    "plt.plot([1,0],[1,0], ls = '--', color = 'blue', lw = 0.90)\n",
    "\n",
    "plt.title('ROC Curve')\n",
    "plt.legend()\n",
    "plt.show();\n"
   ]
  },
  {
   "cell_type": "markdown",
   "metadata": {},
   "source": [
    "## Hyper parameter tunning:\n"
   ]
  },
  {
   "cell_type": "code",
   "execution_count": 130,
   "metadata": {},
   "outputs": [
    {
     "data": {
      "text/plain": [
       "GridSearchCV(cv=5, estimator=SVC(),\n",
       "             param_grid=[{'C': [1, 10, 100, 1000],\n",
       "                          'gamma': [0.01, 0.001, 0.0001]}],\n",
       "             scoring='roc_auc')"
      ]
     },
     "execution_count": 130,
     "metadata": {},
     "output_type": "execute_result"
    }
   ],
   "source": [
    "\n",
    "svc = svm.SVC()\n",
    "tuned_parameters=[{'gamma':[1e-2,1e-3,1e-4],'C':[1,10,100,1000]}]\n",
    "svc=GridSearchCV(svm.SVC(),tuned_parameters,scoring='roc_auc',cv=5)\n",
    "svc.fit(X_train,y_train)\n"
   ]
  },
  {
   "cell_type": "code",
   "execution_count": 131,
   "metadata": {},
   "outputs": [
    {
     "data": {
      "text/html": [
       "<div>\n",
       "<style scoped>\n",
       "    .dataframe tbody tr th:only-of-type {\n",
       "        vertical-align: middle;\n",
       "    }\n",
       "\n",
       "    .dataframe tbody tr th {\n",
       "        vertical-align: top;\n",
       "    }\n",
       "\n",
       "    .dataframe thead th {\n",
       "        text-align: right;\n",
       "    }\n",
       "</style>\n",
       "<table border=\"1\" class=\"dataframe\">\n",
       "  <thead>\n",
       "    <tr style=\"text-align: right;\">\n",
       "      <th></th>\n",
       "      <th>mean_fit_time</th>\n",
       "      <th>std_fit_time</th>\n",
       "      <th>mean_score_time</th>\n",
       "      <th>std_score_time</th>\n",
       "      <th>param_C</th>\n",
       "      <th>param_gamma</th>\n",
       "      <th>params</th>\n",
       "      <th>split0_test_score</th>\n",
       "      <th>split1_test_score</th>\n",
       "      <th>split2_test_score</th>\n",
       "      <th>split3_test_score</th>\n",
       "      <th>split4_test_score</th>\n",
       "      <th>mean_test_score</th>\n",
       "      <th>std_test_score</th>\n",
       "      <th>rank_test_score</th>\n",
       "    </tr>\n",
       "  </thead>\n",
       "  <tbody>\n",
       "    <tr>\n",
       "      <th>0</th>\n",
       "      <td>0.446945</td>\n",
       "      <td>0.107260</td>\n",
       "      <td>0.255453</td>\n",
       "      <td>0.091131</td>\n",
       "      <td>1</td>\n",
       "      <td>0.01</td>\n",
       "      <td>{'C': 1, 'gamma': 0.01}</td>\n",
       "      <td>0.877680</td>\n",
       "      <td>0.822872</td>\n",
       "      <td>0.661972</td>\n",
       "      <td>0.777618</td>\n",
       "      <td>0.764225</td>\n",
       "      <td>0.780873</td>\n",
       "      <td>0.071499</td>\n",
       "      <td>5</td>\n",
       "    </tr>\n",
       "    <tr>\n",
       "      <th>1</th>\n",
       "      <td>0.437349</td>\n",
       "      <td>0.110073</td>\n",
       "      <td>0.167703</td>\n",
       "      <td>0.036844</td>\n",
       "      <td>1</td>\n",
       "      <td>0.001</td>\n",
       "      <td>{'C': 1, 'gamma': 0.001}</td>\n",
       "      <td>0.655874</td>\n",
       "      <td>0.594021</td>\n",
       "      <td>0.507058</td>\n",
       "      <td>0.552551</td>\n",
       "      <td>0.547724</td>\n",
       "      <td>0.571446</td>\n",
       "      <td>0.050405</td>\n",
       "      <td>9</td>\n",
       "    </tr>\n",
       "    <tr>\n",
       "      <th>2</th>\n",
       "      <td>0.328011</td>\n",
       "      <td>0.033509</td>\n",
       "      <td>0.152124</td>\n",
       "      <td>0.024086</td>\n",
       "      <td>1</td>\n",
       "      <td>0.0001</td>\n",
       "      <td>{'C': 1, 'gamma': 0.0001}</td>\n",
       "      <td>0.653076</td>\n",
       "      <td>0.592837</td>\n",
       "      <td>0.504913</td>\n",
       "      <td>0.549035</td>\n",
       "      <td>0.545966</td>\n",
       "      <td>0.569165</td>\n",
       "      <td>0.050345</td>\n",
       "      <td>12</td>\n",
       "    </tr>\n",
       "    <tr>\n",
       "      <th>3</th>\n",
       "      <td>0.175484</td>\n",
       "      <td>0.019052</td>\n",
       "      <td>0.097544</td>\n",
       "      <td>0.026730</td>\n",
       "      <td>10</td>\n",
       "      <td>0.01</td>\n",
       "      <td>{'C': 10, 'gamma': 0.01}</td>\n",
       "      <td>0.989473</td>\n",
       "      <td>0.992638</td>\n",
       "      <td>0.989982</td>\n",
       "      <td>0.988940</td>\n",
       "      <td>0.993511</td>\n",
       "      <td>0.990909</td>\n",
       "      <td>0.001820</td>\n",
       "      <td>3</td>\n",
       "    </tr>\n",
       "    <tr>\n",
       "      <th>4</th>\n",
       "      <td>0.298630</td>\n",
       "      <td>0.029984</td>\n",
       "      <td>0.134122</td>\n",
       "      <td>0.007570</td>\n",
       "      <td>10</td>\n",
       "      <td>0.001</td>\n",
       "      <td>{'C': 10, 'gamma': 0.001}</td>\n",
       "      <td>0.660359</td>\n",
       "      <td>0.596102</td>\n",
       "      <td>0.514675</td>\n",
       "      <td>0.557921</td>\n",
       "      <td>0.551912</td>\n",
       "      <td>0.576194</td>\n",
       "      <td>0.049372</td>\n",
       "      <td>7</td>\n",
       "    </tr>\n",
       "  </tbody>\n",
       "</table>\n",
       "</div>"
      ],
      "text/plain": [
       "   mean_fit_time  std_fit_time  mean_score_time  std_score_time param_C  \\\n",
       "0       0.446945      0.107260         0.255453        0.091131       1   \n",
       "1       0.437349      0.110073         0.167703        0.036844       1   \n",
       "2       0.328011      0.033509         0.152124        0.024086       1   \n",
       "3       0.175484      0.019052         0.097544        0.026730      10   \n",
       "4       0.298630      0.029984         0.134122        0.007570      10   \n",
       "\n",
       "  param_gamma                     params  split0_test_score  \\\n",
       "0        0.01    {'C': 1, 'gamma': 0.01}           0.877680   \n",
       "1       0.001   {'C': 1, 'gamma': 0.001}           0.655874   \n",
       "2      0.0001  {'C': 1, 'gamma': 0.0001}           0.653076   \n",
       "3        0.01   {'C': 10, 'gamma': 0.01}           0.989473   \n",
       "4       0.001  {'C': 10, 'gamma': 0.001}           0.660359   \n",
       "\n",
       "   split1_test_score  split2_test_score  split3_test_score  split4_test_score  \\\n",
       "0           0.822872           0.661972           0.777618           0.764225   \n",
       "1           0.594021           0.507058           0.552551           0.547724   \n",
       "2           0.592837           0.504913           0.549035           0.545966   \n",
       "3           0.992638           0.989982           0.988940           0.993511   \n",
       "4           0.596102           0.514675           0.557921           0.551912   \n",
       "\n",
       "   mean_test_score  std_test_score  rank_test_score  \n",
       "0         0.780873        0.071499                5  \n",
       "1         0.571446        0.050405                9  \n",
       "2         0.569165        0.050345               12  \n",
       "3         0.990909        0.001820                3  \n",
       "4         0.576194        0.049372                7  "
      ]
     },
     "execution_count": 131,
     "metadata": {},
     "output_type": "execute_result"
    }
   ],
   "source": [
    "cv_results_svc=pd.DataFrame(svc.cv_results_)\n",
    "cv_results_svc.head()"
   ]
  },
  {
   "cell_type": "code",
   "execution_count": 136,
   "metadata": {},
   "outputs": [
    {
     "name": "stdout",
     "output_type": "stream",
     "text": [
      "Best_Score is : 99.40064827839275\n",
      "====================================================================================================\n",
      "best_score :  99.16053397469791\n",
      "best_params :  {'C': 1000, 'gamma': 0.01}\n",
      "best_estimator :  SVC(C=1000, gamma=0.01)\n",
      "====================================================================================================\n",
      "classification_report is : \n",
      "              precision    recall  f1-score   support\n",
      "\n",
      "           0       0.90      0.99      0.94       249\n",
      "           1       0.99      0.86      0.92       197\n",
      "\n",
      "    accuracy                           0.93       446\n",
      "   macro avg       0.94      0.92      0.93       446\n",
      "weighted avg       0.94      0.93      0.93       446\n",
      "\n",
      "====================================================================================================\n",
      "Accuracy score: 93.27354260089686\n",
      "Precision score: 98.83040935672514\n",
      "Recall score: 85.78680203045685\n",
      "F1 score: 91.84782608695652\n",
      "roc_auc_score_4 :  92.49179458952563\n"
     ]
    }
   ],
   "source": [
    "#The accuracy of the model with the best parameters\n",
    "svc_score=svc.score(X_test, y_test)\n",
    "print(\"Best_Score is :\" ,svc_score*100)\n",
    "\n",
    "print('='*100)\n",
    "\n",
    "svc_score1=svc.best_score_\n",
    "print(\"best_score : \",svc_score1*100)\n",
    "print(\"best_params : \",svc.best_params_)\n",
    "print(\"best_estimator : \",svc.best_estimator_)\n",
    "\n",
    "print('='*100)\n",
    "\n",
    "# Checking the summary of classification\n",
    "print('classification_report is : ')\n",
    "y_pred = svc.predict(X_test)\n",
    "print(classification_report(y_test, y_pred))\n",
    "\n",
    "print('='*100)\n",
    "\n",
    "hyper_accuracy_4 = metrics.accuracy_score(y_test, y_pred) \n",
    "print(\"Accuracy score:\",hyper_accuracy_4*100)\n",
    "\n",
    "hyper_precision_4 = metrics.precision_score(y_test, y_pred) \n",
    "print(\"Precision score:\",hyper_precision_4*100)\n",
    "\n",
    "hyper_recall_4 = metrics.recall_score(y_test, y_pred) \n",
    "print(\"Recall score:\",hyper_recall_4*100)\n",
    "\n",
    "hyper_f1_4 = metrics.f1_score(y_test, y_pred)\n",
    "print(\"F1 score:\",hyper_f1_4*100)\n",
    "\n",
    "# roc auc score for test data\n",
    "hyper_roc_auc_4 = roc_auc_score(y_test, y_pred)\n",
    "print('roc_auc_score_4 : ', hyper_roc_auc_4*100)"
   ]
  },
  {
   "cell_type": "code",
   "execution_count": null,
   "metadata": {},
   "outputs": [],
   "source": []
  },
  {
   "cell_type": "markdown",
   "metadata": {},
   "source": [
    "# SVC_RBF :"
   ]
  },
  {
   "cell_type": "code",
   "execution_count": 112,
   "metadata": {},
   "outputs": [
    {
     "data": {
      "text/plain": [
       "SVC()"
      ]
     },
     "execution_count": 112,
     "metadata": {},
     "output_type": "execute_result"
    }
   ],
   "source": [
    "# fitting the model\n",
    "\n",
    "classifier_5 = svm.SVC(kernel='rbf')\n",
    "classifier_5.fit(X_train, y_train)"
   ]
  },
  {
   "cell_type": "code",
   "execution_count": 113,
   "metadata": {},
   "outputs": [
    {
     "name": "stdout",
     "output_type": "stream",
     "text": [
      "Train_Score :  94.8343627175744\n",
      "Test_Score :  93.94618834080718\n"
     ]
    }
   ],
   "source": [
    "#  Predict\n",
    "y_pred_svc = classifier_5.predict(X_test)\n",
    "\n",
    "# Generate predictions\n",
    "predictions_svc_train =classifier_5.predict(X_train)\n",
    "predictions_svc_test= classifier_5.predict(X_test)\n",
    "                                           \n",
    "#ACCURACY = TRAIN DATA SCORE \n",
    "train_Acc_5=classifier_5.score(X_train,y_train)          \n",
    "print('Train_Score : ',train_Acc_5*100)\n",
    "\n",
    "#ACCURACY = TEST DATA SCORE \n",
    "Acc_5=classifier_5.score(X_test, y_test) \n",
    "print('Test_Score : ',Acc_5*100)"
   ]
  },
  {
   "cell_type": "code",
   "execution_count": 114,
   "metadata": {},
   "outputs": [
    {
     "name": "stdout",
     "output_type": "stream",
     "text": [
      "confusion_matrix is : \n",
      "[[245   4]\n",
      " [ 23 174]]\n",
      "====================================================================================================\n",
      "Accuracy score: 93.94618834080718\n",
      "Precision score: 97.75280898876404\n",
      "Recall score: 88.3248730964467\n",
      "F1 score: 92.8\n",
      "roc_auc_score_5 :  93.35922369681772\n",
      "====================================================================================================\n",
      "classification_report is : \n",
      "              precision    recall  f1-score   support\n",
      "\n",
      "          NO       0.91      0.98      0.95       249\n",
      "         YES       0.98      0.88      0.93       197\n",
      "\n",
      "    accuracy                           0.94       446\n",
      "   macro avg       0.95      0.93      0.94       446\n",
      "weighted avg       0.94      0.94      0.94       446\n",
      "\n",
      "====================================================================================================\n",
      "[0.         0.02618328 1.        ] [0.         0.91624365 1.        ] [2 1 0]\n",
      "[0.         0.01606426 1.        ] [0.         0.88324873 1.        ] [2 1 0]\n",
      "====================================================================================================\n",
      "Train AUC: 0.945\n",
      "Test AUC: 0.934\n",
      "====================================================================================================\n"
     ]
    },
    {
     "data": {
      "image/png": "[encoded data removed]",
      "text/plain": [
       "<Figure size 1080x576 with 1 Axes>"
      ]
     },
     "metadata": {
      "needs_background": "light"
     },
     "output_type": "display_data"
    }
   ],
   "source": [
    "#  Evaluate the model performance\n",
    "print('confusion_matrix is : ')\n",
    "cm_5 = metrics.confusion_matrix(y_test, y_pred_svc) \n",
    "print(cm_5)\n",
    "\n",
    "print('='*100)\n",
    "\n",
    "accuracy_5 = metrics.accuracy_score(y_test,y_pred_svc) \n",
    "print(\"Accuracy score:\",accuracy_5*100)\n",
    "\n",
    "precision_5 = metrics.precision_score(y_test,y_pred_svc) \n",
    "print(\"Precision score:\",precision_5*100)\n",
    "\n",
    "recall_5 = metrics.recall_score(y_test,y_pred_svc) \n",
    "print(\"Recall score:\",recall_5*100)\n",
    "\n",
    "f1_5 = metrics.f1_score(y_test,y_pred_svc) \n",
    "print(\"F1 score:\",f1_5*100)\n",
    "\n",
    "roc_auc_5 = roc_auc_score(y_test, predictions_svc_test)\n",
    "print('roc_auc_score_5 : ', roc_auc_5*100)\n",
    "\n",
    "print('='*100)\n",
    "\n",
    "# Checking the summary of classification\n",
    "print('classification_report is : ')\n",
    "print(classification_report(y_test,predictions_svc_test, target_names = ['NO', 'YES']))\n",
    "\n",
    "print('='*100)\n",
    "\n",
    "# calculate \n",
    "FPR, TPR, LRM = roc_curve(y_train, predictions_svc_train)\n",
    "FPR1, TPR1, LRM = roc_curve(y_test,predictions_svc_test)\n",
    "print(FPR, TPR, LRM)\n",
    "print(FPR1, TPR1, LRM)\n",
    "\n",
    "print('='*100)\n",
    "\n",
    "# calculate AUC\n",
    "auc_train_svc = auc(FPR, TPR)\n",
    "print('Train AUC: %0.3f' % auc_train_svc)\n",
    "\n",
    "auc_test_svc = auc(FPR1, TPR1)\n",
    "print('Test AUC: %0.3f' % auc_test_svc)\n",
    "\n",
    "print('='*100)\n",
    "\n",
    "# plot the ROC curve\n",
    "plt.figure(figsize=(15,8))\n",
    "plt.plot(FPR, TPR, label = 'Train AUC: %0.3f'%auc_train_svc)\n",
    "plt.plot(FPR1, TPR1, label = 'Test AUC: %0.3f'%auc_test_svc)\n",
    "\n",
    "plt.plot([1,0],[1,0], ls = '--', color = 'blue', lw = 0.90)\n",
    "\n",
    "plt.title('ROC Curve')\n",
    "plt.legend()\n",
    "plt.show();\n"
   ]
  },
  {
   "cell_type": "markdown",
   "metadata": {},
   "source": [
    "## Hyper parameter tunning:"
   ]
  },
  {
   "cell_type": "code",
   "execution_count": 133,
   "metadata": {},
   "outputs": [
    {
     "data": {
      "text/plain": [
       "GridSearchCV(cv=5, estimator=SVC(),\n",
       "             param_grid=[{'C': [1, 10, 100, 1000],\n",
       "                          'gamma': [0.01, 0.001, 0.0001]}],\n",
       "             scoring='roc_auc')"
      ]
     },
     "execution_count": 133,
     "metadata": {},
     "output_type": "execute_result"
    }
   ],
   "source": [
    "\n",
    "svc = svm.SVC(kernel='rbf')\n",
    "tuned_parameters=[{'gamma':[1e-2,1e-3,1e-4],'C':[1,10,100,1000]}]\n",
    "svc=GridSearchCV(svm.SVC(),tuned_parameters,scoring='roc_auc',cv=5)\n",
    "svc.fit(X_train,y_train)\n"
   ]
  },
  {
   "cell_type": "code",
   "execution_count": 134,
   "metadata": {},
   "outputs": [
    {
     "data": {
      "text/html": [
       "<div>\n",
       "<style scoped>\n",
       "    .dataframe tbody tr th:only-of-type {\n",
       "        vertical-align: middle;\n",
       "    }\n",
       "\n",
       "    .dataframe tbody tr th {\n",
       "        vertical-align: top;\n",
       "    }\n",
       "\n",
       "    .dataframe thead th {\n",
       "        text-align: right;\n",
       "    }\n",
       "</style>\n",
       "<table border=\"1\" class=\"dataframe\">\n",
       "  <thead>\n",
       "    <tr style=\"text-align: right;\">\n",
       "      <th></th>\n",
       "      <th>mean_fit_time</th>\n",
       "      <th>std_fit_time</th>\n",
       "      <th>mean_score_time</th>\n",
       "      <th>std_score_time</th>\n",
       "      <th>param_C</th>\n",
       "      <th>param_gamma</th>\n",
       "      <th>params</th>\n",
       "      <th>split0_test_score</th>\n",
       "      <th>split1_test_score</th>\n",
       "      <th>split2_test_score</th>\n",
       "      <th>split3_test_score</th>\n",
       "      <th>split4_test_score</th>\n",
       "      <th>mean_test_score</th>\n",
       "      <th>std_test_score</th>\n",
       "      <th>rank_test_score</th>\n",
       "    </tr>\n",
       "  </thead>\n",
       "  <tbody>\n",
       "    <tr>\n",
       "      <th>0</th>\n",
       "      <td>0.278641</td>\n",
       "      <td>0.023451</td>\n",
       "      <td>0.149514</td>\n",
       "      <td>0.020349</td>\n",
       "      <td>1</td>\n",
       "      <td>0.01</td>\n",
       "      <td>{'C': 1, 'gamma': 0.01}</td>\n",
       "      <td>0.877680</td>\n",
       "      <td>0.822872</td>\n",
       "      <td>0.661972</td>\n",
       "      <td>0.777618</td>\n",
       "      <td>0.764225</td>\n",
       "      <td>0.780873</td>\n",
       "      <td>0.071499</td>\n",
       "      <td>5</td>\n",
       "    </tr>\n",
       "    <tr>\n",
       "      <th>1</th>\n",
       "      <td>0.315818</td>\n",
       "      <td>0.048990</td>\n",
       "      <td>0.154774</td>\n",
       "      <td>0.022692</td>\n",
       "      <td>1</td>\n",
       "      <td>0.001</td>\n",
       "      <td>{'C': 1, 'gamma': 0.001}</td>\n",
       "      <td>0.655874</td>\n",
       "      <td>0.594021</td>\n",
       "      <td>0.507058</td>\n",
       "      <td>0.552551</td>\n",
       "      <td>0.547724</td>\n",
       "      <td>0.571446</td>\n",
       "      <td>0.050405</td>\n",
       "      <td>9</td>\n",
       "    </tr>\n",
       "    <tr>\n",
       "      <th>2</th>\n",
       "      <td>0.327008</td>\n",
       "      <td>0.057546</td>\n",
       "      <td>0.151918</td>\n",
       "      <td>0.022674</td>\n",
       "      <td>1</td>\n",
       "      <td>0.0001</td>\n",
       "      <td>{'C': 1, 'gamma': 0.0001}</td>\n",
       "      <td>0.653076</td>\n",
       "      <td>0.592837</td>\n",
       "      <td>0.504913</td>\n",
       "      <td>0.549035</td>\n",
       "      <td>0.545966</td>\n",
       "      <td>0.569165</td>\n",
       "      <td>0.050345</td>\n",
       "      <td>12</td>\n",
       "    </tr>\n",
       "    <tr>\n",
       "      <th>3</th>\n",
       "      <td>0.197083</td>\n",
       "      <td>0.033355</td>\n",
       "      <td>0.097749</td>\n",
       "      <td>0.015420</td>\n",
       "      <td>10</td>\n",
       "      <td>0.01</td>\n",
       "      <td>{'C': 10, 'gamma': 0.01}</td>\n",
       "      <td>0.989473</td>\n",
       "      <td>0.992638</td>\n",
       "      <td>0.989982</td>\n",
       "      <td>0.988940</td>\n",
       "      <td>0.993511</td>\n",
       "      <td>0.990909</td>\n",
       "      <td>0.001820</td>\n",
       "      <td>3</td>\n",
       "    </tr>\n",
       "    <tr>\n",
       "      <th>4</th>\n",
       "      <td>0.288229</td>\n",
       "      <td>0.025379</td>\n",
       "      <td>0.129532</td>\n",
       "      <td>0.018038</td>\n",
       "      <td>10</td>\n",
       "      <td>0.001</td>\n",
       "      <td>{'C': 10, 'gamma': 0.001}</td>\n",
       "      <td>0.660359</td>\n",
       "      <td>0.596102</td>\n",
       "      <td>0.514675</td>\n",
       "      <td>0.557921</td>\n",
       "      <td>0.551912</td>\n",
       "      <td>0.576194</td>\n",
       "      <td>0.049372</td>\n",
       "      <td>7</td>\n",
       "    </tr>\n",
       "  </tbody>\n",
       "</table>\n",
       "</div>"
      ],
      "text/plain": [
       "   mean_fit_time  std_fit_time  mean_score_time  std_score_time param_C  \\\n",
       "0       0.278641      0.023451         0.149514        0.020349       1   \n",
       "1       0.315818      0.048990         0.154774        0.022692       1   \n",
       "2       0.327008      0.057546         0.151918        0.022674       1   \n",
       "3       0.197083      0.033355         0.097749        0.015420      10   \n",
       "4       0.288229      0.025379         0.129532        0.018038      10   \n",
       "\n",
       "  param_gamma                     params  split0_test_score  \\\n",
       "0        0.01    {'C': 1, 'gamma': 0.01}           0.877680   \n",
       "1       0.001   {'C': 1, 'gamma': 0.001}           0.655874   \n",
       "2      0.0001  {'C': 1, 'gamma': 0.0001}           0.653076   \n",
       "3        0.01   {'C': 10, 'gamma': 0.01}           0.989473   \n",
       "4       0.001  {'C': 10, 'gamma': 0.001}           0.660359   \n",
       "\n",
       "   split1_test_score  split2_test_score  split3_test_score  split4_test_score  \\\n",
       "0           0.822872           0.661972           0.777618           0.764225   \n",
       "1           0.594021           0.507058           0.552551           0.547724   \n",
       "2           0.592837           0.504913           0.549035           0.545966   \n",
       "3           0.992638           0.989982           0.988940           0.993511   \n",
       "4           0.596102           0.514675           0.557921           0.551912   \n",
       "\n",
       "   mean_test_score  std_test_score  rank_test_score  \n",
       "0         0.780873        0.071499                5  \n",
       "1         0.571446        0.050405                9  \n",
       "2         0.569165        0.050345               12  \n",
       "3         0.990909        0.001820                3  \n",
       "4         0.576194        0.049372                7  "
      ]
     },
     "execution_count": 134,
     "metadata": {},
     "output_type": "execute_result"
    }
   ],
   "source": [
    "cv_results_svc=pd.DataFrame(svc.cv_results_)\n",
    "cv_results_svc.head()"
   ]
  },
  {
   "cell_type": "code",
   "execution_count": 137,
   "metadata": {},
   "outputs": [
    {
     "name": "stdout",
     "output_type": "stream",
     "text": [
      "Best_Score is : 99.40064827839275\n",
      "====================================================================================================\n",
      "best_score :  99.16053397469791\n",
      "best_params :  {'C': 1000, 'gamma': 0.01}\n",
      "best_estimator :  SVC(C=1000, gamma=0.01)\n",
      "====================================================================================================\n",
      "classification_report is : \n",
      "              precision    recall  f1-score   support\n",
      "\n",
      "           0       0.90      0.99      0.94       249\n",
      "           1       0.99      0.86      0.92       197\n",
      "\n",
      "    accuracy                           0.93       446\n",
      "   macro avg       0.94      0.92      0.93       446\n",
      "weighted avg       0.94      0.93      0.93       446\n",
      "\n",
      "====================================================================================================\n",
      "Accuracy score: 93.27354260089686\n",
      "Precision score: 98.83040935672514\n",
      "Recall score: 85.78680203045685\n",
      "F1 score: 91.84782608695652\n",
      "roc_auc_score_5 :  92.49179458952563\n"
     ]
    }
   ],
   "source": [
    "#The accuracy of the model with the best parameters\n",
    "svcrbf_score=svc.score(X_test, y_test)\n",
    "print(\"Best_Score is :\" ,svcrbf_score*100)\n",
    "\n",
    "print('='*100)\n",
    "\n",
    "svcrbf_score1=svc.best_score_\n",
    "print(\"best_score : \",svcrbf_score1*100)\n",
    "print(\"best_params : \",svc.best_params_)\n",
    "print(\"best_estimator : \",svc.best_estimator_)\n",
    "\n",
    "print('='*100)\n",
    "\n",
    "# Checking the summary of classification\n",
    "print('classification_report is : ')\n",
    "y_pred = svc.predict(X_test)\n",
    "print(classification_report(y_test, y_pred))\n",
    "\n",
    "print('='*100)\n",
    "\n",
    "hyper_accuracy_5 = metrics.accuracy_score(y_test, y_pred) \n",
    "print(\"Accuracy score:\",hyper_accuracy_5*100)\n",
    "\n",
    "hyper_precision_5 = metrics.precision_score(y_test, y_pred) \n",
    "print(\"Precision score:\",hyper_precision_5*100)\n",
    "\n",
    "hyper_recall_5 = metrics.recall_score(y_test, y_pred) \n",
    "print(\"Recall score:\",hyper_recall_5*100)\n",
    "\n",
    "hyper_f1_5 = metrics.f1_score(y_test, y_pred)\n",
    "print(\"F1 score:\",hyper_f1_5*100)\n",
    "\n",
    "# roc auc score for test data\n",
    "hyper_roc_auc_5 = roc_auc_score(y_test, y_pred)\n",
    "print('roc_auc_score_5 : ', hyper_roc_auc_5*100)"
   ]
  },
  {
   "cell_type": "code",
   "execution_count": null,
   "metadata": {},
   "outputs": [],
   "source": []
  },
  {
   "cell_type": "markdown",
   "metadata": {},
   "source": [
    "## Comparision of all models:"
   ]
  },
  {
   "cell_type": "code",
   "execution_count": 138,
   "metadata": {},
   "outputs": [
    {
     "data": {
      "text/html": [
       "<div>\n",
       "<style scoped>\n",
       "    .dataframe tbody tr th:only-of-type {\n",
       "        vertical-align: middle;\n",
       "    }\n",
       "\n",
       "    .dataframe tbody tr th {\n",
       "        vertical-align: top;\n",
       "    }\n",
       "\n",
       "    .dataframe thead th {\n",
       "        text-align: right;\n",
       "    }\n",
       "</style>\n",
       "<table border=\"1\" class=\"dataframe\">\n",
       "  <thead>\n",
       "    <tr style=\"text-align: right;\">\n",
       "      <th></th>\n",
       "      <th>Model</th>\n",
       "      <th>Train_Score</th>\n",
       "      <th>Test_Score</th>\n",
       "    </tr>\n",
       "  </thead>\n",
       "  <tbody>\n",
       "    <tr>\n",
       "      <th>1</th>\n",
       "      <td>Decision Tree</td>\n",
       "      <td>1.000000</td>\n",
       "      <td>0.928251</td>\n",
       "    </tr>\n",
       "    <tr>\n",
       "      <th>2</th>\n",
       "      <td>KNN</td>\n",
       "      <td>0.966873</td>\n",
       "      <td>0.943946</td>\n",
       "    </tr>\n",
       "    <tr>\n",
       "      <th>3</th>\n",
       "      <td>SVC</td>\n",
       "      <td>0.948344</td>\n",
       "      <td>0.939462</td>\n",
       "    </tr>\n",
       "    <tr>\n",
       "      <th>4</th>\n",
       "      <td>SVC_rbf</td>\n",
       "      <td>0.948344</td>\n",
       "      <td>0.939462</td>\n",
       "    </tr>\n",
       "    <tr>\n",
       "      <th>0</th>\n",
       "      <td>Logistic Regression</td>\n",
       "      <td>0.741157</td>\n",
       "      <td>0.737668</td>\n",
       "    </tr>\n",
       "  </tbody>\n",
       "</table>\n",
       "</div>"
      ],
      "text/plain": [
       "                 Model  Train_Score  Test_Score\n",
       "1        Decision Tree     1.000000    0.928251\n",
       "2                  KNN     0.966873    0.943946\n",
       "3                  SVC     0.948344    0.939462\n",
       "4              SVC_rbf     0.948344    0.939462\n",
       "0  Logistic Regression     0.741157    0.737668"
      ]
     },
     "execution_count": 138,
     "metadata": {},
     "output_type": "execute_result"
    }
   ],
   "source": [
    "models = pd.DataFrame({\n",
    "    'Model': ['Logistic Regression','Decision Tree','KNN','SVC','SVC_rbf'],\n",
    "    'Train_Score': [train_Acc_1, train_Acc_2,train_Acc_3, train_Acc_4,train_Acc_5],\n",
    "    'Test_Score': [Acc_1, Acc_2,Acc_3, Acc_4,Acc_5]\n",
    "})\n",
    "models.sort_values(by=['Train_Score','Test_Score'], ascending=False)"
   ]
  },
  {
   "cell_type": "code",
   "execution_count": 139,
   "metadata": {},
   "outputs": [
    {
     "data": {
      "text/html": [
       "<div>\n",
       "<style scoped>\n",
       "    .dataframe tbody tr th:only-of-type {\n",
       "        vertical-align: middle;\n",
       "    }\n",
       "\n",
       "    .dataframe tbody tr th {\n",
       "        vertical-align: top;\n",
       "    }\n",
       "\n",
       "    .dataframe thead th {\n",
       "        text-align: right;\n",
       "    }\n",
       "</style>\n",
       "<table border=\"1\" class=\"dataframe\">\n",
       "  <thead>\n",
       "    <tr style=\"text-align: right;\">\n",
       "      <th></th>\n",
       "      <th>Model</th>\n",
       "      <th>Precision</th>\n",
       "      <th>Recall</th>\n",
       "      <th>F1_Score</th>\n",
       "      <th>Roc_Score</th>\n",
       "    </tr>\n",
       "  </thead>\n",
       "  <tbody>\n",
       "    <tr>\n",
       "      <th>3</th>\n",
       "      <td>SVC</td>\n",
       "      <td>0.977528</td>\n",
       "      <td>0.883249</td>\n",
       "      <td>0.928000</td>\n",
       "      <td>0.933592</td>\n",
       "    </tr>\n",
       "    <tr>\n",
       "      <th>4</th>\n",
       "      <td>SVC_rbf</td>\n",
       "      <td>0.977528</td>\n",
       "      <td>0.883249</td>\n",
       "      <td>0.928000</td>\n",
       "      <td>0.933592</td>\n",
       "    </tr>\n",
       "    <tr>\n",
       "      <th>0</th>\n",
       "      <td>Logistic Regression</td>\n",
       "      <td>0.976190</td>\n",
       "      <td>0.416244</td>\n",
       "      <td>0.583630</td>\n",
       "      <td>0.704106</td>\n",
       "    </tr>\n",
       "    <tr>\n",
       "      <th>2</th>\n",
       "      <td>KNN</td>\n",
       "      <td>0.947917</td>\n",
       "      <td>0.923858</td>\n",
       "      <td>0.935733</td>\n",
       "      <td>0.941849</td>\n",
       "    </tr>\n",
       "    <tr>\n",
       "      <th>1</th>\n",
       "      <td>Decision Tree</td>\n",
       "      <td>0.923077</td>\n",
       "      <td>0.913706</td>\n",
       "      <td>0.918367</td>\n",
       "      <td>0.926732</td>\n",
       "    </tr>\n",
       "  </tbody>\n",
       "</table>\n",
       "</div>"
      ],
      "text/plain": [
       "                 Model  Precision    Recall  F1_Score  Roc_Score\n",
       "3                  SVC   0.977528  0.883249  0.928000   0.933592\n",
       "4              SVC_rbf   0.977528  0.883249  0.928000   0.933592\n",
       "0  Logistic Regression   0.976190  0.416244  0.583630   0.704106\n",
       "2                  KNN   0.947917  0.923858  0.935733   0.941849\n",
       "1        Decision Tree   0.923077  0.913706  0.918367   0.926732"
      ]
     },
     "execution_count": 139,
     "metadata": {},
     "output_type": "execute_result"
    }
   ],
   "source": [
    "models = pd.DataFrame({\n",
    "    'Model': ['Logistic Regression','Decision Tree','KNN','SVC','SVC_rbf'],\n",
    "    'Precision': [precision_1, precision_2,precision_3, precision_4,precision_5],\n",
    "    'Recall': [recall_1, recall_2,recall_3, recall_4,recall_5],\n",
    "    'F1_Score': [f1_1,f1_2,f1_3,f1_4,f1_5],\n",
    "    'Roc_Score':[roc_auc_1,roc_auc_2,roc_auc_3,roc_auc_4,roc_auc_5]\n",
    "})\n",
    "models.sort_values(by=['Precision','Recall','F1_Score','Roc_Score'], ascending=False)"
   ]
  },
  {
   "cell_type": "code",
   "execution_count": 140,
   "metadata": {},
   "outputs": [
    {
     "data": {
      "text/html": [
       "<div>\n",
       "<style scoped>\n",
       "    .dataframe tbody tr th:only-of-type {\n",
       "        vertical-align: middle;\n",
       "    }\n",
       "\n",
       "    .dataframe tbody tr th {\n",
       "        vertical-align: top;\n",
       "    }\n",
       "\n",
       "    .dataframe thead th {\n",
       "        text-align: right;\n",
       "    }\n",
       "</style>\n",
       "<table border=\"1\" class=\"dataframe\">\n",
       "  <thead>\n",
       "    <tr style=\"text-align: right;\">\n",
       "      <th></th>\n",
       "      <th>Model</th>\n",
       "      <th>Train_Score</th>\n",
       "      <th>Test_Score</th>\n",
       "      <th>Precision</th>\n",
       "      <th>Recall</th>\n",
       "      <th>F1_Score</th>\n",
       "      <th>Roc_Score</th>\n",
       "    </tr>\n",
       "  </thead>\n",
       "  <tbody>\n",
       "    <tr>\n",
       "      <th>1</th>\n",
       "      <td>Decision Tree</td>\n",
       "      <td>1.000000</td>\n",
       "      <td>0.928251</td>\n",
       "      <td>0.923077</td>\n",
       "      <td>0.913706</td>\n",
       "      <td>0.918367</td>\n",
       "      <td>0.926732</td>\n",
       "    </tr>\n",
       "    <tr>\n",
       "      <th>2</th>\n",
       "      <td>KNN</td>\n",
       "      <td>0.966873</td>\n",
       "      <td>0.943946</td>\n",
       "      <td>0.947917</td>\n",
       "      <td>0.923858</td>\n",
       "      <td>0.935733</td>\n",
       "      <td>0.941849</td>\n",
       "    </tr>\n",
       "    <tr>\n",
       "      <th>3</th>\n",
       "      <td>SVC</td>\n",
       "      <td>0.948344</td>\n",
       "      <td>0.939462</td>\n",
       "      <td>0.977528</td>\n",
       "      <td>0.883249</td>\n",
       "      <td>0.928000</td>\n",
       "      <td>0.933592</td>\n",
       "    </tr>\n",
       "    <tr>\n",
       "      <th>4</th>\n",
       "      <td>SVC_rbf</td>\n",
       "      <td>0.948344</td>\n",
       "      <td>0.939462</td>\n",
       "      <td>0.977528</td>\n",
       "      <td>0.883249</td>\n",
       "      <td>0.928000</td>\n",
       "      <td>0.933592</td>\n",
       "    </tr>\n",
       "    <tr>\n",
       "      <th>0</th>\n",
       "      <td>Logistic Regression</td>\n",
       "      <td>0.741157</td>\n",
       "      <td>0.737668</td>\n",
       "      <td>0.976190</td>\n",
       "      <td>0.416244</td>\n",
       "      <td>0.583630</td>\n",
       "      <td>0.704106</td>\n",
       "    </tr>\n",
       "  </tbody>\n",
       "</table>\n",
       "</div>"
      ],
      "text/plain": [
       "                 Model  Train_Score  Test_Score  Precision    Recall  \\\n",
       "1        Decision Tree     1.000000    0.928251   0.923077  0.913706   \n",
       "2                  KNN     0.966873    0.943946   0.947917  0.923858   \n",
       "3                  SVC     0.948344    0.939462   0.977528  0.883249   \n",
       "4              SVC_rbf     0.948344    0.939462   0.977528  0.883249   \n",
       "0  Logistic Regression     0.741157    0.737668   0.976190  0.416244   \n",
       "\n",
       "   F1_Score  Roc_Score  \n",
       "1  0.918367   0.926732  \n",
       "2  0.935733   0.941849  \n",
       "3  0.928000   0.933592  \n",
       "4  0.928000   0.933592  \n",
       "0  0.583630   0.704106  "
      ]
     },
     "execution_count": 140,
     "metadata": {},
     "output_type": "execute_result"
    }
   ],
   "source": [
    "models = pd.DataFrame({\n",
    "    'Model': ['Logistic Regression','Decision Tree','KNN','SVC','SVC_rbf'],\n",
    "    'Train_Score': [train_Acc_1, train_Acc_2,train_Acc_3, train_Acc_4,train_Acc_5],\n",
    "    'Test_Score': [Acc_1, Acc_2,Acc_3, Acc_4,Acc_5],\n",
    "    'Precision': [precision_1, precision_2,precision_3, precision_4,precision_5],\n",
    "    'Recall': [recall_1, recall_2,recall_3, recall_4,recall_5],\n",
    "    'F1_Score': [f1_1,f1_2,f1_3,f1_4,f1_5],\n",
    "    'Roc_Score':[roc_auc_1,roc_auc_2,roc_auc_3,roc_auc_4,roc_auc_5]\n",
    "})\n",
    "models.sort_values(by=['Train_Score','Test_Score','Precision','Recall','F1_Score','Roc_Score'], ascending=False)"
   ]
  },
  {
   "cell_type": "markdown",
   "metadata": {},
   "source": [
    "## Hyper parameter tunning scores:"
   ]
  },
  {
   "cell_type": "code",
   "execution_count": 141,
   "metadata": {},
   "outputs": [
    {
     "data": {
      "text/html": [
       "<div>\n",
       "<style scoped>\n",
       "    .dataframe tbody tr th:only-of-type {\n",
       "        vertical-align: middle;\n",
       "    }\n",
       "\n",
       "    .dataframe tbody tr th {\n",
       "        vertical-align: top;\n",
       "    }\n",
       "\n",
       "    .dataframe thead th {\n",
       "        text-align: right;\n",
       "    }\n",
       "</style>\n",
       "<table border=\"1\" class=\"dataframe\">\n",
       "  <thead>\n",
       "    <tr style=\"text-align: right;\">\n",
       "      <th></th>\n",
       "      <th>Model</th>\n",
       "      <th>Accuarcy</th>\n",
       "      <th>Precision</th>\n",
       "      <th>Recall</th>\n",
       "      <th>F1_Score</th>\n",
       "      <th>Roc_Score</th>\n",
       "      <th>Tuned_Score</th>\n",
       "    </tr>\n",
       "  </thead>\n",
       "  <tbody>\n",
       "    <tr>\n",
       "      <th>2</th>\n",
       "      <td>KNN</td>\n",
       "      <td>0.943946</td>\n",
       "      <td>0.957895</td>\n",
       "      <td>0.923858</td>\n",
       "      <td>0.940568</td>\n",
       "      <td>0.945865</td>\n",
       "      <td>0.991851</td>\n",
       "    </tr>\n",
       "    <tr>\n",
       "      <th>3</th>\n",
       "      <td>SVC</td>\n",
       "      <td>0.939462</td>\n",
       "      <td>0.988304</td>\n",
       "      <td>0.857868</td>\n",
       "      <td>0.918478</td>\n",
       "      <td>0.924918</td>\n",
       "      <td>0.991605</td>\n",
       "    </tr>\n",
       "    <tr>\n",
       "      <th>4</th>\n",
       "      <td>SVC_rbf</td>\n",
       "      <td>0.939462</td>\n",
       "      <td>0.988304</td>\n",
       "      <td>0.857868</td>\n",
       "      <td>0.918478</td>\n",
       "      <td>0.924918</td>\n",
       "      <td>0.991605</td>\n",
       "    </tr>\n",
       "    <tr>\n",
       "      <th>1</th>\n",
       "      <td>Decision Tree</td>\n",
       "      <td>0.928251</td>\n",
       "      <td>0.929648</td>\n",
       "      <td>0.939086</td>\n",
       "      <td>0.934343</td>\n",
       "      <td>0.941431</td>\n",
       "      <td>0.988975</td>\n",
       "    </tr>\n",
       "    <tr>\n",
       "      <th>0</th>\n",
       "      <td>Logistic Regression</td>\n",
       "      <td>0.737668</td>\n",
       "      <td>0.000000</td>\n",
       "      <td>0.000000</td>\n",
       "      <td>0.000000</td>\n",
       "      <td>0.500000</td>\n",
       "      <td>0.575468</td>\n",
       "    </tr>\n",
       "  </tbody>\n",
       "</table>\n",
       "</div>"
      ],
      "text/plain": [
       "                 Model  Accuarcy  Precision    Recall  F1_Score  Roc_Score  \\\n",
       "2                  KNN  0.943946   0.957895  0.923858  0.940568   0.945865   \n",
       "3                  SVC  0.939462   0.988304  0.857868  0.918478   0.924918   \n",
       "4              SVC_rbf  0.939462   0.988304  0.857868  0.918478   0.924918   \n",
       "1        Decision Tree  0.928251   0.929648  0.939086  0.934343   0.941431   \n",
       "0  Logistic Regression  0.737668   0.000000  0.000000  0.000000   0.500000   \n",
       "\n",
       "   Tuned_Score  \n",
       "2     0.991851  \n",
       "3     0.991605  \n",
       "4     0.991605  \n",
       "1     0.988975  \n",
       "0     0.575468  "
      ]
     },
     "execution_count": 141,
     "metadata": {},
     "output_type": "execute_result"
    }
   ],
   "source": [
    "models = pd.DataFrame({\n",
    "    'Model': ['Logistic Regression','Decision Tree','KNN','SVC','SVC_rbf'],\n",
    "    'Accuarcy' : [accuracy_1,accuracy_2,accuracy_3,accuracy_4,accuracy_5],\n",
    "    'Precision': [hyper_precision_1, hyper_precision_2,hyper_precision_3,hyper_precision_4, hyper_precision_5],\n",
    "    'Recall': [hyper_recall_1, hyper_recall_2,hyper_recall_3, hyper_recall_4, hyper_recall_5],\n",
    "    'F1_Score': [hyper_f1_1,hyper_f1_2,hyper_f1_3,hyper_f1_4,hyper_f1_5],\n",
    "    'Roc_Score':[hyper_roc_auc_1,hyper_roc_auc_2,hyper_roc_auc_3,hyper_roc_auc_4,hyper_roc_auc_5],\n",
    "    'Tuned_Score' : [logi_score1,dtr_score1,knn_score1,svc_score1,svcrbf_score1]\n",
    "})\n",
    "models.sort_values(by=['Accuarcy','Precision','Recall','F1_Score','Roc_Score','Tuned_Score'], ascending=False)"
   ]
  },
  {
   "cell_type": "markdown",
   "metadata": {},
   "source": [
    "# Observation And Conclusion:"
   ]
  },
  {
   "cell_type": "markdown",
   "metadata": {},
   "source": [
    "* As per Metric scores and hyper tuned score the KNN and SVC models are perfoning well on this given dataset."
   ]
  },
  {
   "cell_type": "code",
   "execution_count": null,
   "metadata": {},
   "outputs": [],
   "source": []
  }
 ],
 "metadata": {
  "kernelspec": {
   "display_name": "Python 3",
   "language": "python",
   "name": "python3"
  },
  "language_info": {
   "codemirror_mode": {
    "name": "ipython",
    "version": 3
   },
   "file_extension": ".py",
   "mimetype": "text/x-python",
   "name": "python",
   "nbconvert_exporter": "python",
   "pygments_lexer": "ipython3",
   "version": "3.8.5"
  }
 },
 "nbformat": 4,
 "nbformat_minor": 4
}
